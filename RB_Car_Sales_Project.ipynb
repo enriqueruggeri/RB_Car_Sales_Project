{
 "cells": [
  {
   "cell_type": "markdown",
   "metadata": {},
   "source": [
    "## PROYECTO USED CAR SALES \n",
    "\n",
    "El servicio de venta de autos usados Rusty Bargain está desarrollando una aplicación para atraer nuevos clientes. Gracias a esa app, puedes averiguar rápidamente el valor de mercado de tu coche. Tienes acceso al historial: especificaciones técnicas, versiones de equipamiento y precios. Tienes que crear un modelo que determine el valor de mercado.\n",
    "A Rusty Bargain le interesa:\n",
    "- la calidad de la predicción;\n",
    "- la velocidad de la predicción;\n",
    "- el tiempo requerido para el entrenamiento"
   ]
  },
  {
   "cell_type": "markdown",
   "metadata": {},
   "source": [
    "## Introducción."
   ]
  },
  {
   "cell_type": "markdown",
   "metadata": {},
   "source": [
    "Para desarrollar este proyecto, vamos a trabajar con los datos de la empresa Rusty Bargain, que es un servicio de venta de coches de segunda mano que está desarrollando una app para atraer a nuevos clientes. El objetivo es desarrollar un modelo que determine el valor de mercado del automóvil.\n",
    "\n",
    "Para ello vamos a trabajar con varios modelos con ajuste de hiperparámetros:\n",
    "\n",
    "- Modelo de regresión lineal\n",
    "\n",
    "- Modelo de bosque aleatorio\n",
    "\n",
    "- Modelo LightGBM\n",
    "\n",
    "- Modelo CatBoost\n",
    "\n",
    "Utilizaremos la métrica RECM para evaluar el desempeño de cada uno los modelos.\n"
   ]
  },
  {
   "cell_type": "markdown",
   "metadata": {},
   "source": [
    "## Preparación de datos"
   ]
  },
  {
   "cell_type": "markdown",
   "metadata": {},
   "source": [
    "Primero procedemos a importar Librerías:"
   ]
  },
  {
   "cell_type": "code",
   "execution_count": 1,
   "metadata": {},
   "outputs": [],
   "source": [
    "import numpy as np\n",
    "import pandas as pd\n",
    "import math\n",
    "import seaborn as sns\n",
    "import matplotlib.pyplot as plt\n",
    "\n",
    "from sklearn.model_selection import train_test_split\n",
    "from sklearn.preprocessing import OneHotEncoder\n",
    "from sklearn.preprocessing import OrdinalEncoder\n",
    "from sklearn.metrics import mean_squared_error\n",
    "\n",
    "from sklearn.linear_model import LinearRegression\n",
    "from sklearn.ensemble import RandomForestRegressor\n",
    "import catboost as cb\n",
    "\n",
    "from sklearn.impute import SimpleImputer\n",
    "import lightgbm as lgb\n",
    "\n",
    "from sklearn.model_selection import GridSearchCV"
   ]
  },
  {
   "cell_type": "markdown",
   "metadata": {},
   "source": [
    "Leemos el Conjunto de Datos con la información de la empresa Rusty Bargain:"
   ]
  },
  {
   "cell_type": "code",
   "execution_count": 2,
   "metadata": {},
   "outputs": [],
   "source": [
    "vehicles = pd.read_csv(\"/datasets/car_data.csv\")"
   ]
  },
  {
   "cell_type": "markdown",
   "metadata": {},
   "source": [
    "Mostramos información general sobre el Conjunto de Datos:"
   ]
  },
  {
   "cell_type": "code",
   "execution_count": 3,
   "metadata": {},
   "outputs": [
    {
     "name": "stdout",
     "output_type": "stream",
     "text": [
      "<class 'pandas.core.frame.DataFrame'>\n",
      "RangeIndex: 354369 entries, 0 to 354368\n",
      "Data columns (total 16 columns):\n",
      " #   Column             Non-Null Count   Dtype \n",
      "---  ------             --------------   ----- \n",
      " 0   DateCrawled        354369 non-null  object\n",
      " 1   Price              354369 non-null  int64 \n",
      " 2   VehicleType        316879 non-null  object\n",
      " 3   RegistrationYear   354369 non-null  int64 \n",
      " 4   Gearbox            334536 non-null  object\n",
      " 5   Power              354369 non-null  int64 \n",
      " 6   Model              334664 non-null  object\n",
      " 7   Mileage            354369 non-null  int64 \n",
      " 8   RegistrationMonth  354369 non-null  int64 \n",
      " 9   FuelType           321474 non-null  object\n",
      " 10  Brand              354369 non-null  object\n",
      " 11  NotRepaired        283215 non-null  object\n",
      " 12  DateCreated        354369 non-null  object\n",
      " 13  NumberOfPictures   354369 non-null  int64 \n",
      " 14  PostalCode         354369 non-null  int64 \n",
      " 15  LastSeen           354369 non-null  object\n",
      "dtypes: int64(7), object(9)\n",
      "memory usage: 43.3+ MB\n"
     ]
    }
   ],
   "source": [
    "# Imprimimos la información general/resumida del conjunto de datos.\n",
    "vehicles.info()"
   ]
  },
  {
   "cell_type": "code",
   "execution_count": 4,
   "metadata": {},
   "outputs": [
    {
     "data": {
      "text/plain": [
       "DateCrawled              0\n",
       "Price                    0\n",
       "VehicleType          37490\n",
       "RegistrationYear         0\n",
       "Gearbox              19833\n",
       "Power                    0\n",
       "Model                19705\n",
       "Mileage                  0\n",
       "RegistrationMonth        0\n",
       "FuelType             32895\n",
       "Brand                    0\n",
       "NotRepaired          71154\n",
       "DateCreated              0\n",
       "NumberOfPictures         0\n",
       "PostalCode               0\n",
       "LastSeen                 0\n",
       "dtype: int64"
      ]
     },
     "execution_count": 4,
     "metadata": {},
     "output_type": "execute_result"
    }
   ],
   "source": [
    "# Revisamos los datos faltantes en el conjunto de datos.\n",
    "vehicles.isnull().sum()"
   ]
  },
  {
   "cell_type": "code",
   "execution_count": 5,
   "metadata": {},
   "outputs": [
    {
     "name": "stdout",
     "output_type": "stream",
     "text": [
      "CPU times: user 1min 19s, sys: 63.7 ms, total: 1min 19s\n",
      "Wall time: 1min 19s\n"
     ]
    }
   ],
   "source": [
    "%%time\n",
    "# Convertimos las fechas a datetime\n",
    "vehicles['DateCrawled'] = pd.to_datetime(vehicles['DateCrawled'], errors='coerce')\n",
    "vehicles['DateCreated'] = pd.to_datetime(vehicles['DateCreated'], errors='coerce')\n",
    "vehicles['LastSeen'] = pd.to_datetime(vehicles['LastSeen'], errors='coerce')"
   ]
  },
  {
   "cell_type": "code",
   "execution_count": 6,
   "metadata": {},
   "outputs": [
    {
     "data": {
      "text/plain": [
       "DateCrawled          datetime64[ns]\n",
       "Price                         int64\n",
       "VehicleType                  object\n",
       "RegistrationYear              int64\n",
       "Gearbox                      object\n",
       "Power                         int64\n",
       "Model                        object\n",
       "Mileage                       int64\n",
       "RegistrationMonth             int64\n",
       "FuelType                     object\n",
       "Brand                        object\n",
       "NotRepaired                  object\n",
       "DateCreated          datetime64[ns]\n",
       "NumberOfPictures              int64\n",
       "PostalCode                    int64\n",
       "LastSeen             datetime64[ns]\n",
       "dtype: object"
      ]
     },
     "execution_count": 6,
     "metadata": {},
     "output_type": "execute_result"
    }
   ],
   "source": [
    "# Verificamos la conversión de las columnas de fechas\n",
    "vehicles.dtypes"
   ]
  },
  {
   "cell_type": "code",
   "execution_count": 7,
   "metadata": {},
   "outputs": [
    {
     "data": {
      "text/html": [
       "<div>\n",
       "<style scoped>\n",
       "    .dataframe tbody tr th:only-of-type {\n",
       "        vertical-align: middle;\n",
       "    }\n",
       "\n",
       "    .dataframe tbody tr th {\n",
       "        vertical-align: top;\n",
       "    }\n",
       "\n",
       "    .dataframe thead th {\n",
       "        text-align: right;\n",
       "    }\n",
       "</style>\n",
       "<table border=\"1\" class=\"dataframe\">\n",
       "  <thead>\n",
       "    <tr style=\"text-align: right;\">\n",
       "      <th></th>\n",
       "      <th>DateCrawled</th>\n",
       "      <th>Price</th>\n",
       "      <th>VehicleType</th>\n",
       "      <th>RegistrationYear</th>\n",
       "      <th>Gearbox</th>\n",
       "      <th>Power</th>\n",
       "      <th>Model</th>\n",
       "      <th>Mileage</th>\n",
       "      <th>RegistrationMonth</th>\n",
       "      <th>FuelType</th>\n",
       "      <th>Brand</th>\n",
       "      <th>NotRepaired</th>\n",
       "      <th>DateCreated</th>\n",
       "      <th>NumberOfPictures</th>\n",
       "      <th>PostalCode</th>\n",
       "      <th>LastSeen</th>\n",
       "    </tr>\n",
       "  </thead>\n",
       "  <tbody>\n",
       "    <tr>\n",
       "      <th>0</th>\n",
       "      <td>2016-03-24 11:52:00</td>\n",
       "      <td>480</td>\n",
       "      <td>NaN</td>\n",
       "      <td>1993</td>\n",
       "      <td>manual</td>\n",
       "      <td>0</td>\n",
       "      <td>golf</td>\n",
       "      <td>150000</td>\n",
       "      <td>0</td>\n",
       "      <td>petrol</td>\n",
       "      <td>volkswagen</td>\n",
       "      <td>NaN</td>\n",
       "      <td>2016-03-24</td>\n",
       "      <td>0</td>\n",
       "      <td>70435</td>\n",
       "      <td>2016-07-04 03:16:00</td>\n",
       "    </tr>\n",
       "    <tr>\n",
       "      <th>1</th>\n",
       "      <td>2016-03-24 10:58:00</td>\n",
       "      <td>18300</td>\n",
       "      <td>coupe</td>\n",
       "      <td>2011</td>\n",
       "      <td>manual</td>\n",
       "      <td>190</td>\n",
       "      <td>NaN</td>\n",
       "      <td>125000</td>\n",
       "      <td>5</td>\n",
       "      <td>gasoline</td>\n",
       "      <td>audi</td>\n",
       "      <td>yes</td>\n",
       "      <td>2016-03-24</td>\n",
       "      <td>0</td>\n",
       "      <td>66954</td>\n",
       "      <td>2016-07-04 01:46:00</td>\n",
       "    </tr>\n",
       "    <tr>\n",
       "      <th>2</th>\n",
       "      <td>2016-03-14 12:52:00</td>\n",
       "      <td>9800</td>\n",
       "      <td>suv</td>\n",
       "      <td>2004</td>\n",
       "      <td>auto</td>\n",
       "      <td>163</td>\n",
       "      <td>grand</td>\n",
       "      <td>125000</td>\n",
       "      <td>8</td>\n",
       "      <td>gasoline</td>\n",
       "      <td>jeep</td>\n",
       "      <td>NaN</td>\n",
       "      <td>2016-03-14</td>\n",
       "      <td>0</td>\n",
       "      <td>90480</td>\n",
       "      <td>2016-05-04 12:47:00</td>\n",
       "    </tr>\n",
       "    <tr>\n",
       "      <th>3</th>\n",
       "      <td>2016-03-17 16:54:00</td>\n",
       "      <td>1500</td>\n",
       "      <td>small</td>\n",
       "      <td>2001</td>\n",
       "      <td>manual</td>\n",
       "      <td>75</td>\n",
       "      <td>golf</td>\n",
       "      <td>150000</td>\n",
       "      <td>6</td>\n",
       "      <td>petrol</td>\n",
       "      <td>volkswagen</td>\n",
       "      <td>no</td>\n",
       "      <td>2016-03-17</td>\n",
       "      <td>0</td>\n",
       "      <td>91074</td>\n",
       "      <td>2016-03-17 17:40:00</td>\n",
       "    </tr>\n",
       "    <tr>\n",
       "      <th>4</th>\n",
       "      <td>2016-03-31 17:25:00</td>\n",
       "      <td>3600</td>\n",
       "      <td>small</td>\n",
       "      <td>2008</td>\n",
       "      <td>manual</td>\n",
       "      <td>69</td>\n",
       "      <td>fabia</td>\n",
       "      <td>90000</td>\n",
       "      <td>7</td>\n",
       "      <td>gasoline</td>\n",
       "      <td>skoda</td>\n",
       "      <td>no</td>\n",
       "      <td>2016-03-31</td>\n",
       "      <td>0</td>\n",
       "      <td>60437</td>\n",
       "      <td>2016-06-04 10:17:00</td>\n",
       "    </tr>\n",
       "  </tbody>\n",
       "</table>\n",
       "</div>"
      ],
      "text/plain": [
       "          DateCrawled  Price VehicleType  RegistrationYear Gearbox  Power  \\\n",
       "0 2016-03-24 11:52:00    480         NaN              1993  manual      0   \n",
       "1 2016-03-24 10:58:00  18300       coupe              2011  manual    190   \n",
       "2 2016-03-14 12:52:00   9800         suv              2004    auto    163   \n",
       "3 2016-03-17 16:54:00   1500       small              2001  manual     75   \n",
       "4 2016-03-31 17:25:00   3600       small              2008  manual     69   \n",
       "\n",
       "   Model  Mileage  RegistrationMonth  FuelType       Brand NotRepaired  \\\n",
       "0   golf   150000                  0    petrol  volkswagen         NaN   \n",
       "1    NaN   125000                  5  gasoline        audi         yes   \n",
       "2  grand   125000                  8  gasoline        jeep         NaN   \n",
       "3   golf   150000                  6    petrol  volkswagen          no   \n",
       "4  fabia    90000                  7  gasoline       skoda          no   \n",
       "\n",
       "  DateCreated  NumberOfPictures  PostalCode            LastSeen  \n",
       "0  2016-03-24                 0       70435 2016-07-04 03:16:00  \n",
       "1  2016-03-24                 0       66954 2016-07-04 01:46:00  \n",
       "2  2016-03-14                 0       90480 2016-05-04 12:47:00  \n",
       "3  2016-03-17                 0       91074 2016-03-17 17:40:00  \n",
       "4  2016-03-31                 0       60437 2016-06-04 10:17:00  "
      ]
     },
     "execution_count": 7,
     "metadata": {},
     "output_type": "execute_result"
    }
   ],
   "source": [
    "# Imprimimos las primeras líneas para ver el conjunto de datos.\n",
    "vehicles.head()"
   ]
  },
  {
   "cell_type": "code",
   "execution_count": 8,
   "metadata": {},
   "outputs": [
    {
     "data": {
      "text/html": [
       "<div>\n",
       "<style scoped>\n",
       "    .dataframe tbody tr th:only-of-type {\n",
       "        vertical-align: middle;\n",
       "    }\n",
       "\n",
       "    .dataframe tbody tr th {\n",
       "        vertical-align: top;\n",
       "    }\n",
       "\n",
       "    .dataframe thead th {\n",
       "        text-align: right;\n",
       "    }\n",
       "</style>\n",
       "<table border=\"1\" class=\"dataframe\">\n",
       "  <thead>\n",
       "    <tr style=\"text-align: right;\">\n",
       "      <th></th>\n",
       "      <th>Price</th>\n",
       "      <th>RegistrationYear</th>\n",
       "      <th>Power</th>\n",
       "      <th>Mileage</th>\n",
       "      <th>RegistrationMonth</th>\n",
       "      <th>NumberOfPictures</th>\n",
       "      <th>PostalCode</th>\n",
       "    </tr>\n",
       "  </thead>\n",
       "  <tbody>\n",
       "    <tr>\n",
       "      <th>count</th>\n",
       "      <td>354369.000000</td>\n",
       "      <td>354369.000000</td>\n",
       "      <td>354369.000000</td>\n",
       "      <td>354369.000000</td>\n",
       "      <td>354369.000000</td>\n",
       "      <td>354369.0</td>\n",
       "      <td>354369.000000</td>\n",
       "    </tr>\n",
       "    <tr>\n",
       "      <th>mean</th>\n",
       "      <td>4416.656776</td>\n",
       "      <td>2004.234448</td>\n",
       "      <td>110.094337</td>\n",
       "      <td>128211.172535</td>\n",
       "      <td>5.714645</td>\n",
       "      <td>0.0</td>\n",
       "      <td>50508.689087</td>\n",
       "    </tr>\n",
       "    <tr>\n",
       "      <th>std</th>\n",
       "      <td>4514.158514</td>\n",
       "      <td>90.227958</td>\n",
       "      <td>189.850405</td>\n",
       "      <td>37905.341530</td>\n",
       "      <td>3.726421</td>\n",
       "      <td>0.0</td>\n",
       "      <td>25783.096248</td>\n",
       "    </tr>\n",
       "    <tr>\n",
       "      <th>min</th>\n",
       "      <td>0.000000</td>\n",
       "      <td>1000.000000</td>\n",
       "      <td>0.000000</td>\n",
       "      <td>5000.000000</td>\n",
       "      <td>0.000000</td>\n",
       "      <td>0.0</td>\n",
       "      <td>1067.000000</td>\n",
       "    </tr>\n",
       "    <tr>\n",
       "      <th>25%</th>\n",
       "      <td>1050.000000</td>\n",
       "      <td>1999.000000</td>\n",
       "      <td>69.000000</td>\n",
       "      <td>125000.000000</td>\n",
       "      <td>3.000000</td>\n",
       "      <td>0.0</td>\n",
       "      <td>30165.000000</td>\n",
       "    </tr>\n",
       "    <tr>\n",
       "      <th>50%</th>\n",
       "      <td>2700.000000</td>\n",
       "      <td>2003.000000</td>\n",
       "      <td>105.000000</td>\n",
       "      <td>150000.000000</td>\n",
       "      <td>6.000000</td>\n",
       "      <td>0.0</td>\n",
       "      <td>49413.000000</td>\n",
       "    </tr>\n",
       "    <tr>\n",
       "      <th>75%</th>\n",
       "      <td>6400.000000</td>\n",
       "      <td>2008.000000</td>\n",
       "      <td>143.000000</td>\n",
       "      <td>150000.000000</td>\n",
       "      <td>9.000000</td>\n",
       "      <td>0.0</td>\n",
       "      <td>71083.000000</td>\n",
       "    </tr>\n",
       "    <tr>\n",
       "      <th>max</th>\n",
       "      <td>20000.000000</td>\n",
       "      <td>9999.000000</td>\n",
       "      <td>20000.000000</td>\n",
       "      <td>150000.000000</td>\n",
       "      <td>12.000000</td>\n",
       "      <td>0.0</td>\n",
       "      <td>99998.000000</td>\n",
       "    </tr>\n",
       "  </tbody>\n",
       "</table>\n",
       "</div>"
      ],
      "text/plain": [
       "               Price  RegistrationYear          Power        Mileage  \\\n",
       "count  354369.000000     354369.000000  354369.000000  354369.000000   \n",
       "mean     4416.656776       2004.234448     110.094337  128211.172535   \n",
       "std      4514.158514         90.227958     189.850405   37905.341530   \n",
       "min         0.000000       1000.000000       0.000000    5000.000000   \n",
       "25%      1050.000000       1999.000000      69.000000  125000.000000   \n",
       "50%      2700.000000       2003.000000     105.000000  150000.000000   \n",
       "75%      6400.000000       2008.000000     143.000000  150000.000000   \n",
       "max     20000.000000       9999.000000   20000.000000  150000.000000   \n",
       "\n",
       "       RegistrationMonth  NumberOfPictures     PostalCode  \n",
       "count      354369.000000          354369.0  354369.000000  \n",
       "mean            5.714645               0.0   50508.689087  \n",
       "std             3.726421               0.0   25783.096248  \n",
       "min             0.000000               0.0    1067.000000  \n",
       "25%             3.000000               0.0   30165.000000  \n",
       "50%             6.000000               0.0   49413.000000  \n",
       "75%             9.000000               0.0   71083.000000  \n",
       "max            12.000000               0.0   99998.000000  "
      ]
     },
     "execution_count": 8,
     "metadata": {},
     "output_type": "execute_result"
    }
   ],
   "source": [
    "# Utilizamos el método describe() para realizar una exploración rápida inicial de las variables numéricas\n",
    "# del conjunto de datos.\n",
    "vehicles.describe()"
   ]
  },
  {
   "cell_type": "markdown",
   "metadata": {},
   "source": [
    "A partir del resultado obtenido del método describe(), podemos indicar los siguientes comentarios: Comentarios:\n",
    "\n",
    "Price:\n",
    "La variable objetivo muestra una distribución que va desde 0 hasta 20,000, con una media de 4,416.66 y una desviación estándar alta de 4,514.16. Esto indica una amplia variabilidad en los precios de los vehículos.\n",
    "\n",
    "RegistrationYear:\n",
    "El año de registro varía desde 1000 hasta 9999. Sin embargo, el 75% de los vehículos se registraron entre 1999 y 2008, con una media de 2004.23. Los valores extremos como 1000 y 9999 podrían ser errores o valores atípicos.\n",
    "\n",
    "Power:\n",
    "La potencia del motor también muestra una variabilidad significativa, con valores desde 0 hasta 20,000. La media es de 110.09, pero la desviación estándar es alta (189.85), lo que sugiere que hay vehículos con potencias muy altas que podrían ser atípicos o errores en los datos.\n",
    "\n",
    "Mileage:\n",
    "El kilometraje varía ampliamente entre los vehículos, con un promedio de 128,211.17 y una desviación estándar de 37,905.34. Esto indica que algunos vehículos tienen un kilometraje muy alto, mientras que otros tienen valores más bajos.\n",
    "\n",
    "RegistrationMonth:\n",
    "La mayoría de los vehículos tienen meses de registro entre 3 y 9, con una media de 5.71. La existencia de valores cero podría indicar datos faltantes o errores.\n",
    "\n",
    "NumberOfPictures:\n",
    "Esta columna no aporta ninguna información útil, ya que todos los valores son cero.\n",
    "\n",
    "PostalCode:\n",
    "Los códigos postales varían entre 1,067 y 99,998, con una media de 50,508.69 y una desviación estándar de 25,783.10. Esto refleja la diversidad geográfica de los vehículos en el conjunto de datos.\n"
   ]
  },
  {
   "cell_type": "markdown",
   "metadata": {},
   "source": [
    "Vamos a incorporar el análisis de las variables RegistrationYear y Power. Vamos a comenzar con la columna de RegistrationYear."
   ]
  },
  {
   "cell_type": "markdown",
   "metadata": {},
   "source": [
    "RegistrationYear: El año de registro varía desde 1000 hasta 9999. Sin embargo, el 75% de los vehículos se registraron entre 1999 y 2008, con una media de 2004.23. Los valores extremos como 1000 y 9999 podrían ser errores o valores atípicos."
   ]
  },
  {
   "cell_type": "code",
   "execution_count": 9,
   "metadata": {},
   "outputs": [
    {
     "name": "stdout",
     "output_type": "stream",
     "text": [
      "Valores únicos ordenados: [1000 1001 1039 1111 1200 1234 1253 1255 1300 1400 1500 1600 1602 1688\n",
      " 1800 1910 1915 1919 1920 1923 1925 1927 1928 1929 1930 1931 1932 1933\n",
      " 1934 1935 1936 1937 1938 1940 1941 1942 1943 1944 1945 1946 1947 1948\n",
      " 1949 1950 1951 1952 1953 1954 1955 1956 1957 1958 1959 1960 1961 1962\n",
      " 1963 1964 1965 1966 1967 1968 1969 1970 1971 1972 1973 1974 1975 1976\n",
      " 1977 1978 1979 1980 1981 1982 1983 1984 1985 1986 1987 1988 1989 1990\n",
      " 1991 1992 1993 1994 1995 1996 1997 1998 1999 2000 2001 2002 2003 2004\n",
      " 2005 2006 2007 2008 2009 2010 2011 2012 2013 2014 2015 2016 2017 2018\n",
      " 2019 2066 2200 2222 2290 2500 2800 2900 3000 3200 3500 3700 3800 4000\n",
      " 4100 4500 4800 5000 5300 5555 5600 5900 5911 6000 6500 7000 7100 7500\n",
      " 7800 8000 8200 8455 8500 8888 9000 9229 9450 9996 9999]\n"
     ]
    }
   ],
   "source": [
    "# Obtenemos sus valores únicos y los ordenamos\n",
    "unique_years = np.sort(vehicles['RegistrationYear'].unique())\n",
    "\n",
    "# Imprimimos los valores ordenados\n",
    "print(\"Valores únicos ordenados:\",unique_years)"
   ]
  },
  {
   "cell_type": "markdown",
   "metadata": {},
   "source": [
    "Una vez identificados los valores atípicos de la variable RegistrationYear, vamos a definir un rango de años válidos (por ejemplo entre 1900 y 2024), y los valores que estén fuera de ese rango los vamos a reemplazar por un valor de -1."
   ]
  },
  {
   "cell_type": "code",
   "execution_count": 10,
   "metadata": {},
   "outputs": [
    {
     "name": "stdout",
     "output_type": "stream",
     "text": [
      "Valores únicos ordenados después de eliminar los valores atípicos:\n",
      "[  -1 1910 1915 1919 1920 1923 1925 1927 1928 1929 1930 1931 1932 1933\n",
      " 1934 1935 1936 1937 1938 1940 1941 1942 1943 1944 1945 1946 1947 1948\n",
      " 1949 1950 1951 1952 1953 1954 1955 1956 1957 1958 1959 1960 1961 1962\n",
      " 1963 1964 1965 1966 1967 1968 1969 1970 1971 1972 1973 1974 1975 1976\n",
      " 1977 1978 1979 1980 1981 1982 1983 1984 1985 1986 1987 1988 1989 1990\n",
      " 1991 1992 1993 1994 1995 1996 1997 1998 1999 2000 2001 2002 2003 2004\n",
      " 2005 2006 2007 2008 2009 2010 2011 2012 2013 2014 2015 2016 2017 2018\n",
      " 2019]\n"
     ]
    }
   ],
   "source": [
    "# Definimos el rango de años válidos (por ejemplo, 1900 a 2023)\n",
    "valid_years_range = (1900, 2024)\n",
    "\n",
    "# Reemplazamos los valores atípicos en RegistrationYear con -1.\n",
    "vehicles.loc[~vehicles['RegistrationYear'].between(valid_years_range[0], valid_years_range[1]), 'RegistrationYear'] = -1\n",
    "\n",
    "# Verificamos los valores únicos ordenados después de la limpieza\n",
    "cleaned_unique_years = np.sort(vehicles['RegistrationYear'].unique())\n",
    "print(\"Valores únicos ordenados después de eliminar los valores atípicos:\")\n",
    "print(cleaned_unique_years)"
   ]
  },
  {
   "cell_type": "markdown",
   "metadata": {},
   "source": [
    "Ahora vamos a trabajar con la columna de Power."
   ]
  },
  {
   "cell_type": "markdown",
   "metadata": {},
   "source": [
    "Power: La potencia del motor también muestra una variabilidad significativa, con valores desde 0 hasta 20,000. La media es de 110.09, pero la desviación estándar es alta (189.85), lo que sugiere que hay vehículos con potencias muy altas que podrían ser atípicos o errores en los datos."
   ]
  },
  {
   "cell_type": "code",
   "execution_count": 11,
   "metadata": {},
   "outputs": [
    {
     "name": "stdout",
     "output_type": "stream",
     "text": [
      "Valores únicos ordenados de Power: [    0     1     2     3     4     5     6     7     8     9    10    11\n",
      "    12    13    14    15    16    17    18    19    20    21    22    23\n",
      "    24    25    26    27    28    29    30    31    32    33    34    35\n",
      "    36    37    38    39    40    41    42    43    44    45    46    47\n",
      "    48    49    50    51    52    53    54    55    56    57    58    59\n",
      "    60    61    62    63    64    65    66    67    68    69    70    71\n",
      "    72    73    74    75    76    77    78    79    80    81    82    83\n",
      "    84    85    86    87    88    89    90    91    92    93    94    95\n",
      "    96    97    98    99   100   101   102   103   104   105   106   107\n",
      "   108   109   110   111   112   113   114   115   116   117   118   119\n",
      "   120   121   122   123   124   125   126   127   128   129   130   131\n",
      "   132   133   134   135   136   137   138   139   140   141   142   143\n",
      "   144   145   146   147   148   149   150   151   152   153   154   155\n",
      "   156   157   158   159   160   161   162   163   164   165   166   167\n",
      "   168   169   170   171   172   173   174   175   176   177   178   179\n",
      "   180   181   182   183   184   185   186   187   188   189   190   191\n",
      "   192   193   194   195   196   197   198   199   200   201   202   203\n",
      "   204   205   206   207   208   209   210   211   212   213   214   215\n",
      "   216   217   218   219   220   221   222   223   224   225   226   227\n",
      "   228   229   230   231   232   233   234   235   236   237   238   239\n",
      "   240   241   242   243   244   245   246   247   248   249   250   251\n",
      "   252   253   254   255   256   257   258   259   260   261   262   264\n",
      "   265   266   267   268   269   270   271   272   273   274   275   276\n",
      "   277   278   279   280   281   282   283   284   285   286   287   288\n",
      "   289   290   292   293   294   295   296   297   298   299   300   301\n",
      "   303   304   305   306   307   308   309   310   311   313   314   315\n",
      "   316   317   318   320   321   322   323   324   325   326   327   328\n",
      "   329   330   331   332   333   334   335   336   337   338   339   340\n",
      "   341   343   344   345   346   347   348   349   350   351   352   353\n",
      "   354   355   356   357   358   360   361   362   363   364   365   367\n",
      "   368   370   371   374   375   376   377   379   380   381   382   385\n",
      "   386   387   388   390   392   394   396   398   399   400   401   402\n",
      "   405   408   409   411   416   420   421   425   426   428   430   431\n",
      "   435   440   442   445   449   450   454   457   459   460   475   476\n",
      "   485   487   489   490   500   504   505   507   508   510   514   515\n",
      "   517   519   520   521   525   530   540   541   544   550   551   553\n",
      "   560   572   574   579   580   584   585   599   600   601   602   603\n",
      "   604   606   607   610   612   620   640   645   650   651   671   678\n",
      "   682   685   696   700   702   703   732   743   750   751   754   771\n",
      "   776   800   805   808   850   851   871   900   901   902   903   907\n",
      "   909   923   950   952   953   960   998   999  1000  1001  1002  1003\n",
      "  1004  1005  1011  1012  1016  1017  1021  1024  1054  1055  1056  1062\n",
      "  1079  1082  1090  1100  1102  1103  1105  1111  1115  1120  1149  1151\n",
      "  1158  1160  1162  1164  1199  1200  1202  1221  1223  1230  1239  1240\n",
      "  1241  1250  1252  1256  1275  1288  1299  1300  1312  1317  1324  1339\n",
      "  1351  1360  1362  1363  1367  1390  1394  1398  1399  1400  1401  1403\n",
      "  1405  1416  1432  1433  1436  1500  1501  1502  1503  1506  1521  1548\n",
      "  1595  1596  1597  1598  1600  1625  1631  1653  1659  1689  1700  1701\n",
      "  1703  1704  1707  1753  1771  1779  1780  1781  1783  1793  1796  1799\n",
      "  1800  1801  1870  1895  1896  1900  1910  1920  1922  1933  1937  1968\n",
      "  1986  1988  1992  1993  1995  1998  1999  2000  2004  2005  2007  2009\n",
      "  2016  2017  2018  2172  2200  2201  2331  2340  2389  2402  2461  2598\n",
      "  2729  2789  2792  2799  3000  3199  3454  3500  3750  4400  4507  4700\n",
      "  5000  5411  5420  5575  5809  5815  5867  6006  6010  6011  6012  6018\n",
      "  6045  6062  6226  6512  6920  7508  7511  7512  7515  7518  7529  7544\n",
      "  8011  8259  8404  8500  9000  9007  9010  9011  9012  9013  9710 10000\n",
      " 10110 10218 10311 10317 10520 10522 10710 10910 10912 11011 11025 11111\n",
      " 11509 11530 11635 12012 12510 12512 12684 13616 13636 14009 15001 15016\n",
      " 15017 15020 15033 16011 16051 16311 16312 17011 17019 17410 17700 17932\n",
      " 19208 19211 19312 20000]\n"
     ]
    }
   ],
   "source": [
    "# Obtenemos sus valores únicos y los ordenamos\n",
    "unique_power = np.sort(vehicles['Power'].unique())\n",
    "\n",
    "# Imprimimos los valores ordenados\n",
    "print(\"Valores únicos ordenados de Power:\",unique_power)"
   ]
  },
  {
   "cell_type": "markdown",
   "metadata": {},
   "source": [
    "El rango normal de la variable \"Power\" (potencia en CV) de un vehículo puede variar considerablemente según el tipo y el tamaño del vehículo. Sin embargo, un rango general que puede servir como referencia es el siguiente:\n",
    "\n",
    "- Vehículos pequeños y compactos: Por lo general, tienen potencias que van desde aproximadamente 60 CV hasta 150 CV.\n",
    "- Sedanes y familiares: Suelen tener potencias que van desde 100 CV hasta 250 CV, dependiendo del tamaño del motor y la configuración.\n",
    "- Vehículos deportivos y de alto rendimiento: Pueden tener potencias que van desde 200 CV hasta más de 600 CV, dependiendo del modelo y la marca.\n",
    "\n",
    "Considerando esta información, vamos a considerar como rango válido para la variable Power valores mayores de 10CV y menores de 1000 CV, y los valores que estén fuera de ese rango los vamos a reemplazar por un valor de -1."
   ]
  },
  {
   "cell_type": "code",
   "execution_count": 12,
   "metadata": {},
   "outputs": [
    {
     "name": "stdout",
     "output_type": "stream",
     "text": [
      "Valores únicos ordenados después de eliminar los valores atípicos:\n",
      "[  -1   10   11   12   13   14   15   16   17   18   19   20   21   22\n",
      "   23   24   25   26   27   28   29   30   31   32   33   34   35   36\n",
      "   37   38   39   40   41   42   43   44   45   46   47   48   49   50\n",
      "   51   52   53   54   55   56   57   58   59   60   61   62   63   64\n",
      "   65   66   67   68   69   70   71   72   73   74   75   76   77   78\n",
      "   79   80   81   82   83   84   85   86   87   88   89   90   91   92\n",
      "   93   94   95   96   97   98   99  100  101  102  103  104  105  106\n",
      "  107  108  109  110  111  112  113  114  115  116  117  118  119  120\n",
      "  121  122  123  124  125  126  127  128  129  130  131  132  133  134\n",
      "  135  136  137  138  139  140  141  142  143  144  145  146  147  148\n",
      "  149  150  151  152  153  154  155  156  157  158  159  160  161  162\n",
      "  163  164  165  166  167  168  169  170  171  172  173  174  175  176\n",
      "  177  178  179  180  181  182  183  184  185  186  187  188  189  190\n",
      "  191  192  193  194  195  196  197  198  199  200  201  202  203  204\n",
      "  205  206  207  208  209  210  211  212  213  214  215  216  217  218\n",
      "  219  220  221  222  223  224  225  226  227  228  229  230  231  232\n",
      "  233  234  235  236  237  238  239  240  241  242  243  244  245  246\n",
      "  247  248  249  250  251  252  253  254  255  256  257  258  259  260\n",
      "  261  262  264  265  266  267  268  269  270  271  272  273  274  275\n",
      "  276  277  278  279  280  281  282  283  284  285  286  287  288  289\n",
      "  290  292  293  294  295  296  297  298  299  300  301  303  304  305\n",
      "  306  307  308  309  310  311  313  314  315  316  317  318  320  321\n",
      "  322  323  324  325  326  327  328  329  330  331  332  333  334  335\n",
      "  336  337  338  339  340  341  343  344  345  346  347  348  349  350\n",
      "  351  352  353  354  355  356  357  358  360  361  362  363  364  365\n",
      "  367  368  370  371  374  375  376  377  379  380  381  382  385  386\n",
      "  387  388  390  392  394  396  398  399  400  401  402  405  408  409\n",
      "  411  416  420  421  425  426  428  430  431  435  440  442  445  449\n",
      "  450  454  457  459  460  475  476  485  487  489  490  500  504  505\n",
      "  507  508  510  514  515  517  519  520  521  525  530  540  541  544\n",
      "  550  551  553  560  572  574  579  580  584  585  599  600  601  602\n",
      "  603  604  606  607  610  612  620  640  645  650  651  671  678  682\n",
      "  685  696  700  702  703  732  743  750  751  754  771  776  800  805\n",
      "  808  850  851  871  900  901  902  903  907  909  923  950  952  953\n",
      "  960  998  999 1000]\n"
     ]
    }
   ],
   "source": [
    "# Definimos el rango de Power válido:\n",
    "valid_power_range = (10, 1000)\n",
    "\n",
    "# Reemplazamos los valores atípicos en Power con -1.\n",
    "vehicles.loc[~vehicles['Power'].between(valid_power_range[0], valid_power_range[1]), 'Power'] = -1\n",
    "\n",
    "# Verificamos los valores únicos ordenados después de la limpieza\n",
    "cleaned_unique_power = np.sort(vehicles['Power'].unique())\n",
    "print(\"Valores únicos ordenados después de eliminar los valores atípicos:\")\n",
    "print(cleaned_unique_power)"
   ]
  },
  {
   "cell_type": "markdown",
   "metadata": {},
   "source": [
    "A partir del análisis inicial que hemos realizado de los datos, vamos a eliminar del análisis algunas columnas que no proporcionan una información relavante para predecir el precio (Price). \n",
    "\n",
    "Esto ayuda a simplificar el conjunto de datos y potencialmente mejorar la eficiencia del modelado.\n",
    "Como por ejemplo la columna NumberOfPictures que se encuentra en cero o la columna con la información del código postal PostalCode. "
   ]
  },
  {
   "cell_type": "code",
   "execution_count": 13,
   "metadata": {},
   "outputs": [],
   "source": [
    "# Definimos las columnas a eliminar\n",
    "drop_columns = [\n",
    "    \"DateCrawled\",\n",
    "    \"DateCreated\",\n",
    "    \"PostalCode\",\n",
    "    \"LastSeen\",\n",
    "    \"RegistrationMonth\",\n",
    "    \"NumberOfPictures\",\n",
    "    \"Model\"\n",
    "]"
   ]
  },
  {
   "cell_type": "markdown",
   "metadata": {},
   "source": [
    "A continuación definimos las características como todas las columnas menos las columnas eliminadas y el objetivo (Price). Esto asegura que solo estamos utilizando las variables relevantes para entrenar nuestros modelos."
   ]
  },
  {
   "cell_type": "code",
   "execution_count": 14,
   "metadata": {},
   "outputs": [],
   "source": [
    "# Definimos la variable objetivo y las características:\n",
    "target = \"Price\"\n",
    "features = [c for c in vehicles.columns if c not in drop_columns + [target]]"
   ]
  },
  {
   "cell_type": "code",
   "execution_count": 15,
   "metadata": {},
   "outputs": [
    {
     "data": {
      "text/plain": [
       "VehicleType         object\n",
       "RegistrationYear     int64\n",
       "Gearbox             object\n",
       "Power                int64\n",
       "Mileage              int64\n",
       "FuelType            object\n",
       "Brand               object\n",
       "NotRepaired         object\n",
       "dtype: object"
      ]
     },
     "execution_count": 15,
     "metadata": {},
     "output_type": "execute_result"
    }
   ],
   "source": [
    "# Mostramos los tipos de datos de las características seleccionadas\n",
    "vehicles[features].dtypes"
   ]
  },
  {
   "cell_type": "code",
   "execution_count": 16,
   "metadata": {},
   "outputs": [
    {
     "name": "stdout",
     "output_type": "stream",
     "text": [
      "['golf' nan 'grand' 'fabia' '3er' '2_reihe' 'other' 'c_max' '3_reihe'\n",
      " 'passat' 'navara' 'ka' 'polo' 'twingo' 'a_klasse' 'scirocco' '5er'\n",
      " 'meriva' 'arosa' 'c4' 'civic' 'transporter' 'punto' 'e_klasse' 'clio'\n",
      " 'kadett' 'kangoo' 'corsa' 'one' 'fortwo' '1er' 'b_klasse' 'signum'\n",
      " 'astra' 'a8' 'jetta' 'fiesta' 'c_klasse' 'micra' 'vito' 'sprinter' '156'\n",
      " 'escort' 'forester' 'xc_reihe' 'scenic' 'a4' 'a1' 'insignia' 'combo'\n",
      " 'focus' 'tt' 'a6' 'jazz' 'omega' 'slk' '7er' '80' '147' '100' 'z_reihe'\n",
      " 'sportage' 'sorento' 'v40' 'ibiza' 'mustang' 'eos' 'touran' 'getz' 'a3'\n",
      " 'almera' 'megane' 'lupo' 'r19' 'zafira' 'caddy' 'mondeo' 'cordoba' 'colt'\n",
      " 'impreza' 'vectra' 'berlingo' 'tiguan' 'i_reihe' 'espace' 'sharan'\n",
      " '6_reihe' 'panda' 'up' 'seicento' 'ceed' '5_reihe' 'yeti' 'octavia' 'mii'\n",
      " 'rx_reihe' '6er' 'modus' 'fox' 'matiz' 'beetle' 'c1' 'rio' 'touareg'\n",
      " 'logan' 'spider' 'cuore' 's_max' 'a2' 'galaxy' 'c3' 'viano' 's_klasse'\n",
      " '1_reihe' 'avensis' 'roomster' 'sl' 'kaefer' 'santa' 'cooper' 'leon'\n",
      " '4_reihe' 'a5' '500' 'laguna' 'ptcruiser' 'clk' 'primera' 'x_reihe'\n",
      " 'exeo' '159' 'transit' 'juke' 'qashqai' 'carisma' 'accord' 'corolla'\n",
      " 'lanos' 'phaeton' 'verso' 'swift' 'rav' 'picanto' 'boxster' 'kalos'\n",
      " 'superb' 'stilo' 'alhambra' 'mx_reihe' 'roadster' 'ypsilon' 'cayenne'\n",
      " 'galant' 'justy' '90' 'sirion' 'crossfire' 'agila' 'duster' 'cr_reihe'\n",
      " 'v50' 'c_reihe' 'v_klasse' 'm_klasse' 'yaris' 'c5' 'aygo' 'cc' 'carnival'\n",
      " 'fusion' '911' 'bora' 'forfour' 'm_reihe' 'cl' 'tigra' '300c' 'spark'\n",
      " 'v70' 'kuga' 'x_type' 'ducato' 's_type' 'x_trail' 'toledo' 'altea'\n",
      " 'voyager' 'calibra' 'bravo' 'antara' 'tucson' 'citigo' 'jimny' 'wrangler'\n",
      " 'lybra' 'q7' 'lancer' 'captiva' 'c2' 'discovery' 'freelander' 'sandero'\n",
      " 'note' '900' 'cherokee' 'clubman' 'samara' 'defender' '601' 'cx_reihe'\n",
      " 'legacy' 'pajero' 'auris' 'niva' 's60' 'nubira' 'vivaro' 'g_klasse'\n",
      " 'lodgy' '850' 'range_rover' 'q3' 'serie_2' 'glk' 'charade' 'croma'\n",
      " 'outlander' 'doblo' 'musa' 'move' '9000' 'v60' '145' 'aveo' '200' 'b_max'\n",
      " 'range_rover_sport' 'terios' 'rangerover' 'q5' 'range_rover_evoque'\n",
      " 'materia' 'delta' 'gl' 'kalina' 'amarok' 'elefantino' 'i3' 'kappa'\n",
      " 'serie_3' 'serie_1']\n"
     ]
    }
   ],
   "source": [
    "# Imprimimos los valores únicos de la variable 'Model'.\n",
    "print(vehicles['Model'].unique())"
   ]
  },
  {
   "cell_type": "code",
   "execution_count": 17,
   "metadata": {},
   "outputs": [
    {
     "name": "stdout",
     "output_type": "stream",
     "text": [
      "Número total de valores únicos en la columna 'Model': 250\n"
     ]
    }
   ],
   "source": [
    "# Contamos el número de valores únicos en la columna 'Model':\n",
    "num_unique_models = vehicles['Model'].nunique()\n",
    "print(f\"Número total de valores únicos en la columna 'Model': {num_unique_models}\")"
   ]
  },
  {
   "cell_type": "code",
   "execution_count": 18,
   "metadata": {},
   "outputs": [],
   "source": [
    "# Identificamos las variables categóricas y numéricas:\n",
    "categorical_features = []\n",
    "for col in vehicles[features].columns:\n",
    "    if vehicles[col].dtype == \"object\":\n",
    "        categorical_features.append(col)\n",
    "        \n",
    "numerical_features = [f for f in features if f not in categorical_features]"
   ]
  },
  {
   "cell_type": "code",
   "execution_count": 19,
   "metadata": {
    "scrolled": false
   },
   "outputs": [
    {
     "name": "stdout",
     "output_type": "stream",
     "text": [
      "Variables categóricas: ['VehicleType', 'Gearbox', 'FuelType', 'Brand', 'NotRepaired']\n",
      "Variables numéricas: ['RegistrationYear', 'Power', 'Mileage']\n"
     ]
    }
   ],
   "source": [
    "# Mostramos las variables categóricas y numéricas\n",
    "print(\"Variables categóricas:\", categorical_features)\n",
    "print(\"Variables numéricas:\", numerical_features)"
   ]
  },
  {
   "cell_type": "markdown",
   "metadata": {},
   "source": [
    "## ## Subconjunto sin Variable Model y OHE encoding"
   ]
  },
  {
   "cell_type": "markdown",
   "metadata": {},
   "source": [
    "Realizamos la generación de los Conjuntos de Entrenamiento y Prueba."
   ]
  },
  {
   "cell_type": "code",
   "execution_count": null,
   "metadata": {},
   "outputs": [],
   "source": []
  },
  {
   "cell_type": "markdown",
   "metadata": {},
   "source": [
    "### Generación de los Conjuntos de Entrenamiento y Prueba."
   ]
  },
  {
   "cell_type": "code",
   "execution_count": 20,
   "metadata": {},
   "outputs": [],
   "source": [
    "# Definimos las columnas a eliminar\n",
    "drop_columns = [\n",
    "    \"DateCrawled\",\n",
    "    \"DateCreated\",\n",
    "    \"PostalCode\",\n",
    "    \"LastSeen\",\n",
    "    \"RegistrationMonth\",\n",
    "    \"NumberOfPictures\"\n",
    "]\n",
    "\n",
    "# Eliminamos las columnas irrelevantes del DataFrame original\n",
    "vehicles_without_model = vehicles.drop(columns=drop_columns + [\"Model\"])"
   ]
  },
  {
   "cell_type": "code",
   "execution_count": 21,
   "metadata": {},
   "outputs": [],
   "source": [
    "# Generación de los Conjuntos de Entrenamiento y Prueba.\n",
    "train_df, test_df = train_test_split(\n",
    "    vehicles_without_model,\n",
    "    test_size = 0.2,\n",
    "    random_state = 88\n",
    ")"
   ]
  },
  {
   "cell_type": "markdown",
   "metadata": {},
   "source": [
    "Este código divide el conjunto de datos vehicles en conjuntos de entrenamiento (train_df) y prueba (test_df). Verificamos que las formas sean correctas para asegurarnos de que se han dividido correctamente."
   ]
  },
  {
   "cell_type": "code",
   "execution_count": 22,
   "metadata": {},
   "outputs": [
    {
     "name": "stdout",
     "output_type": "stream",
     "text": [
      "Forma del Dataframe: (354369, 9)\n",
      "Forma del conjunto de entrenamiento: (283495, 9)\n",
      "Forma del conjunto de prueba: (70874, 9)\n"
     ]
    }
   ],
   "source": [
    "# Imprimimos las formas (shapes) de los conjuntos de datos resultantes, para verificar sus tamaños.\n",
    "print(\"Forma del Dataframe:\", vehicles_without_model.shape)\n",
    "print(\"Forma del conjunto de entrenamiento:\", train_df.shape)\n",
    "print(\"Forma del conjunto de prueba:\", test_df.shape)"
   ]
  },
  {
   "cell_type": "code",
   "execution_count": 23,
   "metadata": {},
   "outputs": [
    {
     "data": {
      "text/html": [
       "<div>\n",
       "<style scoped>\n",
       "    .dataframe tbody tr th:only-of-type {\n",
       "        vertical-align: middle;\n",
       "    }\n",
       "\n",
       "    .dataframe tbody tr th {\n",
       "        vertical-align: top;\n",
       "    }\n",
       "\n",
       "    .dataframe thead th {\n",
       "        text-align: right;\n",
       "    }\n",
       "</style>\n",
       "<table border=\"1\" class=\"dataframe\">\n",
       "  <thead>\n",
       "    <tr style=\"text-align: right;\">\n",
       "      <th></th>\n",
       "      <th>Price</th>\n",
       "      <th>VehicleType</th>\n",
       "      <th>RegistrationYear</th>\n",
       "      <th>Gearbox</th>\n",
       "      <th>Power</th>\n",
       "      <th>Mileage</th>\n",
       "      <th>FuelType</th>\n",
       "      <th>Brand</th>\n",
       "      <th>NotRepaired</th>\n",
       "    </tr>\n",
       "  </thead>\n",
       "  <tbody>\n",
       "    <tr>\n",
       "      <th>85043</th>\n",
       "      <td>4000</td>\n",
       "      <td>bus</td>\n",
       "      <td>2009</td>\n",
       "      <td>manual</td>\n",
       "      <td>80</td>\n",
       "      <td>150000</td>\n",
       "      <td>gasoline</td>\n",
       "      <td>skoda</td>\n",
       "      <td>no</td>\n",
       "    </tr>\n",
       "    <tr>\n",
       "      <th>44822</th>\n",
       "      <td>0</td>\n",
       "      <td>sedan</td>\n",
       "      <td>2000</td>\n",
       "      <td>auto</td>\n",
       "      <td>193</td>\n",
       "      <td>150000</td>\n",
       "      <td>petrol</td>\n",
       "      <td>bmw</td>\n",
       "      <td>no</td>\n",
       "    </tr>\n",
       "    <tr>\n",
       "      <th>83964</th>\n",
       "      <td>4000</td>\n",
       "      <td>small</td>\n",
       "      <td>2004</td>\n",
       "      <td>manual</td>\n",
       "      <td>60</td>\n",
       "      <td>40000</td>\n",
       "      <td>petrol</td>\n",
       "      <td>fiat</td>\n",
       "      <td>no</td>\n",
       "    </tr>\n",
       "    <tr>\n",
       "      <th>191736</th>\n",
       "      <td>1499</td>\n",
       "      <td>NaN</td>\n",
       "      <td>2018</td>\n",
       "      <td>auto</td>\n",
       "      <td>-1</td>\n",
       "      <td>150000</td>\n",
       "      <td>gasoline</td>\n",
       "      <td>audi</td>\n",
       "      <td>NaN</td>\n",
       "    </tr>\n",
       "    <tr>\n",
       "      <th>210970</th>\n",
       "      <td>1800</td>\n",
       "      <td>wagon</td>\n",
       "      <td>2001</td>\n",
       "      <td>manual</td>\n",
       "      <td>122</td>\n",
       "      <td>150000</td>\n",
       "      <td>gasoline</td>\n",
       "      <td>mercedes_benz</td>\n",
       "      <td>no</td>\n",
       "    </tr>\n",
       "  </tbody>\n",
       "</table>\n",
       "</div>"
      ],
      "text/plain": [
       "        Price VehicleType  RegistrationYear Gearbox  Power  Mileage  FuelType  \\\n",
       "85043    4000         bus              2009  manual     80   150000  gasoline   \n",
       "44822       0       sedan              2000    auto    193   150000    petrol   \n",
       "83964    4000       small              2004  manual     60    40000    petrol   \n",
       "191736   1499         NaN              2018    auto     -1   150000  gasoline   \n",
       "210970   1800       wagon              2001  manual    122   150000  gasoline   \n",
       "\n",
       "                Brand NotRepaired  \n",
       "85043           skoda          no  \n",
       "44822             bmw          no  \n",
       "83964            fiat          no  \n",
       "191736           audi         NaN  \n",
       "210970  mercedes_benz          no  "
      ]
     },
     "execution_count": 23,
     "metadata": {},
     "output_type": "execute_result"
    }
   ],
   "source": [
    "train_df.head()"
   ]
  },
  {
   "cell_type": "markdown",
   "metadata": {},
   "source": [
    "### Imputación de Valores Faltantes."
   ]
  },
  {
   "cell_type": "markdown",
   "metadata": {},
   "source": [
    "A continuación realizamos la imputación de Valores Faltantes."
   ]
  },
  {
   "cell_type": "code",
   "execution_count": 24,
   "metadata": {},
   "outputs": [],
   "source": [
    "# Creamos un imputador usando la mediana para valores numéricos\n",
    "imputer = SimpleImputer(strategy='median')\n",
    "\n",
    "# Ajustamos el imputador con los datos de entrenamiento\n",
    "imputer.fit(train_df[numerical_features])\n",
    "\n",
    "# Aplicamos la imputación a los conjuntos de entrenamiento y prueba\n",
    "train_df_nonulls = imputer.transform(train_df[numerical_features])\n",
    "test_df_nonulls = imputer.transform(test_df[numerical_features])\n",
    "\n",
    "# Convertimos los resultados en DataFrames\n",
    "train_df_nonulls = pd.DataFrame(train_df_nonulls, columns=numerical_features)\n",
    "test_df_nonulls = pd.DataFrame(test_df_nonulls, columns=numerical_features)\n"
   ]
  },
  {
   "cell_type": "code",
   "execution_count": 25,
   "metadata": {},
   "outputs": [
    {
     "name": "stdout",
     "output_type": "stream",
     "text": [
      "<class 'pandas.core.frame.DataFrame'>\n",
      "RangeIndex: 283495 entries, 0 to 283494\n",
      "Data columns (total 3 columns):\n",
      " #   Column            Non-Null Count   Dtype  \n",
      "---  ------            --------------   -----  \n",
      " 0   RegistrationYear  283495 non-null  float64\n",
      " 1   Power             283495 non-null  float64\n",
      " 2   Mileage           283495 non-null  float64\n",
      "dtypes: float64(3)\n",
      "memory usage: 6.5 MB\n"
     ]
    }
   ],
   "source": [
    "train_df_nonulls.info()"
   ]
  },
  {
   "cell_type": "code",
   "execution_count": 26,
   "metadata": {},
   "outputs": [
    {
     "name": "stdout",
     "output_type": "stream",
     "text": [
      "<class 'pandas.core.frame.DataFrame'>\n",
      "RangeIndex: 70874 entries, 0 to 70873\n",
      "Data columns (total 3 columns):\n",
      " #   Column            Non-Null Count  Dtype  \n",
      "---  ------            --------------  -----  \n",
      " 0   RegistrationYear  70874 non-null  float64\n",
      " 1   Power             70874 non-null  float64\n",
      " 2   Mileage           70874 non-null  float64\n",
      "dtypes: float64(3)\n",
      "memory usage: 1.6 MB\n"
     ]
    }
   ],
   "source": [
    "test_df_nonulls.info()"
   ]
  },
  {
   "cell_type": "markdown",
   "metadata": {},
   "source": [
    "### Codificación One-Hot de Variables Categóricas."
   ]
  },
  {
   "cell_type": "markdown",
   "metadata": {},
   "source": [
    "A continuación realizamos la codificación One-Hot de Variables Categóricas."
   ]
  },
  {
   "cell_type": "code",
   "execution_count": 27,
   "metadata": {},
   "outputs": [],
   "source": [
    "# Creamos un codificador One-Hot con drop='first' para evitar la multicolinealidad\n",
    "encoder = OneHotEncoder(drop='first', sparse=False)\n",
    "\n",
    "# Ajustamos el codificador con los datos de entrenamiento categóricos\n",
    "encoder.fit(train_df[categorical_features])\n",
    "\n",
    "# Aplicamos la codificación One-Hot a los conjuntos de entrenamiento y prueba\n",
    "train_df_ohe = encoder.transform(train_df[categorical_features])\n",
    "test_df_ohe = encoder.transform(test_df[categorical_features])\n",
    "\n",
    "# Convertimos los resultados en DataFrames y añadimos las columnas numéricas imputadas\n",
    "train_df_ohe = pd.DataFrame(train_df_ohe, columns=encoder.get_feature_names(categorical_features))\n",
    "test_df_ohe = pd.DataFrame(test_df_ohe, columns=encoder.get_feature_names(categorical_features))\n"
   ]
  },
  {
   "cell_type": "code",
   "execution_count": 28,
   "metadata": {},
   "outputs": [],
   "source": [
    "# Añadimos las variables numéricas imputadas a los DataFrames codificados\n",
    "for f in numerical_features:\n",
    "    train_df_ohe[f] = train_df_nonulls[f]\n",
    "    test_df_ohe[f] = test_df_nonulls[f]"
   ]
  },
  {
   "cell_type": "markdown",
   "metadata": {},
   "source": [
    "Hemos aplicado la codificación One-Hot a las variables categóricas (categorical_features) y luego añadimos las variables numéricas imputadas (train_df_nonulls y test_df_nonulls) a los DataFrames codificados."
   ]
  },
  {
   "cell_type": "code",
   "execution_count": 29,
   "metadata": {},
   "outputs": [
    {
     "data": {
      "text/html": [
       "<div>\n",
       "<style scoped>\n",
       "    .dataframe tbody tr th:only-of-type {\n",
       "        vertical-align: middle;\n",
       "    }\n",
       "\n",
       "    .dataframe tbody tr th {\n",
       "        vertical-align: top;\n",
       "    }\n",
       "\n",
       "    .dataframe thead th {\n",
       "        text-align: right;\n",
       "    }\n",
       "</style>\n",
       "<table border=\"1\" class=\"dataframe\">\n",
       "  <thead>\n",
       "    <tr style=\"text-align: right;\">\n",
       "      <th></th>\n",
       "      <th>VehicleType_convertible</th>\n",
       "      <th>VehicleType_coupe</th>\n",
       "      <th>VehicleType_other</th>\n",
       "      <th>VehicleType_sedan</th>\n",
       "      <th>VehicleType_small</th>\n",
       "      <th>VehicleType_suv</th>\n",
       "      <th>VehicleType_wagon</th>\n",
       "      <th>VehicleType_nan</th>\n",
       "      <th>Gearbox_manual</th>\n",
       "      <th>Gearbox_nan</th>\n",
       "      <th>...</th>\n",
       "      <th>Brand_suzuki</th>\n",
       "      <th>Brand_toyota</th>\n",
       "      <th>Brand_trabant</th>\n",
       "      <th>Brand_volkswagen</th>\n",
       "      <th>Brand_volvo</th>\n",
       "      <th>NotRepaired_yes</th>\n",
       "      <th>NotRepaired_nan</th>\n",
       "      <th>RegistrationYear</th>\n",
       "      <th>Power</th>\n",
       "      <th>Mileage</th>\n",
       "    </tr>\n",
       "  </thead>\n",
       "  <tbody>\n",
       "    <tr>\n",
       "      <th>0</th>\n",
       "      <td>0.0</td>\n",
       "      <td>0.0</td>\n",
       "      <td>0.0</td>\n",
       "      <td>0.0</td>\n",
       "      <td>0.0</td>\n",
       "      <td>0.0</td>\n",
       "      <td>0.0</td>\n",
       "      <td>0.0</td>\n",
       "      <td>1.0</td>\n",
       "      <td>0.0</td>\n",
       "      <td>...</td>\n",
       "      <td>0.0</td>\n",
       "      <td>0.0</td>\n",
       "      <td>0.0</td>\n",
       "      <td>0.0</td>\n",
       "      <td>0.0</td>\n",
       "      <td>0.0</td>\n",
       "      <td>0.0</td>\n",
       "      <td>2009.0</td>\n",
       "      <td>80.0</td>\n",
       "      <td>150000.0</td>\n",
       "    </tr>\n",
       "    <tr>\n",
       "      <th>1</th>\n",
       "      <td>0.0</td>\n",
       "      <td>0.0</td>\n",
       "      <td>0.0</td>\n",
       "      <td>1.0</td>\n",
       "      <td>0.0</td>\n",
       "      <td>0.0</td>\n",
       "      <td>0.0</td>\n",
       "      <td>0.0</td>\n",
       "      <td>0.0</td>\n",
       "      <td>0.0</td>\n",
       "      <td>...</td>\n",
       "      <td>0.0</td>\n",
       "      <td>0.0</td>\n",
       "      <td>0.0</td>\n",
       "      <td>0.0</td>\n",
       "      <td>0.0</td>\n",
       "      <td>0.0</td>\n",
       "      <td>0.0</td>\n",
       "      <td>2000.0</td>\n",
       "      <td>193.0</td>\n",
       "      <td>150000.0</td>\n",
       "    </tr>\n",
       "    <tr>\n",
       "      <th>2</th>\n",
       "      <td>0.0</td>\n",
       "      <td>0.0</td>\n",
       "      <td>0.0</td>\n",
       "      <td>0.0</td>\n",
       "      <td>1.0</td>\n",
       "      <td>0.0</td>\n",
       "      <td>0.0</td>\n",
       "      <td>0.0</td>\n",
       "      <td>1.0</td>\n",
       "      <td>0.0</td>\n",
       "      <td>...</td>\n",
       "      <td>0.0</td>\n",
       "      <td>0.0</td>\n",
       "      <td>0.0</td>\n",
       "      <td>0.0</td>\n",
       "      <td>0.0</td>\n",
       "      <td>0.0</td>\n",
       "      <td>0.0</td>\n",
       "      <td>2004.0</td>\n",
       "      <td>60.0</td>\n",
       "      <td>40000.0</td>\n",
       "    </tr>\n",
       "    <tr>\n",
       "      <th>3</th>\n",
       "      <td>0.0</td>\n",
       "      <td>0.0</td>\n",
       "      <td>0.0</td>\n",
       "      <td>0.0</td>\n",
       "      <td>0.0</td>\n",
       "      <td>0.0</td>\n",
       "      <td>0.0</td>\n",
       "      <td>1.0</td>\n",
       "      <td>0.0</td>\n",
       "      <td>0.0</td>\n",
       "      <td>...</td>\n",
       "      <td>0.0</td>\n",
       "      <td>0.0</td>\n",
       "      <td>0.0</td>\n",
       "      <td>0.0</td>\n",
       "      <td>0.0</td>\n",
       "      <td>0.0</td>\n",
       "      <td>1.0</td>\n",
       "      <td>2018.0</td>\n",
       "      <td>-1.0</td>\n",
       "      <td>150000.0</td>\n",
       "    </tr>\n",
       "    <tr>\n",
       "      <th>4</th>\n",
       "      <td>0.0</td>\n",
       "      <td>0.0</td>\n",
       "      <td>0.0</td>\n",
       "      <td>0.0</td>\n",
       "      <td>0.0</td>\n",
       "      <td>0.0</td>\n",
       "      <td>1.0</td>\n",
       "      <td>0.0</td>\n",
       "      <td>1.0</td>\n",
       "      <td>0.0</td>\n",
       "      <td>...</td>\n",
       "      <td>0.0</td>\n",
       "      <td>0.0</td>\n",
       "      <td>0.0</td>\n",
       "      <td>0.0</td>\n",
       "      <td>0.0</td>\n",
       "      <td>0.0</td>\n",
       "      <td>0.0</td>\n",
       "      <td>2001.0</td>\n",
       "      <td>122.0</td>\n",
       "      <td>150000.0</td>\n",
       "    </tr>\n",
       "  </tbody>\n",
       "</table>\n",
       "<p>5 rows × 61 columns</p>\n",
       "</div>"
      ],
      "text/plain": [
       "   VehicleType_convertible  VehicleType_coupe  VehicleType_other  \\\n",
       "0                      0.0                0.0                0.0   \n",
       "1                      0.0                0.0                0.0   \n",
       "2                      0.0                0.0                0.0   \n",
       "3                      0.0                0.0                0.0   \n",
       "4                      0.0                0.0                0.0   \n",
       "\n",
       "   VehicleType_sedan  VehicleType_small  VehicleType_suv  VehicleType_wagon  \\\n",
       "0                0.0                0.0              0.0                0.0   \n",
       "1                1.0                0.0              0.0                0.0   \n",
       "2                0.0                1.0              0.0                0.0   \n",
       "3                0.0                0.0              0.0                0.0   \n",
       "4                0.0                0.0              0.0                1.0   \n",
       "\n",
       "   VehicleType_nan  Gearbox_manual  Gearbox_nan  ...  Brand_suzuki  \\\n",
       "0              0.0             1.0          0.0  ...           0.0   \n",
       "1              0.0             0.0          0.0  ...           0.0   \n",
       "2              0.0             1.0          0.0  ...           0.0   \n",
       "3              1.0             0.0          0.0  ...           0.0   \n",
       "4              0.0             1.0          0.0  ...           0.0   \n",
       "\n",
       "   Brand_toyota  Brand_trabant  Brand_volkswagen  Brand_volvo  \\\n",
       "0           0.0            0.0               0.0          0.0   \n",
       "1           0.0            0.0               0.0          0.0   \n",
       "2           0.0            0.0               0.0          0.0   \n",
       "3           0.0            0.0               0.0          0.0   \n",
       "4           0.0            0.0               0.0          0.0   \n",
       "\n",
       "   NotRepaired_yes  NotRepaired_nan  RegistrationYear  Power   Mileage  \n",
       "0              0.0              0.0            2009.0   80.0  150000.0  \n",
       "1              0.0              0.0            2000.0  193.0  150000.0  \n",
       "2              0.0              0.0            2004.0   60.0   40000.0  \n",
       "3              0.0              1.0            2018.0   -1.0  150000.0  \n",
       "4              0.0              0.0            2001.0  122.0  150000.0  \n",
       "\n",
       "[5 rows x 61 columns]"
      ]
     },
     "execution_count": 29,
     "metadata": {},
     "output_type": "execute_result"
    }
   ],
   "source": [
    "train_df_ohe.head()"
   ]
  },
  {
   "cell_type": "code",
   "execution_count": 30,
   "metadata": {},
   "outputs": [
    {
     "data": {
      "text/html": [
       "<div>\n",
       "<style scoped>\n",
       "    .dataframe tbody tr th:only-of-type {\n",
       "        vertical-align: middle;\n",
       "    }\n",
       "\n",
       "    .dataframe tbody tr th {\n",
       "        vertical-align: top;\n",
       "    }\n",
       "\n",
       "    .dataframe thead th {\n",
       "        text-align: right;\n",
       "    }\n",
       "</style>\n",
       "<table border=\"1\" class=\"dataframe\">\n",
       "  <thead>\n",
       "    <tr style=\"text-align: right;\">\n",
       "      <th></th>\n",
       "      <th>VehicleType_convertible</th>\n",
       "      <th>VehicleType_coupe</th>\n",
       "      <th>VehicleType_other</th>\n",
       "      <th>VehicleType_sedan</th>\n",
       "      <th>VehicleType_small</th>\n",
       "      <th>VehicleType_suv</th>\n",
       "      <th>VehicleType_wagon</th>\n",
       "      <th>VehicleType_nan</th>\n",
       "      <th>Gearbox_manual</th>\n",
       "      <th>Gearbox_nan</th>\n",
       "      <th>...</th>\n",
       "      <th>Brand_suzuki</th>\n",
       "      <th>Brand_toyota</th>\n",
       "      <th>Brand_trabant</th>\n",
       "      <th>Brand_volkswagen</th>\n",
       "      <th>Brand_volvo</th>\n",
       "      <th>NotRepaired_yes</th>\n",
       "      <th>NotRepaired_nan</th>\n",
       "      <th>RegistrationYear</th>\n",
       "      <th>Power</th>\n",
       "      <th>Mileage</th>\n",
       "    </tr>\n",
       "  </thead>\n",
       "  <tbody>\n",
       "    <tr>\n",
       "      <th>0</th>\n",
       "      <td>0.0</td>\n",
       "      <td>0.0</td>\n",
       "      <td>0.0</td>\n",
       "      <td>0.0</td>\n",
       "      <td>1.0</td>\n",
       "      <td>0.0</td>\n",
       "      <td>0.0</td>\n",
       "      <td>0.0</td>\n",
       "      <td>1.0</td>\n",
       "      <td>0.0</td>\n",
       "      <td>...</td>\n",
       "      <td>0.0</td>\n",
       "      <td>0.0</td>\n",
       "      <td>0.0</td>\n",
       "      <td>0.0</td>\n",
       "      <td>0.0</td>\n",
       "      <td>1.0</td>\n",
       "      <td>0.0</td>\n",
       "      <td>1997.0</td>\n",
       "      <td>-1.0</td>\n",
       "      <td>150000.0</td>\n",
       "    </tr>\n",
       "    <tr>\n",
       "      <th>1</th>\n",
       "      <td>0.0</td>\n",
       "      <td>0.0</td>\n",
       "      <td>0.0</td>\n",
       "      <td>0.0</td>\n",
       "      <td>0.0</td>\n",
       "      <td>0.0</td>\n",
       "      <td>1.0</td>\n",
       "      <td>0.0</td>\n",
       "      <td>1.0</td>\n",
       "      <td>0.0</td>\n",
       "      <td>...</td>\n",
       "      <td>0.0</td>\n",
       "      <td>0.0</td>\n",
       "      <td>0.0</td>\n",
       "      <td>0.0</td>\n",
       "      <td>0.0</td>\n",
       "      <td>1.0</td>\n",
       "      <td>0.0</td>\n",
       "      <td>1995.0</td>\n",
       "      <td>150.0</td>\n",
       "      <td>150000.0</td>\n",
       "    </tr>\n",
       "    <tr>\n",
       "      <th>2</th>\n",
       "      <td>0.0</td>\n",
       "      <td>0.0</td>\n",
       "      <td>0.0</td>\n",
       "      <td>0.0</td>\n",
       "      <td>0.0</td>\n",
       "      <td>0.0</td>\n",
       "      <td>0.0</td>\n",
       "      <td>1.0</td>\n",
       "      <td>1.0</td>\n",
       "      <td>0.0</td>\n",
       "      <td>...</td>\n",
       "      <td>0.0</td>\n",
       "      <td>0.0</td>\n",
       "      <td>0.0</td>\n",
       "      <td>1.0</td>\n",
       "      <td>0.0</td>\n",
       "      <td>0.0</td>\n",
       "      <td>1.0</td>\n",
       "      <td>1995.0</td>\n",
       "      <td>101.0</td>\n",
       "      <td>150000.0</td>\n",
       "    </tr>\n",
       "    <tr>\n",
       "      <th>3</th>\n",
       "      <td>0.0</td>\n",
       "      <td>0.0</td>\n",
       "      <td>0.0</td>\n",
       "      <td>1.0</td>\n",
       "      <td>0.0</td>\n",
       "      <td>0.0</td>\n",
       "      <td>0.0</td>\n",
       "      <td>0.0</td>\n",
       "      <td>1.0</td>\n",
       "      <td>0.0</td>\n",
       "      <td>...</td>\n",
       "      <td>0.0</td>\n",
       "      <td>0.0</td>\n",
       "      <td>0.0</td>\n",
       "      <td>0.0</td>\n",
       "      <td>0.0</td>\n",
       "      <td>0.0</td>\n",
       "      <td>0.0</td>\n",
       "      <td>1998.0</td>\n",
       "      <td>75.0</td>\n",
       "      <td>150000.0</td>\n",
       "    </tr>\n",
       "    <tr>\n",
       "      <th>4</th>\n",
       "      <td>0.0</td>\n",
       "      <td>0.0</td>\n",
       "      <td>0.0</td>\n",
       "      <td>0.0</td>\n",
       "      <td>0.0</td>\n",
       "      <td>0.0</td>\n",
       "      <td>0.0</td>\n",
       "      <td>0.0</td>\n",
       "      <td>1.0</td>\n",
       "      <td>0.0</td>\n",
       "      <td>...</td>\n",
       "      <td>0.0</td>\n",
       "      <td>0.0</td>\n",
       "      <td>0.0</td>\n",
       "      <td>1.0</td>\n",
       "      <td>0.0</td>\n",
       "      <td>0.0</td>\n",
       "      <td>0.0</td>\n",
       "      <td>2006.0</td>\n",
       "      <td>105.0</td>\n",
       "      <td>150000.0</td>\n",
       "    </tr>\n",
       "  </tbody>\n",
       "</table>\n",
       "<p>5 rows × 61 columns</p>\n",
       "</div>"
      ],
      "text/plain": [
       "   VehicleType_convertible  VehicleType_coupe  VehicleType_other  \\\n",
       "0                      0.0                0.0                0.0   \n",
       "1                      0.0                0.0                0.0   \n",
       "2                      0.0                0.0                0.0   \n",
       "3                      0.0                0.0                0.0   \n",
       "4                      0.0                0.0                0.0   \n",
       "\n",
       "   VehicleType_sedan  VehicleType_small  VehicleType_suv  VehicleType_wagon  \\\n",
       "0                0.0                1.0              0.0                0.0   \n",
       "1                0.0                0.0              0.0                1.0   \n",
       "2                0.0                0.0              0.0                0.0   \n",
       "3                1.0                0.0              0.0                0.0   \n",
       "4                0.0                0.0              0.0                0.0   \n",
       "\n",
       "   VehicleType_nan  Gearbox_manual  Gearbox_nan  ...  Brand_suzuki  \\\n",
       "0              0.0             1.0          0.0  ...           0.0   \n",
       "1              0.0             1.0          0.0  ...           0.0   \n",
       "2              1.0             1.0          0.0  ...           0.0   \n",
       "3              0.0             1.0          0.0  ...           0.0   \n",
       "4              0.0             1.0          0.0  ...           0.0   \n",
       "\n",
       "   Brand_toyota  Brand_trabant  Brand_volkswagen  Brand_volvo  \\\n",
       "0           0.0            0.0               0.0          0.0   \n",
       "1           0.0            0.0               0.0          0.0   \n",
       "2           0.0            0.0               1.0          0.0   \n",
       "3           0.0            0.0               0.0          0.0   \n",
       "4           0.0            0.0               1.0          0.0   \n",
       "\n",
       "   NotRepaired_yes  NotRepaired_nan  RegistrationYear  Power   Mileage  \n",
       "0              1.0              0.0            1997.0   -1.0  150000.0  \n",
       "1              1.0              0.0            1995.0  150.0  150000.0  \n",
       "2              0.0              1.0            1995.0  101.0  150000.0  \n",
       "3              0.0              0.0            1998.0   75.0  150000.0  \n",
       "4              0.0              0.0            2006.0  105.0  150000.0  \n",
       "\n",
       "[5 rows x 61 columns]"
      ]
     },
     "execution_count": 30,
     "metadata": {},
     "output_type": "execute_result"
    }
   ],
   "source": [
    "test_df_ohe.head()"
   ]
  },
  {
   "cell_type": "code",
   "execution_count": 31,
   "metadata": {},
   "outputs": [
    {
     "data": {
      "text/plain": [
       "0"
      ]
     },
     "execution_count": 31,
     "metadata": {},
     "output_type": "execute_result"
    }
   ],
   "source": [
    "# Realizamos la verificación de Valores Faltantes\n",
    "train_df_ohe.isna().sum().sum()"
   ]
  },
  {
   "cell_type": "markdown",
   "metadata": {},
   "source": [
    "Mediante este código verificamos que no haya valores faltantes en el DataFrame train_df_ohe después de la imputación y codificación."
   ]
  },
  {
   "cell_type": "code",
   "execution_count": 32,
   "metadata": {},
   "outputs": [
    {
     "name": "stdout",
     "output_type": "stream",
     "text": [
      "Forma del Dataframe: (354369, 9)\n",
      "Forma del conjunto de entrenamiento: (283495, 61)\n",
      "Forma del conjunto de prueba: (70874, 61)\n"
     ]
    }
   ],
   "source": [
    "# Imprimimos las formas (shapes) de los conjuntos de datos resultantes, para verificar sus tamaños.\n",
    "print(\"Forma del Dataframe:\", vehicles_without_model.shape)\n",
    "print(\"Forma del conjunto de entrenamiento:\", train_df_ohe.shape)\n",
    "print(\"Forma del conjunto de prueba:\", test_df_ohe.shape)"
   ]
  },
  {
   "cell_type": "markdown",
   "metadata": {},
   "source": [
    "Definimos las variables predictoras (X_train, X_test) y la variable objetivo (y_train, y_test) "
   ]
  },
  {
   "cell_type": "code",
   "execution_count": 33,
   "metadata": {},
   "outputs": [],
   "source": [
    "# Variables predictoras\n",
    "X_train = train_df_ohe\n",
    "X_test = test_df_ohe\n",
    "\n",
    "# Variable objetivo\n",
    "y_train = train_df['Price']\n",
    "y_test = test_df['Price']"
   ]
  },
  {
   "cell_type": "code",
   "execution_count": 34,
   "metadata": {},
   "outputs": [
    {
     "name": "stdout",
     "output_type": "stream",
     "text": [
      "Forma del Dataframe: (354369, 9)\n",
      "Forma del conjunto de entrenamiento: (283495, 61)\n",
      "Forma del conjunto de prueba: (70874, 61)\n"
     ]
    }
   ],
   "source": [
    "# Imprimimos las formas (shapes) de los conjuntos de datos resultantes, para verificar sus tamaños.\n",
    "print(\"Forma del Dataframe:\", vehicles_without_model.shape)\n",
    "print(\"Forma del conjunto de entrenamiento:\", X_train.shape)\n",
    "print(\"Forma del conjunto de prueba:\", X_test.shape)"
   ]
  },
  {
   "cell_type": "markdown",
   "metadata": {},
   "source": [
    "## Subconjunto con Variable Model y Ordinal Encoder"
   ]
  },
  {
   "cell_type": "code",
   "execution_count": 35,
   "metadata": {},
   "outputs": [
    {
     "data": {
      "text/plain": [
       "VehicleType         object\n",
       "RegistrationYear     int64\n",
       "Gearbox             object\n",
       "Power                int64\n",
       "Model               object\n",
       "Mileage              int64\n",
       "FuelType            object\n",
       "Brand               object\n",
       "NotRepaired         object\n",
       "dtype: object"
      ]
     },
     "execution_count": 35,
     "metadata": {},
     "output_type": "execute_result"
    }
   ],
   "source": [
    "# Creamos un nuevo conjunto de datos incluyendo la variable 'Model'\n",
    "\n",
    "# Definimos las columnas a eliminar (excluyendo 'Model')\n",
    "drop_columns_with_model = [\n",
    "    \"DateCrawled\",\n",
    "    \"DateCreated\",\n",
    "    \"PostalCode\",\n",
    "    \"LastSeen\",\n",
    "    \"RegistrationMonth\",\n",
    "    \"NumberOfPictures\"\n",
    "]\n",
    "\n",
    "# Creamos una copia del DataFrame y eliminamos las columnas irrelevantes\n",
    "vehicles_with_model = vehicles.drop(columns=drop_columns_with_model)\n",
    "\n",
    "# Identificar las variables categóricas y numéricas\n",
    "\n",
    "# Definimos la variable objetivo y las características\n",
    "target = \"Price\"\n",
    "features_with_model = [c for c in vehicles_with_model.columns if c != target]\n",
    "\n",
    "# Mostramos los tipos de datos de las características seleccionadas\n",
    "vehicles[features_with_model].dtypes"
   ]
  },
  {
   "cell_type": "code",
   "execution_count": 36,
   "metadata": {},
   "outputs": [
    {
     "name": "stdout",
     "output_type": "stream",
     "text": [
      "Variables categóricas con 'Model': ['VehicleType', 'Gearbox', 'Model', 'FuelType', 'Brand', 'NotRepaired']\n",
      "Variables numéricas con 'Model': ['RegistrationYear', 'Power', 'Mileage']\n"
     ]
    }
   ],
   "source": [
    "# Identificamos las variables categóricas y numéricas\n",
    "categorical_features_with_model = []\n",
    "for col in vehicles_with_model[features_with_model].columns:\n",
    "    if vehicles_with_model[col].dtype == \"object\":\n",
    "        categorical_features_with_model.append(col)\n",
    "\n",
    "numerical_features_with_model = [f for f in features_with_model if f not in categorical_features_with_model]\n",
    "\n",
    "# Mostramos las variables categóricas y numéricas\n",
    "print(\"Variables categóricas con 'Model':\", categorical_features_with_model)\n",
    "print(\"Variables numéricas con 'Model':\", numerical_features_with_model)"
   ]
  },
  {
   "cell_type": "code",
   "execution_count": 37,
   "metadata": {},
   "outputs": [
    {
     "name": "stdout",
     "output_type": "stream",
     "text": [
      "Forma del Dataframe: (354369, 10)\n",
      "Forma del conjunto de entrenamiento: (283495, 10)\n",
      "Forma del conjunto de prueba: (70874, 10)\n"
     ]
    }
   ],
   "source": [
    "# Generación de los Conjuntos de Entrenamiento y Prueba\n",
    "train_df_with_model, test_df_with_model = train_test_split(\n",
    "    vehicles_with_model,\n",
    "    test_size=0.2,\n",
    "    random_state=88\n",
    ")\n",
    "\n",
    "# Imprimimos las formas (shapes) de los conjuntos de datos resultantes, para verificar sus tamaños\n",
    "print(\"Forma del Dataframe:\", vehicles_with_model.shape)\n",
    "print(\"Forma del conjunto de entrenamiento:\", train_df_with_model.shape)\n",
    "print(\"Forma del conjunto de prueba:\", test_df_with_model.shape)"
   ]
  },
  {
   "cell_type": "code",
   "execution_count": 38,
   "metadata": {},
   "outputs": [
    {
     "data": {
      "text/html": [
       "<div>\n",
       "<style scoped>\n",
       "    .dataframe tbody tr th:only-of-type {\n",
       "        vertical-align: middle;\n",
       "    }\n",
       "\n",
       "    .dataframe tbody tr th {\n",
       "        vertical-align: top;\n",
       "    }\n",
       "\n",
       "    .dataframe thead th {\n",
       "        text-align: right;\n",
       "    }\n",
       "</style>\n",
       "<table border=\"1\" class=\"dataframe\">\n",
       "  <thead>\n",
       "    <tr style=\"text-align: right;\">\n",
       "      <th></th>\n",
       "      <th>Price</th>\n",
       "      <th>VehicleType</th>\n",
       "      <th>RegistrationYear</th>\n",
       "      <th>Gearbox</th>\n",
       "      <th>Power</th>\n",
       "      <th>Model</th>\n",
       "      <th>Mileage</th>\n",
       "      <th>FuelType</th>\n",
       "      <th>Brand</th>\n",
       "      <th>NotRepaired</th>\n",
       "    </tr>\n",
       "  </thead>\n",
       "  <tbody>\n",
       "    <tr>\n",
       "      <th>0</th>\n",
       "      <td>480</td>\n",
       "      <td>NaN</td>\n",
       "      <td>1993</td>\n",
       "      <td>manual</td>\n",
       "      <td>-1</td>\n",
       "      <td>golf</td>\n",
       "      <td>150000</td>\n",
       "      <td>petrol</td>\n",
       "      <td>volkswagen</td>\n",
       "      <td>NaN</td>\n",
       "    </tr>\n",
       "    <tr>\n",
       "      <th>1</th>\n",
       "      <td>18300</td>\n",
       "      <td>coupe</td>\n",
       "      <td>2011</td>\n",
       "      <td>manual</td>\n",
       "      <td>190</td>\n",
       "      <td>NaN</td>\n",
       "      <td>125000</td>\n",
       "      <td>gasoline</td>\n",
       "      <td>audi</td>\n",
       "      <td>yes</td>\n",
       "    </tr>\n",
       "    <tr>\n",
       "      <th>2</th>\n",
       "      <td>9800</td>\n",
       "      <td>suv</td>\n",
       "      <td>2004</td>\n",
       "      <td>auto</td>\n",
       "      <td>163</td>\n",
       "      <td>grand</td>\n",
       "      <td>125000</td>\n",
       "      <td>gasoline</td>\n",
       "      <td>jeep</td>\n",
       "      <td>NaN</td>\n",
       "    </tr>\n",
       "    <tr>\n",
       "      <th>3</th>\n",
       "      <td>1500</td>\n",
       "      <td>small</td>\n",
       "      <td>2001</td>\n",
       "      <td>manual</td>\n",
       "      <td>75</td>\n",
       "      <td>golf</td>\n",
       "      <td>150000</td>\n",
       "      <td>petrol</td>\n",
       "      <td>volkswagen</td>\n",
       "      <td>no</td>\n",
       "    </tr>\n",
       "    <tr>\n",
       "      <th>4</th>\n",
       "      <td>3600</td>\n",
       "      <td>small</td>\n",
       "      <td>2008</td>\n",
       "      <td>manual</td>\n",
       "      <td>69</td>\n",
       "      <td>fabia</td>\n",
       "      <td>90000</td>\n",
       "      <td>gasoline</td>\n",
       "      <td>skoda</td>\n",
       "      <td>no</td>\n",
       "    </tr>\n",
       "  </tbody>\n",
       "</table>\n",
       "</div>"
      ],
      "text/plain": [
       "   Price VehicleType  RegistrationYear Gearbox  Power  Model  Mileage  \\\n",
       "0    480         NaN              1993  manual     -1   golf   150000   \n",
       "1  18300       coupe              2011  manual    190    NaN   125000   \n",
       "2   9800         suv              2004    auto    163  grand   125000   \n",
       "3   1500       small              2001  manual     75   golf   150000   \n",
       "4   3600       small              2008  manual     69  fabia    90000   \n",
       "\n",
       "   FuelType       Brand NotRepaired  \n",
       "0    petrol  volkswagen         NaN  \n",
       "1  gasoline        audi         yes  \n",
       "2  gasoline        jeep         NaN  \n",
       "3    petrol  volkswagen          no  \n",
       "4  gasoline       skoda          no  "
      ]
     },
     "execution_count": 38,
     "metadata": {},
     "output_type": "execute_result"
    }
   ],
   "source": [
    "vehicles_with_model.head()"
   ]
  },
  {
   "cell_type": "code",
   "execution_count": 39,
   "metadata": {},
   "outputs": [
    {
     "name": "stdout",
     "output_type": "stream",
     "text": [
      "Forma del conjunto de entrenamiento con 'Model': (283495, 9)\n",
      "Forma del conjunto de prueba con 'Model': (70874, 9)\n"
     ]
    }
   ],
   "source": [
    "from sklearn.impute import SimpleImputer\n",
    "\n",
    "# Definimos el imputador para las variables numéricas, reemplazando NaN con la mediana\n",
    "numerical_imputer = SimpleImputer(strategy='median')\n",
    "\n",
    "# Ajustamos el imputador con los datos de entrenamiento numéricos\n",
    "numerical_imputer.fit(train_df_with_model[numerical_features_with_model])\n",
    "\n",
    "# Aplicamos la imputación a los conjuntos de entrenamiento y prueba\n",
    "train_df_numerical_nonulls = numerical_imputer.transform(train_df_with_model[numerical_features_with_model])\n",
    "test_df_numerical_nonulls = numerical_imputer.transform(test_df_with_model[numerical_features_with_model])\n",
    "\n",
    "# Convertimos los resultados en DataFrames\n",
    "train_df_numerical_nonulls = pd.DataFrame(train_df_numerical_nonulls, columns=numerical_features_with_model)\n",
    "test_df_numerical_nonulls = pd.DataFrame(test_df_numerical_nonulls, columns=numerical_features_with_model)\n",
    "\n",
    "# Definimos el imputador para las variables categóricas, reemplazando NaN con 'missing'\n",
    "categorical_imputer = SimpleImputer(strategy='constant', fill_value='missing')\n",
    "\n",
    "# Ajustamos el imputador con los datos de entrenamiento categóricos\n",
    "categorical_imputer.fit(train_df_with_model[categorical_features_with_model])\n",
    "\n",
    "# Aplicamos la imputación a los conjuntos de entrenamiento y prueba\n",
    "train_df_categorical_nonulls = categorical_imputer.transform(train_df_with_model[categorical_features_with_model])\n",
    "test_df_categorical_nonulls = categorical_imputer.transform(test_df_with_model[categorical_features_with_model])\n",
    "\n",
    "# Convertimos los resultados en DataFrames\n",
    "train_df_categorical_nonulls = pd.DataFrame(train_df_categorical_nonulls, columns=categorical_features_with_model)\n",
    "test_df_categorical_nonulls = pd.DataFrame(test_df_categorical_nonulls, columns=categorical_features_with_model)\n",
    "\n",
    "# Definimos y ajustamos el OrdinalEncoder\n",
    "ordinal_encoder = OrdinalEncoder()\n",
    "\n",
    "# Ajustamos el codificador con los datos de entrenamiento categóricos\n",
    "ordinal_encoder.fit(train_df_categorical_nonulls)\n",
    "\n",
    "# Aplicamos la codificación Ordinal a los conjuntos de entrenamiento y prueba\n",
    "train_df_with_model_encoded = ordinal_encoder.transform(train_df_categorical_nonulls)\n",
    "test_df_with_model_encoded = ordinal_encoder.transform(test_df_categorical_nonulls)\n",
    "\n",
    "# Convertimos los resultados en DataFrames y añadimos las columnas numéricas imputadas\n",
    "train_df_with_model_encoded = pd.DataFrame(train_df_with_model_encoded, columns=categorical_features_with_model)\n",
    "test_df_with_model_encoded = pd.DataFrame(test_df_with_model_encoded, columns=categorical_features_with_model)\n",
    "\n",
    "# Añadimos las variables numéricas imputadas a los DataFrames codificados\n",
    "for f in numerical_features_with_model:\n",
    "    train_df_with_model_encoded[f] = train_df_numerical_nonulls[f].values\n",
    "    test_df_with_model_encoded[f] = test_df_numerical_nonulls[f].values\n",
    "\n",
    "# Imprimimos las formas (shapes) de los conjuntos de datos resultantes, para verificar sus tamaños\n",
    "print(\"Forma del conjunto de entrenamiento con 'Model':\", train_df_with_model_encoded.shape)\n",
    "print(\"Forma del conjunto de prueba con 'Model':\", test_df_with_model_encoded.shape)\n"
   ]
  },
  {
   "cell_type": "code",
   "execution_count": 40,
   "metadata": {},
   "outputs": [
    {
     "data": {
      "text/plain": [
       "0"
      ]
     },
     "execution_count": 40,
     "metadata": {},
     "output_type": "execute_result"
    }
   ],
   "source": [
    "# Realizamos la verificación de Valores Faltantes\n",
    "train_df_with_model_encoded.isna().sum().sum()"
   ]
  },
  {
   "cell_type": "code",
   "execution_count": 42,
   "metadata": {},
   "outputs": [
    {
     "name": "stdout",
     "output_type": "stream",
     "text": [
      "Forma de X_train con 'Model': (283495, 9)\n",
      "Forma de X_test con 'Model': (70874, 9)\n",
      "Forma de y_train con 'Model': (283495,)\n",
      "Forma de y_test con 'Model': (70874,)\n"
     ]
    }
   ],
   "source": [
    "# Definir las variables predictoras y la variable objetivo para el conjunto con 'Model'\n",
    "features_with_model = [c for c in train_df_with_model_encoded.columns if c != target]\n",
    "\n",
    "X_train_with_model = train_df_with_model_encoded[features_with_model]\n",
    "X_test_with_model = test_df_with_model_encoded[features_with_model]\n",
    "\n",
    "y_train_with_model = train_df_with_model[target]\n",
    "y_test_with_model = test_df_with_model[target]\n",
    "\n",
    "# Verificar las formas (shapes) de los conjuntos de datos resultantes\n",
    "print(\"Forma de X_train con 'Model':\", X_train_with_model.shape)\n",
    "print(\"Forma de X_test con 'Model':\", X_test_with_model.shape)\n",
    "print(\"Forma de y_train con 'Model':\", y_train_with_model.shape)\n",
    "print(\"Forma de y_test con 'Model':\", y_test_with_model.shape)"
   ]
  },
  {
   "cell_type": "markdown",
   "metadata": {},
   "source": [
    "## Modelo Regresión Lineal"
   ]
  },
  {
   "cell_type": "markdown",
   "metadata": {},
   "source": [
    "En el caso del modelo de regresión lineal, se recomienda solo usar el OHE encoding."
   ]
  },
  {
   "cell_type": "code",
   "execution_count": 45,
   "metadata": {},
   "outputs": [
    {
     "name": "stdout",
     "output_type": "stream",
     "text": [
      "\n",
      "Linear Regression performance:\n",
      "3138.5415\n",
      "\n",
      "CPU times: user 1.77 s, sys: 903 ms, total: 2.67 s\n",
      "Wall time: 2.65 s\n"
     ]
    }
   ],
   "source": [
    "%%time\n",
    "# Inicializamos el modelo\n",
    "model_lr = LinearRegression()\n",
    "\n",
    "# Entrenamos el modelo\n",
    "model_lr.fit(X_train, y_train)\n",
    "\n",
    "# Predecimos los precios en el conjunto de prueba\n",
    "y_pred_lr = model_lr.predict(X_test)\n",
    "\n",
    "# Evaluamos el modelo:\n",
    "print(f\"\"\"\n",
    "Linear Regression performance:\n",
    "{round(mean_squared_error(y_test, y_pred_lr)**0.5, 4)}\n",
    "\"\"\")"
   ]
  },
  {
   "cell_type": "markdown",
   "metadata": {},
   "source": [
    "El valor de la raíz del error cuadrático medio (RMSE) obtenido para el modelo de regresión lineal es de 3138.5415. Este valor indica la magnitud promedio del error entre los valores predichos y los valores reales de precios de los vehículos.\n",
    "\n",
    "Un RMSE de 3138.5415 sugiere que, en promedio, las predicciones del modelo de regresión lineal están desviadas del valor real del precio del vehículo en aproximadamente 3138.54 unidades monetarias. Esto puede considerarse un error relativamente alto, dado que el precio promedio de los vehículos en el conjunto de datos es de aproximadamente 4416.66 (según el análisis descriptivo inicial).\n",
    "\n",
    "Es base a estos resultados, vemos que se hace necesario el análisis de los otros modelos que seguramente podrán entregarnos un mejor desempeño. El modelo de Regresión Lineal nos permite establecer una línea base de desempeño con la cual se pueden comparar otros modelos más complejos. Si un modelo más avanzado no supera a la regresión lineal, esto puede indicar problemas en el modelo avanzado o en los datos."
   ]
  },
  {
   "cell_type": "markdown",
   "metadata": {},
   "source": [
    "## Modelo Bosque Aleatorio (conjunto sin variable Model)."
   ]
  },
  {
   "cell_type": "markdown",
   "metadata": {},
   "source": [
    "A continuación vamos a ocupar el modelo de Bosque Aleatorio RandomForestRegressor, on el subconjunto de datos sin la variable Model."
   ]
  },
  {
   "cell_type": "markdown",
   "metadata": {},
   "source": [
    "Vamos a explorar diferentes combinaciones de hiperparámetros y encontrar la que maximice el rendimiento del modelo.\n",
    "\n",
    "Para ello vamos a utilizar un bucle for anidado para iterar sobre diferentes valores de dos hiperparámetros del modelo de Bosque Aleatorio: el número de estimadores (n_estimators) y la profundidad máxima del árbol (max_depth). \n",
    "Ocuparemos valores de n_estimators (10, 50, 100) y max_depth (5, 10, 15)."
   ]
  },
  {
   "cell_type": "code",
   "execution_count": 53,
   "metadata": {
    "scrolled": true
   },
   "outputs": [
    {
     "name": "stdout",
     "output_type": "stream",
     "text": [
      "\n",
      "            N estimators: 10\n",
      "            Max depth: 5\n",
      "            RMSE: 2495.3984\n",
      "            \n",
      "\n",
      "            N estimators: 10\n",
      "            Max depth: 10\n",
      "            RMSE: 2048.3717\n",
      "            \n",
      "\n",
      "            N estimators: 10\n",
      "            Max depth: 15\n",
      "            RMSE: 1852.5917\n",
      "            \n",
      "\n",
      "            N estimators: 50\n",
      "            Max depth: 15\n",
      "            RMSE: 1830.1057\n",
      "            \n",
      "\n",
      "            N estimators: 100\n",
      "            Max depth: 15\n",
      "            RMSE: 1827.218\n",
      "            \n",
      "\n",
      "Optimized Random Forest performance:\n",
      "1827.218\n",
      "\n",
      "CPU times: user 13min 6s, sys: 567 ms, total: 13min 7s\n",
      "Wall time: 13min 7s\n"
     ]
    }
   ],
   "source": [
    "%%time\n",
    "# Inicializar el mejor puntaje y los mejores hiperparámetros\n",
    "max_score = float('inf')\n",
    "best_params = {'n_estimators': None, 'max_depth': None}\n",
    "\n",
    "# Bucle para ajustar los hiperparámetros\n",
    "for n_estimators in [10, 50, 100]:\n",
    "    for max_depth in [5, 10, 15]:\n",
    "        model = RandomForestRegressor(n_estimators=n_estimators, max_depth=max_depth, random_state=88)\n",
    "        model.fit(X_train, y_train)\n",
    "        y_pred_rf = model.predict(X_test)\n",
    "        score = mean_squared_error(y_test, y_pred_rf)**0.5\n",
    "\n",
    "        if score < max_score:\n",
    "            max_score = score\n",
    "            best_params['n_estimators'] = n_estimators\n",
    "            best_params['max_depth'] = max_depth\n",
    "            print(f\"\"\"\n",
    "            N estimators: {n_estimators}\n",
    "            Max depth: {max_depth}\n",
    "            RMSE: {round(score, 4)}\n",
    "            \"\"\")\n",
    "\n",
    "# Entrenar el modelo con los mejores hiperparámetros encontrados\n",
    "model_rf_best = RandomForestRegressor(n_estimators=best_params['n_estimators'], max_depth=best_params['max_depth'], random_state=88)\n",
    "model_rf_best.fit(X_train, y_train)\n",
    "y_pred_rf_best = model_rf_best.predict(X_test)\n",
    "\n",
    "# Evaluar el modelo\n",
    "print(f\"\"\"\n",
    "Optimized Random Forest performance:\n",
    "{round(mean_squared_error(y_test, y_pred_rf_best)**0.5, 4)}\n",
    "\"\"\")"
   ]
  },
  {
   "cell_type": "markdown",
   "metadata": {},
   "source": [
    "La mejor configuración encontrada para el modelo de Bosque Aleatorio fue con n_estimators = 100 y max_depth = 15, obteniendo un RMSE de 1827.218. Esta configuración se logró después de evaluar varias combinaciones, y resultó ser la más efectiva en términos de precisión.\n",
    "\n",
    "Se observa una mejora en el RMSE al aumentar tanto el número de estimadores como la profundidad máxima del modelo. Esto indica que el modelo se beneficia de una mayor capacidad para capturar la variabilidad en los datos.\n",
    "\n",
    "La configuración óptima con n_estimators = 100 y max_depth = 15 ofrece el mejor equilibrio entre precisión y complejidad del modelo. Aunque incrementos adicionales en los hiperparámetros podrían seguir mejorando el rendimiento, también aumentarían significativamente el tiempo de entrenamiento y el riesgo de sobreajuste.\n",
    "\n",
    "Con respecto al tiempo total de cómputo para la búsqueda de hiperparámetros fue:\n",
    "- CPU times: 13min 6s\n",
    "- Wall time: 13min 7s\n",
    "\n",
    "Estos tiempos reflejan la complejidad computacional asociada con la búsqueda de hiperparámetros en modelos de Bosque Aleatorio, especialmente con configuraciones más grandes.\n",
    "\n",
    "El modelo de Bosque Aleatorio con los hiperparámetros optimizados logró un RMSE de 1827.218, lo que representa una mejora significativa en comparación con el modelo de Regresión lineal. Sin embargo, el costo computacional es considerable, y es importante equilibrar la precisión del modelo con los recursos disponibles."
   ]
  },
  {
   "cell_type": "markdown",
   "metadata": {},
   "source": [
    "## Modelo Bosque Aleatorio (conjunto con variable Model)."
   ]
  },
  {
   "cell_type": "markdown",
   "metadata": {},
   "source": [
    "A continuación vamos a ocupar el modelo de Bosque Aleatorio RandomForestRegressor pero con el subconjunto de datos con la variable Model."
   ]
  },
  {
   "cell_type": "code",
   "execution_count": 55,
   "metadata": {},
   "outputs": [
    {
     "name": "stdout",
     "output_type": "stream",
     "text": [
      "\n",
      "            N estimators: 10\n",
      "            Max depth: 5\n",
      "            RMSE: 2498.2654\n",
      "            \n",
      "\n",
      "            N estimators: 10\n",
      "            Max depth: 10\n",
      "            RMSE: 2034.4598\n",
      "            \n",
      "\n",
      "            N estimators: 10\n",
      "            Max depth: 15\n",
      "            RMSE: 1812.0848\n",
      "            \n",
      "\n",
      "            N estimators: 50\n",
      "            Max depth: 15\n",
      "            RMSE: 1787.3712\n",
      "            \n",
      "\n",
      "            N estimators: 100\n",
      "            Max depth: 15\n",
      "            RMSE: 1782.74\n",
      "            \n",
      "\n",
      "Optimized Random Forest performance with 'Model':\n",
      "1782.74\n",
      "\n",
      "CPU times: user 6min 38s, sys: 390 ms, total: 6min 38s\n",
      "Wall time: 6min 39s\n"
     ]
    }
   ],
   "source": [
    "%%time\n",
    "# Inicializar el mejor puntaje y los mejores hiperparámetros\n",
    "max_score_model = float('inf')\n",
    "best_params_model = {'n_estimators': None, 'max_depth': None}\n",
    "\n",
    "# Bucle para ajustar los hiperparámetros\n",
    "for n_estimators in [10, 50, 100]:\n",
    "    for max_depth in [5, 10, 15]:\n",
    "        model_model = RandomForestRegressor(n_estimators=n_estimators, max_depth=max_depth, random_state=88)\n",
    "        model_model.fit(X_train_with_model, y_train_with_model)\n",
    "        y_pred_rf_model = model_model.predict(X_test_with_model)\n",
    "        score_model = mean_squared_error(y_test_with_model, y_pred_rf_model)**0.5\n",
    "\n",
    "        if score_model < max_score_model:\n",
    "            max_score_model = score_model\n",
    "            best_params_model['n_estimators'] = n_estimators\n",
    "            best_params_model['max_depth'] = max_depth\n",
    "            print(f\"\"\"\n",
    "            N estimators: {n_estimators}\n",
    "            Max depth: {max_depth}\n",
    "            RMSE: {round(score_model, 4)}\n",
    "            \"\"\")\n",
    "\n",
    "# Entrenar el modelo con los mejores hiperparámetros encontrados\n",
    "model_rf_best_model = RandomForestRegressor(n_estimators=best_params_model['n_estimators'], max_depth=best_params_model['max_depth'], random_state=88)\n",
    "model_rf_best_model.fit(X_train_with_model, y_train_with_model)\n",
    "y_pred_rf_best_model = model_rf_best_model.predict(X_test_with_model)\n",
    "\n",
    "# Evaluar el modelo\n",
    "print(f\"\"\"\n",
    "Optimized Random Forest performance with 'Model':\n",
    "{round(mean_squared_error(y_test_with_model, y_pred_rf_best_model)**0.5, 4)}\n",
    "\"\"\")"
   ]
  },
  {
   "cell_type": "markdown",
   "metadata": {},
   "source": [
    "La inclusión de la variable 'Model' ha mejorado significativamente el rendimiento del modelo, reduciendo el RMSE a 1782.74 en el mejor caso, en comparación con 1827.218 sin la variable 'Model'. \n",
    "\n",
    "Esto demuestra que 'Model' es una característica relevante y útil para la predicción del precio.\n",
    "\n",
    "Con respecto al tiempo de ejecución, la inclusión de la variable 'Model' no solo mejora el rendimiento del modelo en términos de RMSE, sino que también disminuye casi en un 50% el tiempo de ejecución. \n",
    "\n",
    "Esto indica que 'Model' proporciona información adicional relevante que facilita la predicción y permite al modelo converger más rápidamente."
   ]
  },
  {
   "cell_type": "markdown",
   "metadata": {},
   "source": [
    "## Modelo LightGBM (conjunto sin variable Model)."
   ]
  },
  {
   "cell_type": "markdown",
   "metadata": {},
   "source": [
    "A continuación vamos a ocupar el modelo de LightGBM en el subconjunto de datos sin la variable Model.\n",
    "\n",
    "Vamos a comenzar nuestro análisis con un modelo simple de LghtGBM con los parámetros por defecto. "
   ]
  },
  {
   "cell_type": "code",
   "execution_count": 54,
   "metadata": {},
   "outputs": [
    {
     "name": "stdout",
     "output_type": "stream",
     "text": [
      "\n",
      "Simple LightGBM performance:\n",
      "1867.9611\n",
      "\n",
      "CPU times: user 5.15 s, sys: 60.1 ms, total: 5.21 s\n",
      "Wall time: 5.23 s\n"
     ]
    }
   ],
   "source": [
    "%%time\n",
    "\n",
    "# Inicializamos el modelo LightGBM con parámetros por defecto\n",
    "model_lgb_simple = lgb.LGBMRegressor(random_state=88)\n",
    "\n",
    "# Entrenamos el modelo\n",
    "model_lgb_simple.fit(X_train, y_train)\n",
    "\n",
    "# Predecimos los precios en el conjunto de prueba\n",
    "y_pred_lgb_simple = model_lgb_simple.predict(X_test)\n",
    "\n",
    "# Evaluamos el modelo\n",
    "print(f\"\"\"\n",
    "Simple LightGBM performance:\n",
    "{round(mean_squared_error(y_test, y_pred_lgb_simple)**0.5, 4)}\n",
    "\"\"\")"
   ]
  },
  {
   "cell_type": "markdown",
   "metadata": {},
   "source": [
    "El RMSE obtenido para el modelo simple fue de 1867.9611. Este resultado ya es bastante prometedor y sugiere que LightGBM puede capturar patrones importantes en los datos.\n",
    "\n",
    "La eficiencia computacional del modelo es notable, ya que solo tomó alrededor de 5 segundos en tiempo de CPU y Wall para entrenar y hacer predicciones.\n",
    "\n",
    "Para mejorar el rendimiento del modelo LightGBM, vamos a realizar una búsqueda de hiperparámetros utilizando GridSearchCV."
   ]
  },
  {
   "cell_type": "code",
   "execution_count": 39,
   "metadata": {},
   "outputs": [
    {
     "name": "stdout",
     "output_type": "stream",
     "text": [
      "Fitting 3 folds for each of 16 candidates, totalling 48 fits\n",
      "Best parameters found: {'learning_rate': 0.1, 'max_depth': 20, 'n_estimators': 200, 'num_leaves': 40}\n",
      "CPU times: user 5min 4s, sys: 3.87 s, total: 5min 8s\n",
      "Wall time: 5min 10s\n"
     ]
    }
   ],
   "source": [
    "%%time\n",
    "\n",
    "# Definimos el modelo LightGBM\n",
    "model_lgb = lgb.LGBMRegressor(random_state=88)\n",
    "\n",
    "# Definimos un conjunto de hiperparámetros para la búsqueda\n",
    "param_grid = {\n",
    "    'num_leaves': [31, 40],\n",
    "    'max_depth': [10, 20],\n",
    "    'learning_rate': [0.1, 0.05],\n",
    "    'n_estimators': [100, 200]\n",
    "}\n",
    "\n",
    "# Realizamos la búsqueda con GridSearchCV\n",
    "grid_search = GridSearchCV(\n",
    "    estimator=model_lgb,\n",
    "    param_grid=param_grid,\n",
    "    cv=3,\n",
    "    scoring='neg_mean_squared_error',\n",
    "    verbose=1,\n",
    "    n_jobs=-1\n",
    ")\n",
    "\n",
    "# Entrenamos el GridSearchCV\n",
    "grid_search.fit(X_train, y_train)\n",
    "\n",
    "# Obtenemos el mejor modelo\n",
    "best_model = grid_search.best_estimator_\n",
    "\n",
    "# Imprimimos los mejores hiperparámetros\n",
    "print(f\"Best parameters found: {grid_search.best_params_}\")\n"
   ]
  },
  {
   "cell_type": "code",
   "execution_count": 40,
   "metadata": {},
   "outputs": [
    {
     "name": "stdout",
     "output_type": "stream",
     "text": [
      "\n",
      "Optimized LightGBM performance:\n",
      "1801.0548\n",
      "\n",
      "Best parameters found: {'learning_rate': 0.1, 'max_depth': 20, 'n_estimators': 200, 'num_leaves': 40}\n",
      "CPU times: user 1.46 s, sys: 19.9 ms, total: 1.48 s\n",
      "Wall time: 1.41 s\n"
     ]
    }
   ],
   "source": [
    "%%time\n",
    "# Predecimos los precios en el conjunto de prueba con el mejor modelo\n",
    "y_pred_lgb_best = best_model.predict(X_test)\n",
    "\n",
    "# Evaluamos el modelo\n",
    "print(f\"\"\"\n",
    "Optimized LightGBM performance:\n",
    "{round(mean_squared_error(y_test, y_pred_lgb_best)**0.5, 4)}\n",
    "\"\"\")\n",
    "\n",
    "# Imprimimos los mejores hiperparámetros\n",
    "print(f\"Best parameters found: {grid_search.best_params_}\")"
   ]
  },
  {
   "cell_type": "markdown",
   "metadata": {},
   "source": [
    "El RMSE mejoró a 1801.0548 con el modelo optimizado, una reducción significativa respecto al modelo simple. Esto indica que la búsqueda de hiperparámetros fue efectiva y permitió mejorar la precisión del modelo.\n",
    "\n",
    "Los mejores parámetros encontrados fueron {'learning_rate': 0.1, 'max_depth': 20, 'n_estimators': 200, 'num_leaves': 40}. Estos parámetros sugieren que un mayor número de árboles, mayor profundidad y un número de hojas más grande son beneficiosos para este conjunto de datos.\n",
    "\n",
    "La búsqueda de los mejores hiperparámetros mediante GridSearchCV tomó aproximadamente 5 minutos y 10 segundos de tiempo de pared. Esto es razonable dado el número de combinaciones probadas (48 en total) y la complejidad del proceso de validación cruzada.\n",
    "\n",
    "Por otro lado, la predicción utilizando el modelo optimizado tomó apenas 1.4 segundos de tiempo de pared. Esto muestra la eficiencia del modelo LightGBM una vez que está entrenado, permitiendo predicciones rápidas incluso en conjuntos de datos relativamente grandes."
   ]
  },
  {
   "cell_type": "markdown",
   "metadata": {},
   "source": [
    "## Modelo LightGBM (conjunto con variable Model)."
   ]
  },
  {
   "cell_type": "markdown",
   "metadata": {},
   "source": [
    "A continuación vamos a ocupar el modelo de LightGBM en el subconjunto de datos con la variable Model.\n",
    "\n",
    "Ejecución de un Modelo Simple de LightGBM"
   ]
  },
  {
   "cell_type": "code",
   "execution_count": 57,
   "metadata": {},
   "outputs": [
    {
     "name": "stdout",
     "output_type": "stream",
     "text": [
      "\n",
      "Simple LightGBM performance with 'Model':\n",
      "1848.976\n",
      "\n",
      "CPU times: user 4.74 s, sys: 12.1 ms, total: 4.76 s\n",
      "Wall time: 4.7 s\n"
     ]
    }
   ],
   "source": [
    "%%time\n",
    "import lightgbm as lgb\n",
    "from sklearn.metrics import mean_squared_error\n",
    "\n",
    "# Inicializamos el modelo LightGBM con parámetros por defecto\n",
    "model_lgb_simple = lgb.LGBMRegressor(random_state=88)\n",
    "\n",
    "# Entrenamos el modelo\n",
    "model_lgb_simple.fit(X_train_with_model, y_train_with_model)\n",
    "\n",
    "# Predecimos los precios en el conjunto de prueba\n",
    "y_pred_lgb_simple_with_model = model_lgb_simple.predict(X_test_with_model)\n",
    "\n",
    "# Evaluamos el modelo\n",
    "print(f\"\"\"\n",
    "Simple LightGBM performance with 'Model':\n",
    "{round(mean_squared_error(y_test_with_model, y_pred_lgb_simple_with_model)**0.5, 4)}\n",
    "\"\"\")\n"
   ]
  },
  {
   "cell_type": "code",
   "execution_count": 58,
   "metadata": {},
   "outputs": [
    {
     "name": "stdout",
     "output_type": "stream",
     "text": [
      "Fitting 3 folds for each of 16 candidates, totalling 48 fits\n",
      "Best parameters found: {'learning_rate': 0.1, 'max_depth': 20, 'n_estimators': 200, 'num_leaves': 40}\n",
      "CPU times: user 4min 46s, sys: 2.15 s, total: 4min 48s\n",
      "Wall time: 4min 49s\n"
     ]
    }
   ],
   "source": [
    "%%time\n",
    "\n",
    "# Definimos el modelo LightGBM\n",
    "model_lgb_with_model = lgb.LGBMRegressor(random_state=88)\n",
    "\n",
    "# Definimos un conjunto de hiperparámetros para la búsqueda\n",
    "param_grid_with_model = {\n",
    "    'num_leaves': [31, 40],\n",
    "    'max_depth': [10, 20],\n",
    "    'learning_rate': [0.1, 0.05],\n",
    "    'n_estimators': [100, 200]\n",
    "}\n",
    "\n",
    "# Realizamos la búsqueda con GridSearchCV\n",
    "grid_search_with_model = GridSearchCV(\n",
    "    estimator=model_lgb_with_model,\n",
    "    param_grid=param_grid_with_model,\n",
    "    cv=3,\n",
    "    scoring='neg_mean_squared_error',\n",
    "    verbose=1,\n",
    "    n_jobs=-1\n",
    ")\n",
    "\n",
    "# Entrenamos el GridSearchCV\n",
    "grid_search_with_model.fit(X_train_with_model, y_train_with_model)\n",
    "\n",
    "# Obtenemos el mejor modelo\n",
    "best_model_with_model = grid_search_with_model.best_estimator_\n",
    "\n",
    "# Imprimimos los mejores hiperparámetros\n",
    "print(f\"Best parameters found: {grid_search_with_model.best_params_}\")"
   ]
  },
  {
   "cell_type": "code",
   "execution_count": 59,
   "metadata": {},
   "outputs": [
    {
     "name": "stdout",
     "output_type": "stream",
     "text": [
      "\n",
      "Optimized LightGBM performance with 'Model':\n",
      "1770.7392\n",
      "\n",
      "Best parameters found: {'learning_rate': 0.1, 'max_depth': 20, 'n_estimators': 200, 'num_leaves': 40}\n",
      "CPU times: user 1.32 s, sys: 16 ms, total: 1.33 s\n",
      "Wall time: 1.31 s\n"
     ]
    }
   ],
   "source": [
    "%%time\n",
    "\n",
    "# Predecimos los precios en el conjunto de prueba con el mejor modelo\n",
    "y_pred_lgb_best_with_model = best_model_with_model.predict(X_test_with_model)\n",
    "\n",
    "# Evaluamos el modelo\n",
    "print(f\"\"\"\n",
    "Optimized LightGBM performance with 'Model':\n",
    "{round(mean_squared_error(y_test_with_model, y_pred_lgb_best_with_model)**0.5, 4)}\n",
    "\"\"\")\n",
    "\n",
    "# Imprimimos los mejores hiperparámetros\n",
    "print(f\"Best parameters found: {grid_search_with_model.best_params_}\")\n"
   ]
  },
  {
   "cell_type": "markdown",
   "metadata": {},
   "source": [
    "La inclusión de la variable 'Model' mejoró el rendimiento del modelo LightGBM, reduciendo el RMSE de 1801.0548 a 1770.7392. Esta mejora en el RMSE indica que el modelo con la variable 'Model' tiene una mayor precisión en la predicción de los precios de los vehículos.\n",
    "\n",
    "La búsqueda de hiperparámetros fue ligeramente más rápida cuando se incluyó la variable 'Model', con una reducción en el tiempo total de 5min 8s a 4min 48s.\n",
    "\n",
    "El tiempo de predicción con el mejor modelo fue prácticamente el mismo para ambos conjuntos de datos, con una ligera ventaja para el conjunto con la variable 'Model' (1.31s frente a 1.41s)."
   ]
  },
  {
   "cell_type": "markdown",
   "metadata": {},
   "source": [
    "## Modelo CatBoost  (conjunto sin variable model)."
   ]
  },
  {
   "cell_type": "markdown",
   "metadata": {},
   "source": [
    "A continuación vamos a ocupar el modelo de CatBoostRegressor.\n",
    "\n",
    "En el caso del CatBoostRegressor, no es necesario aplicar el One Hot Encoder a las características categóricas por separado antes de entrenar el modelo. CatBoost tiene la capacidad incorporada de manejar características categóricas de manera directa.\n"
   ]
  },
  {
   "cell_type": "code",
   "execution_count": 50,
   "metadata": {},
   "outputs": [],
   "source": [
    "# Definimos el modelo CatBoostRegressor\n",
    "model_cb = cb.CatBoostRegressor(loss_function='RMSE', iterations=1000)"
   ]
  },
  {
   "cell_type": "code",
   "execution_count": 51,
   "metadata": {},
   "outputs": [
    {
     "name": "stdout",
     "output_type": "stream",
     "text": [
      "Learning rate set to 0.099927\n",
      "0:\tlearn: 4229.3980391\ttotal: 683ms\tremaining: 11m 22s\n",
      "1:\tlearn: 3984.5435485\ttotal: 1.29s\tremaining: 10m 45s\n",
      "2:\tlearn: 3766.6319211\ttotal: 1.87s\tremaining: 10m 21s\n",
      "3:\tlearn: 3572.1927607\ttotal: 2.54s\tremaining: 10m 32s\n",
      "4:\tlearn: 3408.5353551\ttotal: 3.15s\tremaining: 10m 26s\n",
      "5:\tlearn: 3262.5011965\ttotal: 3.67s\tremaining: 10m 7s\n",
      "6:\tlearn: 3132.2889245\ttotal: 4.25s\tremaining: 10m 3s\n",
      "7:\tlearn: 3019.7591809\ttotal: 4.87s\tremaining: 10m 4s\n",
      "8:\tlearn: 2916.6755965\ttotal: 5.41s\tremaining: 9m 55s\n",
      "9:\tlearn: 2824.6334180\ttotal: 5.95s\tremaining: 9m 49s\n",
      "10:\tlearn: 2738.3400139\ttotal: 6.4s\tremaining: 9m 35s\n",
      "11:\tlearn: 2666.6504980\ttotal: 6.88s\tremaining: 9m 26s\n",
      "12:\tlearn: 2601.2061434\ttotal: 7.29s\tremaining: 9m 13s\n",
      "13:\tlearn: 2546.8287438\ttotal: 7.73s\tremaining: 9m 4s\n",
      "14:\tlearn: 2498.3076768\ttotal: 8.34s\tremaining: 9m 7s\n",
      "15:\tlearn: 2459.5240042\ttotal: 8.76s\tremaining: 8m 58s\n",
      "16:\tlearn: 2418.8062572\ttotal: 9.29s\tremaining: 8m 57s\n",
      "17:\tlearn: 2380.6270123\ttotal: 9.87s\tremaining: 8m 58s\n",
      "18:\tlearn: 2350.0888231\ttotal: 10.4s\tremaining: 8m 55s\n",
      "19:\tlearn: 2325.1318587\ttotal: 10.8s\tremaining: 8m 50s\n",
      "20:\tlearn: 2301.1077006\ttotal: 11.3s\tremaining: 8m 47s\n",
      "21:\tlearn: 2273.0170187\ttotal: 11.8s\tremaining: 8m 46s\n",
      "22:\tlearn: 2249.4042740\ttotal: 12.4s\tremaining: 8m 44s\n",
      "23:\tlearn: 2228.8598854\ttotal: 12.8s\tremaining: 8m 41s\n",
      "24:\tlearn: 2211.7780235\ttotal: 13.3s\tremaining: 8m 37s\n",
      "25:\tlearn: 2195.4402760\ttotal: 13.7s\tremaining: 8m 32s\n",
      "26:\tlearn: 2180.8760355\ttotal: 14.1s\tremaining: 8m 28s\n",
      "27:\tlearn: 2168.6383395\ttotal: 14.5s\tremaining: 8m 24s\n",
      "28:\tlearn: 2157.1554807\ttotal: 15.1s\tremaining: 8m 25s\n",
      "29:\tlearn: 2146.1340213\ttotal: 15.5s\tremaining: 8m 21s\n",
      "30:\tlearn: 2135.7270249\ttotal: 15.9s\tremaining: 8m 18s\n",
      "31:\tlearn: 2126.0580498\ttotal: 16.4s\tremaining: 8m 17s\n",
      "32:\tlearn: 2117.6689583\ttotal: 16.9s\tremaining: 8m 14s\n",
      "33:\tlearn: 2111.2080206\ttotal: 17.3s\tremaining: 8m 11s\n",
      "34:\tlearn: 2103.7286997\ttotal: 17.7s\tremaining: 8m 8s\n",
      "35:\tlearn: 2097.8971846\ttotal: 18.2s\tremaining: 8m 6s\n",
      "36:\tlearn: 2090.5779554\ttotal: 18.7s\tremaining: 8m 5s\n",
      "37:\tlearn: 2084.8737944\ttotal: 19.2s\tremaining: 8m 6s\n",
      "38:\tlearn: 2077.8195995\ttotal: 19.7s\tremaining: 8m 6s\n",
      "39:\tlearn: 2071.5566679\ttotal: 20.2s\tremaining: 8m 3s\n",
      "40:\tlearn: 2066.3521487\ttotal: 20.6s\tremaining: 8m 2s\n",
      "41:\tlearn: 2060.5772840\ttotal: 21.1s\tremaining: 8m\n",
      "42:\tlearn: 2055.5981829\ttotal: 21.5s\tremaining: 7m 59s\n",
      "43:\tlearn: 2051.6781594\ttotal: 22.2s\tremaining: 8m 2s\n",
      "44:\tlearn: 2046.5934375\ttotal: 22.6s\tremaining: 8m\n",
      "45:\tlearn: 2042.3908970\ttotal: 23s\tremaining: 7m 57s\n",
      "46:\tlearn: 2039.3650209\ttotal: 23.4s\tremaining: 7m 54s\n",
      "47:\tlearn: 2035.9332390\ttotal: 23.9s\tremaining: 7m 53s\n",
      "48:\tlearn: 2032.6932982\ttotal: 24.4s\tremaining: 7m 52s\n",
      "49:\tlearn: 2029.2263046\ttotal: 24.9s\tremaining: 7m 53s\n",
      "50:\tlearn: 2026.3273961\ttotal: 25.5s\tremaining: 7m 54s\n",
      "51:\tlearn: 2021.6874070\ttotal: 26.1s\tremaining: 7m 55s\n",
      "52:\tlearn: 2018.5262427\ttotal: 26.6s\tremaining: 7m 54s\n",
      "53:\tlearn: 2016.0770783\ttotal: 27.1s\tremaining: 7m 55s\n",
      "54:\tlearn: 2012.8837861\ttotal: 27.6s\tremaining: 7m 53s\n",
      "55:\tlearn: 2010.6353771\ttotal: 28s\tremaining: 7m 52s\n",
      "56:\tlearn: 2007.8910971\ttotal: 28.6s\tremaining: 7m 53s\n",
      "57:\tlearn: 2005.6347637\ttotal: 29.1s\tremaining: 7m 52s\n",
      "58:\tlearn: 2004.4693379\ttotal: 29.6s\tremaining: 7m 51s\n",
      "59:\tlearn: 2000.5150314\ttotal: 30.1s\tremaining: 7m 51s\n",
      "60:\tlearn: 1998.2733562\ttotal: 30.5s\tremaining: 7m 49s\n",
      "61:\tlearn: 1995.6724136\ttotal: 31.1s\tremaining: 7m 50s\n",
      "62:\tlearn: 1994.4381144\ttotal: 31.5s\tremaining: 7m 48s\n",
      "63:\tlearn: 1992.7889227\ttotal: 32s\tremaining: 7m 47s\n",
      "64:\tlearn: 1990.5611003\ttotal: 32.4s\tremaining: 7m 45s\n",
      "65:\tlearn: 1988.0019589\ttotal: 32.9s\tremaining: 7m 45s\n",
      "66:\tlearn: 1985.6455360\ttotal: 33.3s\tremaining: 7m 43s\n",
      "67:\tlearn: 1984.2623113\ttotal: 33.8s\tremaining: 7m 42s\n",
      "68:\tlearn: 1982.2882188\ttotal: 34.3s\tremaining: 7m 42s\n",
      "69:\tlearn: 1979.9380386\ttotal: 34.8s\tremaining: 7m 42s\n",
      "70:\tlearn: 1978.7053928\ttotal: 35.2s\tremaining: 7m 40s\n",
      "71:\tlearn: 1976.9255222\ttotal: 35.8s\tremaining: 7m 41s\n",
      "72:\tlearn: 1975.7736565\ttotal: 36.3s\tremaining: 7m 40s\n",
      "73:\tlearn: 1973.6075679\ttotal: 36.8s\tremaining: 7m 40s\n",
      "74:\tlearn: 1971.3465260\ttotal: 37.2s\tremaining: 7m 38s\n",
      "75:\tlearn: 1969.9575333\ttotal: 37.8s\tremaining: 7m 39s\n",
      "76:\tlearn: 1967.9784645\ttotal: 38.2s\tremaining: 7m 37s\n",
      "77:\tlearn: 1965.8832599\ttotal: 38.7s\tremaining: 7m 37s\n",
      "78:\tlearn: 1964.7658537\ttotal: 39.3s\tremaining: 7m 38s\n",
      "79:\tlearn: 1963.9527686\ttotal: 39.8s\tremaining: 7m 37s\n",
      "80:\tlearn: 1963.0502159\ttotal: 40.2s\tremaining: 7m 36s\n",
      "81:\tlearn: 1962.3708835\ttotal: 40.7s\tremaining: 7m 36s\n",
      "82:\tlearn: 1960.7706109\ttotal: 41.2s\tremaining: 7m 34s\n",
      "83:\tlearn: 1959.0329895\ttotal: 41.7s\tremaining: 7m 35s\n",
      "84:\tlearn: 1958.0552429\ttotal: 42.2s\tremaining: 7m 34s\n",
      "85:\tlearn: 1957.0905418\ttotal: 42.7s\tremaining: 7m 33s\n",
      "86:\tlearn: 1955.5303368\ttotal: 43.2s\tremaining: 7m 33s\n",
      "87:\tlearn: 1953.8678488\ttotal: 43.6s\tremaining: 7m 31s\n",
      "88:\tlearn: 1952.9249164\ttotal: 44.1s\tremaining: 7m 30s\n",
      "89:\tlearn: 1951.3138419\ttotal: 44.6s\tremaining: 7m 30s\n",
      "90:\tlearn: 1949.5406422\ttotal: 45.1s\tremaining: 7m 30s\n",
      "91:\tlearn: 1948.7979357\ttotal: 45.6s\tremaining: 7m 30s\n",
      "92:\tlearn: 1947.1255911\ttotal: 46.2s\tremaining: 7m 30s\n",
      "93:\tlearn: 1945.7053046\ttotal: 46.6s\tremaining: 7m 28s\n",
      "94:\tlearn: 1944.9217646\ttotal: 47.1s\tremaining: 7m 28s\n",
      "95:\tlearn: 1943.1439035\ttotal: 47.6s\tremaining: 7m 28s\n",
      "96:\tlearn: 1942.5128448\ttotal: 48.2s\tremaining: 7m 28s\n",
      "97:\tlearn: 1941.3784608\ttotal: 48.7s\tremaining: 7m 28s\n",
      "98:\tlearn: 1940.1438527\ttotal: 49.1s\tremaining: 7m 27s\n",
      "99:\tlearn: 1938.5964911\ttotal: 49.6s\tremaining: 7m 26s\n",
      "100:\tlearn: 1937.4501574\ttotal: 50.2s\tremaining: 7m 26s\n",
      "101:\tlearn: 1936.7358054\ttotal: 50.7s\tremaining: 7m 26s\n",
      "102:\tlearn: 1935.6368952\ttotal: 51.2s\tremaining: 7m 25s\n",
      "103:\tlearn: 1934.6840632\ttotal: 51.8s\tremaining: 7m 25s\n",
      "104:\tlearn: 1933.8256661\ttotal: 52.2s\tremaining: 7m 25s\n",
      "105:\tlearn: 1933.4054356\ttotal: 52.7s\tremaining: 7m 24s\n",
      "106:\tlearn: 1932.3170124\ttotal: 53.1s\tremaining: 7m 23s\n",
      "107:\tlearn: 1930.9802644\ttotal: 53.5s\tremaining: 7m 22s\n",
      "108:\tlearn: 1930.4599374\ttotal: 53.9s\tremaining: 7m 20s\n",
      "109:\tlearn: 1929.3337454\ttotal: 54.4s\tremaining: 7m 20s\n",
      "110:\tlearn: 1928.3659767\ttotal: 54.9s\tremaining: 7m 19s\n",
      "111:\tlearn: 1927.1661613\ttotal: 55.5s\tremaining: 7m 20s\n",
      "112:\tlearn: 1926.2029007\ttotal: 56s\tremaining: 7m 19s\n",
      "113:\tlearn: 1925.7014605\ttotal: 56.5s\tremaining: 7m 19s\n",
      "114:\tlearn: 1925.2880024\ttotal: 56.9s\tremaining: 7m 18s\n",
      "115:\tlearn: 1924.5058913\ttotal: 57.4s\tremaining: 7m 17s\n",
      "116:\tlearn: 1923.8174088\ttotal: 58s\tremaining: 7m 17s\n",
      "117:\tlearn: 1922.6089679\ttotal: 58.5s\tremaining: 7m 17s\n",
      "118:\tlearn: 1921.3763330\ttotal: 59s\tremaining: 7m 16s\n",
      "119:\tlearn: 1920.5113054\ttotal: 59.6s\tremaining: 7m 16s\n",
      "120:\tlearn: 1919.7739246\ttotal: 1m\tremaining: 7m 16s\n",
      "121:\tlearn: 1918.5578339\ttotal: 1m\tremaining: 7m 15s\n",
      "122:\tlearn: 1917.7901279\ttotal: 1m 1s\tremaining: 7m 15s\n",
      "123:\tlearn: 1917.0874239\ttotal: 1m 1s\tremaining: 7m 14s\n",
      "124:\tlearn: 1916.7210295\ttotal: 1m 2s\tremaining: 7m 14s\n",
      "125:\tlearn: 1916.0415932\ttotal: 1m 2s\tremaining: 7m 13s\n",
      "126:\tlearn: 1915.0111454\ttotal: 1m 2s\tremaining: 7m 12s\n",
      "127:\tlearn: 1914.5811423\ttotal: 1m 3s\tremaining: 7m 11s\n",
      "128:\tlearn: 1913.4995225\ttotal: 1m 3s\tremaining: 7m 11s\n",
      "129:\tlearn: 1912.0525396\ttotal: 1m 4s\tremaining: 7m 10s\n",
      "130:\tlearn: 1911.1345406\ttotal: 1m 4s\tremaining: 7m 9s\n",
      "131:\tlearn: 1910.3821596\ttotal: 1m 5s\tremaining: 7m 9s\n",
      "132:\tlearn: 1909.4448964\ttotal: 1m 5s\tremaining: 7m 8s\n",
      "133:\tlearn: 1908.9794116\ttotal: 1m 6s\tremaining: 7m 7s\n",
      "134:\tlearn: 1908.3270605\ttotal: 1m 6s\tremaining: 7m 7s\n",
      "135:\tlearn: 1907.7702151\ttotal: 1m 7s\tremaining: 7m 6s\n",
      "136:\tlearn: 1907.4170319\ttotal: 1m 7s\tremaining: 7m 5s\n",
      "137:\tlearn: 1906.5391435\ttotal: 1m 8s\tremaining: 7m 5s\n",
      "138:\tlearn: 1905.4782933\ttotal: 1m 8s\tremaining: 7m 4s\n",
      "139:\tlearn: 1904.2065808\ttotal: 1m 9s\tremaining: 7m 4s\n",
      "140:\tlearn: 1903.6367754\ttotal: 1m 9s\tremaining: 7m 3s\n",
      "141:\tlearn: 1903.0567099\ttotal: 1m 9s\tremaining: 7m 2s\n",
      "142:\tlearn: 1902.4088463\ttotal: 1m 10s\tremaining: 7m 2s\n",
      "143:\tlearn: 1901.6753413\ttotal: 1m 10s\tremaining: 7m 1s\n",
      "144:\tlearn: 1901.2110054\ttotal: 1m 11s\tremaining: 7m 1s\n",
      "145:\tlearn: 1900.5261676\ttotal: 1m 11s\tremaining: 7m\n",
      "146:\tlearn: 1900.0874796\ttotal: 1m 12s\tremaining: 7m\n",
      "147:\tlearn: 1899.4209853\ttotal: 1m 12s\tremaining: 6m 59s\n",
      "148:\tlearn: 1898.8868606\ttotal: 1m 13s\tremaining: 6m 59s\n"
     ]
    },
    {
     "name": "stdout",
     "output_type": "stream",
     "text": [
      "149:\tlearn: 1898.2883772\ttotal: 1m 14s\tremaining: 6m 59s\n",
      "150:\tlearn: 1896.9572125\ttotal: 1m 14s\tremaining: 6m 59s\n",
      "151:\tlearn: 1896.3093443\ttotal: 1m 15s\tremaining: 6m 58s\n",
      "152:\tlearn: 1895.3419448\ttotal: 1m 15s\tremaining: 6m 58s\n",
      "153:\tlearn: 1894.4902185\ttotal: 1m 16s\tremaining: 6m 58s\n",
      "154:\tlearn: 1893.9492323\ttotal: 1m 16s\tremaining: 6m 58s\n",
      "155:\tlearn: 1893.1508142\ttotal: 1m 17s\tremaining: 6m 58s\n",
      "156:\tlearn: 1892.7423556\ttotal: 1m 17s\tremaining: 6m 57s\n",
      "157:\tlearn: 1892.1793601\ttotal: 1m 18s\tremaining: 6m 57s\n",
      "158:\tlearn: 1891.6727965\ttotal: 1m 18s\tremaining: 6m 56s\n",
      "159:\tlearn: 1891.3218997\ttotal: 1m 19s\tremaining: 6m 55s\n",
      "160:\tlearn: 1890.5254722\ttotal: 1m 19s\tremaining: 6m 55s\n",
      "161:\tlearn: 1890.0554047\ttotal: 1m 20s\tremaining: 6m 55s\n",
      "162:\tlearn: 1889.4758693\ttotal: 1m 20s\tremaining: 6m 54s\n",
      "163:\tlearn: 1888.8719522\ttotal: 1m 21s\tremaining: 6m 53s\n",
      "164:\tlearn: 1888.3451310\ttotal: 1m 21s\tremaining: 6m 53s\n",
      "165:\tlearn: 1887.6124290\ttotal: 1m 22s\tremaining: 6m 52s\n",
      "166:\tlearn: 1886.7955541\ttotal: 1m 22s\tremaining: 6m 52s\n",
      "167:\tlearn: 1886.4605708\ttotal: 1m 23s\tremaining: 6m 51s\n",
      "168:\tlearn: 1885.7883695\ttotal: 1m 23s\tremaining: 6m 51s\n",
      "169:\tlearn: 1885.3202467\ttotal: 1m 24s\tremaining: 6m 50s\n",
      "170:\tlearn: 1885.0207436\ttotal: 1m 24s\tremaining: 6m 50s\n",
      "171:\tlearn: 1884.3708638\ttotal: 1m 25s\tremaining: 6m 50s\n",
      "172:\tlearn: 1883.9545247\ttotal: 1m 25s\tremaining: 6m 49s\n",
      "173:\tlearn: 1883.3175756\ttotal: 1m 26s\tremaining: 6m 49s\n",
      "174:\tlearn: 1882.8213600\ttotal: 1m 26s\tremaining: 6m 49s\n",
      "175:\tlearn: 1882.3582132\ttotal: 1m 27s\tremaining: 6m 48s\n",
      "176:\tlearn: 1882.0717119\ttotal: 1m 27s\tremaining: 6m 47s\n",
      "177:\tlearn: 1881.3806562\ttotal: 1m 28s\tremaining: 6m 47s\n",
      "178:\tlearn: 1880.7235765\ttotal: 1m 28s\tremaining: 6m 47s\n",
      "179:\tlearn: 1879.8665793\ttotal: 1m 29s\tremaining: 6m 46s\n",
      "180:\tlearn: 1879.3344371\ttotal: 1m 29s\tremaining: 6m 45s\n",
      "181:\tlearn: 1878.8058408\ttotal: 1m 30s\tremaining: 6m 45s\n",
      "182:\tlearn: 1878.3100594\ttotal: 1m 30s\tremaining: 6m 45s\n",
      "183:\tlearn: 1877.8908214\ttotal: 1m 31s\tremaining: 6m 44s\n",
      "184:\tlearn: 1877.4131994\ttotal: 1m 31s\tremaining: 6m 43s\n",
      "185:\tlearn: 1876.6541702\ttotal: 1m 32s\tremaining: 6m 43s\n",
      "186:\tlearn: 1876.2782375\ttotal: 1m 32s\tremaining: 6m 42s\n",
      "187:\tlearn: 1876.0835591\ttotal: 1m 33s\tremaining: 6m 42s\n",
      "188:\tlearn: 1875.8262458\ttotal: 1m 33s\tremaining: 6m 41s\n",
      "189:\tlearn: 1875.5572601\ttotal: 1m 34s\tremaining: 6m 40s\n",
      "190:\tlearn: 1874.9933692\ttotal: 1m 34s\tremaining: 6m 40s\n",
      "191:\tlearn: 1874.6054692\ttotal: 1m 35s\tremaining: 6m 39s\n",
      "192:\tlearn: 1874.3975054\ttotal: 1m 35s\tremaining: 6m 39s\n",
      "193:\tlearn: 1873.4741803\ttotal: 1m 36s\tremaining: 6m 38s\n",
      "194:\tlearn: 1872.9994121\ttotal: 1m 36s\tremaining: 6m 38s\n",
      "195:\tlearn: 1872.5127127\ttotal: 1m 36s\tremaining: 6m 37s\n",
      "196:\tlearn: 1872.1433191\ttotal: 1m 37s\tremaining: 6m 37s\n",
      "197:\tlearn: 1871.8040717\ttotal: 1m 37s\tremaining: 6m 36s\n",
      "198:\tlearn: 1871.3321562\ttotal: 1m 38s\tremaining: 6m 36s\n",
      "199:\tlearn: 1870.8530943\ttotal: 1m 38s\tremaining: 6m 35s\n",
      "200:\tlearn: 1870.3672895\ttotal: 1m 39s\tremaining: 6m 34s\n",
      "201:\tlearn: 1869.8445785\ttotal: 1m 39s\tremaining: 6m 34s\n",
      "202:\tlearn: 1869.3026851\ttotal: 1m 40s\tremaining: 6m 34s\n",
      "203:\tlearn: 1868.9233183\ttotal: 1m 41s\tremaining: 6m 34s\n",
      "204:\tlearn: 1868.2975618\ttotal: 1m 41s\tremaining: 6m 33s\n",
      "205:\tlearn: 1867.5085578\ttotal: 1m 42s\tremaining: 6m 33s\n",
      "206:\tlearn: 1867.0676607\ttotal: 1m 42s\tremaining: 6m 32s\n",
      "207:\tlearn: 1866.6209009\ttotal: 1m 42s\tremaining: 6m 31s\n",
      "208:\tlearn: 1866.2772988\ttotal: 1m 43s\tremaining: 6m 31s\n",
      "209:\tlearn: 1865.5924765\ttotal: 1m 43s\tremaining: 6m 31s\n",
      "210:\tlearn: 1865.5148277\ttotal: 1m 44s\tremaining: 6m 30s\n",
      "211:\tlearn: 1865.2748682\ttotal: 1m 44s\tremaining: 6m 29s\n",
      "212:\tlearn: 1864.9785198\ttotal: 1m 45s\tremaining: 6m 29s\n",
      "213:\tlearn: 1864.5773430\ttotal: 1m 45s\tremaining: 6m 29s\n",
      "214:\tlearn: 1864.2426074\ttotal: 1m 46s\tremaining: 6m 28s\n",
      "215:\tlearn: 1863.9297724\ttotal: 1m 46s\tremaining: 6m 27s\n",
      "216:\tlearn: 1863.8026570\ttotal: 1m 47s\tremaining: 6m 27s\n",
      "217:\tlearn: 1863.2440652\ttotal: 1m 47s\tremaining: 6m 26s\n",
      "218:\tlearn: 1862.8396489\ttotal: 1m 48s\tremaining: 6m 26s\n",
      "219:\tlearn: 1862.4553743\ttotal: 1m 48s\tremaining: 6m 25s\n",
      "220:\tlearn: 1862.0970355\ttotal: 1m 49s\tremaining: 6m 25s\n",
      "221:\tlearn: 1861.7423245\ttotal: 1m 49s\tremaining: 6m 24s\n",
      "222:\tlearn: 1861.4035478\ttotal: 1m 50s\tremaining: 6m 23s\n",
      "223:\tlearn: 1860.9673141\ttotal: 1m 50s\tremaining: 6m 23s\n",
      "224:\tlearn: 1860.4976161\ttotal: 1m 51s\tremaining: 6m 22s\n",
      "225:\tlearn: 1860.0464369\ttotal: 1m 51s\tremaining: 6m 22s\n",
      "226:\tlearn: 1859.7569520\ttotal: 1m 52s\tremaining: 6m 21s\n",
      "227:\tlearn: 1859.5155838\ttotal: 1m 52s\tremaining: 6m 21s\n",
      "228:\tlearn: 1859.1825136\ttotal: 1m 53s\tremaining: 6m 21s\n",
      "229:\tlearn: 1858.6122854\ttotal: 1m 53s\tremaining: 6m 20s\n",
      "230:\tlearn: 1858.3934624\ttotal: 1m 54s\tremaining: 6m 20s\n",
      "231:\tlearn: 1858.0904169\ttotal: 1m 54s\tremaining: 6m 20s\n",
      "232:\tlearn: 1857.6579738\ttotal: 1m 55s\tremaining: 6m 20s\n",
      "233:\tlearn: 1857.0731188\ttotal: 1m 55s\tremaining: 6m 19s\n",
      "234:\tlearn: 1856.8493430\ttotal: 1m 56s\tremaining: 6m 19s\n",
      "235:\tlearn: 1856.5205154\ttotal: 1m 56s\tremaining: 6m 18s\n",
      "236:\tlearn: 1856.1165973\ttotal: 1m 57s\tremaining: 6m 18s\n",
      "237:\tlearn: 1855.6956593\ttotal: 1m 57s\tremaining: 6m 17s\n",
      "238:\tlearn: 1855.4888290\ttotal: 1m 58s\tremaining: 6m 16s\n",
      "239:\tlearn: 1854.6810177\ttotal: 1m 58s\tremaining: 6m 16s\n",
      "240:\tlearn: 1854.5103137\ttotal: 1m 59s\tremaining: 6m 15s\n",
      "241:\tlearn: 1854.1521937\ttotal: 1m 59s\tremaining: 6m 15s\n",
      "242:\tlearn: 1853.7738332\ttotal: 2m\tremaining: 6m 14s\n",
      "243:\tlearn: 1853.4601365\ttotal: 2m\tremaining: 6m 14s\n",
      "244:\tlearn: 1853.0138305\ttotal: 2m 1s\tremaining: 6m 13s\n",
      "245:\tlearn: 1852.2694290\ttotal: 2m 1s\tremaining: 6m 13s\n",
      "246:\tlearn: 1851.9400587\ttotal: 2m 2s\tremaining: 6m 12s\n",
      "247:\tlearn: 1851.7190332\ttotal: 2m 2s\tremaining: 6m 11s\n",
      "248:\tlearn: 1851.4300835\ttotal: 2m 3s\tremaining: 6m 11s\n",
      "249:\tlearn: 1850.8914177\ttotal: 2m 3s\tremaining: 6m 11s\n",
      "250:\tlearn: 1850.4523483\ttotal: 2m 4s\tremaining: 6m 10s\n",
      "251:\tlearn: 1849.7879026\ttotal: 2m 4s\tremaining: 6m 10s\n",
      "252:\tlearn: 1849.4759299\ttotal: 2m 5s\tremaining: 6m 10s\n",
      "253:\tlearn: 1849.0088633\ttotal: 2m 5s\tremaining: 6m 9s\n",
      "254:\tlearn: 1848.6133670\ttotal: 2m 6s\tremaining: 6m 8s\n",
      "255:\tlearn: 1848.5724325\ttotal: 2m 6s\tremaining: 6m 8s\n",
      "256:\tlearn: 1848.1436915\ttotal: 2m 7s\tremaining: 6m 7s\n",
      "257:\tlearn: 1847.5168120\ttotal: 2m 7s\tremaining: 6m 7s\n",
      "258:\tlearn: 1847.2864518\ttotal: 2m 8s\tremaining: 6m 6s\n",
      "259:\tlearn: 1846.4161691\ttotal: 2m 8s\tremaining: 6m 5s\n",
      "260:\tlearn: 1846.1415670\ttotal: 2m 9s\tremaining: 6m 5s\n",
      "261:\tlearn: 1845.8368547\ttotal: 2m 9s\tremaining: 6m 4s\n",
      "262:\tlearn: 1845.3552818\ttotal: 2m 10s\tremaining: 6m 4s\n",
      "263:\tlearn: 1844.8515466\ttotal: 2m 10s\tremaining: 6m 3s\n",
      "264:\tlearn: 1844.2469334\ttotal: 2m 11s\tremaining: 6m 3s\n",
      "265:\tlearn: 1843.9518993\ttotal: 2m 11s\tremaining: 6m 3s\n",
      "266:\tlearn: 1843.7894985\ttotal: 2m 12s\tremaining: 6m 2s\n",
      "267:\tlearn: 1843.5830643\ttotal: 2m 12s\tremaining: 6m 2s\n",
      "268:\tlearn: 1842.8717278\ttotal: 2m 13s\tremaining: 6m 1s\n",
      "269:\tlearn: 1842.6943394\ttotal: 2m 13s\tremaining: 6m 1s\n",
      "270:\tlearn: 1842.0183402\ttotal: 2m 14s\tremaining: 6m\n",
      "271:\tlearn: 1841.7834150\ttotal: 2m 14s\tremaining: 6m\n",
      "272:\tlearn: 1841.4808230\ttotal: 2m 15s\tremaining: 5m 59s\n",
      "273:\tlearn: 1841.2690604\ttotal: 2m 15s\tremaining: 5m 59s\n",
      "274:\tlearn: 1841.0872805\ttotal: 2m 16s\tremaining: 5m 58s\n",
      "275:\tlearn: 1840.9396001\ttotal: 2m 16s\tremaining: 5m 58s\n",
      "276:\tlearn: 1840.6517321\ttotal: 2m 17s\tremaining: 5m 58s\n",
      "277:\tlearn: 1840.3852462\ttotal: 2m 17s\tremaining: 5m 57s\n",
      "278:\tlearn: 1840.0832705\ttotal: 2m 18s\tremaining: 5m 57s\n",
      "279:\tlearn: 1839.6671139\ttotal: 2m 18s\tremaining: 5m 56s\n",
      "280:\tlearn: 1839.4933001\ttotal: 2m 19s\tremaining: 5m 56s\n",
      "281:\tlearn: 1839.2946223\ttotal: 2m 19s\tremaining: 5m 55s\n",
      "282:\tlearn: 1839.1425179\ttotal: 2m 20s\tremaining: 5m 54s\n",
      "283:\tlearn: 1838.8073698\ttotal: 2m 20s\tremaining: 5m 54s\n",
      "284:\tlearn: 1838.2883127\ttotal: 2m 21s\tremaining: 5m 53s\n",
      "285:\tlearn: 1838.0015903\ttotal: 2m 21s\tremaining: 5m 53s\n",
      "286:\tlearn: 1837.4908677\ttotal: 2m 22s\tremaining: 5m 52s\n",
      "287:\tlearn: 1837.3115627\ttotal: 2m 22s\tremaining: 5m 52s\n",
      "288:\tlearn: 1837.1072793\ttotal: 2m 23s\tremaining: 5m 51s\n",
      "289:\tlearn: 1836.8134661\ttotal: 2m 23s\tremaining: 5m 51s\n",
      "290:\tlearn: 1836.5742927\ttotal: 2m 23s\tremaining: 5m 50s\n",
      "291:\tlearn: 1836.2617038\ttotal: 2m 24s\tremaining: 5m 50s\n",
      "292:\tlearn: 1836.0986397\ttotal: 2m 24s\tremaining: 5m 49s\n",
      "293:\tlearn: 1835.4622295\ttotal: 2m 25s\tremaining: 5m 49s\n"
     ]
    },
    {
     "name": "stdout",
     "output_type": "stream",
     "text": [
      "294:\tlearn: 1834.9783322\ttotal: 2m 25s\tremaining: 5m 48s\n",
      "295:\tlearn: 1834.7257360\ttotal: 2m 26s\tremaining: 5m 48s\n",
      "296:\tlearn: 1834.4781379\ttotal: 2m 26s\tremaining: 5m 47s\n",
      "297:\tlearn: 1834.2289850\ttotal: 2m 27s\tremaining: 5m 46s\n",
      "298:\tlearn: 1834.0161661\ttotal: 2m 27s\tremaining: 5m 46s\n",
      "299:\tlearn: 1833.7929198\ttotal: 2m 28s\tremaining: 5m 45s\n",
      "300:\tlearn: 1833.7343509\ttotal: 2m 28s\tremaining: 5m 45s\n",
      "301:\tlearn: 1833.6347954\ttotal: 2m 29s\tremaining: 5m 44s\n",
      "302:\tlearn: 1833.3669189\ttotal: 2m 29s\tremaining: 5m 44s\n",
      "303:\tlearn: 1832.8671223\ttotal: 2m 30s\tremaining: 5m 43s\n",
      "304:\tlearn: 1832.6037927\ttotal: 2m 30s\tremaining: 5m 43s\n",
      "305:\tlearn: 1832.3498708\ttotal: 2m 31s\tremaining: 5m 42s\n",
      "306:\tlearn: 1831.9434713\ttotal: 2m 31s\tremaining: 5m 42s\n",
      "307:\tlearn: 1831.6897014\ttotal: 2m 32s\tremaining: 5m 41s\n",
      "308:\tlearn: 1831.5247773\ttotal: 2m 32s\tremaining: 5m 41s\n",
      "309:\tlearn: 1831.3133895\ttotal: 2m 33s\tremaining: 5m 40s\n",
      "310:\tlearn: 1831.0738124\ttotal: 2m 33s\tremaining: 5m 40s\n",
      "311:\tlearn: 1830.9834047\ttotal: 2m 34s\tremaining: 5m 39s\n",
      "312:\tlearn: 1830.7757635\ttotal: 2m 34s\tremaining: 5m 38s\n",
      "313:\tlearn: 1830.5933780\ttotal: 2m 34s\tremaining: 5m 38s\n",
      "314:\tlearn: 1830.4588751\ttotal: 2m 35s\tremaining: 5m 37s\n",
      "315:\tlearn: 1830.0909641\ttotal: 2m 35s\tremaining: 5m 37s\n",
      "316:\tlearn: 1829.7822081\ttotal: 2m 36s\tremaining: 5m 37s\n",
      "317:\tlearn: 1829.6044891\ttotal: 2m 36s\tremaining: 5m 36s\n",
      "318:\tlearn: 1829.3267670\ttotal: 2m 37s\tremaining: 5m 36s\n",
      "319:\tlearn: 1829.0419612\ttotal: 2m 37s\tremaining: 5m 35s\n",
      "320:\tlearn: 1828.8151511\ttotal: 2m 38s\tremaining: 5m 35s\n",
      "321:\tlearn: 1828.4717159\ttotal: 2m 39s\tremaining: 5m 34s\n",
      "322:\tlearn: 1828.0371915\ttotal: 2m 39s\tremaining: 5m 34s\n",
      "323:\tlearn: 1827.6321798\ttotal: 2m 40s\tremaining: 5m 34s\n",
      "324:\tlearn: 1827.4865007\ttotal: 2m 40s\tremaining: 5m 33s\n",
      "325:\tlearn: 1827.1234428\ttotal: 2m 41s\tremaining: 5m 33s\n",
      "326:\tlearn: 1827.0529516\ttotal: 2m 41s\tremaining: 5m 32s\n",
      "327:\tlearn: 1826.7528340\ttotal: 2m 41s\tremaining: 5m 31s\n",
      "328:\tlearn: 1826.4134326\ttotal: 2m 42s\tremaining: 5m 31s\n",
      "329:\tlearn: 1825.9195321\ttotal: 2m 43s\tremaining: 5m 31s\n",
      "330:\tlearn: 1825.5162675\ttotal: 2m 43s\tremaining: 5m 30s\n",
      "331:\tlearn: 1825.3276040\ttotal: 2m 44s\tremaining: 5m 30s\n",
      "332:\tlearn: 1825.1131231\ttotal: 2m 44s\tremaining: 5m 29s\n",
      "333:\tlearn: 1824.7787108\ttotal: 2m 45s\tremaining: 5m 29s\n",
      "334:\tlearn: 1824.6277092\ttotal: 2m 45s\tremaining: 5m 28s\n",
      "335:\tlearn: 1824.4440383\ttotal: 2m 45s\tremaining: 5m 28s\n",
      "336:\tlearn: 1824.1438454\ttotal: 2m 46s\tremaining: 5m 27s\n",
      "337:\tlearn: 1823.6862315\ttotal: 2m 47s\tremaining: 5m 27s\n",
      "338:\tlearn: 1823.4960594\ttotal: 2m 47s\tremaining: 5m 26s\n",
      "339:\tlearn: 1823.3155173\ttotal: 2m 47s\tremaining: 5m 25s\n",
      "340:\tlearn: 1823.0060339\ttotal: 2m 48s\tremaining: 5m 25s\n",
      "341:\tlearn: 1822.6970407\ttotal: 2m 48s\tremaining: 5m 24s\n",
      "342:\tlearn: 1822.4019570\ttotal: 2m 49s\tremaining: 5m 24s\n",
      "343:\tlearn: 1822.1530907\ttotal: 2m 49s\tremaining: 5m 23s\n",
      "344:\tlearn: 1821.9314679\ttotal: 2m 50s\tremaining: 5m 23s\n",
      "345:\tlearn: 1821.4723279\ttotal: 2m 50s\tremaining: 5m 23s\n",
      "346:\tlearn: 1821.1693296\ttotal: 2m 51s\tremaining: 5m 22s\n",
      "347:\tlearn: 1820.6856228\ttotal: 2m 51s\tremaining: 5m 22s\n",
      "348:\tlearn: 1820.4992315\ttotal: 2m 52s\tremaining: 5m 21s\n",
      "349:\tlearn: 1820.3085789\ttotal: 2m 52s\tremaining: 5m 21s\n",
      "350:\tlearn: 1820.1975976\ttotal: 2m 53s\tremaining: 5m 20s\n",
      "351:\tlearn: 1819.8671242\ttotal: 2m 53s\tremaining: 5m 20s\n",
      "352:\tlearn: 1819.5110292\ttotal: 2m 54s\tremaining: 5m 19s\n",
      "353:\tlearn: 1819.1843858\ttotal: 2m 55s\tremaining: 5m 19s\n",
      "354:\tlearn: 1818.9313385\ttotal: 2m 55s\tremaining: 5m 18s\n",
      "355:\tlearn: 1818.7270876\ttotal: 2m 55s\tremaining: 5m 18s\n",
      "356:\tlearn: 1818.5404101\ttotal: 2m 56s\tremaining: 5m 17s\n",
      "357:\tlearn: 1818.3655979\ttotal: 2m 56s\tremaining: 5m 17s\n",
      "358:\tlearn: 1818.2169716\ttotal: 2m 57s\tremaining: 5m 16s\n",
      "359:\tlearn: 1817.9976566\ttotal: 2m 57s\tremaining: 5m 16s\n",
      "360:\tlearn: 1817.7289749\ttotal: 2m 58s\tremaining: 5m 15s\n",
      "361:\tlearn: 1817.5894698\ttotal: 2m 58s\tremaining: 5m 14s\n",
      "362:\tlearn: 1817.1203892\ttotal: 2m 59s\tremaining: 5m 14s\n",
      "363:\tlearn: 1817.0102045\ttotal: 2m 59s\tremaining: 5m 13s\n",
      "364:\tlearn: 1816.7556123\ttotal: 3m\tremaining: 5m 13s\n",
      "365:\tlearn: 1816.5315477\ttotal: 3m\tremaining: 5m 12s\n",
      "366:\tlearn: 1816.3416419\ttotal: 3m 1s\tremaining: 5m 12s\n",
      "367:\tlearn: 1816.0908400\ttotal: 3m 1s\tremaining: 5m 11s\n",
      "368:\tlearn: 1815.7522640\ttotal: 3m 1s\tremaining: 5m 11s\n",
      "369:\tlearn: 1815.5033233\ttotal: 3m 2s\tremaining: 5m 10s\n",
      "370:\tlearn: 1815.2900392\ttotal: 3m 2s\tremaining: 5m 10s\n",
      "371:\tlearn: 1815.0096515\ttotal: 3m 3s\tremaining: 5m 9s\n",
      "372:\tlearn: 1814.8112413\ttotal: 3m 3s\tremaining: 5m 9s\n",
      "373:\tlearn: 1814.6297181\ttotal: 3m 4s\tremaining: 5m 8s\n",
      "374:\tlearn: 1814.1763807\ttotal: 3m 4s\tremaining: 5m 8s\n",
      "375:\tlearn: 1813.9275657\ttotal: 3m 5s\tremaining: 5m 7s\n",
      "376:\tlearn: 1813.7404554\ttotal: 3m 5s\tremaining: 5m 7s\n",
      "377:\tlearn: 1813.5338252\ttotal: 3m 6s\tremaining: 5m 6s\n",
      "378:\tlearn: 1813.3104836\ttotal: 3m 6s\tremaining: 5m 6s\n",
      "379:\tlearn: 1813.0345313\ttotal: 3m 7s\tremaining: 5m 5s\n",
      "380:\tlearn: 1812.9540734\ttotal: 3m 7s\tremaining: 5m 5s\n",
      "381:\tlearn: 1812.7970190\ttotal: 3m 8s\tremaining: 5m 4s\n",
      "382:\tlearn: 1812.6099972\ttotal: 3m 8s\tremaining: 5m 3s\n",
      "383:\tlearn: 1812.3643391\ttotal: 3m 9s\tremaining: 5m 3s\n",
      "384:\tlearn: 1812.0749084\ttotal: 3m 9s\tremaining: 5m 3s\n",
      "385:\tlearn: 1811.8120528\ttotal: 3m 10s\tremaining: 5m 2s\n",
      "386:\tlearn: 1811.4073649\ttotal: 3m 10s\tremaining: 5m 2s\n",
      "387:\tlearn: 1810.9662968\ttotal: 3m 11s\tremaining: 5m 1s\n",
      "388:\tlearn: 1810.8491955\ttotal: 3m 11s\tremaining: 5m 1s\n",
      "389:\tlearn: 1810.6227675\ttotal: 3m 12s\tremaining: 5m\n",
      "390:\tlearn: 1810.3511107\ttotal: 3m 12s\tremaining: 5m\n",
      "391:\tlearn: 1810.1394124\ttotal: 3m 13s\tremaining: 4m 59s\n",
      "392:\tlearn: 1810.0502830\ttotal: 3m 13s\tremaining: 4m 59s\n",
      "393:\tlearn: 1809.8325339\ttotal: 3m 14s\tremaining: 4m 58s\n",
      "394:\tlearn: 1809.7647400\ttotal: 3m 14s\tremaining: 4m 58s\n",
      "395:\tlearn: 1809.5537625\ttotal: 3m 15s\tremaining: 4m 57s\n",
      "396:\tlearn: 1809.3906583\ttotal: 3m 15s\tremaining: 4m 56s\n",
      "397:\tlearn: 1808.9105980\ttotal: 3m 15s\tremaining: 4m 56s\n",
      "398:\tlearn: 1808.8154723\ttotal: 3m 16s\tremaining: 4m 55s\n",
      "399:\tlearn: 1808.6150036\ttotal: 3m 16s\tremaining: 4m 55s\n",
      "400:\tlearn: 1808.3770563\ttotal: 3m 17s\tremaining: 4m 54s\n",
      "401:\tlearn: 1808.1868659\ttotal: 3m 17s\tremaining: 4m 54s\n",
      "402:\tlearn: 1807.9713058\ttotal: 3m 18s\tremaining: 4m 53s\n",
      "403:\tlearn: 1807.8549215\ttotal: 3m 18s\tremaining: 4m 53s\n",
      "404:\tlearn: 1807.5295548\ttotal: 3m 19s\tremaining: 4m 52s\n",
      "405:\tlearn: 1807.4336790\ttotal: 3m 19s\tremaining: 4m 52s\n",
      "406:\tlearn: 1807.1516764\ttotal: 3m 20s\tremaining: 4m 52s\n",
      "407:\tlearn: 1806.8225372\ttotal: 3m 20s\tremaining: 4m 51s\n",
      "408:\tlearn: 1806.6233507\ttotal: 3m 21s\tremaining: 4m 51s\n",
      "409:\tlearn: 1806.4133982\ttotal: 3m 21s\tremaining: 4m 50s\n",
      "410:\tlearn: 1806.3179523\ttotal: 3m 22s\tremaining: 4m 50s\n",
      "411:\tlearn: 1806.0167901\ttotal: 3m 22s\tremaining: 4m 49s\n",
      "412:\tlearn: 1805.7566237\ttotal: 3m 23s\tremaining: 4m 49s\n",
      "413:\tlearn: 1805.5372891\ttotal: 3m 24s\tremaining: 4m 48s\n",
      "414:\tlearn: 1805.4342584\ttotal: 3m 24s\tremaining: 4m 48s\n",
      "415:\tlearn: 1805.1587199\ttotal: 3m 25s\tremaining: 4m 47s\n",
      "416:\tlearn: 1804.9799378\ttotal: 3m 25s\tremaining: 4m 47s\n",
      "417:\tlearn: 1804.8149082\ttotal: 3m 26s\tremaining: 4m 46s\n",
      "418:\tlearn: 1804.6159071\ttotal: 3m 26s\tremaining: 4m 46s\n",
      "419:\tlearn: 1804.3949251\ttotal: 3m 27s\tremaining: 4m 46s\n",
      "420:\tlearn: 1804.1276642\ttotal: 3m 27s\tremaining: 4m 45s\n",
      "421:\tlearn: 1803.8750716\ttotal: 3m 28s\tremaining: 4m 45s\n",
      "422:\tlearn: 1803.7087293\ttotal: 3m 28s\tremaining: 4m 44s\n",
      "423:\tlearn: 1803.4662859\ttotal: 3m 29s\tremaining: 4m 44s\n",
      "424:\tlearn: 1803.1851448\ttotal: 3m 29s\tremaining: 4m 43s\n",
      "425:\tlearn: 1803.0976169\ttotal: 3m 30s\tremaining: 4m 42s\n",
      "426:\tlearn: 1802.8548873\ttotal: 3m 30s\tremaining: 4m 42s\n",
      "427:\tlearn: 1802.6144092\ttotal: 3m 31s\tremaining: 4m 42s\n",
      "428:\tlearn: 1802.3568626\ttotal: 3m 31s\tremaining: 4m 41s\n",
      "429:\tlearn: 1802.0405848\ttotal: 3m 32s\tremaining: 4m 41s\n",
      "430:\tlearn: 1801.9272269\ttotal: 3m 32s\tremaining: 4m 40s\n",
      "431:\tlearn: 1801.8129127\ttotal: 3m 33s\tremaining: 4m 40s\n",
      "432:\tlearn: 1801.6527349\ttotal: 3m 33s\tremaining: 4m 39s\n",
      "433:\tlearn: 1801.5619269\ttotal: 3m 34s\tremaining: 4m 39s\n",
      "434:\tlearn: 1801.3714108\ttotal: 3m 34s\tremaining: 4m 38s\n",
      "435:\tlearn: 1801.2766555\ttotal: 3m 35s\tremaining: 4m 38s\n",
      "436:\tlearn: 1801.1628064\ttotal: 3m 35s\tremaining: 4m 37s\n",
      "437:\tlearn: 1800.8771492\ttotal: 3m 36s\tremaining: 4m 37s\n",
      "438:\tlearn: 1800.6120003\ttotal: 3m 36s\tremaining: 4m 37s\n"
     ]
    },
    {
     "name": "stdout",
     "output_type": "stream",
     "text": [
      "439:\tlearn: 1800.4525648\ttotal: 3m 37s\tremaining: 4m 36s\n",
      "440:\tlearn: 1800.2313288\ttotal: 3m 37s\tremaining: 4m 36s\n",
      "441:\tlearn: 1800.0237170\ttotal: 3m 38s\tremaining: 4m 35s\n",
      "442:\tlearn: 1799.6566382\ttotal: 3m 38s\tremaining: 4m 34s\n",
      "443:\tlearn: 1799.4577796\ttotal: 3m 39s\tremaining: 4m 34s\n",
      "444:\tlearn: 1799.1577396\ttotal: 3m 39s\tremaining: 4m 34s\n",
      "445:\tlearn: 1798.9224086\ttotal: 3m 40s\tremaining: 4m 33s\n",
      "446:\tlearn: 1798.6857166\ttotal: 3m 40s\tremaining: 4m 32s\n",
      "447:\tlearn: 1798.4801101\ttotal: 3m 41s\tremaining: 4m 32s\n",
      "448:\tlearn: 1798.2456537\ttotal: 3m 41s\tremaining: 4m 31s\n",
      "449:\tlearn: 1797.9587999\ttotal: 3m 41s\tremaining: 4m 31s\n",
      "450:\tlearn: 1797.9006318\ttotal: 3m 42s\tremaining: 4m 30s\n",
      "451:\tlearn: 1797.5852518\ttotal: 3m 42s\tremaining: 4m 30s\n",
      "452:\tlearn: 1797.3174839\ttotal: 3m 43s\tremaining: 4m 29s\n",
      "453:\tlearn: 1797.2215706\ttotal: 3m 43s\tremaining: 4m 29s\n",
      "454:\tlearn: 1796.9458588\ttotal: 3m 44s\tremaining: 4m 28s\n",
      "455:\tlearn: 1796.7263567\ttotal: 3m 44s\tremaining: 4m 28s\n",
      "456:\tlearn: 1796.5238469\ttotal: 3m 45s\tremaining: 4m 27s\n",
      "457:\tlearn: 1796.2572257\ttotal: 3m 45s\tremaining: 4m 27s\n",
      "458:\tlearn: 1796.2062938\ttotal: 3m 46s\tremaining: 4m 26s\n",
      "459:\tlearn: 1796.0994470\ttotal: 3m 46s\tremaining: 4m 26s\n",
      "460:\tlearn: 1795.9990829\ttotal: 3m 47s\tremaining: 4m 25s\n",
      "461:\tlearn: 1795.8941110\ttotal: 3m 47s\tremaining: 4m 25s\n",
      "462:\tlearn: 1795.7174178\ttotal: 3m 48s\tremaining: 4m 24s\n",
      "463:\tlearn: 1795.4175774\ttotal: 3m 48s\tremaining: 4m 24s\n",
      "464:\tlearn: 1795.3151472\ttotal: 3m 49s\tremaining: 4m 23s\n",
      "465:\tlearn: 1795.1139177\ttotal: 3m 49s\tremaining: 4m 23s\n",
      "466:\tlearn: 1794.9280832\ttotal: 3m 50s\tremaining: 4m 22s\n",
      "467:\tlearn: 1794.7383525\ttotal: 3m 50s\tremaining: 4m 22s\n",
      "468:\tlearn: 1794.6668382\ttotal: 3m 51s\tremaining: 4m 21s\n",
      "469:\tlearn: 1794.5215874\ttotal: 3m 51s\tremaining: 4m 21s\n",
      "470:\tlearn: 1794.4240130\ttotal: 3m 52s\tremaining: 4m 20s\n",
      "471:\tlearn: 1794.2201081\ttotal: 3m 52s\tremaining: 4m 20s\n",
      "472:\tlearn: 1794.0896509\ttotal: 3m 53s\tremaining: 4m 19s\n",
      "473:\tlearn: 1793.9121677\ttotal: 3m 53s\tremaining: 4m 19s\n",
      "474:\tlearn: 1793.7918867\ttotal: 3m 54s\tremaining: 4m 18s\n",
      "475:\tlearn: 1793.7003607\ttotal: 3m 54s\tremaining: 4m 18s\n",
      "476:\tlearn: 1793.6513194\ttotal: 3m 55s\tremaining: 4m 17s\n",
      "477:\tlearn: 1793.5751304\ttotal: 3m 55s\tremaining: 4m 17s\n",
      "478:\tlearn: 1793.3613722\ttotal: 3m 56s\tremaining: 4m 16s\n",
      "479:\tlearn: 1793.2137751\ttotal: 3m 56s\tremaining: 4m 16s\n",
      "480:\tlearn: 1793.1776498\ttotal: 3m 57s\tremaining: 4m 15s\n",
      "481:\tlearn: 1793.0141523\ttotal: 3m 57s\tremaining: 4m 15s\n",
      "482:\tlearn: 1792.8129085\ttotal: 3m 58s\tremaining: 4m 15s\n",
      "483:\tlearn: 1792.3780627\ttotal: 3m 58s\tremaining: 4m 14s\n",
      "484:\tlearn: 1792.1760206\ttotal: 3m 59s\tremaining: 4m 14s\n",
      "485:\tlearn: 1792.0352642\ttotal: 3m 59s\tremaining: 4m 13s\n",
      "486:\tlearn: 1791.9024963\ttotal: 4m\tremaining: 4m 13s\n",
      "487:\tlearn: 1791.6770031\ttotal: 4m\tremaining: 4m 12s\n",
      "488:\tlearn: 1791.4240837\ttotal: 4m 1s\tremaining: 4m 12s\n",
      "489:\tlearn: 1791.3606074\ttotal: 4m 1s\tremaining: 4m 11s\n",
      "490:\tlearn: 1791.3080719\ttotal: 4m 2s\tremaining: 4m 11s\n",
      "491:\tlearn: 1791.0804189\ttotal: 4m 2s\tremaining: 4m 10s\n",
      "492:\tlearn: 1790.9408920\ttotal: 4m 3s\tremaining: 4m 10s\n",
      "493:\tlearn: 1790.7624129\ttotal: 4m 3s\tremaining: 4m 9s\n",
      "494:\tlearn: 1790.6639424\ttotal: 4m 4s\tremaining: 4m 9s\n",
      "495:\tlearn: 1790.4546940\ttotal: 4m 4s\tremaining: 4m 8s\n",
      "496:\tlearn: 1790.2765817\ttotal: 4m 5s\tremaining: 4m 8s\n",
      "497:\tlearn: 1790.1563482\ttotal: 4m 5s\tremaining: 4m 7s\n",
      "498:\tlearn: 1789.8795683\ttotal: 4m 6s\tremaining: 4m 7s\n",
      "499:\tlearn: 1789.7155311\ttotal: 4m 6s\tremaining: 4m 6s\n",
      "500:\tlearn: 1789.5281959\ttotal: 4m 7s\tremaining: 4m 6s\n",
      "501:\tlearn: 1789.3103169\ttotal: 4m 7s\tremaining: 4m 5s\n",
      "502:\tlearn: 1789.1687736\ttotal: 4m 8s\tremaining: 4m 5s\n",
      "503:\tlearn: 1789.1615150\ttotal: 4m 8s\tremaining: 4m 4s\n",
      "504:\tlearn: 1788.9482762\ttotal: 4m 9s\tremaining: 4m 4s\n",
      "505:\tlearn: 1788.8669878\ttotal: 4m 9s\tremaining: 4m 3s\n",
      "506:\tlearn: 1788.7483357\ttotal: 4m 10s\tremaining: 4m 3s\n",
      "507:\tlearn: 1788.5228926\ttotal: 4m 10s\tremaining: 4m 2s\n",
      "508:\tlearn: 1788.3568188\ttotal: 4m 11s\tremaining: 4m 2s\n",
      "509:\tlearn: 1788.0378435\ttotal: 4m 11s\tremaining: 4m 1s\n",
      "510:\tlearn: 1787.9287933\ttotal: 4m 11s\tremaining: 4m 1s\n",
      "511:\tlearn: 1787.8722457\ttotal: 4m 12s\tremaining: 4m\n",
      "512:\tlearn: 1787.5612960\ttotal: 4m 12s\tremaining: 3m 59s\n",
      "513:\tlearn: 1787.5251880\ttotal: 4m 13s\tremaining: 3m 59s\n",
      "514:\tlearn: 1787.4711636\ttotal: 4m 13s\tremaining: 3m 59s\n",
      "515:\tlearn: 1787.3742758\ttotal: 4m 14s\tremaining: 3m 58s\n",
      "516:\tlearn: 1787.0222015\ttotal: 4m 14s\tremaining: 3m 57s\n",
      "517:\tlearn: 1786.8764828\ttotal: 4m 15s\tremaining: 3m 57s\n",
      "518:\tlearn: 1786.7970561\ttotal: 4m 15s\tremaining: 3m 56s\n",
      "519:\tlearn: 1786.7450233\ttotal: 4m 16s\tremaining: 3m 56s\n",
      "520:\tlearn: 1786.7406829\ttotal: 4m 16s\tremaining: 3m 55s\n",
      "521:\tlearn: 1786.4455440\ttotal: 4m 17s\tremaining: 3m 55s\n",
      "522:\tlearn: 1786.3439895\ttotal: 4m 17s\tremaining: 3m 54s\n",
      "523:\tlearn: 1786.1559775\ttotal: 4m 18s\tremaining: 3m 54s\n",
      "524:\tlearn: 1786.0633126\ttotal: 4m 18s\tremaining: 3m 53s\n",
      "525:\tlearn: 1785.7805909\ttotal: 4m 19s\tremaining: 3m 53s\n",
      "526:\tlearn: 1785.7437188\ttotal: 4m 19s\tremaining: 3m 52s\n",
      "527:\tlearn: 1785.6866983\ttotal: 4m 20s\tremaining: 3m 52s\n",
      "528:\tlearn: 1785.5787957\ttotal: 4m 20s\tremaining: 3m 51s\n",
      "529:\tlearn: 1785.5096338\ttotal: 4m 20s\tremaining: 3m 51s\n",
      "530:\tlearn: 1785.3358551\ttotal: 4m 21s\tremaining: 3m 50s\n",
      "531:\tlearn: 1785.0305395\ttotal: 4m 21s\tremaining: 3m 50s\n",
      "532:\tlearn: 1784.9644329\ttotal: 4m 22s\tremaining: 3m 49s\n",
      "533:\tlearn: 1784.8948497\ttotal: 4m 22s\tremaining: 3m 49s\n",
      "534:\tlearn: 1784.7593457\ttotal: 4m 23s\tremaining: 3m 48s\n",
      "535:\tlearn: 1784.4436619\ttotal: 4m 23s\tremaining: 3m 48s\n",
      "536:\tlearn: 1784.3647864\ttotal: 4m 24s\tremaining: 3m 47s\n",
      "537:\tlearn: 1784.2506032\ttotal: 4m 24s\tremaining: 3m 47s\n",
      "538:\tlearn: 1784.0415571\ttotal: 4m 25s\tremaining: 3m 46s\n",
      "539:\tlearn: 1783.8134144\ttotal: 4m 25s\tremaining: 3m 46s\n",
      "540:\tlearn: 1783.6696435\ttotal: 4m 26s\tremaining: 3m 46s\n",
      "541:\tlearn: 1783.5522497\ttotal: 4m 26s\tremaining: 3m 45s\n",
      "542:\tlearn: 1783.4568021\ttotal: 4m 27s\tremaining: 3m 45s\n",
      "543:\tlearn: 1783.2612755\ttotal: 4m 28s\tremaining: 3m 44s\n",
      "544:\tlearn: 1783.0972317\ttotal: 4m 28s\tremaining: 3m 44s\n",
      "545:\tlearn: 1783.0032691\ttotal: 4m 28s\tremaining: 3m 43s\n",
      "546:\tlearn: 1782.8477636\ttotal: 4m 29s\tremaining: 3m 43s\n",
      "547:\tlearn: 1782.6778142\ttotal: 4m 29s\tremaining: 3m 42s\n",
      "548:\tlearn: 1782.5507656\ttotal: 4m 30s\tremaining: 3m 42s\n",
      "549:\tlearn: 1782.5282419\ttotal: 4m 30s\tremaining: 3m 41s\n",
      "550:\tlearn: 1782.2929313\ttotal: 4m 31s\tremaining: 3m 41s\n",
      "551:\tlearn: 1782.1727845\ttotal: 4m 31s\tremaining: 3m 40s\n",
      "552:\tlearn: 1782.0398153\ttotal: 4m 32s\tremaining: 3m 40s\n",
      "553:\tlearn: 1781.6349954\ttotal: 4m 33s\tremaining: 3m 39s\n",
      "554:\tlearn: 1781.6288305\ttotal: 4m 33s\tremaining: 3m 39s\n",
      "555:\tlearn: 1781.4098610\ttotal: 4m 34s\tremaining: 3m 38s\n",
      "556:\tlearn: 1781.2438276\ttotal: 4m 34s\tremaining: 3m 38s\n",
      "557:\tlearn: 1781.1091945\ttotal: 4m 35s\tremaining: 3m 37s\n",
      "558:\tlearn: 1780.9296021\ttotal: 4m 35s\tremaining: 3m 37s\n",
      "559:\tlearn: 1780.8110993\ttotal: 4m 36s\tremaining: 3m 36s\n",
      "560:\tlearn: 1780.5549781\ttotal: 4m 36s\tremaining: 3m 36s\n",
      "561:\tlearn: 1780.2971016\ttotal: 4m 37s\tremaining: 3m 36s\n",
      "562:\tlearn: 1780.2324606\ttotal: 4m 37s\tremaining: 3m 35s\n",
      "563:\tlearn: 1780.0305134\ttotal: 4m 38s\tremaining: 3m 34s\n",
      "564:\tlearn: 1780.0255138\ttotal: 4m 38s\tremaining: 3m 34s\n",
      "565:\tlearn: 1779.8821929\ttotal: 4m 39s\tremaining: 3m 33s\n",
      "566:\tlearn: 1779.8815002\ttotal: 4m 39s\tremaining: 3m 33s\n",
      "567:\tlearn: 1779.6060543\ttotal: 4m 40s\tremaining: 3m 33s\n",
      "568:\tlearn: 1779.5685511\ttotal: 4m 40s\tremaining: 3m 32s\n",
      "569:\tlearn: 1779.3745269\ttotal: 4m 41s\tremaining: 3m 32s\n",
      "570:\tlearn: 1779.1036720\ttotal: 4m 41s\tremaining: 3m 31s\n",
      "571:\tlearn: 1779.0333085\ttotal: 4m 42s\tremaining: 3m 31s\n",
      "572:\tlearn: 1778.8774393\ttotal: 4m 42s\tremaining: 3m 30s\n",
      "573:\tlearn: 1778.7832969\ttotal: 4m 43s\tremaining: 3m 30s\n",
      "574:\tlearn: 1778.5707268\ttotal: 4m 43s\tremaining: 3m 29s\n",
      "575:\tlearn: 1778.4220273\ttotal: 4m 44s\tremaining: 3m 29s\n",
      "576:\tlearn: 1778.4173794\ttotal: 4m 44s\tremaining: 3m 28s\n",
      "577:\tlearn: 1778.2235120\ttotal: 4m 45s\tremaining: 3m 28s\n",
      "578:\tlearn: 1778.1567478\ttotal: 4m 45s\tremaining: 3m 27s\n",
      "579:\tlearn: 1778.0402453\ttotal: 4m 46s\tremaining: 3m 27s\n",
      "580:\tlearn: 1777.9783653\ttotal: 4m 46s\tremaining: 3m 26s\n",
      "581:\tlearn: 1777.7146996\ttotal: 4m 47s\tremaining: 3m 26s\n",
      "582:\tlearn: 1777.6710740\ttotal: 4m 47s\tremaining: 3m 25s\n",
      "583:\tlearn: 1777.3219350\ttotal: 4m 48s\tremaining: 3m 25s\n"
     ]
    },
    {
     "name": "stdout",
     "output_type": "stream",
     "text": [
      "584:\tlearn: 1777.1777602\ttotal: 4m 48s\tremaining: 3m 24s\n",
      "585:\tlearn: 1777.0877349\ttotal: 4m 49s\tremaining: 3m 24s\n",
      "586:\tlearn: 1776.9760750\ttotal: 4m 49s\tremaining: 3m 23s\n",
      "587:\tlearn: 1776.7265151\ttotal: 4m 50s\tremaining: 3m 23s\n",
      "588:\tlearn: 1776.6675014\ttotal: 4m 50s\tremaining: 3m 22s\n",
      "589:\tlearn: 1776.4174941\ttotal: 4m 51s\tremaining: 3m 22s\n",
      "590:\tlearn: 1776.1966977\ttotal: 4m 51s\tremaining: 3m 21s\n",
      "591:\tlearn: 1775.9212099\ttotal: 4m 52s\tremaining: 3m 21s\n",
      "592:\tlearn: 1775.8841464\ttotal: 4m 52s\tremaining: 3m 20s\n",
      "593:\tlearn: 1775.6926925\ttotal: 4m 53s\tremaining: 3m 20s\n",
      "594:\tlearn: 1775.6709771\ttotal: 4m 53s\tremaining: 3m 19s\n",
      "595:\tlearn: 1775.4286872\ttotal: 4m 54s\tremaining: 3m 19s\n",
      "596:\tlearn: 1775.2130540\ttotal: 4m 54s\tremaining: 3m 19s\n",
      "597:\tlearn: 1775.1559026\ttotal: 4m 55s\tremaining: 3m 18s\n",
      "598:\tlearn: 1774.9843905\ttotal: 4m 55s\tremaining: 3m 18s\n",
      "599:\tlearn: 1774.7297903\ttotal: 4m 56s\tremaining: 3m 17s\n",
      "600:\tlearn: 1774.6322316\ttotal: 4m 56s\tremaining: 3m 17s\n",
      "601:\tlearn: 1774.5864252\ttotal: 4m 57s\tremaining: 3m 16s\n",
      "602:\tlearn: 1774.4598505\ttotal: 4m 57s\tremaining: 3m 16s\n",
      "603:\tlearn: 1774.2925174\ttotal: 4m 58s\tremaining: 3m 15s\n",
      "604:\tlearn: 1774.1628601\ttotal: 4m 58s\tremaining: 3m 15s\n",
      "605:\tlearn: 1774.1002457\ttotal: 4m 59s\tremaining: 3m 14s\n",
      "606:\tlearn: 1774.0305774\ttotal: 5m\tremaining: 3m 14s\n",
      "607:\tlearn: 1773.9231781\ttotal: 5m\tremaining: 3m 13s\n",
      "608:\tlearn: 1773.8978721\ttotal: 5m 1s\tremaining: 3m 13s\n",
      "609:\tlearn: 1773.8945072\ttotal: 5m 1s\tremaining: 3m 12s\n",
      "610:\tlearn: 1773.7680173\ttotal: 5m 2s\tremaining: 3m 12s\n",
      "611:\tlearn: 1773.5943750\ttotal: 5m 2s\tremaining: 3m 11s\n",
      "612:\tlearn: 1773.3870986\ttotal: 5m 3s\tremaining: 3m 11s\n",
      "613:\tlearn: 1773.2754370\ttotal: 5m 3s\tremaining: 3m 10s\n",
      "614:\tlearn: 1773.1800300\ttotal: 5m 4s\tremaining: 3m 10s\n",
      "615:\tlearn: 1773.0675688\ttotal: 5m 4s\tremaining: 3m 9s\n",
      "616:\tlearn: 1772.9026130\ttotal: 5m 5s\tremaining: 3m 9s\n",
      "617:\tlearn: 1772.6493197\ttotal: 5m 5s\tremaining: 3m 8s\n",
      "618:\tlearn: 1772.5681102\ttotal: 5m 6s\tremaining: 3m 8s\n",
      "619:\tlearn: 1772.3996231\ttotal: 5m 6s\tremaining: 3m 7s\n",
      "620:\tlearn: 1772.2536214\ttotal: 5m 7s\tremaining: 3m 7s\n",
      "621:\tlearn: 1772.1255707\ttotal: 5m 7s\tremaining: 3m 6s\n",
      "622:\tlearn: 1772.1186326\ttotal: 5m 8s\tremaining: 3m 6s\n",
      "623:\tlearn: 1771.8812989\ttotal: 5m 8s\tremaining: 3m 5s\n",
      "624:\tlearn: 1771.8782155\ttotal: 5m 9s\tremaining: 3m 5s\n",
      "625:\tlearn: 1771.8766057\ttotal: 5m 9s\tremaining: 3m 4s\n",
      "626:\tlearn: 1771.7772269\ttotal: 5m 9s\tremaining: 3m 4s\n",
      "627:\tlearn: 1771.7711521\ttotal: 5m 10s\tremaining: 3m 3s\n",
      "628:\tlearn: 1771.5575766\ttotal: 5m 10s\tremaining: 3m 3s\n",
      "629:\tlearn: 1771.4167395\ttotal: 5m 11s\tremaining: 3m 2s\n",
      "630:\tlearn: 1771.4128787\ttotal: 5m 11s\tremaining: 3m 2s\n",
      "631:\tlearn: 1771.3172547\ttotal: 5m 12s\tremaining: 3m 1s\n",
      "632:\tlearn: 1771.1729581\ttotal: 5m 12s\tremaining: 3m 1s\n",
      "633:\tlearn: 1771.0955723\ttotal: 5m 13s\tremaining: 3m\n",
      "634:\tlearn: 1770.9770520\ttotal: 5m 13s\tremaining: 3m\n",
      "635:\tlearn: 1770.9214909\ttotal: 5m 14s\tremaining: 2m 59s\n",
      "636:\tlearn: 1770.7925776\ttotal: 5m 14s\tremaining: 2m 59s\n",
      "637:\tlearn: 1770.7585361\ttotal: 5m 15s\tremaining: 2m 58s\n",
      "638:\tlearn: 1770.6754903\ttotal: 5m 15s\tremaining: 2m 58s\n",
      "639:\tlearn: 1770.5424057\ttotal: 5m 16s\tremaining: 2m 57s\n",
      "640:\tlearn: 1770.5029886\ttotal: 5m 16s\tremaining: 2m 57s\n",
      "641:\tlearn: 1770.4292697\ttotal: 5m 17s\tremaining: 2m 56s\n",
      "642:\tlearn: 1770.1960654\ttotal: 5m 17s\tremaining: 2m 56s\n",
      "643:\tlearn: 1770.1916225\ttotal: 5m 18s\tremaining: 2m 55s\n",
      "644:\tlearn: 1770.0018031\ttotal: 5m 18s\tremaining: 2m 55s\n",
      "645:\tlearn: 1769.9014051\ttotal: 5m 19s\tremaining: 2m 54s\n",
      "646:\tlearn: 1769.7727147\ttotal: 5m 19s\tremaining: 2m 54s\n",
      "647:\tlearn: 1769.6487198\ttotal: 5m 20s\tremaining: 2m 53s\n",
      "648:\tlearn: 1769.5669456\ttotal: 5m 20s\tremaining: 2m 53s\n",
      "649:\tlearn: 1769.5051949\ttotal: 5m 21s\tremaining: 2m 52s\n",
      "650:\tlearn: 1769.4062114\ttotal: 5m 21s\tremaining: 2m 52s\n",
      "651:\tlearn: 1769.2429460\ttotal: 5m 22s\tremaining: 2m 52s\n",
      "652:\tlearn: 1769.1866655\ttotal: 5m 22s\tremaining: 2m 51s\n",
      "653:\tlearn: 1768.9527725\ttotal: 5m 23s\tremaining: 2m 51s\n",
      "654:\tlearn: 1768.7712333\ttotal: 5m 23s\tremaining: 2m 50s\n",
      "655:\tlearn: 1768.6926479\ttotal: 5m 24s\tremaining: 2m 50s\n",
      "656:\tlearn: 1768.6229439\ttotal: 5m 24s\tremaining: 2m 49s\n",
      "657:\tlearn: 1768.3856980\ttotal: 5m 25s\tremaining: 2m 49s\n",
      "658:\tlearn: 1768.3814352\ttotal: 5m 25s\tremaining: 2m 48s\n",
      "659:\tlearn: 1768.2571008\ttotal: 5m 26s\tremaining: 2m 48s\n",
      "660:\tlearn: 1768.0726378\ttotal: 5m 26s\tremaining: 2m 47s\n",
      "661:\tlearn: 1767.8931846\ttotal: 5m 27s\tremaining: 2m 47s\n",
      "662:\tlearn: 1767.8482220\ttotal: 5m 27s\tremaining: 2m 46s\n",
      "663:\tlearn: 1767.5081323\ttotal: 5m 28s\tremaining: 2m 46s\n",
      "664:\tlearn: 1767.3869957\ttotal: 5m 28s\tremaining: 2m 45s\n",
      "665:\tlearn: 1767.3056960\ttotal: 5m 29s\tremaining: 2m 45s\n",
      "666:\tlearn: 1767.1929002\ttotal: 5m 29s\tremaining: 2m 44s\n",
      "667:\tlearn: 1767.1000496\ttotal: 5m 30s\tremaining: 2m 44s\n",
      "668:\tlearn: 1766.8833881\ttotal: 5m 30s\tremaining: 2m 43s\n",
      "669:\tlearn: 1766.5442985\ttotal: 5m 31s\tremaining: 2m 43s\n",
      "670:\tlearn: 1766.4672993\ttotal: 5m 31s\tremaining: 2m 42s\n",
      "671:\tlearn: 1766.3490810\ttotal: 5m 32s\tremaining: 2m 42s\n",
      "672:\tlearn: 1766.1345655\ttotal: 5m 32s\tremaining: 2m 41s\n",
      "673:\tlearn: 1766.0526058\ttotal: 5m 33s\tremaining: 2m 41s\n",
      "674:\tlearn: 1765.9164933\ttotal: 5m 33s\tremaining: 2m 40s\n",
      "675:\tlearn: 1765.7853821\ttotal: 5m 33s\tremaining: 2m 40s\n",
      "676:\tlearn: 1765.7041984\ttotal: 5m 34s\tremaining: 2m 39s\n",
      "677:\tlearn: 1765.6102184\ttotal: 5m 35s\tremaining: 2m 39s\n",
      "678:\tlearn: 1765.3987974\ttotal: 5m 35s\tremaining: 2m 38s\n",
      "679:\tlearn: 1765.3809686\ttotal: 5m 36s\tremaining: 2m 38s\n",
      "680:\tlearn: 1765.2565859\ttotal: 5m 36s\tremaining: 2m 37s\n",
      "681:\tlearn: 1765.1993806\ttotal: 5m 37s\tremaining: 2m 37s\n",
      "682:\tlearn: 1765.0478439\ttotal: 5m 37s\tremaining: 2m 36s\n",
      "683:\tlearn: 1764.8106523\ttotal: 5m 38s\tremaining: 2m 36s\n",
      "684:\tlearn: 1764.6764301\ttotal: 5m 38s\tremaining: 2m 35s\n",
      "685:\tlearn: 1764.5593112\ttotal: 5m 39s\tremaining: 2m 35s\n",
      "686:\tlearn: 1764.4846692\ttotal: 5m 39s\tremaining: 2m 34s\n",
      "687:\tlearn: 1764.4000317\ttotal: 5m 40s\tremaining: 2m 34s\n",
      "688:\tlearn: 1764.3480681\ttotal: 5m 40s\tremaining: 2m 33s\n",
      "689:\tlearn: 1764.0835451\ttotal: 5m 41s\tremaining: 2m 33s\n",
      "690:\tlearn: 1764.0400461\ttotal: 5m 41s\tremaining: 2m 32s\n",
      "691:\tlearn: 1764.0073060\ttotal: 5m 42s\tremaining: 2m 32s\n",
      "692:\tlearn: 1763.8346884\ttotal: 5m 42s\tremaining: 2m 31s\n",
      "693:\tlearn: 1763.6912619\ttotal: 5m 43s\tremaining: 2m 31s\n",
      "694:\tlearn: 1763.6244514\ttotal: 5m 43s\tremaining: 2m 30s\n",
      "695:\tlearn: 1763.5503606\ttotal: 5m 44s\tremaining: 2m 30s\n",
      "696:\tlearn: 1763.5214752\ttotal: 5m 44s\tremaining: 2m 29s\n",
      "697:\tlearn: 1763.4774844\ttotal: 5m 45s\tremaining: 2m 29s\n",
      "698:\tlearn: 1763.4082976\ttotal: 5m 45s\tremaining: 2m 28s\n",
      "699:\tlearn: 1763.3821170\ttotal: 5m 45s\tremaining: 2m 28s\n",
      "700:\tlearn: 1763.2383091\ttotal: 5m 46s\tremaining: 2m 27s\n",
      "701:\tlearn: 1763.1742838\ttotal: 5m 46s\tremaining: 2m 27s\n",
      "702:\tlearn: 1763.0907519\ttotal: 5m 47s\tremaining: 2m 26s\n",
      "703:\tlearn: 1762.8762696\ttotal: 5m 48s\tremaining: 2m 26s\n",
      "704:\tlearn: 1762.6187327\ttotal: 5m 48s\tremaining: 2m 25s\n",
      "705:\tlearn: 1762.4775949\ttotal: 5m 49s\tremaining: 2m 25s\n",
      "706:\tlearn: 1762.3818194\ttotal: 5m 49s\tremaining: 2m 24s\n",
      "707:\tlearn: 1762.2467358\ttotal: 5m 49s\tremaining: 2m 24s\n",
      "708:\tlearn: 1762.1777129\ttotal: 5m 50s\tremaining: 2m 23s\n",
      "709:\tlearn: 1762.1180990\ttotal: 5m 50s\tremaining: 2m 23s\n",
      "710:\tlearn: 1761.9555001\ttotal: 5m 51s\tremaining: 2m 22s\n",
      "711:\tlearn: 1761.6868301\ttotal: 5m 52s\tremaining: 2m 22s\n",
      "712:\tlearn: 1761.6592370\ttotal: 5m 52s\tremaining: 2m 21s\n",
      "713:\tlearn: 1761.6193972\ttotal: 5m 52s\tremaining: 2m 21s\n",
      "714:\tlearn: 1761.4054893\ttotal: 5m 53s\tremaining: 2m 20s\n",
      "715:\tlearn: 1761.3871513\ttotal: 5m 54s\tremaining: 2m 20s\n",
      "716:\tlearn: 1761.3462338\ttotal: 5m 54s\tremaining: 2m 19s\n",
      "717:\tlearn: 1761.2358838\ttotal: 5m 55s\tremaining: 2m 19s\n",
      "718:\tlearn: 1761.1291709\ttotal: 5m 55s\tremaining: 2m 18s\n",
      "719:\tlearn: 1760.9613639\ttotal: 5m 56s\tremaining: 2m 18s\n",
      "720:\tlearn: 1760.8869642\ttotal: 5m 56s\tremaining: 2m 17s\n",
      "721:\tlearn: 1760.8338538\ttotal: 5m 57s\tremaining: 2m 17s\n",
      "722:\tlearn: 1760.5724275\ttotal: 5m 57s\tremaining: 2m 17s\n",
      "723:\tlearn: 1760.5599860\ttotal: 5m 57s\tremaining: 2m 16s\n",
      "724:\tlearn: 1760.4493347\ttotal: 5m 58s\tremaining: 2m 15s\n",
      "725:\tlearn: 1760.2347323\ttotal: 5m 58s\tremaining: 2m 15s\n",
      "726:\tlearn: 1760.1769972\ttotal: 5m 59s\tremaining: 2m 14s\n",
      "727:\tlearn: 1760.0832420\ttotal: 5m 59s\tremaining: 2m 14s\n",
      "728:\tlearn: 1760.0658788\ttotal: 6m\tremaining: 2m 13s\n"
     ]
    },
    {
     "name": "stdout",
     "output_type": "stream",
     "text": [
      "729:\tlearn: 1759.9041131\ttotal: 6m\tremaining: 2m 13s\n",
      "730:\tlearn: 1759.7905346\ttotal: 6m 1s\tremaining: 2m 12s\n",
      "731:\tlearn: 1759.6398980\ttotal: 6m 1s\tremaining: 2m 12s\n",
      "732:\tlearn: 1759.5735549\ttotal: 6m 2s\tremaining: 2m 12s\n",
      "733:\tlearn: 1759.3897382\ttotal: 6m 2s\tremaining: 2m 11s\n",
      "734:\tlearn: 1759.2926681\ttotal: 6m 3s\tremaining: 2m 11s\n",
      "735:\tlearn: 1758.9669384\ttotal: 6m 3s\tremaining: 2m 10s\n",
      "736:\tlearn: 1758.8078953\ttotal: 6m 4s\tremaining: 2m 10s\n",
      "737:\tlearn: 1758.7481862\ttotal: 6m 4s\tremaining: 2m 9s\n",
      "738:\tlearn: 1758.6432569\ttotal: 6m 5s\tremaining: 2m 9s\n",
      "739:\tlearn: 1758.5651378\ttotal: 6m 5s\tremaining: 2m 8s\n",
      "740:\tlearn: 1758.5144429\ttotal: 6m 6s\tremaining: 2m 8s\n",
      "741:\tlearn: 1758.4383811\ttotal: 6m 6s\tremaining: 2m 7s\n",
      "742:\tlearn: 1758.1783149\ttotal: 6m 7s\tremaining: 2m 7s\n",
      "743:\tlearn: 1758.0454020\ttotal: 6m 7s\tremaining: 2m 6s\n",
      "744:\tlearn: 1757.8880916\ttotal: 6m 8s\tremaining: 2m 6s\n",
      "745:\tlearn: 1757.8853713\ttotal: 6m 8s\tremaining: 2m 5s\n",
      "746:\tlearn: 1757.8808349\ttotal: 6m 9s\tremaining: 2m 5s\n",
      "747:\tlearn: 1757.7345177\ttotal: 6m 9s\tremaining: 2m 4s\n",
      "748:\tlearn: 1757.6549481\ttotal: 6m 10s\tremaining: 2m 4s\n",
      "749:\tlearn: 1757.5511313\ttotal: 6m 10s\tremaining: 2m 3s\n",
      "750:\tlearn: 1757.5334809\ttotal: 6m 11s\tremaining: 2m 3s\n",
      "751:\tlearn: 1757.3660208\ttotal: 6m 11s\tremaining: 2m 2s\n",
      "752:\tlearn: 1757.2957123\ttotal: 6m 12s\tremaining: 2m 2s\n",
      "753:\tlearn: 1757.1701227\ttotal: 6m 12s\tremaining: 2m 1s\n",
      "754:\tlearn: 1757.1411954\ttotal: 6m 13s\tremaining: 2m 1s\n",
      "755:\tlearn: 1757.1012989\ttotal: 6m 13s\tremaining: 2m\n",
      "756:\tlearn: 1756.9712609\ttotal: 6m 14s\tremaining: 2m\n",
      "757:\tlearn: 1756.7802290\ttotal: 6m 14s\tremaining: 1m 59s\n",
      "758:\tlearn: 1756.6223170\ttotal: 6m 15s\tremaining: 1m 59s\n",
      "759:\tlearn: 1756.5634776\ttotal: 6m 15s\tremaining: 1m 58s\n",
      "760:\tlearn: 1756.4952056\ttotal: 6m 16s\tremaining: 1m 58s\n",
      "761:\tlearn: 1756.2551667\ttotal: 6m 16s\tremaining: 1m 57s\n",
      "762:\tlearn: 1756.1073615\ttotal: 6m 17s\tremaining: 1m 57s\n",
      "763:\tlearn: 1755.9939033\ttotal: 6m 17s\tremaining: 1m 56s\n",
      "764:\tlearn: 1755.9150070\ttotal: 6m 18s\tremaining: 1m 56s\n",
      "765:\tlearn: 1755.8947182\ttotal: 6m 18s\tremaining: 1m 55s\n",
      "766:\tlearn: 1755.7120412\ttotal: 6m 19s\tremaining: 1m 55s\n",
      "767:\tlearn: 1755.6314617\ttotal: 6m 19s\tremaining: 1m 54s\n",
      "768:\tlearn: 1755.5019301\ttotal: 6m 20s\tremaining: 1m 54s\n",
      "769:\tlearn: 1755.4271236\ttotal: 6m 20s\tremaining: 1m 53s\n",
      "770:\tlearn: 1755.3054388\ttotal: 6m 21s\tremaining: 1m 53s\n",
      "771:\tlearn: 1755.2578332\ttotal: 6m 21s\tremaining: 1m 52s\n",
      "772:\tlearn: 1755.1671789\ttotal: 6m 22s\tremaining: 1m 52s\n",
      "773:\tlearn: 1754.9202059\ttotal: 6m 22s\tremaining: 1m 51s\n",
      "774:\tlearn: 1754.8077167\ttotal: 6m 23s\tremaining: 1m 51s\n",
      "775:\tlearn: 1754.7649838\ttotal: 6m 23s\tremaining: 1m 50s\n",
      "776:\tlearn: 1754.7087163\ttotal: 6m 24s\tremaining: 1m 50s\n",
      "777:\tlearn: 1754.5962355\ttotal: 6m 24s\tremaining: 1m 49s\n",
      "778:\tlearn: 1754.4994883\ttotal: 6m 25s\tremaining: 1m 49s\n",
      "779:\tlearn: 1754.4660361\ttotal: 6m 25s\tremaining: 1m 48s\n",
      "780:\tlearn: 1754.3838312\ttotal: 6m 26s\tremaining: 1m 48s\n",
      "781:\tlearn: 1754.3815519\ttotal: 6m 26s\tremaining: 1m 47s\n",
      "782:\tlearn: 1754.3414679\ttotal: 6m 27s\tremaining: 1m 47s\n",
      "783:\tlearn: 1754.2187337\ttotal: 6m 27s\tremaining: 1m 46s\n",
      "784:\tlearn: 1754.1675386\ttotal: 6m 28s\tremaining: 1m 46s\n",
      "785:\tlearn: 1754.1341560\ttotal: 6m 28s\tremaining: 1m 45s\n",
      "786:\tlearn: 1753.9163791\ttotal: 6m 29s\tremaining: 1m 45s\n",
      "787:\tlearn: 1753.7366556\ttotal: 6m 29s\tremaining: 1m 44s\n",
      "788:\tlearn: 1753.5571213\ttotal: 6m 30s\tremaining: 1m 44s\n",
      "789:\tlearn: 1753.5468054\ttotal: 6m 30s\tremaining: 1m 43s\n",
      "790:\tlearn: 1753.4908721\ttotal: 6m 30s\tremaining: 1m 43s\n",
      "791:\tlearn: 1753.4583969\ttotal: 6m 31s\tremaining: 1m 42s\n",
      "792:\tlearn: 1753.3128987\ttotal: 6m 31s\tremaining: 1m 42s\n",
      "793:\tlearn: 1753.2082198\ttotal: 6m 32s\tremaining: 1m 41s\n",
      "794:\tlearn: 1753.1766963\ttotal: 6m 32s\tremaining: 1m 41s\n",
      "795:\tlearn: 1753.1259846\ttotal: 6m 33s\tremaining: 1m 40s\n",
      "796:\tlearn: 1753.0300609\ttotal: 6m 33s\tremaining: 1m 40s\n",
      "797:\tlearn: 1752.9650700\ttotal: 6m 34s\tremaining: 1m 39s\n",
      "798:\tlearn: 1752.7090982\ttotal: 6m 34s\tremaining: 1m 39s\n",
      "799:\tlearn: 1752.5773507\ttotal: 6m 35s\tremaining: 1m 38s\n",
      "800:\tlearn: 1752.3565182\ttotal: 6m 35s\tremaining: 1m 38s\n",
      "801:\tlearn: 1752.2477634\ttotal: 6m 36s\tremaining: 1m 37s\n",
      "802:\tlearn: 1752.0712408\ttotal: 6m 36s\tremaining: 1m 37s\n",
      "803:\tlearn: 1752.0294986\ttotal: 6m 37s\tremaining: 1m 36s\n",
      "804:\tlearn: 1751.9475873\ttotal: 6m 37s\tremaining: 1m 36s\n",
      "805:\tlearn: 1751.7979495\ttotal: 6m 38s\tremaining: 1m 35s\n",
      "806:\tlearn: 1751.6432265\ttotal: 6m 38s\tremaining: 1m 35s\n",
      "807:\tlearn: 1751.6271330\ttotal: 6m 39s\tremaining: 1m 34s\n",
      "808:\tlearn: 1751.6092463\ttotal: 6m 39s\tremaining: 1m 34s\n",
      "809:\tlearn: 1751.5120899\ttotal: 6m 40s\tremaining: 1m 33s\n",
      "810:\tlearn: 1751.3582029\ttotal: 6m 40s\tremaining: 1m 33s\n",
      "811:\tlearn: 1751.3554765\ttotal: 6m 41s\tremaining: 1m 32s\n",
      "812:\tlearn: 1751.2137238\ttotal: 6m 41s\tremaining: 1m 32s\n",
      "813:\tlearn: 1751.1627291\ttotal: 6m 42s\tremaining: 1m 31s\n",
      "814:\tlearn: 1751.1496132\ttotal: 6m 42s\tremaining: 1m 31s\n",
      "815:\tlearn: 1751.0323460\ttotal: 6m 43s\tremaining: 1m 30s\n",
      "816:\tlearn: 1750.9249482\ttotal: 6m 43s\tremaining: 1m 30s\n",
      "817:\tlearn: 1750.8033090\ttotal: 6m 44s\tremaining: 1m 29s\n",
      "818:\tlearn: 1750.7522211\ttotal: 6m 44s\tremaining: 1m 29s\n",
      "819:\tlearn: 1750.5980443\ttotal: 6m 45s\tremaining: 1m 28s\n",
      "820:\tlearn: 1750.5535563\ttotal: 6m 45s\tremaining: 1m 28s\n",
      "821:\tlearn: 1750.3211570\ttotal: 6m 46s\tremaining: 1m 28s\n",
      "822:\tlearn: 1750.2042587\ttotal: 6m 47s\tremaining: 1m 27s\n",
      "823:\tlearn: 1750.1246087\ttotal: 6m 47s\tremaining: 1m 27s\n",
      "824:\tlearn: 1750.0563463\ttotal: 6m 48s\tremaining: 1m 26s\n",
      "825:\tlearn: 1749.9338553\ttotal: 6m 48s\tremaining: 1m 26s\n",
      "826:\tlearn: 1749.8820457\ttotal: 6m 49s\tremaining: 1m 25s\n",
      "827:\tlearn: 1749.8788636\ttotal: 6m 49s\tremaining: 1m 25s\n",
      "828:\tlearn: 1749.8690428\ttotal: 6m 49s\tremaining: 1m 24s\n",
      "829:\tlearn: 1749.7702806\ttotal: 6m 50s\tremaining: 1m 24s\n",
      "830:\tlearn: 1749.7013185\ttotal: 6m 51s\tremaining: 1m 23s\n",
      "831:\tlearn: 1749.6694025\ttotal: 6m 51s\tremaining: 1m 23s\n",
      "832:\tlearn: 1749.4918647\ttotal: 6m 52s\tremaining: 1m 22s\n",
      "833:\tlearn: 1749.4174695\ttotal: 6m 52s\tremaining: 1m 22s\n",
      "834:\tlearn: 1749.3720733\ttotal: 6m 53s\tremaining: 1m 21s\n",
      "835:\tlearn: 1749.2528788\ttotal: 6m 53s\tremaining: 1m 21s\n",
      "836:\tlearn: 1749.2009743\ttotal: 6m 54s\tremaining: 1m 20s\n",
      "837:\tlearn: 1749.1243598\ttotal: 6m 54s\tremaining: 1m 20s\n",
      "838:\tlearn: 1749.0343195\ttotal: 6m 55s\tremaining: 1m 19s\n",
      "839:\tlearn: 1748.9602689\ttotal: 6m 55s\tremaining: 1m 19s\n",
      "840:\tlearn: 1748.7934999\ttotal: 6m 56s\tremaining: 1m 18s\n",
      "841:\tlearn: 1748.7328627\ttotal: 6m 56s\tremaining: 1m 18s\n",
      "842:\tlearn: 1748.4355355\ttotal: 6m 56s\tremaining: 1m 17s\n",
      "843:\tlearn: 1748.3594449\ttotal: 6m 57s\tremaining: 1m 17s\n",
      "844:\tlearn: 1748.3195954\ttotal: 6m 58s\tremaining: 1m 16s\n",
      "845:\tlearn: 1748.2813099\ttotal: 6m 58s\tremaining: 1m 16s\n",
      "846:\tlearn: 1748.2410454\ttotal: 6m 59s\tremaining: 1m 15s\n",
      "847:\tlearn: 1748.1430642\ttotal: 6m 59s\tremaining: 1m 15s\n",
      "848:\tlearn: 1748.0244025\ttotal: 7m\tremaining: 1m 14s\n",
      "849:\tlearn: 1747.7844530\ttotal: 7m\tremaining: 1m 14s\n",
      "850:\tlearn: 1747.6752287\ttotal: 7m 1s\tremaining: 1m 13s\n",
      "851:\tlearn: 1747.6410810\ttotal: 7m 1s\tremaining: 1m 13s\n",
      "852:\tlearn: 1747.5146855\ttotal: 7m 1s\tremaining: 1m 12s\n",
      "853:\tlearn: 1747.4694578\ttotal: 7m 2s\tremaining: 1m 12s\n",
      "854:\tlearn: 1747.3252347\ttotal: 7m 2s\tremaining: 1m 11s\n",
      "855:\tlearn: 1747.2766038\ttotal: 7m 3s\tremaining: 1m 11s\n",
      "856:\tlearn: 1747.2219834\ttotal: 7m 3s\tremaining: 1m 10s\n",
      "857:\tlearn: 1747.0922617\ttotal: 7m 4s\tremaining: 1m 10s\n",
      "858:\tlearn: 1747.0787539\ttotal: 7m 5s\tremaining: 1m 9s\n",
      "859:\tlearn: 1747.0457750\ttotal: 7m 5s\tremaining: 1m 9s\n",
      "860:\tlearn: 1746.9222361\ttotal: 7m 6s\tremaining: 1m 8s\n",
      "861:\tlearn: 1746.8009325\ttotal: 7m 6s\tremaining: 1m 8s\n",
      "862:\tlearn: 1746.7497009\ttotal: 7m 7s\tremaining: 1m 7s\n",
      "863:\tlearn: 1746.6472288\ttotal: 7m 7s\tremaining: 1m 7s\n",
      "864:\tlearn: 1746.4622829\ttotal: 7m 7s\tremaining: 1m 6s\n",
      "865:\tlearn: 1746.3891256\ttotal: 7m 8s\tremaining: 1m 6s\n",
      "866:\tlearn: 1746.3649293\ttotal: 7m 8s\tremaining: 1m 5s\n",
      "867:\tlearn: 1746.2959299\ttotal: 7m 9s\tremaining: 1m 5s\n",
      "868:\tlearn: 1746.2321586\ttotal: 7m 9s\tremaining: 1m 4s\n",
      "869:\tlearn: 1746.0798724\ttotal: 7m 10s\tremaining: 1m 4s\n",
      "870:\tlearn: 1745.9958054\ttotal: 7m 11s\tremaining: 1m 3s\n",
      "871:\tlearn: 1745.8820341\ttotal: 7m 11s\tremaining: 1m 3s\n",
      "872:\tlearn: 1745.8570155\ttotal: 7m 11s\tremaining: 1m 2s\n",
      "873:\tlearn: 1745.8240305\ttotal: 7m 12s\tremaining: 1m 2s\n",
      "874:\tlearn: 1745.6790061\ttotal: 7m 12s\tremaining: 1m 1s\n"
     ]
    },
    {
     "name": "stdout",
     "output_type": "stream",
     "text": [
      "875:\tlearn: 1745.6427523\ttotal: 7m 13s\tremaining: 1m 1s\n",
      "876:\tlearn: 1745.5845291\ttotal: 7m 13s\tremaining: 1m\n",
      "877:\tlearn: 1745.5440528\ttotal: 7m 14s\tremaining: 1m\n",
      "878:\tlearn: 1745.5007801\ttotal: 7m 15s\tremaining: 59.9s\n",
      "879:\tlearn: 1745.4304879\ttotal: 7m 15s\tremaining: 59.4s\n",
      "880:\tlearn: 1745.3281287\ttotal: 7m 16s\tremaining: 58.9s\n",
      "881:\tlearn: 1745.1884648\ttotal: 7m 16s\tremaining: 58.4s\n",
      "882:\tlearn: 1745.1818480\ttotal: 7m 16s\tremaining: 57.9s\n",
      "883:\tlearn: 1745.0904748\ttotal: 7m 17s\tremaining: 57.4s\n",
      "884:\tlearn: 1744.8664506\ttotal: 7m 18s\tremaining: 56.9s\n",
      "885:\tlearn: 1744.8418856\ttotal: 7m 18s\tremaining: 56.4s\n",
      "886:\tlearn: 1744.7788986\ttotal: 7m 19s\tremaining: 55.9s\n",
      "887:\tlearn: 1744.6734402\ttotal: 7m 19s\tremaining: 55.4s\n",
      "888:\tlearn: 1744.6634627\ttotal: 7m 20s\tremaining: 54.9s\n",
      "889:\tlearn: 1744.5782562\ttotal: 7m 20s\tremaining: 54.5s\n",
      "890:\tlearn: 1744.4962700\ttotal: 7m 21s\tremaining: 54s\n",
      "891:\tlearn: 1744.4391981\ttotal: 7m 21s\tremaining: 53.5s\n",
      "892:\tlearn: 1744.4178139\ttotal: 7m 22s\tremaining: 53s\n",
      "893:\tlearn: 1744.3551875\ttotal: 7m 22s\tremaining: 52.5s\n",
      "894:\tlearn: 1744.3278384\ttotal: 7m 23s\tremaining: 52s\n",
      "895:\tlearn: 1744.3205794\ttotal: 7m 23s\tremaining: 51.5s\n",
      "896:\tlearn: 1744.2548835\ttotal: 7m 23s\tremaining: 51s\n",
      "897:\tlearn: 1744.1388352\ttotal: 7m 24s\tremaining: 50.5s\n",
      "898:\tlearn: 1744.0380775\ttotal: 7m 25s\tremaining: 50s\n",
      "899:\tlearn: 1744.0233870\ttotal: 7m 25s\tremaining: 49.5s\n",
      "900:\tlearn: 1743.9840771\ttotal: 7m 26s\tremaining: 49s\n",
      "901:\tlearn: 1743.9401655\ttotal: 7m 26s\tremaining: 48.5s\n",
      "902:\tlearn: 1743.9130975\ttotal: 7m 27s\tremaining: 48s\n",
      "903:\tlearn: 1743.8838196\ttotal: 7m 27s\tremaining: 47.5s\n",
      "904:\tlearn: 1743.7879275\ttotal: 7m 28s\tremaining: 47s\n",
      "905:\tlearn: 1743.6913442\ttotal: 7m 28s\tremaining: 46.5s\n",
      "906:\tlearn: 1743.5784170\ttotal: 7m 29s\tremaining: 46s\n",
      "907:\tlearn: 1743.5208201\ttotal: 7m 29s\tremaining: 45.5s\n",
      "908:\tlearn: 1743.4938459\ttotal: 7m 30s\tremaining: 45s\n",
      "909:\tlearn: 1743.2820393\ttotal: 7m 30s\tremaining: 44.6s\n",
      "910:\tlearn: 1743.2384817\ttotal: 7m 30s\tremaining: 44.1s\n",
      "911:\tlearn: 1743.2133998\ttotal: 7m 31s\tremaining: 43.6s\n",
      "912:\tlearn: 1743.1291572\ttotal: 7m 31s\tremaining: 43.1s\n",
      "913:\tlearn: 1743.0394239\ttotal: 7m 32s\tremaining: 42.6s\n",
      "914:\tlearn: 1743.0330214\ttotal: 7m 32s\tremaining: 42.1s\n",
      "915:\tlearn: 1742.9975909\ttotal: 7m 33s\tremaining: 41.6s\n",
      "916:\tlearn: 1742.9422078\ttotal: 7m 33s\tremaining: 41.1s\n",
      "917:\tlearn: 1742.9015234\ttotal: 7m 34s\tremaining: 40.6s\n",
      "918:\tlearn: 1742.8989161\ttotal: 7m 34s\tremaining: 40.1s\n",
      "919:\tlearn: 1742.8260045\ttotal: 7m 35s\tremaining: 39.6s\n",
      "920:\tlearn: 1742.8056536\ttotal: 7m 35s\tremaining: 39.1s\n",
      "921:\tlearn: 1742.7535097\ttotal: 7m 36s\tremaining: 38.6s\n",
      "922:\tlearn: 1742.5875278\ttotal: 7m 36s\tremaining: 38.1s\n",
      "923:\tlearn: 1742.4864868\ttotal: 7m 37s\tremaining: 37.6s\n",
      "924:\tlearn: 1742.3524000\ttotal: 7m 37s\tremaining: 37.1s\n",
      "925:\tlearn: 1742.2524344\ttotal: 7m 38s\tremaining: 36.6s\n",
      "926:\tlearn: 1742.1471716\ttotal: 7m 38s\tremaining: 36.1s\n",
      "927:\tlearn: 1742.0708567\ttotal: 7m 39s\tremaining: 35.6s\n",
      "928:\tlearn: 1741.9849276\ttotal: 7m 39s\tremaining: 35.1s\n",
      "929:\tlearn: 1741.9487244\ttotal: 7m 40s\tremaining: 34.6s\n",
      "930:\tlearn: 1741.9138113\ttotal: 7m 40s\tremaining: 34.1s\n",
      "931:\tlearn: 1741.8260714\ttotal: 7m 41s\tremaining: 33.6s\n",
      "932:\tlearn: 1741.7446003\ttotal: 7m 41s\tremaining: 33.1s\n",
      "933:\tlearn: 1741.6057435\ttotal: 7m 42s\tremaining: 32.7s\n",
      "934:\tlearn: 1741.4995984\ttotal: 7m 42s\tremaining: 32.2s\n",
      "935:\tlearn: 1741.4108541\ttotal: 7m 43s\tremaining: 31.7s\n",
      "936:\tlearn: 1741.4013337\ttotal: 7m 43s\tremaining: 31.2s\n",
      "937:\tlearn: 1741.3512369\ttotal: 7m 44s\tremaining: 30.7s\n",
      "938:\tlearn: 1741.3368297\ttotal: 7m 44s\tremaining: 30.2s\n",
      "939:\tlearn: 1741.2396388\ttotal: 7m 44s\tremaining: 29.7s\n",
      "940:\tlearn: 1741.2298585\ttotal: 7m 45s\tremaining: 29.2s\n",
      "941:\tlearn: 1741.1347294\ttotal: 7m 46s\tremaining: 28.7s\n",
      "942:\tlearn: 1741.0868268\ttotal: 7m 46s\tremaining: 28.2s\n",
      "943:\tlearn: 1741.0546263\ttotal: 7m 46s\tremaining: 27.7s\n",
      "944:\tlearn: 1740.9106011\ttotal: 7m 47s\tremaining: 27.2s\n",
      "945:\tlearn: 1740.8251199\ttotal: 7m 47s\tremaining: 26.7s\n",
      "946:\tlearn: 1740.7717316\ttotal: 7m 48s\tremaining: 26.2s\n",
      "947:\tlearn: 1740.5876903\ttotal: 7m 48s\tremaining: 25.7s\n",
      "948:\tlearn: 1740.5606138\ttotal: 7m 49s\tremaining: 25.2s\n",
      "949:\tlearn: 1740.4960352\ttotal: 7m 49s\tremaining: 24.7s\n",
      "950:\tlearn: 1740.4668011\ttotal: 7m 50s\tremaining: 24.2s\n",
      "951:\tlearn: 1740.4247182\ttotal: 7m 50s\tremaining: 23.7s\n",
      "952:\tlearn: 1740.2797376\ttotal: 7m 51s\tremaining: 23.2s\n",
      "953:\tlearn: 1740.2616066\ttotal: 7m 51s\tremaining: 22.7s\n",
      "954:\tlearn: 1740.2302461\ttotal: 7m 52s\tremaining: 22.3s\n",
      "955:\tlearn: 1740.2103020\ttotal: 7m 52s\tremaining: 21.8s\n",
      "956:\tlearn: 1740.1696956\ttotal: 7m 53s\tremaining: 21.3s\n",
      "957:\tlearn: 1740.0732710\ttotal: 7m 53s\tremaining: 20.8s\n",
      "958:\tlearn: 1740.0426453\ttotal: 7m 54s\tremaining: 20.3s\n",
      "959:\tlearn: 1740.0117021\ttotal: 7m 54s\tremaining: 19.8s\n",
      "960:\tlearn: 1739.9918778\ttotal: 7m 55s\tremaining: 19.3s\n",
      "961:\tlearn: 1739.8592168\ttotal: 7m 55s\tremaining: 18.8s\n",
      "962:\tlearn: 1739.8306096\ttotal: 7m 56s\tremaining: 18.3s\n",
      "963:\tlearn: 1739.7345520\ttotal: 7m 56s\tremaining: 17.8s\n",
      "964:\tlearn: 1739.6364446\ttotal: 7m 57s\tremaining: 17.3s\n",
      "965:\tlearn: 1739.6310037\ttotal: 7m 57s\tremaining: 16.8s\n",
      "966:\tlearn: 1739.5429086\ttotal: 7m 58s\tremaining: 16.3s\n",
      "967:\tlearn: 1739.4500258\ttotal: 7m 58s\tremaining: 15.8s\n",
      "968:\tlearn: 1739.4023088\ttotal: 7m 59s\tremaining: 15.3s\n",
      "969:\tlearn: 1739.3527325\ttotal: 7m 59s\tremaining: 14.8s\n",
      "970:\tlearn: 1739.3372628\ttotal: 8m\tremaining: 14.3s\n",
      "971:\tlearn: 1739.3365313\ttotal: 8m\tremaining: 13.8s\n",
      "972:\tlearn: 1739.2317894\ttotal: 8m 1s\tremaining: 13.4s\n",
      "973:\tlearn: 1739.1636657\ttotal: 8m 1s\tremaining: 12.9s\n",
      "974:\tlearn: 1739.1284529\ttotal: 8m 2s\tremaining: 12.4s\n",
      "975:\tlearn: 1739.0450034\ttotal: 8m 2s\tremaining: 11.9s\n",
      "976:\tlearn: 1739.0312001\ttotal: 8m 3s\tremaining: 11.4s\n",
      "977:\tlearn: 1738.8973512\ttotal: 8m 3s\tremaining: 10.9s\n",
      "978:\tlearn: 1738.8943018\ttotal: 8m 3s\tremaining: 10.4s\n",
      "979:\tlearn: 1738.8254611\ttotal: 8m 4s\tremaining: 9.89s\n",
      "980:\tlearn: 1738.7096916\ttotal: 8m 4s\tremaining: 9.39s\n",
      "981:\tlearn: 1738.6700095\ttotal: 8m 5s\tremaining: 8.9s\n",
      "982:\tlearn: 1738.6574293\ttotal: 8m 5s\tremaining: 8.4s\n",
      "983:\tlearn: 1738.6203717\ttotal: 8m 6s\tremaining: 7.91s\n",
      "984:\tlearn: 1738.6025191\ttotal: 8m 6s\tremaining: 7.41s\n",
      "985:\tlearn: 1738.4020904\ttotal: 8m 7s\tremaining: 6.92s\n",
      "986:\tlearn: 1738.4005309\ttotal: 8m 7s\tremaining: 6.42s\n",
      "987:\tlearn: 1738.2385539\ttotal: 8m 8s\tremaining: 5.93s\n",
      "988:\tlearn: 1738.1728230\ttotal: 8m 8s\tremaining: 5.43s\n",
      "989:\tlearn: 1738.1649769\ttotal: 8m 9s\tremaining: 4.94s\n",
      "990:\tlearn: 1737.9807869\ttotal: 8m 9s\tremaining: 4.45s\n",
      "991:\tlearn: 1737.9448838\ttotal: 8m 9s\tremaining: 3.95s\n",
      "992:\tlearn: 1737.9145995\ttotal: 8m 10s\tremaining: 3.46s\n",
      "993:\tlearn: 1737.8784344\ttotal: 8m 11s\tremaining: 2.96s\n",
      "994:\tlearn: 1737.8401797\ttotal: 8m 11s\tremaining: 2.47s\n",
      "995:\tlearn: 1737.7510075\ttotal: 8m 12s\tremaining: 1.98s\n",
      "996:\tlearn: 1737.7105814\ttotal: 8m 12s\tremaining: 1.48s\n",
      "997:\tlearn: 1737.6976033\ttotal: 8m 13s\tremaining: 988ms\n",
      "998:\tlearn: 1737.6013688\ttotal: 8m 13s\tremaining: 494ms\n",
      "999:\tlearn: 1737.5936180\ttotal: 8m 14s\tremaining: 0us\n",
      "CPU times: user 8min 12s, sys: 1.08 s, total: 8min 13s\n",
      "Wall time: 8min 17s\n"
     ]
    },
    {
     "data": {
      "text/plain": [
       "<catboost.core.CatBoostRegressor at 0x7f7914902760>"
      ]
     },
     "execution_count": 51,
     "metadata": {},
     "output_type": "execute_result"
    }
   ],
   "source": [
    "%%time\n",
    "# Entrenamos el modelo\n",
    "model_cb.fit(\n",
    "    train_df[features].fillna(-100),\n",
    "    train_df[target],\n",
    "    cat_features=categorical_features,\n",
    "    early_stopping_rounds=5\n",
    ")"
   ]
  },
  {
   "cell_type": "markdown",
   "metadata": {},
   "source": [
    "El modelo CatBoost tomó aproximadamente 8 minutos y 18 segundos para completar el entrenamiento. Este tiempo es considerablemente más largo en comparación con modelos más ligeros como LightGBM o RandomForest, pero es típico para modelos complejos que buscan optimizar la precisión mediante técnicas avanzadas como el boosting.\n",
    "\n",
    "Durante el entrenamiento, el modelo redujo gradualmente el error cuadrático medio (RMSE) de aprendizaje hasta alcanzar un valor de 1737.5936. Esto indica que el modelo está ajustando bien los datos de entrenamiento y aprendiendo las relaciones complejas entre las características y la variable objetivo."
   ]
  },
  {
   "cell_type": "code",
   "execution_count": 52,
   "metadata": {},
   "outputs": [
    {
     "name": "stdout",
     "output_type": "stream",
     "text": [
      "\n",
      "Catboost performance:\n",
      "1789.4143\n",
      "\n",
      "CPU times: user 680 ms, sys: 16 µs, total: 680 ms\n",
      "Wall time: 680 ms\n"
     ]
    }
   ],
   "source": [
    "%%time\n",
    "# Predecimos los precios en el conjunto de prueba\n",
    "preds_cb = model_cb.predict(test_df[features].fillna(-100))\n",
    "\n",
    "# Evaluamos el modelo\n",
    "print(f\"\"\"\n",
    "Catboost performance:\n",
    "{round(mean_squared_error(test_df[target], preds_cb)**0.5, 4)}\n",
    "\"\"\")"
   ]
  },
  {
   "cell_type": "markdown",
   "metadata": {},
   "source": [
    "La fase de predicción fue extremadamente rápida, tomando solo 644 milisegundos. Esta eficiencia es una ventaja significativa en aplicaciones donde se requieren predicciones rápidas y en tiempo real.\n",
    "\n",
    "El RMSE obtenido en la predicción fue de 1789.4143, lo cual es coherente con el rendimiento observado durante el entrenamiento, por lo que es un modelo muy competitivo y muestra una buena capacidad de generalización del modelo."
   ]
  },
  {
   "cell_type": "markdown",
   "metadata": {},
   "source": [
    " ## Modelo CatBoost  (conjunto con variable model)."
   ]
  },
  {
   "cell_type": "code",
   "execution_count": 63,
   "metadata": {},
   "outputs": [
    {
     "name": "stdout",
     "output_type": "stream",
     "text": [
      "Learning rate set to 0.099927\n",
      "0:\tlearn: 4228.7932062\ttotal: 786ms\tremaining: 13m 4s\n",
      "1:\tlearn: 3979.5509232\ttotal: 1.47s\tremaining: 12m 11s\n",
      "2:\tlearn: 3766.7458114\ttotal: 2.1s\tremaining: 11m 38s\n",
      "3:\tlearn: 3574.5789184\ttotal: 2.82s\tremaining: 11m 42s\n",
      "4:\tlearn: 3407.2347158\ttotal: 3.54s\tremaining: 11m 44s\n",
      "5:\tlearn: 3257.1176971\ttotal: 4.12s\tremaining: 11m 22s\n",
      "6:\tlearn: 3119.4775514\ttotal: 4.68s\tremaining: 11m 4s\n",
      "7:\tlearn: 3005.3577854\ttotal: 5.32s\tremaining: 11m\n",
      "8:\tlearn: 2907.5115378\ttotal: 5.94s\tremaining: 10m 53s\n",
      "9:\tlearn: 2808.4249434\ttotal: 6.59s\tremaining: 10m 52s\n",
      "10:\tlearn: 2723.9655788\ttotal: 7.25s\tremaining: 10m 51s\n",
      "11:\tlearn: 2648.9425691\ttotal: 7.93s\tremaining: 10m 53s\n",
      "12:\tlearn: 2584.6482808\ttotal: 8.63s\tremaining: 10m 55s\n",
      "13:\tlearn: 2527.1599228\ttotal: 9.17s\tremaining: 10m 46s\n",
      "14:\tlearn: 2472.7703628\ttotal: 9.74s\tremaining: 10m 39s\n",
      "15:\tlearn: 2424.1300878\ttotal: 10.4s\tremaining: 10m 39s\n",
      "16:\tlearn: 2379.3576421\ttotal: 11s\tremaining: 10m 38s\n",
      "17:\tlearn: 2343.4116777\ttotal: 11.7s\tremaining: 10m 36s\n",
      "18:\tlearn: 2310.9641715\ttotal: 12.2s\tremaining: 10m 32s\n",
      "19:\tlearn: 2282.6691303\ttotal: 12.9s\tremaining: 10m 29s\n",
      "20:\tlearn: 2256.0743168\ttotal: 13.5s\tremaining: 10m 27s\n",
      "21:\tlearn: 2233.4521094\ttotal: 14s\tremaining: 10m 24s\n",
      "22:\tlearn: 2214.4264722\ttotal: 14.6s\tremaining: 10m 21s\n",
      "23:\tlearn: 2195.6806170\ttotal: 15.2s\tremaining: 10m 18s\n",
      "24:\tlearn: 2178.4819847\ttotal: 15.8s\tremaining: 10m 15s\n",
      "25:\tlearn: 2163.2245937\ttotal: 16.4s\tremaining: 10m 12s\n",
      "26:\tlearn: 2150.3305367\ttotal: 16.8s\tremaining: 10m 5s\n",
      "27:\tlearn: 2137.0198912\ttotal: 17.4s\tremaining: 10m 4s\n",
      "28:\tlearn: 2126.7777561\ttotal: 18s\tremaining: 10m 1s\n",
      "29:\tlearn: 2116.9519575\ttotal: 18.5s\tremaining: 9m 58s\n",
      "30:\tlearn: 2105.5626531\ttotal: 19.2s\tremaining: 9m 59s\n",
      "31:\tlearn: 2095.9115045\ttotal: 19.8s\tremaining: 9m 59s\n",
      "32:\tlearn: 2088.7879396\ttotal: 20.4s\tremaining: 9m 57s\n",
      "33:\tlearn: 2080.7999578\ttotal: 21s\tremaining: 9m 55s\n",
      "34:\tlearn: 2074.6472899\ttotal: 21.6s\tremaining: 9m 54s\n",
      "35:\tlearn: 2067.1893521\ttotal: 22.2s\tremaining: 9m 54s\n",
      "36:\tlearn: 2061.7167088\ttotal: 22.8s\tremaining: 9m 53s\n",
      "37:\tlearn: 2055.6738020\ttotal: 23.4s\tremaining: 9m 53s\n",
      "38:\tlearn: 2049.8252842\ttotal: 24.1s\tremaining: 9m 53s\n",
      "39:\tlearn: 2041.9382670\ttotal: 24.6s\tremaining: 9m 51s\n",
      "40:\tlearn: 2036.0549922\ttotal: 25.2s\tremaining: 9m 48s\n",
      "41:\tlearn: 2031.4821305\ttotal: 25.8s\tremaining: 9m 48s\n",
      "42:\tlearn: 2026.9183517\ttotal: 26.4s\tremaining: 9m 47s\n",
      "43:\tlearn: 2022.1979558\ttotal: 27s\tremaining: 9m 47s\n",
      "44:\tlearn: 2018.2601250\ttotal: 27.6s\tremaining: 9m 45s\n",
      "45:\tlearn: 2014.3384128\ttotal: 28s\tremaining: 9m 41s\n",
      "46:\tlearn: 2010.7766026\ttotal: 28.7s\tremaining: 9m 41s\n",
      "47:\tlearn: 2007.6066724\ttotal: 29.3s\tremaining: 9m 40s\n",
      "48:\tlearn: 2003.9904249\ttotal: 29.8s\tremaining: 9m 39s\n",
      "49:\tlearn: 2000.2304409\ttotal: 30.4s\tremaining: 9m 37s\n",
      "50:\tlearn: 1997.2426898\ttotal: 31s\tremaining: 9m 37s\n",
      "51:\tlearn: 1993.3322444\ttotal: 31.7s\tremaining: 9m 37s\n",
      "52:\tlearn: 1990.9010292\ttotal: 32.2s\tremaining: 9m 36s\n",
      "53:\tlearn: 1988.8557181\ttotal: 32.9s\tremaining: 9m 35s\n",
      "54:\tlearn: 1985.4042368\ttotal: 33.3s\tremaining: 9m 32s\n",
      "55:\tlearn: 1983.1994378\ttotal: 34s\tremaining: 9m 32s\n",
      "56:\tlearn: 1979.7939362\ttotal: 34.6s\tremaining: 9m 32s\n",
      "57:\tlearn: 1976.4060752\ttotal: 35.2s\tremaining: 9m 31s\n",
      "58:\tlearn: 1974.1545704\ttotal: 35.7s\tremaining: 9m 29s\n",
      "59:\tlearn: 1972.4838679\ttotal: 36.3s\tremaining: 9m 28s\n",
      "60:\tlearn: 1970.6589340\ttotal: 36.9s\tremaining: 9m 28s\n",
      "61:\tlearn: 1968.3938595\ttotal: 37.5s\tremaining: 9m 26s\n",
      "62:\tlearn: 1965.3875399\ttotal: 38.1s\tremaining: 9m 26s\n",
      "63:\tlearn: 1963.5810391\ttotal: 38.7s\tremaining: 9m 25s\n",
      "64:\tlearn: 1960.8518085\ttotal: 39.2s\tremaining: 9m 24s\n",
      "65:\tlearn: 1958.7573223\ttotal: 39.7s\tremaining: 9m 21s\n",
      "66:\tlearn: 1956.5817719\ttotal: 40.3s\tremaining: 9m 21s\n",
      "67:\tlearn: 1953.2731838\ttotal: 40.9s\tremaining: 9m 20s\n",
      "68:\tlearn: 1951.6229732\ttotal: 41.4s\tremaining: 9m 19s\n",
      "69:\tlearn: 1948.8121808\ttotal: 42.1s\tremaining: 9m 19s\n",
      "70:\tlearn: 1947.1693171\ttotal: 42.7s\tremaining: 9m 18s\n",
      "71:\tlearn: 1945.0137633\ttotal: 43.2s\tremaining: 9m 16s\n",
      "72:\tlearn: 1943.5482908\ttotal: 43.9s\tremaining: 9m 17s\n",
      "73:\tlearn: 1940.6579837\ttotal: 44.5s\tremaining: 9m 16s\n",
      "74:\tlearn: 1938.6257195\ttotal: 45s\tremaining: 9m 14s\n",
      "75:\tlearn: 1936.9758177\ttotal: 45.6s\tremaining: 9m 14s\n",
      "76:\tlearn: 1935.3184548\ttotal: 46.2s\tremaining: 9m 13s\n",
      "77:\tlearn: 1933.2637286\ttotal: 46.7s\tremaining: 9m 12s\n",
      "78:\tlearn: 1931.3702693\ttotal: 47.2s\tremaining: 9m 10s\n",
      "79:\tlearn: 1930.1286080\ttotal: 47.7s\tremaining: 9m 8s\n",
      "80:\tlearn: 1928.8829454\ttotal: 48.1s\tremaining: 9m 6s\n",
      "81:\tlearn: 1927.8513679\ttotal: 48.7s\tremaining: 9m 5s\n",
      "82:\tlearn: 1926.2669140\ttotal: 49.4s\tremaining: 9m 5s\n",
      "83:\tlearn: 1925.3936526\ttotal: 49.9s\tremaining: 9m 4s\n",
      "84:\tlearn: 1924.4117968\ttotal: 50.5s\tremaining: 9m 3s\n",
      "85:\tlearn: 1922.9244706\ttotal: 51s\tremaining: 9m 2s\n",
      "86:\tlearn: 1921.5506750\ttotal: 51.6s\tremaining: 9m 1s\n",
      "87:\tlearn: 1920.3379529\ttotal: 52s\tremaining: 8m 59s\n",
      "88:\tlearn: 1918.7908931\ttotal: 52.7s\tremaining: 8m 58s\n",
      "89:\tlearn: 1917.6990487\ttotal: 53.2s\tremaining: 8m 57s\n",
      "90:\tlearn: 1916.0625316\ttotal: 53.7s\tremaining: 8m 56s\n",
      "91:\tlearn: 1915.1818572\ttotal: 54.3s\tremaining: 8m 55s\n",
      "92:\tlearn: 1914.1752842\ttotal: 54.8s\tremaining: 8m 54s\n",
      "93:\tlearn: 1912.6873879\ttotal: 55.3s\tremaining: 8m 52s\n",
      "94:\tlearn: 1911.3087091\ttotal: 56s\tremaining: 8m 53s\n",
      "95:\tlearn: 1910.0203690\ttotal: 56.5s\tremaining: 8m 52s\n",
      "96:\tlearn: 1909.0642799\ttotal: 57.2s\tremaining: 8m 52s\n",
      "97:\tlearn: 1907.7898601\ttotal: 57.7s\tremaining: 8m 51s\n",
      "98:\tlearn: 1906.6988237\ttotal: 58.3s\tremaining: 8m 50s\n",
      "99:\tlearn: 1904.9863248\ttotal: 59s\tremaining: 8m 50s\n",
      "100:\tlearn: 1904.3783467\ttotal: 59.6s\tremaining: 8m 50s\n",
      "101:\tlearn: 1903.7479084\ttotal: 1m\tremaining: 8m 48s\n",
      "102:\tlearn: 1902.1444580\ttotal: 1m\tremaining: 8m 48s\n",
      "103:\tlearn: 1901.4703013\ttotal: 1m 1s\tremaining: 8m 47s\n",
      "104:\tlearn: 1900.3485853\ttotal: 1m 1s\tremaining: 8m 46s\n",
      "105:\tlearn: 1899.4728333\ttotal: 1m 2s\tremaining: 8m 45s\n",
      "106:\tlearn: 1898.9182183\ttotal: 1m 2s\tremaining: 8m 44s\n",
      "107:\tlearn: 1897.9923044\ttotal: 1m 3s\tremaining: 8m 43s\n",
      "108:\tlearn: 1896.9684449\ttotal: 1m 3s\tremaining: 8m 42s\n",
      "109:\tlearn: 1896.2800735\ttotal: 1m 4s\tremaining: 8m 42s\n",
      "110:\tlearn: 1895.3437622\ttotal: 1m 5s\tremaining: 8m 40s\n",
      "111:\tlearn: 1894.2029964\ttotal: 1m 5s\tremaining: 8m 40s\n",
      "112:\tlearn: 1893.6883727\ttotal: 1m 6s\tremaining: 8m 39s\n",
      "113:\tlearn: 1892.8188140\ttotal: 1m 6s\tremaining: 8m 38s\n",
      "114:\tlearn: 1891.2575093\ttotal: 1m 7s\tremaining: 8m 38s\n",
      "115:\tlearn: 1890.4149635\ttotal: 1m 7s\tremaining: 8m 38s\n",
      "116:\tlearn: 1889.3421363\ttotal: 1m 8s\tremaining: 8m 37s\n",
      "117:\tlearn: 1888.4898886\ttotal: 1m 9s\tremaining: 8m 36s\n",
      "118:\tlearn: 1887.7373834\ttotal: 1m 9s\tremaining: 8m 35s\n",
      "119:\tlearn: 1886.9696154\ttotal: 1m 10s\tremaining: 8m 35s\n",
      "120:\tlearn: 1885.7757239\ttotal: 1m 10s\tremaining: 8m 34s\n",
      "121:\tlearn: 1885.2718499\ttotal: 1m 11s\tremaining: 8m 34s\n",
      "122:\tlearn: 1883.9385142\ttotal: 1m 12s\tremaining: 8m 34s\n",
      "123:\tlearn: 1882.8706349\ttotal: 1m 12s\tremaining: 8m 32s\n",
      "124:\tlearn: 1882.1478750\ttotal: 1m 13s\tremaining: 8m 32s\n",
      "125:\tlearn: 1881.0029212\ttotal: 1m 13s\tremaining: 8m 31s\n",
      "126:\tlearn: 1879.8815257\ttotal: 1m 14s\tremaining: 8m 30s\n",
      "127:\tlearn: 1879.3459297\ttotal: 1m 14s\tremaining: 8m 29s\n",
      "128:\tlearn: 1878.7116346\ttotal: 1m 15s\tremaining: 8m 29s\n",
      "129:\tlearn: 1877.9954839\ttotal: 1m 16s\tremaining: 8m 29s\n",
      "130:\tlearn: 1877.3309354\ttotal: 1m 16s\tremaining: 8m 28s\n",
      "131:\tlearn: 1876.0089027\ttotal: 1m 17s\tremaining: 8m 28s\n",
      "132:\tlearn: 1875.0200092\ttotal: 1m 17s\tremaining: 8m 27s\n",
      "133:\tlearn: 1874.1375078\ttotal: 1m 18s\tremaining: 8m 26s\n",
      "134:\tlearn: 1873.1186057\ttotal: 1m 18s\tremaining: 8m 25s\n",
      "135:\tlearn: 1872.5394808\ttotal: 1m 19s\tremaining: 8m 24s\n",
      "136:\tlearn: 1872.0745934\ttotal: 1m 20s\tremaining: 8m 24s\n",
      "137:\tlearn: 1871.0323109\ttotal: 1m 20s\tremaining: 8m 24s\n",
      "138:\tlearn: 1870.2089378\ttotal: 1m 21s\tremaining: 8m 23s\n",
      "139:\tlearn: 1869.8281334\ttotal: 1m 22s\tremaining: 8m 23s\n",
      "140:\tlearn: 1868.9196983\ttotal: 1m 22s\tremaining: 8m 23s\n",
      "141:\tlearn: 1868.2856649\ttotal: 1m 23s\tremaining: 8m 23s\n",
      "142:\tlearn: 1867.0635420\ttotal: 1m 23s\tremaining: 8m 23s\n",
      "143:\tlearn: 1866.4344562\ttotal: 1m 24s\tremaining: 8m 22s\n",
      "144:\tlearn: 1865.8573077\ttotal: 1m 25s\tremaining: 8m 21s\n",
      "145:\tlearn: 1865.0647173\ttotal: 1m 25s\tremaining: 8m 21s\n",
      "146:\tlearn: 1864.2816583\ttotal: 1m 26s\tremaining: 8m 21s\n",
      "147:\tlearn: 1863.5023238\ttotal: 1m 27s\tremaining: 8m 21s\n"
     ]
    },
    {
     "name": "stdout",
     "output_type": "stream",
     "text": [
      "148:\tlearn: 1862.3628624\ttotal: 1m 27s\tremaining: 8m 21s\n",
      "149:\tlearn: 1861.6947448\ttotal: 1m 28s\tremaining: 8m 19s\n",
      "150:\tlearn: 1860.2225799\ttotal: 1m 28s\tremaining: 8m 19s\n",
      "151:\tlearn: 1859.3164150\ttotal: 1m 29s\tremaining: 8m 18s\n",
      "152:\tlearn: 1858.6695696\ttotal: 1m 29s\tremaining: 8m 18s\n",
      "153:\tlearn: 1857.9235804\ttotal: 1m 30s\tremaining: 8m 17s\n",
      "154:\tlearn: 1857.3050541\ttotal: 1m 31s\tremaining: 8m 16s\n",
      "155:\tlearn: 1856.6274751\ttotal: 1m 31s\tremaining: 8m 16s\n",
      "156:\tlearn: 1856.0868732\ttotal: 1m 32s\tremaining: 8m 15s\n",
      "157:\tlearn: 1855.2528596\ttotal: 1m 32s\tremaining: 8m 15s\n",
      "158:\tlearn: 1854.1571985\ttotal: 1m 33s\tremaining: 8m 14s\n",
      "159:\tlearn: 1853.2501016\ttotal: 1m 34s\tremaining: 8m 15s\n",
      "160:\tlearn: 1852.7757728\ttotal: 1m 34s\tremaining: 8m 14s\n",
      "161:\tlearn: 1851.9782169\ttotal: 1m 35s\tremaining: 8m 13s\n",
      "162:\tlearn: 1851.4467069\ttotal: 1m 35s\tremaining: 8m 12s\n",
      "163:\tlearn: 1850.8545845\ttotal: 1m 36s\tremaining: 8m 12s\n",
      "164:\tlearn: 1850.2281093\ttotal: 1m 37s\tremaining: 8m 12s\n",
      "165:\tlearn: 1849.5795825\ttotal: 1m 37s\tremaining: 8m 12s\n",
      "166:\tlearn: 1849.0088872\ttotal: 1m 38s\tremaining: 8m 11s\n",
      "167:\tlearn: 1847.8339491\ttotal: 1m 39s\tremaining: 8m 10s\n",
      "168:\tlearn: 1847.3669632\ttotal: 1m 39s\tremaining: 8m 9s\n",
      "169:\tlearn: 1846.6150747\ttotal: 1m 40s\tremaining: 8m 8s\n",
      "170:\tlearn: 1846.1206626\ttotal: 1m 40s\tremaining: 8m 8s\n",
      "171:\tlearn: 1845.5500209\ttotal: 1m 41s\tremaining: 8m 7s\n",
      "172:\tlearn: 1844.9788012\ttotal: 1m 41s\tremaining: 8m 7s\n",
      "173:\tlearn: 1844.4370493\ttotal: 1m 42s\tremaining: 8m 6s\n",
      "174:\tlearn: 1843.8859428\ttotal: 1m 43s\tremaining: 8m 7s\n",
      "175:\tlearn: 1843.5965535\ttotal: 1m 43s\tremaining: 8m 6s\n",
      "176:\tlearn: 1842.7979668\ttotal: 1m 44s\tremaining: 8m 5s\n",
      "177:\tlearn: 1842.1088187\ttotal: 1m 45s\tremaining: 8m 5s\n",
      "178:\tlearn: 1841.7019661\ttotal: 1m 45s\tremaining: 8m 5s\n",
      "179:\tlearn: 1840.7852164\ttotal: 1m 46s\tremaining: 8m 5s\n",
      "180:\tlearn: 1840.0303253\ttotal: 1m 47s\tremaining: 8m 4s\n",
      "181:\tlearn: 1839.3848473\ttotal: 1m 47s\tremaining: 8m 3s\n",
      "182:\tlearn: 1838.9156286\ttotal: 1m 48s\tremaining: 8m 3s\n",
      "183:\tlearn: 1838.2143818\ttotal: 1m 48s\tremaining: 8m 2s\n",
      "184:\tlearn: 1837.9402711\ttotal: 1m 49s\tremaining: 8m 1s\n",
      "185:\tlearn: 1837.1357167\ttotal: 1m 49s\tremaining: 8m 1s\n",
      "186:\tlearn: 1836.7106260\ttotal: 1m 50s\tremaining: 8m\n",
      "187:\tlearn: 1836.4921434\ttotal: 1m 51s\tremaining: 8m\n",
      "188:\tlearn: 1836.2251523\ttotal: 1m 51s\tremaining: 7m 59s\n",
      "189:\tlearn: 1835.1343804\ttotal: 1m 52s\tremaining: 7m 59s\n",
      "190:\tlearn: 1834.8911942\ttotal: 1m 53s\tremaining: 7m 58s\n",
      "191:\tlearn: 1834.2081917\ttotal: 1m 53s\tremaining: 7m 58s\n",
      "192:\tlearn: 1833.7993074\ttotal: 1m 54s\tremaining: 7m 57s\n",
      "193:\tlearn: 1833.2672439\ttotal: 1m 54s\tremaining: 7m 57s\n",
      "194:\tlearn: 1832.5393728\ttotal: 1m 55s\tremaining: 7m 57s\n",
      "195:\tlearn: 1832.2332938\ttotal: 1m 56s\tremaining: 7m 56s\n",
      "196:\tlearn: 1831.5396473\ttotal: 1m 56s\tremaining: 7m 55s\n",
      "197:\tlearn: 1831.1032047\ttotal: 1m 57s\tremaining: 7m 55s\n",
      "198:\tlearn: 1831.0204798\ttotal: 1m 58s\tremaining: 7m 55s\n",
      "199:\tlearn: 1830.5174782\ttotal: 1m 58s\tremaining: 7m 54s\n",
      "200:\tlearn: 1829.9563933\ttotal: 1m 59s\tremaining: 7m 53s\n",
      "201:\tlearn: 1829.4117854\ttotal: 1m 59s\tremaining: 7m 53s\n",
      "202:\tlearn: 1828.9461709\ttotal: 2m\tremaining: 7m 52s\n",
      "203:\tlearn: 1827.7663189\ttotal: 2m\tremaining: 7m 52s\n",
      "204:\tlearn: 1827.3579220\ttotal: 2m 1s\tremaining: 7m 51s\n",
      "205:\tlearn: 1827.1044216\ttotal: 2m 2s\tremaining: 7m 50s\n",
      "206:\tlearn: 1826.8866396\ttotal: 2m 2s\tremaining: 7m 50s\n",
      "207:\tlearn: 1826.3568080\ttotal: 2m 3s\tremaining: 7m 49s\n",
      "208:\tlearn: 1825.6867940\ttotal: 2m 3s\tremaining: 7m 49s\n",
      "209:\tlearn: 1825.2493725\ttotal: 2m 4s\tremaining: 7m 48s\n",
      "210:\tlearn: 1824.5410763\ttotal: 2m 5s\tremaining: 7m 47s\n",
      "211:\tlearn: 1823.9403800\ttotal: 2m 5s\tremaining: 7m 46s\n",
      "212:\tlearn: 1823.3680565\ttotal: 2m 6s\tremaining: 7m 46s\n",
      "213:\tlearn: 1822.9109974\ttotal: 2m 6s\tremaining: 7m 46s\n",
      "214:\tlearn: 1822.4671596\ttotal: 2m 7s\tremaining: 7m 45s\n",
      "215:\tlearn: 1821.9073198\ttotal: 2m 8s\tremaining: 7m 45s\n",
      "216:\tlearn: 1821.5767328\ttotal: 2m 8s\tremaining: 7m 44s\n",
      "217:\tlearn: 1821.1117132\ttotal: 2m 9s\tremaining: 7m 44s\n",
      "218:\tlearn: 1820.4960948\ttotal: 2m 9s\tremaining: 7m 43s\n",
      "219:\tlearn: 1819.8418913\ttotal: 2m 10s\tremaining: 7m 42s\n",
      "220:\tlearn: 1819.3246245\ttotal: 2m 11s\tremaining: 7m 42s\n",
      "221:\tlearn: 1818.8053606\ttotal: 2m 11s\tremaining: 7m 41s\n",
      "222:\tlearn: 1818.4533753\ttotal: 2m 12s\tremaining: 7m 40s\n",
      "223:\tlearn: 1818.0600472\ttotal: 2m 12s\tremaining: 7m 39s\n",
      "224:\tlearn: 1817.5786864\ttotal: 2m 13s\tremaining: 7m 39s\n",
      "225:\tlearn: 1816.7482190\ttotal: 2m 13s\tremaining: 7m 38s\n",
      "226:\tlearn: 1816.1434138\ttotal: 2m 14s\tremaining: 7m 37s\n",
      "227:\tlearn: 1815.8149739\ttotal: 2m 15s\tremaining: 7m 37s\n",
      "228:\tlearn: 1815.3948887\ttotal: 2m 15s\tremaining: 7m 36s\n",
      "229:\tlearn: 1814.6762020\ttotal: 2m 16s\tremaining: 7m 36s\n",
      "230:\tlearn: 1814.5632909\ttotal: 2m 16s\tremaining: 7m 35s\n",
      "231:\tlearn: 1814.1319012\ttotal: 2m 17s\tremaining: 7m 35s\n",
      "232:\tlearn: 1813.8538206\ttotal: 2m 18s\tremaining: 7m 34s\n",
      "233:\tlearn: 1813.6288654\ttotal: 2m 18s\tremaining: 7m 34s\n",
      "234:\tlearn: 1813.3302934\ttotal: 2m 19s\tremaining: 7m 33s\n",
      "235:\tlearn: 1812.8586114\ttotal: 2m 19s\tremaining: 7m 32s\n",
      "236:\tlearn: 1812.4549047\ttotal: 2m 20s\tremaining: 7m 31s\n",
      "237:\tlearn: 1811.8430560\ttotal: 2m 20s\tremaining: 7m 31s\n",
      "238:\tlearn: 1811.3390969\ttotal: 2m 21s\tremaining: 7m 30s\n",
      "239:\tlearn: 1810.6206992\ttotal: 2m 22s\tremaining: 7m 30s\n",
      "240:\tlearn: 1810.2075543\ttotal: 2m 22s\tremaining: 7m 29s\n",
      "241:\tlearn: 1809.8788203\ttotal: 2m 23s\tremaining: 7m 28s\n",
      "242:\tlearn: 1809.1399927\ttotal: 2m 23s\tremaining: 7m 28s\n",
      "243:\tlearn: 1808.9142683\ttotal: 2m 24s\tremaining: 7m 28s\n",
      "244:\tlearn: 1808.1767349\ttotal: 2m 25s\tremaining: 7m 27s\n",
      "245:\tlearn: 1807.6617605\ttotal: 2m 25s\tremaining: 7m 26s\n",
      "246:\tlearn: 1807.3522056\ttotal: 2m 26s\tremaining: 7m 26s\n",
      "247:\tlearn: 1807.0974214\ttotal: 2m 26s\tremaining: 7m 25s\n",
      "248:\tlearn: 1806.6211701\ttotal: 2m 27s\tremaining: 7m 24s\n",
      "249:\tlearn: 1806.3049573\ttotal: 2m 28s\tremaining: 7m 24s\n",
      "250:\tlearn: 1806.1782034\ttotal: 2m 28s\tremaining: 7m 23s\n",
      "251:\tlearn: 1805.7377832\ttotal: 2m 29s\tremaining: 7m 22s\n",
      "252:\tlearn: 1805.4218210\ttotal: 2m 29s\tremaining: 7m 22s\n",
      "253:\tlearn: 1805.1815492\ttotal: 2m 30s\tremaining: 7m 21s\n",
      "254:\tlearn: 1804.6104781\ttotal: 2m 30s\tremaining: 7m 21s\n",
      "255:\tlearn: 1804.3139594\ttotal: 2m 31s\tremaining: 7m 20s\n",
      "256:\tlearn: 1804.0259962\ttotal: 2m 32s\tremaining: 7m 19s\n",
      "257:\tlearn: 1803.3974191\ttotal: 2m 32s\tremaining: 7m 19s\n",
      "258:\tlearn: 1803.0477369\ttotal: 2m 33s\tremaining: 7m 18s\n",
      "259:\tlearn: 1802.7364803\ttotal: 2m 33s\tremaining: 7m 18s\n",
      "260:\tlearn: 1802.1911561\ttotal: 2m 34s\tremaining: 7m 17s\n",
      "261:\tlearn: 1802.0188782\ttotal: 2m 35s\tremaining: 7m 17s\n",
      "262:\tlearn: 1801.6053974\ttotal: 2m 35s\tremaining: 7m 16s\n",
      "263:\tlearn: 1801.2742047\ttotal: 2m 36s\tremaining: 7m 15s\n",
      "264:\tlearn: 1800.9314266\ttotal: 2m 36s\tremaining: 7m 15s\n",
      "265:\tlearn: 1800.5975660\ttotal: 2m 37s\tremaining: 7m 14s\n",
      "266:\tlearn: 1800.3560153\ttotal: 2m 38s\tremaining: 7m 14s\n",
      "267:\tlearn: 1800.0116199\ttotal: 2m 38s\tremaining: 7m 13s\n",
      "268:\tlearn: 1799.6606729\ttotal: 2m 39s\tremaining: 7m 12s\n",
      "269:\tlearn: 1799.2865442\ttotal: 2m 39s\tremaining: 7m 11s\n",
      "270:\tlearn: 1798.9747276\ttotal: 2m 40s\tremaining: 7m 11s\n",
      "271:\tlearn: 1798.5818515\ttotal: 2m 40s\tremaining: 7m 10s\n",
      "272:\tlearn: 1798.2501589\ttotal: 2m 41s\tremaining: 7m 10s\n",
      "273:\tlearn: 1797.7617181\ttotal: 2m 42s\tremaining: 7m 9s\n",
      "274:\tlearn: 1797.5613967\ttotal: 2m 42s\tremaining: 7m 9s\n",
      "275:\tlearn: 1797.1821003\ttotal: 2m 43s\tremaining: 7m 8s\n",
      "276:\tlearn: 1796.9252145\ttotal: 2m 43s\tremaining: 7m 7s\n",
      "277:\tlearn: 1796.4810495\ttotal: 2m 44s\tremaining: 7m 7s\n",
      "278:\tlearn: 1795.9538615\ttotal: 2m 45s\tremaining: 7m 7s\n",
      "279:\tlearn: 1795.6045521\ttotal: 2m 46s\tremaining: 7m 7s\n",
      "280:\tlearn: 1795.2454210\ttotal: 2m 46s\tremaining: 7m 6s\n",
      "281:\tlearn: 1794.8613469\ttotal: 2m 47s\tremaining: 7m 6s\n",
      "282:\tlearn: 1794.4761777\ttotal: 2m 47s\tremaining: 7m 5s\n",
      "283:\tlearn: 1794.1828865\ttotal: 2m 48s\tremaining: 7m 4s\n",
      "284:\tlearn: 1793.8044003\ttotal: 2m 49s\tremaining: 7m 4s\n",
      "285:\tlearn: 1793.3996667\ttotal: 2m 49s\tremaining: 7m 3s\n",
      "286:\tlearn: 1793.1747394\ttotal: 2m 50s\tremaining: 7m 2s\n",
      "287:\tlearn: 1793.0434428\ttotal: 2m 50s\tremaining: 7m 2s\n",
      "288:\tlearn: 1792.7449798\ttotal: 2m 51s\tremaining: 7m 1s\n",
      "289:\tlearn: 1792.3480971\ttotal: 2m 51s\tremaining: 7m\n",
      "290:\tlearn: 1792.0570734\ttotal: 2m 52s\tremaining: 7m\n",
      "291:\tlearn: 1791.8436628\ttotal: 2m 53s\tremaining: 6m 59s\n",
      "292:\tlearn: 1791.5093717\ttotal: 2m 53s\tremaining: 6m 59s\n",
      "293:\tlearn: 1791.0858764\ttotal: 2m 54s\tremaining: 6m 58s\n"
     ]
    },
    {
     "name": "stdout",
     "output_type": "stream",
     "text": [
      "294:\tlearn: 1790.5882569\ttotal: 2m 54s\tremaining: 6m 57s\n",
      "295:\tlearn: 1790.4731548\ttotal: 2m 55s\tremaining: 6m 57s\n",
      "296:\tlearn: 1790.0486995\ttotal: 2m 56s\tremaining: 6m 57s\n",
      "297:\tlearn: 1789.9175952\ttotal: 2m 56s\tremaining: 6m 56s\n",
      "298:\tlearn: 1789.6360700\ttotal: 2m 57s\tremaining: 6m 56s\n",
      "299:\tlearn: 1789.1122144\ttotal: 2m 58s\tremaining: 6m 55s\n",
      "300:\tlearn: 1788.9244877\ttotal: 2m 58s\tremaining: 6m 55s\n",
      "301:\tlearn: 1788.5778456\ttotal: 2m 59s\tremaining: 6m 54s\n",
      "302:\tlearn: 1788.3581148\ttotal: 3m\tremaining: 6m 54s\n",
      "303:\tlearn: 1788.1826058\ttotal: 3m\tremaining: 6m 53s\n",
      "304:\tlearn: 1787.6842652\ttotal: 3m 1s\tremaining: 6m 53s\n",
      "305:\tlearn: 1787.3713450\ttotal: 3m 1s\tremaining: 6m 52s\n",
      "306:\tlearn: 1786.9652412\ttotal: 3m 2s\tremaining: 6m 51s\n",
      "307:\tlearn: 1786.6889453\ttotal: 3m 3s\tremaining: 6m 51s\n",
      "308:\tlearn: 1786.3197307\ttotal: 3m 3s\tremaining: 6m 51s\n",
      "309:\tlearn: 1786.0628706\ttotal: 3m 4s\tremaining: 6m 50s\n",
      "310:\tlearn: 1785.8739447\ttotal: 3m 5s\tremaining: 6m 50s\n",
      "311:\tlearn: 1785.6524609\ttotal: 3m 5s\tremaining: 6m 49s\n",
      "312:\tlearn: 1785.3986203\ttotal: 3m 6s\tremaining: 6m 49s\n",
      "313:\tlearn: 1784.9804572\ttotal: 3m 7s\tremaining: 6m 48s\n",
      "314:\tlearn: 1784.7703824\ttotal: 3m 7s\tremaining: 6m 48s\n",
      "315:\tlearn: 1784.4154827\ttotal: 3m 8s\tremaining: 6m 47s\n",
      "316:\tlearn: 1784.2201670\ttotal: 3m 8s\tremaining: 6m 46s\n",
      "317:\tlearn: 1784.0139741\ttotal: 3m 9s\tremaining: 6m 46s\n",
      "318:\tlearn: 1783.8938985\ttotal: 3m 10s\tremaining: 6m 45s\n",
      "319:\tlearn: 1783.6029557\ttotal: 3m 10s\tremaining: 6m 45s\n",
      "320:\tlearn: 1783.1516128\ttotal: 3m 11s\tremaining: 6m 44s\n",
      "321:\tlearn: 1782.9051470\ttotal: 3m 11s\tremaining: 6m 44s\n",
      "322:\tlearn: 1782.6370538\ttotal: 3m 12s\tremaining: 6m 43s\n",
      "323:\tlearn: 1782.3858424\ttotal: 3m 13s\tremaining: 6m 43s\n",
      "324:\tlearn: 1782.1228907\ttotal: 3m 13s\tremaining: 6m 42s\n",
      "325:\tlearn: 1781.9110771\ttotal: 3m 14s\tremaining: 6m 41s\n",
      "326:\tlearn: 1781.6308410\ttotal: 3m 14s\tremaining: 6m 41s\n",
      "327:\tlearn: 1781.4479159\ttotal: 3m 15s\tremaining: 6m 40s\n",
      "328:\tlearn: 1781.0957958\ttotal: 3m 16s\tremaining: 6m 40s\n",
      "329:\tlearn: 1780.7974547\ttotal: 3m 16s\tremaining: 6m 39s\n",
      "330:\tlearn: 1780.6032675\ttotal: 3m 17s\tremaining: 6m 38s\n",
      "331:\tlearn: 1780.2658077\ttotal: 3m 17s\tremaining: 6m 38s\n",
      "332:\tlearn: 1779.9387385\ttotal: 3m 18s\tremaining: 6m 37s\n",
      "333:\tlearn: 1779.6236676\ttotal: 3m 19s\tremaining: 6m 36s\n",
      "334:\tlearn: 1779.3825745\ttotal: 3m 19s\tremaining: 6m 36s\n",
      "335:\tlearn: 1779.2298208\ttotal: 3m 20s\tremaining: 6m 35s\n",
      "336:\tlearn: 1778.9062237\ttotal: 3m 20s\tremaining: 6m 34s\n",
      "337:\tlearn: 1778.7136173\ttotal: 3m 21s\tremaining: 6m 34s\n",
      "338:\tlearn: 1778.6416209\ttotal: 3m 21s\tremaining: 6m 33s\n",
      "339:\tlearn: 1778.2881546\ttotal: 3m 22s\tremaining: 6m 33s\n",
      "340:\tlearn: 1777.8864680\ttotal: 3m 23s\tremaining: 6m 32s\n",
      "341:\tlearn: 1777.6157002\ttotal: 3m 23s\tremaining: 6m 32s\n",
      "342:\tlearn: 1777.3623485\ttotal: 3m 24s\tremaining: 6m 31s\n",
      "343:\tlearn: 1777.1991199\ttotal: 3m 24s\tremaining: 6m 30s\n",
      "344:\tlearn: 1776.8268890\ttotal: 3m 25s\tremaining: 6m 29s\n",
      "345:\tlearn: 1776.6272390\ttotal: 3m 25s\tremaining: 6m 29s\n",
      "346:\tlearn: 1776.3727944\ttotal: 3m 26s\tremaining: 6m 28s\n",
      "347:\tlearn: 1776.2149412\ttotal: 3m 27s\tremaining: 6m 27s\n",
      "348:\tlearn: 1775.8678758\ttotal: 3m 27s\tremaining: 6m 27s\n",
      "349:\tlearn: 1775.6673288\ttotal: 3m 28s\tremaining: 6m 27s\n",
      "350:\tlearn: 1775.4613974\ttotal: 3m 28s\tremaining: 6m 26s\n",
      "351:\tlearn: 1775.3938515\ttotal: 3m 29s\tremaining: 6m 25s\n",
      "352:\tlearn: 1775.1396987\ttotal: 3m 30s\tremaining: 6m 25s\n",
      "353:\tlearn: 1774.6993875\ttotal: 3m 30s\tremaining: 6m 24s\n",
      "354:\tlearn: 1774.3447331\ttotal: 3m 31s\tremaining: 6m 23s\n",
      "355:\tlearn: 1774.0843295\ttotal: 3m 31s\tremaining: 6m 23s\n",
      "356:\tlearn: 1773.7189720\ttotal: 3m 32s\tremaining: 6m 22s\n",
      "357:\tlearn: 1773.6183417\ttotal: 3m 33s\tremaining: 6m 22s\n",
      "358:\tlearn: 1773.3661174\ttotal: 3m 33s\tremaining: 6m 22s\n",
      "359:\tlearn: 1773.2416895\ttotal: 3m 34s\tremaining: 6m 21s\n",
      "360:\tlearn: 1772.9826971\ttotal: 3m 35s\tremaining: 6m 20s\n",
      "361:\tlearn: 1772.7864883\ttotal: 3m 35s\tremaining: 6m 20s\n",
      "362:\tlearn: 1772.6078747\ttotal: 3m 36s\tremaining: 6m 19s\n",
      "363:\tlearn: 1772.2384243\ttotal: 3m 37s\tremaining: 6m 19s\n",
      "364:\tlearn: 1771.9231982\ttotal: 3m 37s\tremaining: 6m 18s\n",
      "365:\tlearn: 1771.5334970\ttotal: 3m 38s\tremaining: 6m 17s\n",
      "366:\tlearn: 1771.1505251\ttotal: 3m 38s\tremaining: 6m 17s\n",
      "367:\tlearn: 1770.7172156\ttotal: 3m 39s\tremaining: 6m 16s\n",
      "368:\tlearn: 1770.4732255\ttotal: 3m 39s\tremaining: 6m 16s\n",
      "369:\tlearn: 1770.3314985\ttotal: 3m 40s\tremaining: 6m 15s\n",
      "370:\tlearn: 1770.1756696\ttotal: 3m 41s\tremaining: 6m 15s\n",
      "371:\tlearn: 1769.9528377\ttotal: 3m 41s\tremaining: 6m 14s\n",
      "372:\tlearn: 1769.8087995\ttotal: 3m 42s\tremaining: 6m 14s\n",
      "373:\tlearn: 1769.3950770\ttotal: 3m 43s\tremaining: 6m 13s\n",
      "374:\tlearn: 1769.2687138\ttotal: 3m 43s\tremaining: 6m 12s\n",
      "375:\tlearn: 1769.0098161\ttotal: 3m 44s\tremaining: 6m 12s\n",
      "376:\tlearn: 1768.8500934\ttotal: 3m 44s\tremaining: 6m 11s\n",
      "377:\tlearn: 1768.5851942\ttotal: 3m 45s\tremaining: 6m 11s\n",
      "378:\tlearn: 1768.4301963\ttotal: 3m 46s\tremaining: 6m 10s\n",
      "379:\tlearn: 1767.9832643\ttotal: 3m 46s\tremaining: 6m 10s\n",
      "380:\tlearn: 1767.9347613\ttotal: 3m 47s\tremaining: 6m 9s\n",
      "381:\tlearn: 1767.5436330\ttotal: 3m 48s\tremaining: 6m 9s\n",
      "382:\tlearn: 1767.2660643\ttotal: 3m 48s\tremaining: 6m 8s\n",
      "383:\tlearn: 1767.0617712\ttotal: 3m 49s\tremaining: 6m 7s\n",
      "384:\tlearn: 1766.8737252\ttotal: 3m 50s\tremaining: 6m 7s\n",
      "385:\tlearn: 1766.7213064\ttotal: 3m 50s\tremaining: 6m 6s\n",
      "386:\tlearn: 1766.3703698\ttotal: 3m 51s\tremaining: 6m 6s\n",
      "387:\tlearn: 1766.2151398\ttotal: 3m 51s\tremaining: 6m 5s\n",
      "388:\tlearn: 1765.9887447\ttotal: 3m 52s\tremaining: 6m 5s\n",
      "389:\tlearn: 1765.8536143\ttotal: 3m 53s\tremaining: 6m 4s\n",
      "390:\tlearn: 1765.6917463\ttotal: 3m 53s\tremaining: 6m 3s\n",
      "391:\tlearn: 1765.5640422\ttotal: 3m 54s\tremaining: 6m 3s\n",
      "392:\tlearn: 1765.2828487\ttotal: 3m 54s\tremaining: 6m 2s\n",
      "393:\tlearn: 1765.1629288\ttotal: 3m 55s\tremaining: 6m 2s\n",
      "394:\tlearn: 1764.9619773\ttotal: 3m 56s\tremaining: 6m 1s\n",
      "395:\tlearn: 1764.6995671\ttotal: 3m 56s\tremaining: 6m 1s\n",
      "396:\tlearn: 1764.4510991\ttotal: 3m 57s\tremaining: 6m\n",
      "397:\tlearn: 1764.2182042\ttotal: 3m 58s\tremaining: 6m\n",
      "398:\tlearn: 1764.0378396\ttotal: 3m 58s\tremaining: 5m 59s\n",
      "399:\tlearn: 1763.7823656\ttotal: 3m 59s\tremaining: 5m 58s\n",
      "400:\tlearn: 1763.5807322\ttotal: 3m 59s\tremaining: 5m 58s\n",
      "401:\tlearn: 1763.3779872\ttotal: 4m\tremaining: 5m 57s\n",
      "402:\tlearn: 1763.0093971\ttotal: 4m 1s\tremaining: 5m 57s\n",
      "403:\tlearn: 1762.7694425\ttotal: 4m 1s\tremaining: 5m 56s\n",
      "404:\tlearn: 1762.5991093\ttotal: 4m 2s\tremaining: 5m 55s\n",
      "405:\tlearn: 1762.4984243\ttotal: 4m 2s\tremaining: 5m 55s\n",
      "406:\tlearn: 1762.3103178\ttotal: 4m 3s\tremaining: 5m 54s\n",
      "407:\tlearn: 1761.9315092\ttotal: 4m 3s\tremaining: 5m 53s\n",
      "408:\tlearn: 1761.7372396\ttotal: 4m 4s\tremaining: 5m 53s\n",
      "409:\tlearn: 1761.4937990\ttotal: 4m 5s\tremaining: 5m 52s\n",
      "410:\tlearn: 1761.4603938\ttotal: 4m 5s\tremaining: 5m 52s\n",
      "411:\tlearn: 1761.1276323\ttotal: 4m 6s\tremaining: 5m 51s\n",
      "412:\tlearn: 1760.8705687\ttotal: 4m 6s\tremaining: 5m 50s\n",
      "413:\tlearn: 1760.4068536\ttotal: 4m 7s\tremaining: 5m 49s\n",
      "414:\tlearn: 1760.0228271\ttotal: 4m 7s\tremaining: 5m 49s\n",
      "415:\tlearn: 1759.7210703\ttotal: 4m 8s\tremaining: 5m 48s\n",
      "416:\tlearn: 1759.4706903\ttotal: 4m 9s\tremaining: 5m 48s\n",
      "417:\tlearn: 1759.2217536\ttotal: 4m 9s\tremaining: 5m 47s\n",
      "418:\tlearn: 1759.0372749\ttotal: 4m 10s\tremaining: 5m 47s\n",
      "419:\tlearn: 1758.7520432\ttotal: 4m 11s\tremaining: 5m 46s\n",
      "420:\tlearn: 1758.5751008\ttotal: 4m 11s\tremaining: 5m 46s\n",
      "421:\tlearn: 1758.3175332\ttotal: 4m 12s\tremaining: 5m 45s\n",
      "422:\tlearn: 1758.1184515\ttotal: 4m 12s\tremaining: 5m 45s\n",
      "423:\tlearn: 1757.9686837\ttotal: 4m 13s\tremaining: 5m 44s\n",
      "424:\tlearn: 1757.7393622\ttotal: 4m 14s\tremaining: 5m 43s\n",
      "425:\tlearn: 1757.5943382\ttotal: 4m 14s\tremaining: 5m 43s\n",
      "426:\tlearn: 1757.3220719\ttotal: 4m 15s\tremaining: 5m 42s\n",
      "427:\tlearn: 1757.1411616\ttotal: 4m 15s\tremaining: 5m 42s\n",
      "428:\tlearn: 1757.0655604\ttotal: 4m 16s\tremaining: 5m 41s\n",
      "429:\tlearn: 1756.9497530\ttotal: 4m 17s\tremaining: 5m 40s\n",
      "430:\tlearn: 1756.7724450\ttotal: 4m 17s\tremaining: 5m 40s\n",
      "431:\tlearn: 1756.6823622\ttotal: 4m 18s\tremaining: 5m 39s\n",
      "432:\tlearn: 1756.6295398\ttotal: 4m 19s\tremaining: 5m 39s\n",
      "433:\tlearn: 1756.3599548\ttotal: 4m 19s\tremaining: 5m 38s\n",
      "434:\tlearn: 1756.1389599\ttotal: 4m 20s\tremaining: 5m 38s\n",
      "435:\tlearn: 1756.0329094\ttotal: 4m 20s\tremaining: 5m 37s\n",
      "436:\tlearn: 1755.8866901\ttotal: 4m 21s\tremaining: 5m 36s\n",
      "437:\tlearn: 1755.5534105\ttotal: 4m 21s\tremaining: 5m 36s\n",
      "438:\tlearn: 1755.3784058\ttotal: 4m 22s\tremaining: 5m 35s\n"
     ]
    },
    {
     "name": "stdout",
     "output_type": "stream",
     "text": [
      "439:\tlearn: 1755.1369540\ttotal: 4m 23s\tremaining: 5m 34s\n",
      "440:\tlearn: 1754.9604114\ttotal: 4m 23s\tremaining: 5m 34s\n",
      "441:\tlearn: 1754.6865349\ttotal: 4m 24s\tremaining: 5m 33s\n",
      "442:\tlearn: 1754.5907692\ttotal: 4m 24s\tremaining: 5m 33s\n",
      "443:\tlearn: 1754.4093710\ttotal: 4m 25s\tremaining: 5m 32s\n",
      "444:\tlearn: 1754.1588346\ttotal: 4m 26s\tremaining: 5m 31s\n",
      "445:\tlearn: 1754.0538438\ttotal: 4m 26s\tremaining: 5m 31s\n",
      "446:\tlearn: 1753.8791349\ttotal: 4m 27s\tremaining: 5m 30s\n",
      "447:\tlearn: 1753.6728174\ttotal: 4m 27s\tremaining: 5m 30s\n",
      "448:\tlearn: 1753.4429892\ttotal: 4m 28s\tremaining: 5m 29s\n",
      "449:\tlearn: 1753.2604817\ttotal: 4m 29s\tremaining: 5m 28s\n",
      "450:\tlearn: 1753.0564864\ttotal: 4m 29s\tremaining: 5m 28s\n",
      "451:\tlearn: 1752.9353129\ttotal: 4m 30s\tremaining: 5m 27s\n",
      "452:\tlearn: 1752.8762581\ttotal: 4m 30s\tremaining: 5m 27s\n",
      "453:\tlearn: 1752.7271292\ttotal: 4m 31s\tremaining: 5m 26s\n",
      "454:\tlearn: 1752.5226324\ttotal: 4m 32s\tremaining: 5m 25s\n",
      "455:\tlearn: 1752.4086628\ttotal: 4m 32s\tremaining: 5m 25s\n",
      "456:\tlearn: 1752.1380141\ttotal: 4m 33s\tremaining: 5m 24s\n",
      "457:\tlearn: 1751.9270336\ttotal: 4m 33s\tremaining: 5m 24s\n",
      "458:\tlearn: 1751.7071450\ttotal: 4m 34s\tremaining: 5m 23s\n",
      "459:\tlearn: 1751.5120334\ttotal: 4m 35s\tremaining: 5m 22s\n",
      "460:\tlearn: 1751.3770248\ttotal: 4m 35s\tremaining: 5m 22s\n",
      "461:\tlearn: 1751.0096554\ttotal: 4m 36s\tremaining: 5m 21s\n",
      "462:\tlearn: 1750.8262535\ttotal: 4m 36s\tremaining: 5m 20s\n",
      "463:\tlearn: 1750.6333008\ttotal: 4m 37s\tremaining: 5m 20s\n",
      "464:\tlearn: 1750.5886862\ttotal: 4m 37s\tremaining: 5m 19s\n",
      "465:\tlearn: 1750.4352175\ttotal: 4m 38s\tremaining: 5m 19s\n",
      "466:\tlearn: 1750.0184667\ttotal: 4m 39s\tremaining: 5m 18s\n",
      "467:\tlearn: 1749.9175995\ttotal: 4m 39s\tremaining: 5m 17s\n",
      "468:\tlearn: 1749.7061153\ttotal: 4m 40s\tremaining: 5m 17s\n",
      "469:\tlearn: 1749.5391976\ttotal: 4m 40s\tremaining: 5m 16s\n",
      "470:\tlearn: 1749.3075230\ttotal: 4m 41s\tremaining: 5m 16s\n",
      "471:\tlearn: 1749.2621295\ttotal: 4m 41s\tremaining: 5m 15s\n",
      "472:\tlearn: 1749.1656274\ttotal: 4m 42s\tremaining: 5m 14s\n",
      "473:\tlearn: 1748.8808872\ttotal: 4m 43s\tremaining: 5m 14s\n",
      "474:\tlearn: 1748.7185018\ttotal: 4m 43s\tremaining: 5m 13s\n",
      "475:\tlearn: 1748.5663221\ttotal: 4m 44s\tremaining: 5m 13s\n",
      "476:\tlearn: 1748.4544998\ttotal: 4m 44s\tremaining: 5m 12s\n",
      "477:\tlearn: 1748.2724667\ttotal: 4m 45s\tremaining: 5m 11s\n",
      "478:\tlearn: 1748.2681449\ttotal: 4m 46s\tremaining: 5m 11s\n",
      "479:\tlearn: 1748.0161537\ttotal: 4m 46s\tremaining: 5m 10s\n",
      "480:\tlearn: 1747.8361290\ttotal: 4m 47s\tremaining: 5m 10s\n",
      "481:\tlearn: 1747.6392706\ttotal: 4m 47s\tremaining: 5m 9s\n",
      "482:\tlearn: 1747.5479728\ttotal: 4m 48s\tremaining: 5m 8s\n",
      "483:\tlearn: 1747.3536299\ttotal: 4m 49s\tremaining: 5m 8s\n",
      "484:\tlearn: 1747.0994879\ttotal: 4m 49s\tremaining: 5m 7s\n",
      "485:\tlearn: 1746.9728816\ttotal: 4m 50s\tremaining: 5m 7s\n",
      "486:\tlearn: 1746.7003413\ttotal: 4m 50s\tremaining: 5m 6s\n",
      "487:\tlearn: 1746.5019227\ttotal: 4m 51s\tremaining: 5m 5s\n",
      "488:\tlearn: 1746.3846302\ttotal: 4m 51s\tremaining: 5m 5s\n",
      "489:\tlearn: 1746.0816877\ttotal: 4m 52s\tremaining: 5m 4s\n",
      "490:\tlearn: 1745.9523155\ttotal: 4m 53s\tremaining: 5m 3s\n",
      "491:\tlearn: 1745.7889357\ttotal: 4m 53s\tremaining: 5m 3s\n",
      "492:\tlearn: 1745.6023159\ttotal: 4m 54s\tremaining: 5m 2s\n",
      "493:\tlearn: 1745.5097344\ttotal: 4m 55s\tremaining: 5m 2s\n",
      "494:\tlearn: 1745.4072412\ttotal: 4m 55s\tremaining: 5m 1s\n",
      "495:\tlearn: 1745.2673386\ttotal: 4m 56s\tremaining: 5m 1s\n",
      "496:\tlearn: 1745.0748229\ttotal: 4m 56s\tremaining: 5m\n",
      "497:\tlearn: 1744.9098424\ttotal: 4m 57s\tremaining: 4m 59s\n",
      "498:\tlearn: 1744.8431156\ttotal: 4m 58s\tremaining: 4m 59s\n",
      "499:\tlearn: 1744.6688113\ttotal: 4m 58s\tremaining: 4m 58s\n",
      "500:\tlearn: 1744.5646509\ttotal: 4m 59s\tremaining: 4m 57s\n",
      "501:\tlearn: 1744.5613830\ttotal: 4m 59s\tremaining: 4m 57s\n",
      "502:\tlearn: 1744.4155036\ttotal: 5m\tremaining: 4m 56s\n",
      "503:\tlearn: 1744.1734091\ttotal: 5m\tremaining: 4m 56s\n",
      "504:\tlearn: 1743.9509428\ttotal: 5m 1s\tremaining: 4m 55s\n",
      "505:\tlearn: 1743.8519088\ttotal: 5m 1s\tremaining: 4m 54s\n",
      "506:\tlearn: 1743.6052241\ttotal: 5m 2s\tremaining: 4m 54s\n",
      "507:\tlearn: 1743.2601292\ttotal: 5m 2s\tremaining: 4m 53s\n",
      "508:\tlearn: 1743.2355181\ttotal: 5m 3s\tremaining: 4m 52s\n",
      "509:\tlearn: 1742.9438369\ttotal: 5m 4s\tremaining: 4m 52s\n",
      "510:\tlearn: 1742.7021210\ttotal: 5m 4s\tremaining: 4m 51s\n",
      "511:\tlearn: 1742.5843374\ttotal: 5m 5s\tremaining: 4m 50s\n",
      "512:\tlearn: 1742.3040508\ttotal: 5m 5s\tremaining: 4m 50s\n",
      "513:\tlearn: 1742.1538974\ttotal: 5m 6s\tremaining: 4m 49s\n",
      "514:\tlearn: 1742.0393680\ttotal: 5m 6s\tremaining: 4m 49s\n",
      "515:\tlearn: 1741.7537698\ttotal: 5m 7s\tremaining: 4m 48s\n",
      "516:\tlearn: 1741.6067334\ttotal: 5m 8s\tremaining: 4m 47s\n",
      "517:\tlearn: 1741.4447046\ttotal: 5m 8s\tremaining: 4m 47s\n",
      "518:\tlearn: 1741.1105858\ttotal: 5m 9s\tremaining: 4m 46s\n",
      "519:\tlearn: 1741.0705847\ttotal: 5m 10s\tremaining: 4m 46s\n",
      "520:\tlearn: 1740.7920293\ttotal: 5m 10s\tremaining: 4m 45s\n",
      "521:\tlearn: 1740.6076463\ttotal: 5m 11s\tremaining: 4m 45s\n",
      "522:\tlearn: 1740.5123492\ttotal: 5m 12s\tremaining: 4m 44s\n",
      "523:\tlearn: 1740.3285357\ttotal: 5m 12s\tremaining: 4m 44s\n",
      "524:\tlearn: 1740.1855335\ttotal: 5m 13s\tremaining: 4m 43s\n",
      "525:\tlearn: 1739.9152750\ttotal: 5m 14s\tremaining: 4m 43s\n",
      "526:\tlearn: 1739.6736245\ttotal: 5m 14s\tremaining: 4m 42s\n",
      "527:\tlearn: 1739.4417508\ttotal: 5m 15s\tremaining: 4m 41s\n",
      "528:\tlearn: 1739.4197500\ttotal: 5m 15s\tremaining: 4m 41s\n",
      "529:\tlearn: 1739.1722521\ttotal: 5m 16s\tremaining: 4m 40s\n",
      "530:\tlearn: 1738.9061035\ttotal: 5m 17s\tremaining: 4m 40s\n",
      "531:\tlearn: 1738.6160207\ttotal: 5m 17s\tremaining: 4m 39s\n",
      "532:\tlearn: 1738.5193136\ttotal: 5m 18s\tremaining: 4m 38s\n",
      "533:\tlearn: 1738.3463795\ttotal: 5m 18s\tremaining: 4m 38s\n",
      "534:\tlearn: 1738.1470168\ttotal: 5m 19s\tremaining: 4m 37s\n",
      "535:\tlearn: 1737.7664481\ttotal: 5m 20s\tremaining: 4m 37s\n",
      "536:\tlearn: 1737.7436972\ttotal: 5m 20s\tremaining: 4m 36s\n",
      "537:\tlearn: 1737.6076655\ttotal: 5m 21s\tremaining: 4m 35s\n",
      "538:\tlearn: 1737.3473242\ttotal: 5m 21s\tremaining: 4m 35s\n",
      "539:\tlearn: 1737.1434965\ttotal: 5m 22s\tremaining: 4m 34s\n",
      "540:\tlearn: 1737.0773435\ttotal: 5m 22s\tremaining: 4m 33s\n",
      "541:\tlearn: 1736.8983539\ttotal: 5m 23s\tremaining: 4m 33s\n",
      "542:\tlearn: 1736.7083207\ttotal: 5m 24s\tremaining: 4m 32s\n",
      "543:\tlearn: 1736.5825752\ttotal: 5m 24s\tremaining: 4m 32s\n",
      "544:\tlearn: 1736.5087648\ttotal: 5m 25s\tremaining: 4m 31s\n",
      "545:\tlearn: 1736.3988893\ttotal: 5m 25s\tremaining: 4m 30s\n",
      "546:\tlearn: 1736.3046055\ttotal: 5m 26s\tremaining: 4m 30s\n",
      "547:\tlearn: 1736.1385366\ttotal: 5m 26s\tremaining: 4m 29s\n",
      "548:\tlearn: 1736.0096967\ttotal: 5m 27s\tremaining: 4m 29s\n",
      "549:\tlearn: 1735.9244098\ttotal: 5m 28s\tremaining: 4m 28s\n",
      "550:\tlearn: 1735.7264765\ttotal: 5m 28s\tremaining: 4m 27s\n",
      "551:\tlearn: 1735.5916463\ttotal: 5m 29s\tremaining: 4m 27s\n",
      "552:\tlearn: 1735.4108469\ttotal: 5m 29s\tremaining: 4m 26s\n",
      "553:\tlearn: 1735.2473485\ttotal: 5m 30s\tremaining: 4m 25s\n",
      "554:\tlearn: 1735.0186799\ttotal: 5m 30s\tremaining: 4m 25s\n",
      "555:\tlearn: 1734.7937013\ttotal: 5m 31s\tremaining: 4m 24s\n",
      "556:\tlearn: 1734.6454908\ttotal: 5m 31s\tremaining: 4m 23s\n",
      "557:\tlearn: 1734.5300376\ttotal: 5m 32s\tremaining: 4m 23s\n",
      "558:\tlearn: 1734.3587442\ttotal: 5m 32s\tremaining: 4m 22s\n",
      "559:\tlearn: 1734.1971777\ttotal: 5m 33s\tremaining: 4m 22s\n",
      "560:\tlearn: 1734.1654320\ttotal: 5m 34s\tremaining: 4m 21s\n",
      "561:\tlearn: 1734.0337457\ttotal: 5m 34s\tremaining: 4m 20s\n",
      "562:\tlearn: 1734.0044037\ttotal: 5m 35s\tremaining: 4m 20s\n",
      "563:\tlearn: 1733.9200200\ttotal: 5m 35s\tremaining: 4m 19s\n",
      "564:\tlearn: 1733.6714692\ttotal: 5m 36s\tremaining: 4m 19s\n",
      "565:\tlearn: 1733.5958182\ttotal: 5m 37s\tremaining: 4m 18s\n",
      "566:\tlearn: 1733.5386281\ttotal: 5m 37s\tremaining: 4m 17s\n",
      "567:\tlearn: 1733.3751968\ttotal: 5m 38s\tremaining: 4m 17s\n",
      "568:\tlearn: 1733.2260934\ttotal: 5m 38s\tremaining: 4m 16s\n",
      "569:\tlearn: 1733.0754358\ttotal: 5m 39s\tremaining: 4m 16s\n",
      "570:\tlearn: 1732.8798494\ttotal: 5m 40s\tremaining: 4m 15s\n",
      "571:\tlearn: 1732.7055668\ttotal: 5m 40s\tremaining: 4m 14s\n",
      "572:\tlearn: 1732.4337775\ttotal: 5m 41s\tremaining: 4m 14s\n",
      "573:\tlearn: 1732.3367083\ttotal: 5m 41s\tremaining: 4m 13s\n",
      "574:\tlearn: 1732.1917816\ttotal: 5m 42s\tremaining: 4m 13s\n",
      "575:\tlearn: 1732.0951896\ttotal: 5m 43s\tremaining: 4m 12s\n",
      "576:\tlearn: 1731.9978030\ttotal: 5m 43s\tremaining: 4m 11s\n",
      "577:\tlearn: 1731.9326978\ttotal: 5m 44s\tremaining: 4m 11s\n",
      "578:\tlearn: 1731.9158829\ttotal: 5m 44s\tremaining: 4m 10s\n",
      "579:\tlearn: 1731.7787596\ttotal: 5m 45s\tremaining: 4m 10s\n",
      "580:\tlearn: 1731.6171844\ttotal: 5m 45s\tremaining: 4m 9s\n",
      "581:\tlearn: 1731.4013155\ttotal: 5m 46s\tremaining: 4m 9s\n",
      "582:\tlearn: 1731.3315587\ttotal: 5m 47s\tremaining: 4m 8s\n",
      "583:\tlearn: 1731.1846434\ttotal: 5m 47s\tremaining: 4m 7s\n"
     ]
    },
    {
     "name": "stdout",
     "output_type": "stream",
     "text": [
      "584:\tlearn: 1731.0830279\ttotal: 5m 48s\tremaining: 4m 7s\n",
      "585:\tlearn: 1730.8675218\ttotal: 5m 49s\tremaining: 4m 6s\n",
      "586:\tlearn: 1730.7131584\ttotal: 5m 49s\tremaining: 4m 6s\n",
      "587:\tlearn: 1730.5537297\ttotal: 5m 50s\tremaining: 4m 5s\n",
      "588:\tlearn: 1730.5228932\ttotal: 5m 51s\tremaining: 4m 5s\n",
      "589:\tlearn: 1730.4439254\ttotal: 5m 51s\tremaining: 4m 4s\n",
      "590:\tlearn: 1730.3338713\ttotal: 5m 52s\tremaining: 4m 3s\n",
      "591:\tlearn: 1730.2330996\ttotal: 5m 52s\tremaining: 4m 3s\n",
      "592:\tlearn: 1730.0893384\ttotal: 5m 53s\tremaining: 4m 2s\n",
      "593:\tlearn: 1729.9694306\ttotal: 5m 54s\tremaining: 4m 2s\n",
      "594:\tlearn: 1729.9669502\ttotal: 5m 54s\tremaining: 4m 1s\n",
      "595:\tlearn: 1729.8593242\ttotal: 5m 55s\tremaining: 4m\n",
      "596:\tlearn: 1729.7490891\ttotal: 5m 55s\tremaining: 4m\n",
      "597:\tlearn: 1729.6313157\ttotal: 5m 56s\tremaining: 3m 59s\n",
      "598:\tlearn: 1729.3426366\ttotal: 5m 57s\tremaining: 3m 59s\n",
      "599:\tlearn: 1729.2127433\ttotal: 5m 57s\tremaining: 3m 58s\n",
      "600:\tlearn: 1729.0165755\ttotal: 5m 58s\tremaining: 3m 58s\n",
      "601:\tlearn: 1728.8685667\ttotal: 5m 59s\tremaining: 3m 57s\n",
      "602:\tlearn: 1728.7475900\ttotal: 5m 59s\tremaining: 3m 56s\n",
      "603:\tlearn: 1728.6586706\ttotal: 6m\tremaining: 3m 56s\n",
      "604:\tlearn: 1728.4751862\ttotal: 6m\tremaining: 3m 55s\n",
      "605:\tlearn: 1728.3671006\ttotal: 6m 1s\tremaining: 3m 55s\n",
      "606:\tlearn: 1728.2640791\ttotal: 6m 2s\tremaining: 3m 54s\n",
      "607:\tlearn: 1728.0256918\ttotal: 6m 2s\tremaining: 3m 53s\n",
      "608:\tlearn: 1727.8323865\ttotal: 6m 3s\tremaining: 3m 53s\n",
      "609:\tlearn: 1727.6358672\ttotal: 6m 3s\tremaining: 3m 52s\n",
      "610:\tlearn: 1727.4726518\ttotal: 6m 4s\tremaining: 3m 52s\n",
      "611:\tlearn: 1727.3033698\ttotal: 6m 4s\tremaining: 3m 51s\n",
      "612:\tlearn: 1727.1871339\ttotal: 6m 5s\tremaining: 3m 50s\n",
      "613:\tlearn: 1726.8690934\ttotal: 6m 6s\tremaining: 3m 50s\n",
      "614:\tlearn: 1726.6823066\ttotal: 6m 6s\tremaining: 3m 49s\n",
      "615:\tlearn: 1726.5311833\ttotal: 6m 7s\tremaining: 3m 49s\n",
      "616:\tlearn: 1726.2579979\ttotal: 6m 8s\tremaining: 3m 48s\n",
      "617:\tlearn: 1726.1164587\ttotal: 6m 8s\tremaining: 3m 47s\n",
      "618:\tlearn: 1725.9734923\ttotal: 6m 9s\tremaining: 3m 47s\n",
      "619:\tlearn: 1725.7784223\ttotal: 6m 10s\tremaining: 3m 46s\n",
      "620:\tlearn: 1725.6031726\ttotal: 6m 10s\tremaining: 3m 46s\n",
      "621:\tlearn: 1725.2985585\ttotal: 6m 11s\tremaining: 3m 45s\n",
      "622:\tlearn: 1725.0435453\ttotal: 6m 12s\tremaining: 3m 45s\n",
      "623:\tlearn: 1724.8171716\ttotal: 6m 12s\tremaining: 3m 44s\n",
      "624:\tlearn: 1724.6066837\ttotal: 6m 13s\tremaining: 3m 43s\n",
      "625:\tlearn: 1724.6041267\ttotal: 6m 13s\tremaining: 3m 43s\n",
      "626:\tlearn: 1724.3127852\ttotal: 6m 14s\tremaining: 3m 42s\n",
      "627:\tlearn: 1724.1238293\ttotal: 6m 14s\tremaining: 3m 42s\n",
      "628:\tlearn: 1724.0637447\ttotal: 6m 15s\tremaining: 3m 41s\n",
      "629:\tlearn: 1723.9300198\ttotal: 6m 16s\tremaining: 3m 40s\n",
      "630:\tlearn: 1723.7508998\ttotal: 6m 16s\tremaining: 3m 40s\n",
      "631:\tlearn: 1723.6060116\ttotal: 6m 17s\tremaining: 3m 39s\n",
      "632:\tlearn: 1723.4650047\ttotal: 6m 18s\tremaining: 3m 39s\n",
      "633:\tlearn: 1723.3090425\ttotal: 6m 18s\tremaining: 3m 38s\n",
      "634:\tlearn: 1723.1894087\ttotal: 6m 19s\tremaining: 3m 37s\n",
      "635:\tlearn: 1722.9977057\ttotal: 6m 19s\tremaining: 3m 37s\n",
      "636:\tlearn: 1722.9716222\ttotal: 6m 20s\tremaining: 3m 36s\n",
      "637:\tlearn: 1722.7814900\ttotal: 6m 21s\tremaining: 3m 36s\n",
      "638:\tlearn: 1722.6000444\ttotal: 6m 21s\tremaining: 3m 35s\n",
      "639:\tlearn: 1722.4856156\ttotal: 6m 22s\tremaining: 3m 34s\n",
      "640:\tlearn: 1722.2934665\ttotal: 6m 22s\tremaining: 3m 34s\n",
      "641:\tlearn: 1722.1409786\ttotal: 6m 23s\tremaining: 3m 33s\n",
      "642:\tlearn: 1722.1391491\ttotal: 6m 23s\tremaining: 3m 33s\n",
      "643:\tlearn: 1722.0322543\ttotal: 6m 24s\tremaining: 3m 32s\n",
      "644:\tlearn: 1721.8717268\ttotal: 6m 24s\tremaining: 3m 31s\n",
      "645:\tlearn: 1721.7569089\ttotal: 6m 25s\tremaining: 3m 31s\n",
      "646:\tlearn: 1721.5836480\ttotal: 6m 26s\tremaining: 3m 30s\n",
      "647:\tlearn: 1721.4343697\ttotal: 6m 26s\tremaining: 3m 30s\n",
      "648:\tlearn: 1721.2336391\ttotal: 6m 27s\tremaining: 3m 29s\n",
      "649:\tlearn: 1721.1066229\ttotal: 6m 27s\tremaining: 3m 28s\n",
      "650:\tlearn: 1721.0212719\ttotal: 6m 28s\tremaining: 3m 28s\n",
      "651:\tlearn: 1720.9062696\ttotal: 6m 29s\tremaining: 3m 27s\n",
      "652:\tlearn: 1720.8567630\ttotal: 6m 29s\tremaining: 3m 27s\n",
      "653:\tlearn: 1720.7347688\ttotal: 6m 30s\tremaining: 3m 26s\n",
      "654:\tlearn: 1720.6970897\ttotal: 6m 30s\tremaining: 3m 25s\n",
      "655:\tlearn: 1720.6104056\ttotal: 6m 31s\tremaining: 3m 25s\n",
      "656:\tlearn: 1720.5922056\ttotal: 6m 31s\tremaining: 3m 24s\n",
      "657:\tlearn: 1720.4481627\ttotal: 6m 32s\tremaining: 3m 24s\n",
      "658:\tlearn: 1720.3506567\ttotal: 6m 33s\tremaining: 3m 23s\n",
      "659:\tlearn: 1720.2717189\ttotal: 6m 33s\tremaining: 3m 22s\n",
      "660:\tlearn: 1720.1687976\ttotal: 6m 34s\tremaining: 3m 22s\n",
      "661:\tlearn: 1720.0914908\ttotal: 6m 34s\tremaining: 3m 21s\n",
      "662:\tlearn: 1719.9493092\ttotal: 6m 35s\tremaining: 3m 21s\n",
      "663:\tlearn: 1719.7283120\ttotal: 6m 36s\tremaining: 3m 20s\n",
      "664:\tlearn: 1719.5749558\ttotal: 6m 36s\tremaining: 3m 19s\n",
      "665:\tlearn: 1719.4029572\ttotal: 6m 37s\tremaining: 3m 19s\n",
      "666:\tlearn: 1719.2976282\ttotal: 6m 37s\tremaining: 3m 18s\n",
      "667:\tlearn: 1719.2048446\ttotal: 6m 38s\tremaining: 3m 18s\n",
      "668:\tlearn: 1719.0450383\ttotal: 6m 38s\tremaining: 3m 17s\n",
      "669:\tlearn: 1718.8801110\ttotal: 6m 39s\tremaining: 3m 16s\n",
      "670:\tlearn: 1718.8785233\ttotal: 6m 40s\tremaining: 3m 16s\n",
      "671:\tlearn: 1718.7915577\ttotal: 6m 40s\tremaining: 3m 15s\n",
      "672:\tlearn: 1718.6901277\ttotal: 6m 41s\tremaining: 3m 14s\n",
      "673:\tlearn: 1718.6423588\ttotal: 6m 41s\tremaining: 3m 14s\n",
      "674:\tlearn: 1718.4975477\ttotal: 6m 42s\tremaining: 3m 13s\n",
      "675:\tlearn: 1718.3847625\ttotal: 6m 43s\tremaining: 3m 13s\n",
      "676:\tlearn: 1718.3444746\ttotal: 6m 43s\tremaining: 3m 12s\n",
      "677:\tlearn: 1718.2293258\ttotal: 6m 44s\tremaining: 3m 12s\n",
      "678:\tlearn: 1718.1258830\ttotal: 6m 45s\tremaining: 3m 11s\n",
      "679:\tlearn: 1717.9945316\ttotal: 6m 45s\tremaining: 3m 10s\n",
      "680:\tlearn: 1717.9572960\ttotal: 6m 46s\tremaining: 3m 10s\n",
      "681:\tlearn: 1717.8766235\ttotal: 6m 46s\tremaining: 3m 9s\n",
      "682:\tlearn: 1717.8282716\ttotal: 6m 47s\tremaining: 3m 9s\n",
      "683:\tlearn: 1717.6268956\ttotal: 6m 48s\tremaining: 3m 8s\n",
      "684:\tlearn: 1717.5948384\ttotal: 6m 48s\tremaining: 3m 8s\n",
      "685:\tlearn: 1717.4488081\ttotal: 6m 49s\tremaining: 3m 7s\n",
      "686:\tlearn: 1717.4048706\ttotal: 6m 50s\tremaining: 3m 6s\n",
      "687:\tlearn: 1717.3432352\ttotal: 6m 50s\tremaining: 3m 6s\n",
      "688:\tlearn: 1717.1235974\ttotal: 6m 51s\tremaining: 3m 5s\n",
      "689:\tlearn: 1717.1179612\ttotal: 6m 51s\tremaining: 3m 5s\n",
      "690:\tlearn: 1716.9393016\ttotal: 6m 52s\tremaining: 3m 4s\n",
      "691:\tlearn: 1716.8288756\ttotal: 6m 52s\tremaining: 3m 3s\n",
      "692:\tlearn: 1716.7039906\ttotal: 6m 53s\tremaining: 3m 3s\n",
      "693:\tlearn: 1716.6631667\ttotal: 6m 54s\tremaining: 3m 2s\n",
      "694:\tlearn: 1716.5817001\ttotal: 6m 54s\tremaining: 3m 1s\n",
      "695:\tlearn: 1716.3755278\ttotal: 6m 55s\tremaining: 3m 1s\n",
      "696:\tlearn: 1716.3235500\ttotal: 6m 55s\tremaining: 3m\n",
      "697:\tlearn: 1716.1406977\ttotal: 6m 56s\tremaining: 3m\n",
      "698:\tlearn: 1716.0500282\ttotal: 6m 57s\tremaining: 2m 59s\n",
      "699:\tlearn: 1715.9688412\ttotal: 6m 57s\tremaining: 2m 58s\n",
      "700:\tlearn: 1715.8445475\ttotal: 6m 58s\tremaining: 2m 58s\n",
      "701:\tlearn: 1715.7401152\ttotal: 6m 58s\tremaining: 2m 57s\n",
      "702:\tlearn: 1715.6114959\ttotal: 6m 59s\tremaining: 2m 57s\n",
      "703:\tlearn: 1715.5801298\ttotal: 7m\tremaining: 2m 56s\n",
      "704:\tlearn: 1715.4973732\ttotal: 7m\tremaining: 2m 56s\n",
      "705:\tlearn: 1715.4438323\ttotal: 7m 1s\tremaining: 2m 55s\n",
      "706:\tlearn: 1715.3276996\ttotal: 7m 1s\tremaining: 2m 54s\n",
      "707:\tlearn: 1715.3016735\ttotal: 7m 2s\tremaining: 2m 54s\n",
      "708:\tlearn: 1715.1787060\ttotal: 7m 2s\tremaining: 2m 53s\n",
      "709:\tlearn: 1714.9461906\ttotal: 7m 3s\tremaining: 2m 52s\n",
      "710:\tlearn: 1714.8024375\ttotal: 7m 4s\tremaining: 2m 52s\n",
      "711:\tlearn: 1714.6292380\ttotal: 7m 4s\tremaining: 2m 51s\n",
      "712:\tlearn: 1714.5869060\ttotal: 7m 5s\tremaining: 2m 51s\n",
      "713:\tlearn: 1714.3314968\ttotal: 7m 5s\tremaining: 2m 50s\n",
      "714:\tlearn: 1714.2647898\ttotal: 7m 6s\tremaining: 2m 49s\n",
      "715:\tlearn: 1713.9134514\ttotal: 7m 6s\tremaining: 2m 49s\n",
      "716:\tlearn: 1713.8156797\ttotal: 7m 7s\tremaining: 2m 48s\n",
      "717:\tlearn: 1713.6959931\ttotal: 7m 8s\tremaining: 2m 48s\n",
      "718:\tlearn: 1713.5890238\ttotal: 7m 8s\tremaining: 2m 47s\n",
      "719:\tlearn: 1713.5092658\ttotal: 7m 9s\tremaining: 2m 46s\n",
      "720:\tlearn: 1713.4228376\ttotal: 7m 9s\tremaining: 2m 46s\n",
      "721:\tlearn: 1713.2924955\ttotal: 7m 10s\tremaining: 2m 45s\n",
      "722:\tlearn: 1713.1965712\ttotal: 7m 11s\tremaining: 2m 45s\n",
      "723:\tlearn: 1713.1632473\ttotal: 7m 11s\tremaining: 2m 44s\n",
      "724:\tlearn: 1713.0819327\ttotal: 7m 12s\tremaining: 2m 43s\n",
      "725:\tlearn: 1712.8146088\ttotal: 7m 12s\tremaining: 2m 43s\n",
      "726:\tlearn: 1712.7904632\ttotal: 7m 13s\tremaining: 2m 42s\n",
      "727:\tlearn: 1712.4701059\ttotal: 7m 13s\tremaining: 2m 42s\n",
      "728:\tlearn: 1712.4049125\ttotal: 7m 14s\tremaining: 2m 41s\n",
      "729:\tlearn: 1712.3876572\ttotal: 7m 15s\tremaining: 2m 40s\n"
     ]
    },
    {
     "name": "stdout",
     "output_type": "stream",
     "text": [
      "730:\tlearn: 1712.1460920\ttotal: 7m 15s\tremaining: 2m 40s\n",
      "731:\tlearn: 1711.9388191\ttotal: 7m 16s\tremaining: 2m 39s\n",
      "732:\tlearn: 1711.8352306\ttotal: 7m 16s\tremaining: 2m 39s\n",
      "733:\tlearn: 1711.8258458\ttotal: 7m 17s\tremaining: 2m 38s\n",
      "734:\tlearn: 1711.6317236\ttotal: 7m 17s\tremaining: 2m 37s\n",
      "735:\tlearn: 1711.4556267\ttotal: 7m 18s\tremaining: 2m 37s\n",
      "736:\tlearn: 1711.4332272\ttotal: 7m 19s\tremaining: 2m 36s\n",
      "737:\tlearn: 1711.3455115\ttotal: 7m 19s\tremaining: 2m 36s\n",
      "738:\tlearn: 1711.2542507\ttotal: 7m 20s\tremaining: 2m 35s\n",
      "739:\tlearn: 1711.1490082\ttotal: 7m 20s\tremaining: 2m 34s\n",
      "740:\tlearn: 1711.0195789\ttotal: 7m 21s\tremaining: 2m 34s\n",
      "741:\tlearn: 1710.9042611\ttotal: 7m 22s\tremaining: 2m 33s\n",
      "742:\tlearn: 1710.8228642\ttotal: 7m 22s\tremaining: 2m 33s\n",
      "743:\tlearn: 1710.7032242\ttotal: 7m 23s\tremaining: 2m 32s\n",
      "744:\tlearn: 1710.6294344\ttotal: 7m 24s\tremaining: 2m 31s\n",
      "745:\tlearn: 1710.2841985\ttotal: 7m 24s\tremaining: 2m 31s\n",
      "746:\tlearn: 1710.0607142\ttotal: 7m 25s\tremaining: 2m 30s\n",
      "747:\tlearn: 1709.8391483\ttotal: 7m 25s\tremaining: 2m 30s\n",
      "748:\tlearn: 1709.7425031\ttotal: 7m 26s\tremaining: 2m 29s\n",
      "749:\tlearn: 1709.6046235\ttotal: 7m 26s\tremaining: 2m 28s\n",
      "750:\tlearn: 1709.4649290\ttotal: 7m 27s\tremaining: 2m 28s\n",
      "751:\tlearn: 1709.2878582\ttotal: 7m 28s\tremaining: 2m 27s\n",
      "752:\tlearn: 1709.1832793\ttotal: 7m 28s\tremaining: 2m 27s\n",
      "753:\tlearn: 1709.1439695\ttotal: 7m 29s\tremaining: 2m 26s\n",
      "754:\tlearn: 1709.0370401\ttotal: 7m 29s\tremaining: 2m 25s\n",
      "755:\tlearn: 1708.8675505\ttotal: 7m 30s\tremaining: 2m 25s\n",
      "756:\tlearn: 1708.8073257\ttotal: 7m 31s\tremaining: 2m 24s\n",
      "757:\tlearn: 1708.6970960\ttotal: 7m 31s\tremaining: 2m 24s\n",
      "758:\tlearn: 1708.6772617\ttotal: 7m 32s\tremaining: 2m 23s\n",
      "759:\tlearn: 1708.5706190\ttotal: 7m 32s\tremaining: 2m 23s\n",
      "760:\tlearn: 1708.4292853\ttotal: 7m 33s\tremaining: 2m 22s\n",
      "761:\tlearn: 1708.3213877\ttotal: 7m 34s\tremaining: 2m 21s\n",
      "762:\tlearn: 1708.2788975\ttotal: 7m 34s\tremaining: 2m 21s\n",
      "763:\tlearn: 1708.2402823\ttotal: 7m 35s\tremaining: 2m 20s\n",
      "764:\tlearn: 1708.2326700\ttotal: 7m 35s\tremaining: 2m 20s\n",
      "765:\tlearn: 1708.1514030\ttotal: 7m 36s\tremaining: 2m 19s\n",
      "766:\tlearn: 1708.0036665\ttotal: 7m 37s\tremaining: 2m 18s\n",
      "767:\tlearn: 1707.9730319\ttotal: 7m 37s\tremaining: 2m 18s\n",
      "768:\tlearn: 1707.7687771\ttotal: 7m 38s\tremaining: 2m 17s\n",
      "769:\tlearn: 1707.7477317\ttotal: 7m 38s\tremaining: 2m 17s\n",
      "770:\tlearn: 1707.6481902\ttotal: 7m 39s\tremaining: 2m 16s\n",
      "771:\tlearn: 1707.5652631\ttotal: 7m 39s\tremaining: 2m 15s\n",
      "772:\tlearn: 1707.2944258\ttotal: 7m 40s\tremaining: 2m 15s\n",
      "773:\tlearn: 1707.1549952\ttotal: 7m 40s\tremaining: 2m 14s\n",
      "774:\tlearn: 1707.0806563\ttotal: 7m 41s\tremaining: 2m 13s\n",
      "775:\tlearn: 1706.9561240\ttotal: 7m 42s\tremaining: 2m 13s\n",
      "776:\tlearn: 1706.8313237\ttotal: 7m 42s\tremaining: 2m 12s\n",
      "777:\tlearn: 1706.7562461\ttotal: 7m 43s\tremaining: 2m 12s\n",
      "778:\tlearn: 1706.6557654\ttotal: 7m 43s\tremaining: 2m 11s\n",
      "779:\tlearn: 1706.6188135\ttotal: 7m 44s\tremaining: 2m 11s\n",
      "780:\tlearn: 1706.5251637\ttotal: 7m 45s\tremaining: 2m 10s\n",
      "781:\tlearn: 1706.4848954\ttotal: 7m 45s\tremaining: 2m 9s\n",
      "782:\tlearn: 1706.4058915\ttotal: 7m 46s\tremaining: 2m 9s\n",
      "783:\tlearn: 1706.3384446\ttotal: 7m 46s\tremaining: 2m 8s\n",
      "784:\tlearn: 1706.2121120\ttotal: 7m 47s\tremaining: 2m 8s\n",
      "785:\tlearn: 1706.1513665\ttotal: 7m 48s\tremaining: 2m 7s\n",
      "786:\tlearn: 1706.0636606\ttotal: 7m 48s\tremaining: 2m 6s\n",
      "787:\tlearn: 1705.9879667\ttotal: 7m 49s\tremaining: 2m 6s\n",
      "788:\tlearn: 1705.8511102\ttotal: 7m 50s\tremaining: 2m 5s\n",
      "789:\tlearn: 1705.8171279\ttotal: 7m 50s\tremaining: 2m 5s\n",
      "790:\tlearn: 1705.8163511\ttotal: 7m 51s\tremaining: 2m 4s\n",
      "791:\tlearn: 1705.7901527\ttotal: 7m 51s\tremaining: 2m 3s\n",
      "792:\tlearn: 1705.5842334\ttotal: 7m 52s\tremaining: 2m 3s\n",
      "793:\tlearn: 1705.5453384\ttotal: 7m 52s\tremaining: 2m 2s\n",
      "794:\tlearn: 1705.4985212\ttotal: 7m 53s\tremaining: 2m 2s\n",
      "795:\tlearn: 1705.4027303\ttotal: 7m 54s\tremaining: 2m 1s\n",
      "796:\tlearn: 1705.2827875\ttotal: 7m 54s\tremaining: 2m\n",
      "797:\tlearn: 1705.2540311\ttotal: 7m 55s\tremaining: 2m\n",
      "798:\tlearn: 1705.2286416\ttotal: 7m 55s\tremaining: 1m 59s\n",
      "799:\tlearn: 1705.2068645\ttotal: 7m 56s\tremaining: 1m 59s\n",
      "800:\tlearn: 1705.0809372\ttotal: 7m 57s\tremaining: 1m 58s\n",
      "801:\tlearn: 1705.0034880\ttotal: 7m 57s\tremaining: 1m 57s\n",
      "802:\tlearn: 1704.9060891\ttotal: 7m 58s\tremaining: 1m 57s\n",
      "803:\tlearn: 1704.6256362\ttotal: 7m 58s\tremaining: 1m 56s\n",
      "804:\tlearn: 1704.5539053\ttotal: 7m 59s\tremaining: 1m 56s\n",
      "805:\tlearn: 1704.3978571\ttotal: 8m\tremaining: 1m 55s\n",
      "806:\tlearn: 1704.3607507\ttotal: 8m\tremaining: 1m 54s\n",
      "807:\tlearn: 1704.3008813\ttotal: 8m 1s\tremaining: 1m 54s\n",
      "808:\tlearn: 1704.1437698\ttotal: 8m 1s\tremaining: 1m 53s\n",
      "809:\tlearn: 1704.0733751\ttotal: 8m 2s\tremaining: 1m 53s\n",
      "810:\tlearn: 1704.0407322\ttotal: 8m 3s\tremaining: 1m 52s\n",
      "811:\tlearn: 1703.9219679\ttotal: 8m 3s\tremaining: 1m 51s\n",
      "812:\tlearn: 1703.8511949\ttotal: 8m 4s\tremaining: 1m 51s\n",
      "813:\tlearn: 1703.7574623\ttotal: 8m 4s\tremaining: 1m 50s\n",
      "814:\tlearn: 1703.6954664\ttotal: 8m 5s\tremaining: 1m 50s\n",
      "815:\tlearn: 1703.5877230\ttotal: 8m 6s\tremaining: 1m 49s\n",
      "816:\tlearn: 1703.5115358\ttotal: 8m 6s\tremaining: 1m 49s\n",
      "817:\tlearn: 1703.3017593\ttotal: 8m 7s\tremaining: 1m 48s\n",
      "818:\tlearn: 1703.2430948\ttotal: 8m 8s\tremaining: 1m 47s\n",
      "819:\tlearn: 1703.0605009\ttotal: 8m 8s\tremaining: 1m 47s\n",
      "820:\tlearn: 1703.0096929\ttotal: 8m 9s\tremaining: 1m 46s\n",
      "821:\tlearn: 1702.9079617\ttotal: 8m 9s\tremaining: 1m 46s\n",
      "822:\tlearn: 1702.8346152\ttotal: 8m 10s\tremaining: 1m 45s\n",
      "823:\tlearn: 1702.8322005\ttotal: 8m 10s\tremaining: 1m 44s\n",
      "824:\tlearn: 1702.7589058\ttotal: 8m 11s\tremaining: 1m 44s\n",
      "825:\tlearn: 1702.6216462\ttotal: 8m 12s\tremaining: 1m 43s\n",
      "826:\tlearn: 1702.5115527\ttotal: 8m 12s\tremaining: 1m 43s\n",
      "827:\tlearn: 1702.4491186\ttotal: 8m 13s\tremaining: 1m 42s\n",
      "828:\tlearn: 1702.3589125\ttotal: 8m 14s\tremaining: 1m 41s\n",
      "829:\tlearn: 1702.2980507\ttotal: 8m 14s\tremaining: 1m 41s\n",
      "830:\tlearn: 1702.2575736\ttotal: 8m 15s\tremaining: 1m 40s\n",
      "831:\tlearn: 1702.1823948\ttotal: 8m 15s\tremaining: 1m 40s\n",
      "832:\tlearn: 1702.1505477\ttotal: 8m 16s\tremaining: 1m 39s\n",
      "833:\tlearn: 1701.9884315\ttotal: 8m 16s\tremaining: 1m 38s\n",
      "834:\tlearn: 1701.9505343\ttotal: 8m 17s\tremaining: 1m 38s\n",
      "835:\tlearn: 1701.8786439\ttotal: 8m 18s\tremaining: 1m 37s\n",
      "836:\tlearn: 1701.7735499\ttotal: 8m 18s\tremaining: 1m 37s\n",
      "837:\tlearn: 1701.5837772\ttotal: 8m 19s\tremaining: 1m 36s\n",
      "838:\tlearn: 1701.4594614\ttotal: 8m 19s\tremaining: 1m 35s\n",
      "839:\tlearn: 1701.4046884\ttotal: 8m 20s\tremaining: 1m 35s\n",
      "840:\tlearn: 1701.3739100\ttotal: 8m 20s\tremaining: 1m 34s\n",
      "841:\tlearn: 1701.3110192\ttotal: 8m 21s\tremaining: 1m 34s\n",
      "842:\tlearn: 1701.2351985\ttotal: 8m 22s\tremaining: 1m 33s\n",
      "843:\tlearn: 1701.0396765\ttotal: 8m 22s\tremaining: 1m 32s\n",
      "844:\tlearn: 1700.9450193\ttotal: 8m 23s\tremaining: 1m 32s\n",
      "845:\tlearn: 1700.8840825\ttotal: 8m 24s\tremaining: 1m 31s\n",
      "846:\tlearn: 1700.7790275\ttotal: 8m 24s\tremaining: 1m 31s\n",
      "847:\tlearn: 1700.3872539\ttotal: 8m 25s\tremaining: 1m 30s\n",
      "848:\tlearn: 1700.3371044\ttotal: 8m 26s\tremaining: 1m 30s\n",
      "849:\tlearn: 1700.2218337\ttotal: 8m 26s\tremaining: 1m 29s\n",
      "850:\tlearn: 1700.0737437\ttotal: 8m 27s\tremaining: 1m 28s\n",
      "851:\tlearn: 1699.9601514\ttotal: 8m 27s\tremaining: 1m 28s\n",
      "852:\tlearn: 1699.8663137\ttotal: 8m 28s\tremaining: 1m 27s\n",
      "853:\tlearn: 1699.8393349\ttotal: 8m 29s\tremaining: 1m 27s\n",
      "854:\tlearn: 1699.7729487\ttotal: 8m 29s\tremaining: 1m 26s\n",
      "855:\tlearn: 1699.6339747\ttotal: 8m 30s\tremaining: 1m 25s\n",
      "856:\tlearn: 1699.4618266\ttotal: 8m 30s\tremaining: 1m 25s\n",
      "857:\tlearn: 1699.4566344\ttotal: 8m 31s\tremaining: 1m 24s\n",
      "858:\tlearn: 1699.3782561\ttotal: 8m 32s\tremaining: 1m 24s\n",
      "859:\tlearn: 1699.2741993\ttotal: 8m 32s\tremaining: 1m 23s\n",
      "860:\tlearn: 1699.2701731\ttotal: 8m 33s\tremaining: 1m 22s\n",
      "861:\tlearn: 1699.1945737\ttotal: 8m 33s\tremaining: 1m 22s\n",
      "862:\tlearn: 1699.1889613\ttotal: 8m 34s\tremaining: 1m 21s\n",
      "863:\tlearn: 1699.0697955\ttotal: 8m 34s\tremaining: 1m 21s\n",
      "864:\tlearn: 1699.0302517\ttotal: 8m 35s\tremaining: 1m 20s\n",
      "865:\tlearn: 1698.8217087\ttotal: 8m 36s\tremaining: 1m 19s\n",
      "866:\tlearn: 1698.7781686\ttotal: 8m 36s\tremaining: 1m 19s\n",
      "867:\tlearn: 1698.7052602\ttotal: 8m 37s\tremaining: 1m 18s\n",
      "868:\tlearn: 1698.6735800\ttotal: 8m 37s\tremaining: 1m 18s\n",
      "869:\tlearn: 1698.5458787\ttotal: 8m 38s\tremaining: 1m 17s\n",
      "870:\tlearn: 1698.4884273\ttotal: 8m 39s\tremaining: 1m 16s\n",
      "871:\tlearn: 1698.4540218\ttotal: 8m 39s\tremaining: 1m 16s\n",
      "872:\tlearn: 1698.3062266\ttotal: 8m 40s\tremaining: 1m 15s\n",
      "873:\tlearn: 1698.2697136\ttotal: 8m 40s\tremaining: 1m 15s\n",
      "874:\tlearn: 1698.1085259\ttotal: 8m 41s\tremaining: 1m 14s\n"
     ]
    },
    {
     "name": "stdout",
     "output_type": "stream",
     "text": [
      "875:\tlearn: 1698.0539933\ttotal: 8m 42s\tremaining: 1m 13s\n",
      "876:\tlearn: 1697.9218428\ttotal: 8m 42s\tremaining: 1m 13s\n",
      "877:\tlearn: 1697.7532329\ttotal: 8m 43s\tremaining: 1m 12s\n",
      "878:\tlearn: 1697.7066244\ttotal: 8m 44s\tremaining: 1m 12s\n",
      "879:\tlearn: 1697.6445269\ttotal: 8m 44s\tremaining: 1m 11s\n",
      "880:\tlearn: 1697.4723784\ttotal: 8m 45s\tremaining: 1m 10s\n",
      "881:\tlearn: 1697.3482575\ttotal: 8m 46s\tremaining: 1m 10s\n",
      "882:\tlearn: 1697.2069191\ttotal: 8m 46s\tremaining: 1m 9s\n",
      "883:\tlearn: 1697.0105103\ttotal: 8m 47s\tremaining: 1m 9s\n",
      "884:\tlearn: 1696.8664397\ttotal: 8m 47s\tremaining: 1m 8s\n",
      "885:\tlearn: 1696.6806677\ttotal: 8m 48s\tremaining: 1m 8s\n",
      "886:\tlearn: 1696.5275429\ttotal: 8m 49s\tremaining: 1m 7s\n",
      "887:\tlearn: 1696.4510840\ttotal: 8m 49s\tremaining: 1m 6s\n",
      "888:\tlearn: 1696.2917914\ttotal: 8m 50s\tremaining: 1m 6s\n",
      "889:\tlearn: 1696.2834165\ttotal: 8m 50s\tremaining: 1m 5s\n",
      "890:\tlearn: 1696.1607955\ttotal: 8m 51s\tremaining: 1m 4s\n",
      "891:\tlearn: 1696.0860440\ttotal: 8m 51s\tremaining: 1m 4s\n",
      "892:\tlearn: 1695.9820896\ttotal: 8m 52s\tremaining: 1m 3s\n",
      "893:\tlearn: 1695.9634144\ttotal: 8m 52s\tremaining: 1m 3s\n",
      "894:\tlearn: 1695.8614464\ttotal: 8m 53s\tremaining: 1m 2s\n",
      "895:\tlearn: 1695.8228571\ttotal: 8m 54s\tremaining: 1m 2s\n",
      "896:\tlearn: 1695.8045161\ttotal: 8m 54s\tremaining: 1m 1s\n",
      "897:\tlearn: 1695.6563638\ttotal: 8m 55s\tremaining: 1m\n",
      "898:\tlearn: 1695.6490455\ttotal: 8m 55s\tremaining: 1m\n",
      "899:\tlearn: 1695.5454851\ttotal: 8m 56s\tremaining: 59.6s\n",
      "900:\tlearn: 1695.4091545\ttotal: 8m 57s\tremaining: 59s\n",
      "901:\tlearn: 1695.3628344\ttotal: 8m 57s\tremaining: 58.4s\n",
      "902:\tlearn: 1695.2287400\ttotal: 8m 58s\tremaining: 57.8s\n",
      "903:\tlearn: 1695.1274059\ttotal: 8m 59s\tremaining: 57.2s\n",
      "904:\tlearn: 1695.0255465\ttotal: 8m 59s\tremaining: 56.7s\n",
      "905:\tlearn: 1694.9977972\ttotal: 9m\tremaining: 56s\n",
      "906:\tlearn: 1694.9347308\ttotal: 9m\tremaining: 55.5s\n",
      "907:\tlearn: 1694.8850992\ttotal: 9m 1s\tremaining: 54.9s\n",
      "908:\tlearn: 1694.8600412\ttotal: 9m 1s\tremaining: 54.3s\n",
      "909:\tlearn: 1694.7705862\ttotal: 9m 2s\tremaining: 53.6s\n",
      "910:\tlearn: 1694.7075714\ttotal: 9m 2s\tremaining: 53s\n",
      "911:\tlearn: 1694.5845419\ttotal: 9m 3s\tremaining: 52.5s\n",
      "912:\tlearn: 1694.4934039\ttotal: 9m 4s\tremaining: 51.9s\n",
      "913:\tlearn: 1694.3818057\ttotal: 9m 4s\tremaining: 51.3s\n",
      "914:\tlearn: 1694.2496999\ttotal: 9m 5s\tremaining: 50.7s\n",
      "915:\tlearn: 1694.2215115\ttotal: 9m 6s\tremaining: 50.1s\n",
      "916:\tlearn: 1694.0468913\ttotal: 9m 6s\tremaining: 49.5s\n",
      "917:\tlearn: 1693.9469408\ttotal: 9m 7s\tremaining: 48.9s\n",
      "918:\tlearn: 1693.7301994\ttotal: 9m 8s\tremaining: 48.3s\n",
      "919:\tlearn: 1693.6298522\ttotal: 9m 8s\tremaining: 47.7s\n",
      "920:\tlearn: 1693.5754129\ttotal: 9m 9s\tremaining: 47.1s\n",
      "921:\tlearn: 1693.5421884\ttotal: 9m 9s\tremaining: 46.5s\n",
      "922:\tlearn: 1693.5326833\ttotal: 9m 10s\tremaining: 45.9s\n",
      "923:\tlearn: 1693.4973763\ttotal: 9m 10s\tremaining: 45.3s\n",
      "924:\tlearn: 1693.4484226\ttotal: 9m 11s\tremaining: 44.7s\n",
      "925:\tlearn: 1693.3916654\ttotal: 9m 12s\tremaining: 44.1s\n",
      "926:\tlearn: 1693.3632229\ttotal: 9m 12s\tremaining: 43.5s\n",
      "927:\tlearn: 1693.3050614\ttotal: 9m 13s\tremaining: 42.9s\n",
      "928:\tlearn: 1693.2557054\ttotal: 9m 13s\tremaining: 42.3s\n",
      "929:\tlearn: 1693.1581603\ttotal: 9m 14s\tremaining: 41.7s\n",
      "930:\tlearn: 1693.0231848\ttotal: 9m 15s\tremaining: 41.1s\n",
      "931:\tlearn: 1692.9628950\ttotal: 9m 15s\tremaining: 40.5s\n",
      "932:\tlearn: 1692.9227708\ttotal: 9m 16s\tremaining: 39.9s\n",
      "933:\tlearn: 1692.8964173\ttotal: 9m 16s\tremaining: 39.3s\n",
      "934:\tlearn: 1692.8799137\ttotal: 9m 17s\tremaining: 38.8s\n",
      "935:\tlearn: 1692.8483690\ttotal: 9m 17s\tremaining: 38.2s\n",
      "936:\tlearn: 1692.7835683\ttotal: 9m 18s\tremaining: 37.6s\n",
      "937:\tlearn: 1692.7531101\ttotal: 9m 18s\tremaining: 36.9s\n",
      "938:\tlearn: 1692.6635138\ttotal: 9m 19s\tremaining: 36.4s\n",
      "939:\tlearn: 1692.6031942\ttotal: 9m 20s\tremaining: 35.8s\n",
      "940:\tlearn: 1692.5130324\ttotal: 9m 20s\tremaining: 35.2s\n",
      "941:\tlearn: 1692.4061459\ttotal: 9m 21s\tremaining: 34.6s\n",
      "942:\tlearn: 1692.3403257\ttotal: 9m 22s\tremaining: 34s\n",
      "943:\tlearn: 1692.2871768\ttotal: 9m 22s\tremaining: 33.4s\n",
      "944:\tlearn: 1692.2536768\ttotal: 9m 23s\tremaining: 32.8s\n",
      "945:\tlearn: 1692.1461949\ttotal: 9m 23s\tremaining: 32.2s\n",
      "946:\tlearn: 1692.0658899\ttotal: 9m 24s\tremaining: 31.6s\n",
      "947:\tlearn: 1691.9599942\ttotal: 9m 25s\tremaining: 31s\n",
      "948:\tlearn: 1691.9010834\ttotal: 9m 25s\tremaining: 30.4s\n",
      "949:\tlearn: 1691.8367533\ttotal: 9m 26s\tremaining: 29.8s\n",
      "950:\tlearn: 1691.7893576\ttotal: 9m 26s\tremaining: 29.2s\n",
      "951:\tlearn: 1691.7029885\ttotal: 9m 27s\tremaining: 28.6s\n",
      "952:\tlearn: 1691.6665791\ttotal: 9m 27s\tremaining: 28s\n",
      "953:\tlearn: 1691.5321731\ttotal: 9m 28s\tremaining: 27.4s\n",
      "954:\tlearn: 1691.5042822\ttotal: 9m 29s\tremaining: 26.8s\n",
      "955:\tlearn: 1691.3866006\ttotal: 9m 29s\tremaining: 26.2s\n",
      "956:\tlearn: 1691.2795630\ttotal: 9m 30s\tremaining: 25.6s\n",
      "957:\tlearn: 1691.1828986\ttotal: 9m 30s\tremaining: 25s\n",
      "958:\tlearn: 1690.9864537\ttotal: 9m 31s\tremaining: 24.4s\n",
      "959:\tlearn: 1690.9636742\ttotal: 9m 32s\tremaining: 23.8s\n",
      "960:\tlearn: 1690.8897280\ttotal: 9m 32s\tremaining: 23.2s\n",
      "961:\tlearn: 1690.8223565\ttotal: 9m 33s\tremaining: 22.6s\n",
      "962:\tlearn: 1690.7492352\ttotal: 9m 34s\tremaining: 22.1s\n",
      "963:\tlearn: 1690.7026597\ttotal: 9m 34s\tremaining: 21.5s\n",
      "964:\tlearn: 1690.5986571\ttotal: 9m 35s\tremaining: 20.9s\n",
      "965:\tlearn: 1690.4923241\ttotal: 9m 36s\tremaining: 20.3s\n",
      "966:\tlearn: 1690.4433112\ttotal: 9m 36s\tremaining: 19.7s\n",
      "967:\tlearn: 1690.3172400\ttotal: 9m 37s\tremaining: 19.1s\n",
      "968:\tlearn: 1690.2876956\ttotal: 9m 37s\tremaining: 18.5s\n",
      "969:\tlearn: 1690.2614030\ttotal: 9m 38s\tremaining: 17.9s\n",
      "970:\tlearn: 1690.2094815\ttotal: 9m 39s\tremaining: 17.3s\n",
      "971:\tlearn: 1690.1788864\ttotal: 9m 39s\tremaining: 16.7s\n",
      "972:\tlearn: 1690.0434160\ttotal: 9m 40s\tremaining: 16.1s\n",
      "973:\tlearn: 1689.9649866\ttotal: 9m 40s\tremaining: 15.5s\n",
      "974:\tlearn: 1689.9451594\ttotal: 9m 41s\tremaining: 14.9s\n",
      "975:\tlearn: 1689.8250856\ttotal: 9m 41s\tremaining: 14.3s\n",
      "976:\tlearn: 1689.8041273\ttotal: 9m 42s\tremaining: 13.7s\n",
      "977:\tlearn: 1689.7642722\ttotal: 9m 43s\tremaining: 13.1s\n",
      "978:\tlearn: 1689.7061509\ttotal: 9m 43s\tremaining: 12.5s\n",
      "979:\tlearn: 1689.6544583\ttotal: 9m 44s\tremaining: 11.9s\n",
      "980:\tlearn: 1689.5662880\ttotal: 9m 44s\tremaining: 11.3s\n",
      "981:\tlearn: 1689.4685215\ttotal: 9m 45s\tremaining: 10.7s\n",
      "982:\tlearn: 1689.3363430\ttotal: 9m 46s\tremaining: 10.1s\n",
      "983:\tlearn: 1689.3122553\ttotal: 9m 46s\tremaining: 9.54s\n",
      "984:\tlearn: 1689.0925730\ttotal: 9m 47s\tremaining: 8.94s\n",
      "985:\tlearn: 1688.9904428\ttotal: 9m 47s\tremaining: 8.35s\n",
      "986:\tlearn: 1688.9807320\ttotal: 9m 48s\tremaining: 7.75s\n",
      "987:\tlearn: 1688.8848009\ttotal: 9m 49s\tremaining: 7.16s\n",
      "988:\tlearn: 1688.8028957\ttotal: 9m 49s\tremaining: 6.56s\n",
      "989:\tlearn: 1688.7457707\ttotal: 9m 50s\tremaining: 5.96s\n",
      "990:\tlearn: 1688.6761190\ttotal: 9m 50s\tremaining: 5.37s\n",
      "991:\tlearn: 1688.5590144\ttotal: 9m 51s\tremaining: 4.77s\n",
      "992:\tlearn: 1688.5424516\ttotal: 9m 51s\tremaining: 4.17s\n",
      "993:\tlearn: 1688.3810234\ttotal: 9m 52s\tremaining: 3.58s\n",
      "994:\tlearn: 1688.2832033\ttotal: 9m 53s\tremaining: 2.98s\n",
      "995:\tlearn: 1688.1952575\ttotal: 9m 53s\tremaining: 2.38s\n",
      "996:\tlearn: 1688.1265076\ttotal: 9m 54s\tremaining: 1.79s\n",
      "997:\tlearn: 1688.0902095\ttotal: 9m 54s\tremaining: 1.19s\n",
      "998:\tlearn: 1688.0367905\ttotal: 9m 55s\tremaining: 596ms\n",
      "999:\tlearn: 1688.0008212\ttotal: 9m 56s\tremaining: 0us\n",
      "CPU times: user 9min 55s, sys: 1.3 s, total: 9min 57s\n",
      "Wall time: 10min 1s\n"
     ]
    },
    {
     "data": {
      "text/plain": [
       "<catboost.core.CatBoostRegressor at 0x7f59e4221700>"
      ]
     },
     "execution_count": 63,
     "metadata": {},
     "output_type": "execute_result"
    }
   ],
   "source": [
    "%%time\n",
    "\n",
    "# Aseguramos que las características categóricas estén codificadas como cadenas\n",
    "for col in categorical_features_with_model:\n",
    "    X_train_with_model[col] = X_train_with_model[col].astype(str)\n",
    "    X_test_with_model[col] = X_test_with_model[col].astype(str)\n",
    "\n",
    "# Definimos el modelo CatBoostRegressor\n",
    "model_cb_with_model = cb.CatBoostRegressor(loss_function='RMSE', iterations=1000)\n",
    "\n",
    "# Entrenamos el modelo\n",
    "model_cb_with_model.fit(\n",
    "    X_train_with_model.fillna('-100'),\n",
    "    y_train_with_model,\n",
    "    cat_features=categorical_features_with_model,\n",
    "    early_stopping_rounds=5\n",
    ")"
   ]
  },
  {
   "cell_type": "code",
   "execution_count": 64,
   "metadata": {},
   "outputs": [
    {
     "name": "stdout",
     "output_type": "stream",
     "text": [
      "\n",
      "Catboost performance with 'Model':\n",
      "1744.7205\n",
      "\n",
      "CPU times: user 946 ms, sys: 0 ns, total: 946 ms\n",
      "Wall time: 953 ms\n"
     ]
    }
   ],
   "source": [
    "%%time\n",
    "\n",
    "# Predecimos los precios en el conjunto de prueba\n",
    "preds_cb_with_model = model_cb_with_model.predict(X_test_with_model.fillna('-100'))\n",
    "\n",
    "# Evaluamos el modelo\n",
    "print(f\"\"\"\n",
    "Catboost performance with 'Model':\n",
    "{round(mean_squared_error(y_test_with_model, preds_cb_with_model)**0.5, 4)}\n",
    "\"\"\")"
   ]
  },
  {
   "cell_type": "markdown",
   "metadata": {},
   "source": [
    "La inclusión de la variable 'Model' resultó en una mejora en el rendimiento del modelo. El RMSE se redujo de 1789.4143 a 1744.7205, indicando una mejora en la precisión de las predicciones.\n",
    "\n",
    "Aunque el rendimiento mejoró, se observó un incremento en el tiempo de ejecución. El tiempo de entrenamiento del modelo aumentó de 8min 17s a 10min 1s, lo que representa aproximadamente un 21% más de tiempo.\n",
    "\n",
    "El tiempo de predicción también aumentó ligeramente de 680 ms a 953 ms, un incremento del 40%.\n",
    "\n",
    "La inclusión de la variable 'Model' en el conjunto de datos mejora la precisión del modelo CatBoost, pero a costa de un mayor tiempo de entrenamiento y predicción. \n"
   ]
  },
  {
   "cell_type": "markdown",
   "metadata": {},
   "source": [
    "## Conclusiones"
   ]
  },
  {
   "cell_type": "markdown",
   "metadata": {},
   "source": [
    "La regresión lineal proporciona una línea base útil y es un buen punto de partida, su desempeño sugiere que se pueden explorar modelos más avanzados para mejorar la precisión de las predicciones. EL RMSE obtenido para el modelo de regresión lineal es de 3138.5415.\n",
    "\n",
    "Con respecto a la inclusión de la variable 'Model', esto mejoró el rendimiento de todos los modelos probados. Los valores de RMSE se redujeron en todos los casos, lo que indica una mayor precisión en las predicciones al incluir esta variable categórica.\n",
    "\n",
    "La mejora más significativa se observó en el modelo CatBoost, donde el RMSE se redujo de 1789.4143 a 1744.7205.\n",
    "\n",
    "El modelo de Bosque Aleatorio con los hiperparámetros optimizados logró un RMSE de 1782.74 con el conjunto de datos con la variable 'Model', lo que representa una mejora significativa en comparación con el modelo de Regresión Lineal. Sin embargo, el costo computacional es considerable, y es importante equilibrar la precisión del modelo con los recursos disponibles.\n",
    "\n",
    "El modelo LightGBM demostró ser altamente efectivo para predecir el precio de los vehículos en el conjunto de datos utilizado. Incluso con un modelo simple, LightGBM mostró un rendimiento sólido, y la optimización de hiperparámetros permitió mejorar aún más su precisión, llegando a un RMSE de 1770.7392 con el conjunto de datos con la variable 'Model'. \n",
    "\n",
    "La capacidad de LightGBM para manejar características categóricas de manera eficiente, junto con su velocidad de entrenamiento, lo convierte en una excelente opción para problemas de regresión con grandes conjuntos de datos.\n",
    "\n",
    "CatBoost demostró ser un modelo robusto en términos de precisión, reduciendo el error en los datos de entrenamiento y manteniendo un buen rendimiento en los datos de prueba. Además, su eficiencia en la predicción lo hace adecuado para aplicaciones que requieren resultados rápidos, con un RMSE de 1744.7205 para el conjuto de datos con la variable Model. Aunque el tiempo de entrenamiento puede ser más largo en comparación con otros modelos, como LightGBM, el rendimiento obtenido justifica este costo en términos de precisión mejorada y capacidad de manejar datos complejos y ruidosos.\n",
    "\n",
    "CatBoost es una opción sólida para problemas de regresión donde la precisión es crucial y se necesita una interpretación detallada de las características. Su capacidad para manejar variables categóricas y su robustez ante datos desbalanceados son aspectos adicionales que lo hacen atractivo para aplicaciones del mundo real.\n",
    "\n",
    "\n"
   ]
  }
 ],
 "metadata": {
  "ExecuteTimeLog": [
   {
    "duration": 6091,
    "start_time": "2024-07-04T12:12:00.980Z"
   },
   {
    "duration": 859,
    "start_time": "2024-07-04T12:12:07.074Z"
   },
   {
    "duration": 27,
    "start_time": "2024-07-04T12:12:07.936Z"
   },
   {
    "duration": 165,
    "start_time": "2024-07-04T12:12:57.942Z"
   },
   {
    "duration": 24,
    "start_time": "2024-07-04T12:15:41.239Z"
   },
   {
    "duration": 143,
    "start_time": "2024-07-04T12:16:00.781Z"
   },
   {
    "duration": 4,
    "start_time": "2024-07-04T12:24:43.085Z"
   },
   {
    "duration": 33,
    "start_time": "2024-07-04T12:24:43.877Z"
   },
   {
    "duration": 536,
    "start_time": "2024-07-04T12:26:11.345Z"
   },
   {
    "duration": 38,
    "start_time": "2024-07-04T12:26:12.020Z"
   },
   {
    "duration": 26,
    "start_time": "2024-07-04T12:26:20.648Z"
   },
   {
    "duration": 5,
    "start_time": "2024-07-04T12:26:24.793Z"
   },
   {
    "duration": 13,
    "start_time": "2024-07-04T12:26:26.777Z"
   },
   {
    "duration": 191,
    "start_time": "2024-07-04T12:32:12.841Z"
   },
   {
    "duration": 227,
    "start_time": "2024-07-04T12:32:38.683Z"
   },
   {
    "duration": 5,
    "start_time": "2024-07-04T12:33:23.276Z"
   },
   {
    "duration": 173,
    "start_time": "2024-07-04T12:33:29.194Z"
   },
   {
    "duration": 815,
    "start_time": "2024-07-04T12:33:37.545Z"
   },
   {
    "duration": 12,
    "start_time": "2024-07-04T12:33:59.763Z"
   },
   {
    "duration": 7,
    "start_time": "2024-07-04T12:34:20.522Z"
   },
   {
    "duration": 35,
    "start_time": "2024-07-04T12:34:43.322Z"
   },
   {
    "duration": 35,
    "start_time": "2024-07-04T12:38:24.409Z"
   },
   {
    "duration": 42,
    "start_time": "2024-07-04T12:39:00.448Z"
   },
   {
    "duration": 5117,
    "start_time": "2024-07-04T13:16:54.748Z"
   },
   {
    "duration": 770,
    "start_time": "2024-07-04T13:16:59.869Z"
   },
   {
    "duration": 151,
    "start_time": "2024-07-04T13:17:00.642Z"
   },
   {
    "duration": 21,
    "start_time": "2024-07-04T13:17:05.080Z"
   },
   {
    "duration": 106,
    "start_time": "2024-07-04T13:17:07.863Z"
   },
   {
    "duration": 4,
    "start_time": "2024-07-04T13:17:10.652Z"
   },
   {
    "duration": 29,
    "start_time": "2024-07-04T13:17:13.389Z"
   },
   {
    "duration": 25,
    "start_time": "2024-07-04T13:17:16.412Z"
   },
   {
    "duration": 5,
    "start_time": "2024-07-04T13:17:17.260Z"
   },
   {
    "duration": 6,
    "start_time": "2024-07-04T13:17:18.086Z"
   },
   {
    "duration": 170,
    "start_time": "2024-07-04T13:17:22.470Z"
   },
   {
    "duration": 5,
    "start_time": "2024-07-04T13:21:40.772Z"
   },
   {
    "duration": 188,
    "start_time": "2024-07-04T13:23:24.856Z"
   },
   {
    "duration": 795,
    "start_time": "2024-07-04T13:23:25.745Z"
   },
   {
    "duration": 11,
    "start_time": "2024-07-04T13:23:26.841Z"
   },
   {
    "duration": 5,
    "start_time": "2024-07-04T13:23:27.510Z"
   },
   {
    "duration": 32,
    "start_time": "2024-07-04T13:23:31.040Z"
   },
   {
    "duration": 33,
    "start_time": "2024-07-04T13:23:37.947Z"
   },
   {
    "duration": 55,
    "start_time": "2024-07-04T13:23:46.787Z"
   },
   {
    "duration": 13,
    "start_time": "2024-07-04T13:37:27.191Z"
   },
   {
    "duration": 13,
    "start_time": "2024-07-04T13:38:00.881Z"
   },
   {
    "duration": 13,
    "start_time": "2024-07-04T13:38:17.135Z"
   },
   {
    "duration": 13,
    "start_time": "2024-07-04T13:38:32.254Z"
   },
   {
    "duration": 34,
    "start_time": "2024-07-04T13:39:49.716Z"
   },
   {
    "duration": 5176,
    "start_time": "2024-07-04T17:28:01.072Z"
   },
   {
    "duration": 780,
    "start_time": "2024-07-04T17:28:11.219Z"
   },
   {
    "duration": 149,
    "start_time": "2024-07-04T17:28:12.104Z"
   },
   {
    "duration": 23,
    "start_time": "2024-07-04T17:28:13.129Z"
   },
   {
    "duration": 107,
    "start_time": "2024-07-04T17:28:14.366Z"
   },
   {
    "duration": 4,
    "start_time": "2024-07-04T17:28:15.491Z"
   },
   {
    "duration": 27,
    "start_time": "2024-07-04T17:28:16.428Z"
   },
   {
    "duration": 24,
    "start_time": "2024-07-04T17:28:17.252Z"
   },
   {
    "duration": 6,
    "start_time": "2024-07-04T17:28:18.697Z"
   },
   {
    "duration": 5,
    "start_time": "2024-07-04T17:28:19.577Z"
   },
   {
    "duration": 162,
    "start_time": "2024-07-04T17:28:25.249Z"
   },
   {
    "duration": 6,
    "start_time": "2024-07-04T17:28:26.058Z"
   },
   {
    "duration": 204,
    "start_time": "2024-07-04T17:28:29.702Z"
   },
   {
    "duration": 13,
    "start_time": "2024-07-04T17:28:34.249Z"
   },
   {
    "duration": 13,
    "start_time": "2024-07-04T17:28:37.307Z"
   },
   {
    "duration": 827,
    "start_time": "2024-07-04T17:28:42.253Z"
   },
   {
    "duration": 25,
    "start_time": "2024-07-04T17:28:43.084Z"
   },
   {
    "duration": 6,
    "start_time": "2024-07-04T17:28:43.695Z"
   },
   {
    "duration": 36,
    "start_time": "2024-07-04T17:28:47.298Z"
   },
   {
    "duration": 41,
    "start_time": "2024-07-04T17:28:48.152Z"
   },
   {
    "duration": 45,
    "start_time": "2024-07-04T17:28:49.046Z"
   },
   {
    "duration": 5139,
    "start_time": "2024-07-04T22:31:09.055Z"
   },
   {
    "duration": 771,
    "start_time": "2024-07-04T22:31:14.198Z"
   },
   {
    "duration": 158,
    "start_time": "2024-07-04T22:31:14.972Z"
   },
   {
    "duration": 23,
    "start_time": "2024-07-04T22:31:20.234Z"
   },
   {
    "duration": 110,
    "start_time": "2024-07-04T22:31:23.364Z"
   },
   {
    "duration": 4,
    "start_time": "2024-07-04T22:31:28.601Z"
   },
   {
    "duration": 32,
    "start_time": "2024-07-04T22:31:29.500Z"
   },
   {
    "duration": 24,
    "start_time": "2024-07-04T22:31:34.076Z"
   },
   {
    "duration": 6,
    "start_time": "2024-07-04T22:31:34.940Z"
   },
   {
    "duration": 5,
    "start_time": "2024-07-04T22:31:37.793Z"
   },
   {
    "duration": 157,
    "start_time": "2024-07-04T22:31:58.102Z"
   },
   {
    "duration": 4,
    "start_time": "2024-07-04T22:32:01.139Z"
   },
   {
    "duration": 451,
    "start_time": "2024-07-04T22:32:53.365Z"
   },
   {
    "duration": 29,
    "start_time": "2024-07-04T22:33:04.550Z"
   },
   {
    "duration": 25,
    "start_time": "2024-07-04T22:33:21.494Z"
   },
   {
    "duration": 4,
    "start_time": "2024-07-04T22:33:40.093Z"
   },
   {
    "duration": 9,
    "start_time": "2024-07-04T22:33:42.872Z"
   },
   {
    "duration": 156,
    "start_time": "2024-07-04T22:33:48.740Z"
   },
   {
    "duration": 15,
    "start_time": "2024-07-04T22:33:53.131Z"
   },
   {
    "duration": 15,
    "start_time": "2024-07-04T22:33:54.271Z"
   },
   {
    "duration": 808,
    "start_time": "2024-07-04T22:33:58.738Z"
   },
   {
    "duration": 11,
    "start_time": "2024-07-04T22:34:00.437Z"
   },
   {
    "duration": 6,
    "start_time": "2024-07-04T22:34:03.590Z"
   },
   {
    "duration": 36,
    "start_time": "2024-07-04T22:34:13.140Z"
   },
   {
    "duration": 37,
    "start_time": "2024-07-04T22:34:15.676Z"
   },
   {
    "duration": 44,
    "start_time": "2024-07-04T22:34:21.805Z"
   },
   {
    "duration": 5,
    "start_time": "2024-07-04T22:35:33.820Z"
   },
   {
    "duration": 705,
    "start_time": "2024-07-04T22:49:49.086Z"
   },
   {
    "duration": 154,
    "start_time": "2024-07-04T22:53:30.411Z"
   },
   {
    "duration": 27,
    "start_time": "2024-07-04T22:54:02.283Z"
   },
   {
    "duration": 71,
    "start_time": "2024-07-04T22:58:43.738Z"
   },
   {
    "duration": 34,
    "start_time": "2024-07-04T23:00:40.581Z"
   },
   {
    "duration": 148,
    "start_time": "2024-07-04T23:01:02.593Z"
   },
   {
    "duration": 24,
    "start_time": "2024-07-04T23:06:00.239Z"
   },
   {
    "duration": 30,
    "start_time": "2024-07-04T23:06:15.762Z"
   },
   {
    "duration": 4,
    "start_time": "2024-07-04T23:06:25.527Z"
   },
   {
    "duration": 11717,
    "start_time": "2024-07-04T23:06:28.520Z"
   },
   {
    "duration": 130,
    "start_time": "2024-07-04T23:08:01.515Z"
   },
   {
    "duration": 4,
    "start_time": "2024-07-04T23:08:22.531Z"
   },
   {
    "duration": 22548,
    "start_time": "2024-07-04T23:08:30.808Z"
   },
   {
    "duration": 131,
    "start_time": "2024-07-04T23:09:11.849Z"
   },
   {
    "duration": 3,
    "start_time": "2024-07-04T23:10:20.094Z"
   },
   {
    "duration": 495558,
    "start_time": "2024-07-04T23:10:23.169Z"
   },
   {
    "duration": 659,
    "start_time": "2024-07-04T23:19:07.933Z"
   },
   {
    "duration": 5483,
    "start_time": "2024-07-05T13:54:08.996Z"
   },
   {
    "duration": 830,
    "start_time": "2024-07-05T13:54:14.483Z"
   },
   {
    "duration": 158,
    "start_time": "2024-07-05T13:54:15.316Z"
   },
   {
    "duration": 134,
    "start_time": "2024-07-05T13:54:48.705Z"
   },
   {
    "duration": 7,
    "start_time": "2024-07-05T13:57:03.109Z"
   },
   {
    "duration": 596,
    "start_time": "2024-07-05T13:57:58.861Z"
   },
   {
    "duration": 1765,
    "start_time": "2024-07-05T13:58:14.599Z"
   },
   {
    "duration": 5,
    "start_time": "2024-07-05T13:59:47.539Z"
   },
   {
    "duration": 207,
    "start_time": "2024-07-05T13:59:52.945Z"
   },
   {
    "duration": 39567,
    "start_time": "2024-07-05T14:03:02.135Z"
   },
   {
    "duration": 123,
    "start_time": "2024-07-05T14:03:41.886Z"
   },
   {
    "duration": 27,
    "start_time": "2024-07-05T14:06:33.039Z"
   },
   {
    "duration": 30,
    "start_time": "2024-07-05T14:07:00.019Z"
   },
   {
    "duration": 6,
    "start_time": "2024-07-05T14:07:32.751Z"
   },
   {
    "duration": 4,
    "start_time": "2024-07-05T14:14:38.895Z"
   },
   {
    "duration": 771,
    "start_time": "2024-07-05T14:14:39.600Z"
   },
   {
    "duration": 151,
    "start_time": "2024-07-05T14:14:40.620Z"
   },
   {
    "duration": 138,
    "start_time": "2024-07-05T14:14:48.494Z"
   },
   {
    "duration": 171,
    "start_time": "2024-07-05T14:16:13.737Z"
   },
   {
    "duration": 6,
    "start_time": "2024-07-05T14:16:13.953Z"
   },
   {
    "duration": 61,
    "start_time": "2024-07-05T14:16:13.963Z"
   },
   {
    "duration": 136,
    "start_time": "2024-07-05T14:16:14.028Z"
   },
   {
    "duration": 5,
    "start_time": "2024-07-05T14:16:33.579Z"
   },
   {
    "duration": 27,
    "start_time": "2024-07-05T14:16:38.204Z"
   },
   {
    "duration": 25,
    "start_time": "2024-07-05T14:16:42.276Z"
   },
   {
    "duration": 6,
    "start_time": "2024-07-05T14:16:43.979Z"
   },
   {
    "duration": 6,
    "start_time": "2024-07-05T14:16:45.132Z"
   },
   {
    "duration": 164,
    "start_time": "2024-07-05T14:16:49.535Z"
   },
   {
    "duration": 5,
    "start_time": "2024-07-05T14:16:50.854Z"
   },
   {
    "duration": 201,
    "start_time": "2024-07-05T14:17:00.667Z"
   },
   {
    "duration": 16,
    "start_time": "2024-07-05T14:17:03.105Z"
   },
   {
    "duration": 15,
    "start_time": "2024-07-05T14:17:09.192Z"
   },
   {
    "duration": 5416,
    "start_time": "2024-07-05T16:22:55.875Z"
   },
   {
    "duration": 848,
    "start_time": "2024-07-05T16:23:01.296Z"
   },
   {
    "duration": 151,
    "start_time": "2024-07-05T16:23:20.307Z"
   },
   {
    "duration": 139,
    "start_time": "2024-07-05T16:23:26.386Z"
   },
   {
    "duration": 81484,
    "start_time": "2024-07-05T16:23:32.271Z"
   },
   {
    "duration": 7,
    "start_time": "2024-07-05T16:24:53.770Z"
   },
   {
    "duration": 128,
    "start_time": "2024-07-05T16:24:53.782Z"
   },
   {
    "duration": 24,
    "start_time": "2024-07-05T16:25:08.016Z"
   },
   {
    "duration": 118,
    "start_time": "2024-07-05T16:25:12.544Z"
   },
   {
    "duration": 5,
    "start_time": "2024-07-05T16:25:30.154Z"
   },
   {
    "duration": 27,
    "start_time": "2024-07-05T16:25:36.021Z"
   },
   {
    "duration": 25,
    "start_time": "2024-07-05T16:25:42.449Z"
   },
   {
    "duration": 6,
    "start_time": "2024-07-05T16:25:44.603Z"
   },
   {
    "duration": 6,
    "start_time": "2024-07-05T16:25:46.793Z"
   },
   {
    "duration": 173,
    "start_time": "2024-07-05T16:26:21.538Z"
   },
   {
    "duration": 5,
    "start_time": "2024-07-05T16:26:22.566Z"
   },
   {
    "duration": 167,
    "start_time": "2024-07-05T16:26:33.286Z"
   },
   {
    "duration": 16,
    "start_time": "2024-07-05T16:26:39.155Z"
   },
   {
    "duration": 13,
    "start_time": "2024-07-05T16:26:43.409Z"
   },
   {
    "duration": 10,
    "start_time": "2024-07-05T16:28:21.712Z"
   },
   {
    "duration": 4,
    "start_time": "2024-07-05T16:40:26.183Z"
   },
   {
    "duration": 4,
    "start_time": "2024-07-05T16:40:27.636Z"
   },
   {
    "duration": 27,
    "start_time": "2024-07-05T16:40:28.664Z"
   },
   {
    "duration": 6,
    "start_time": "2024-07-05T16:41:04.259Z"
   },
   {
    "duration": 4,
    "start_time": "2024-07-05T16:43:56.077Z"
   },
   {
    "duration": 162,
    "start_time": "2024-07-05T17:28:39.454Z"
   },
   {
    "duration": 18,
    "start_time": "2024-07-05T17:28:43.178Z"
   },
   {
    "duration": 16,
    "start_time": "2024-07-05T17:28:56.168Z"
   },
   {
    "duration": 854,
    "start_time": "2024-07-05T17:35:25.376Z"
   },
   {
    "duration": 4,
    "start_time": "2024-07-05T17:42:27.638Z"
   },
   {
    "duration": 2603,
    "start_time": "2024-07-05T17:42:29.540Z"
   },
   {
    "duration": 601,
    "start_time": "2024-07-05T17:42:32.224Z"
   },
   {
    "duration": 16,
    "start_time": "2024-07-05T17:42:43.260Z"
   },
   {
    "duration": 179,
    "start_time": "2024-07-05T17:44:12.245Z"
   },
   {
    "duration": 6,
    "start_time": "2024-07-05T17:46:06.211Z"
   },
   {
    "duration": 32,
    "start_time": "2024-07-05T18:04:19.051Z"
   },
   {
    "duration": 53,
    "start_time": "2024-07-05T18:04:37.080Z"
   },
   {
    "duration": 9,
    "start_time": "2024-07-05T18:05:26.745Z"
   },
   {
    "duration": 503855,
    "start_time": "2024-07-05T18:05:28.481Z"
   },
   {
    "duration": 739,
    "start_time": "2024-07-05T18:32:11.814Z"
   },
   {
    "duration": 24,
    "start_time": "2024-07-05T18:33:14.323Z"
   },
   {
    "duration": 24,
    "start_time": "2024-07-05T18:33:36.000Z"
   },
   {
    "duration": 6,
    "start_time": "2024-07-05T18:56:32.332Z"
   },
   {
    "duration": 5,
    "start_time": "2024-07-05T18:56:52.700Z"
   },
   {
    "duration": 5,
    "start_time": "2024-07-05T18:58:01.688Z"
   },
   {
    "duration": 5,
    "start_time": "2024-07-05T19:28:27.187Z"
   },
   {
    "duration": 6,
    "start_time": "2024-07-05T19:28:30.305Z"
   },
   {
    "duration": 2668,
    "start_time": "2024-07-05T19:28:33.275Z"
   },
   {
    "duration": 16,
    "start_time": "2024-07-05T19:28:36.023Z"
   },
   {
    "duration": 5,
    "start_time": "2024-07-05T19:28:39.008Z"
   },
   {
    "duration": 3,
    "start_time": "2024-07-05T19:29:26.906Z"
   },
   {
    "duration": 5,
    "start_time": "2024-07-05T19:29:27.432Z"
   },
   {
    "duration": 2627,
    "start_time": "2024-07-05T19:29:28.712Z"
   },
   {
    "duration": 91,
    "start_time": "2024-07-05T19:29:31.344Z"
   },
   {
    "duration": 6,
    "start_time": "2024-07-05T19:29:34.202Z"
   },
   {
    "duration": 4,
    "start_time": "2024-07-05T20:26:20.088Z"
   },
   {
    "duration": 6,
    "start_time": "2024-07-05T20:26:20.824Z"
   },
   {
    "duration": 2496,
    "start_time": "2024-07-05T20:26:25.231Z"
   },
   {
    "duration": 2641,
    "start_time": "2024-07-05T20:26:31.204Z"
   },
   {
    "duration": 16,
    "start_time": "2024-07-05T20:26:36.736Z"
   },
   {
    "duration": 7,
    "start_time": "2024-07-05T20:26:40.288Z"
   },
   {
    "duration": 2784,
    "start_time": "2024-07-05T20:38:03.702Z"
   },
   {
    "duration": 7,
    "start_time": "2024-07-05T20:44:07.382Z"
   },
   {
    "duration": 8,
    "start_time": "2024-07-05T20:46:59.936Z"
   },
   {
    "duration": 764,
    "start_time": "2024-07-05T20:47:00.942Z"
   },
   {
    "duration": 163,
    "start_time": "2024-07-05T20:47:01.882Z"
   },
   {
    "duration": 145,
    "start_time": "2024-07-05T20:47:59.217Z"
   },
   {
    "duration": 141,
    "start_time": "2024-07-05T20:48:03.614Z"
   },
   {
    "duration": 83117,
    "start_time": "2024-07-05T20:48:07.218Z"
   },
   {
    "duration": 8,
    "start_time": "2024-07-05T20:49:30.348Z"
   },
   {
    "duration": 21,
    "start_time": "2024-07-05T20:49:36.475Z"
   },
   {
    "duration": 114,
    "start_time": "2024-07-05T20:49:40.882Z"
   },
   {
    "duration": 4,
    "start_time": "2024-07-05T20:49:44.669Z"
   },
   {
    "duration": 5,
    "start_time": "2024-07-05T20:49:45.767Z"
   },
   {
    "duration": 27,
    "start_time": "2024-07-05T20:49:46.885Z"
   },
   {
    "duration": 29,
    "start_time": "2024-07-05T20:49:52.081Z"
   },
   {
    "duration": 5,
    "start_time": "2024-07-05T20:49:53.973Z"
   },
   {
    "duration": 163,
    "start_time": "2024-07-05T20:49:57.155Z"
   },
   {
    "duration": 6,
    "start_time": "2024-07-05T20:49:57.839Z"
   },
   {
    "duration": 176,
    "start_time": "2024-07-05T20:49:59.014Z"
   },
   {
    "duration": 14,
    "start_time": "2024-07-05T20:50:00.284Z"
   },
   {
    "duration": 21,
    "start_time": "2024-07-05T20:50:01.256Z"
   },
   {
    "duration": 791,
    "start_time": "2024-07-05T20:50:02.435Z"
   },
   {
    "duration": 12,
    "start_time": "2024-07-05T20:50:03.785Z"
   },
   {
    "duration": 36,
    "start_time": "2024-07-05T20:50:05.899Z"
   },
   {
    "duration": 36,
    "start_time": "2024-07-05T20:50:07.218Z"
   },
   {
    "duration": 43,
    "start_time": "2024-07-05T20:50:10.984Z"
   },
   {
    "duration": 4,
    "start_time": "2024-07-05T20:50:14.428Z"
   },
   {
    "duration": 5,
    "start_time": "2024-07-05T20:50:26.708Z"
   },
   {
    "duration": 5,
    "start_time": "2024-07-05T20:50:32.150Z"
   },
   {
    "duration": 25590,
    "start_time": "2024-07-05T20:51:27.405Z"
   },
   {
    "duration": 24887,
    "start_time": "2024-07-05T21:23:03.224Z"
   },
   {
    "duration": 5223,
    "start_time": "2024-07-07T20:14:01.741Z"
   },
   {
    "duration": 787,
    "start_time": "2024-07-07T20:14:06.967Z"
   },
   {
    "duration": 144,
    "start_time": "2024-07-07T20:14:10.524Z"
   },
   {
    "duration": 133,
    "start_time": "2024-07-07T20:14:17.022Z"
   },
   {
    "duration": 79857,
    "start_time": "2024-07-07T20:14:25.832Z"
   },
   {
    "duration": 14,
    "start_time": "2024-07-07T20:15:45.700Z"
   },
   {
    "duration": 23,
    "start_time": "2024-07-07T20:19:43.352Z"
   },
   {
    "duration": 124,
    "start_time": "2024-07-07T20:19:46.724Z"
   },
   {
    "duration": 4,
    "start_time": "2024-07-07T20:20:09.697Z"
   },
   {
    "duration": 5,
    "start_time": "2024-07-07T20:20:10.926Z"
   },
   {
    "duration": 29,
    "start_time": "2024-07-07T20:20:12.275Z"
   },
   {
    "duration": 25,
    "start_time": "2024-07-07T20:20:16.595Z"
   },
   {
    "duration": 5,
    "start_time": "2024-07-07T20:20:18.515Z"
   },
   {
    "duration": 131,
    "start_time": "2024-07-07T20:20:23.988Z"
   },
   {
    "duration": 4,
    "start_time": "2024-07-07T20:20:25.043Z"
   },
   {
    "duration": 152,
    "start_time": "2024-07-07T20:20:28.339Z"
   },
   {
    "duration": 14,
    "start_time": "2024-07-07T20:20:31.923Z"
   },
   {
    "duration": 13,
    "start_time": "2024-07-07T20:20:34.974Z"
   },
   {
    "duration": 798,
    "start_time": "2024-07-07T20:20:40.055Z"
   },
   {
    "duration": 11,
    "start_time": "2024-07-07T20:20:43.660Z"
   },
   {
    "duration": 46,
    "start_time": "2024-07-07T20:20:58.546Z"
   },
   {
    "duration": 35,
    "start_time": "2024-07-07T20:21:03.432Z"
   },
   {
    "duration": 42,
    "start_time": "2024-07-07T20:21:09.953Z"
   },
   {
    "duration": 4,
    "start_time": "2024-07-07T20:21:11.783Z"
   },
   {
    "duration": 4,
    "start_time": "2024-07-07T20:21:32.265Z"
   },
   {
    "duration": 5,
    "start_time": "2024-07-07T20:21:35.393Z"
   },
   {
    "duration": 2852,
    "start_time": "2024-07-07T20:21:42.868Z"
   },
   {
    "duration": 14,
    "start_time": "2024-07-07T20:21:47.660Z"
   },
   {
    "duration": 6,
    "start_time": "2024-07-07T20:21:51.339Z"
   },
   {
    "duration": 23054,
    "start_time": "2024-07-07T20:22:26.781Z"
   },
   {
    "duration": 5654,
    "start_time": "2024-07-08T12:47:13.577Z"
   },
   {
    "duration": 923,
    "start_time": "2024-07-08T12:47:19.235Z"
   },
   {
    "duration": 185,
    "start_time": "2024-07-08T12:47:20.161Z"
   },
   {
    "duration": 139,
    "start_time": "2024-07-08T12:47:25.628Z"
   },
   {
    "duration": 84376,
    "start_time": "2024-07-08T12:47:59.618Z"
   },
   {
    "duration": 24,
    "start_time": "2024-07-08T12:49:24.008Z"
   },
   {
    "duration": 9,
    "start_time": "2024-07-08T12:51:57.975Z"
   },
   {
    "duration": 40,
    "start_time": "2024-07-08T12:52:01.451Z"
   },
   {
    "duration": 121,
    "start_time": "2024-07-08T12:52:05.813Z"
   },
   {
    "duration": 5,
    "start_time": "2024-07-08T12:52:09.244Z"
   },
   {
    "duration": 4,
    "start_time": "2024-07-08T12:52:11.532Z"
   },
   {
    "duration": 30,
    "start_time": "2024-07-08T12:52:12.138Z"
   },
   {
    "duration": 24,
    "start_time": "2024-07-08T12:52:15.486Z"
   },
   {
    "duration": 6,
    "start_time": "2024-07-08T12:52:16.136Z"
   },
   {
    "duration": 128,
    "start_time": "2024-07-08T12:52:20.409Z"
   },
   {
    "duration": 6,
    "start_time": "2024-07-08T12:52:21.019Z"
   },
   {
    "duration": 171,
    "start_time": "2024-07-08T12:52:22.981Z"
   },
   {
    "duration": 16,
    "start_time": "2024-07-08T12:52:25.957Z"
   },
   {
    "duration": 28,
    "start_time": "2024-07-08T12:52:28.690Z"
   },
   {
    "duration": 836,
    "start_time": "2024-07-08T12:52:41.554Z"
   },
   {
    "duration": 11,
    "start_time": "2024-07-08T12:52:42.998Z"
   },
   {
    "duration": 44,
    "start_time": "2024-07-08T12:52:50.320Z"
   },
   {
    "duration": 36,
    "start_time": "2024-07-08T12:52:52.194Z"
   },
   {
    "duration": 51,
    "start_time": "2024-07-08T12:52:56.836Z"
   },
   {
    "duration": 5,
    "start_time": "2024-07-08T12:53:00.495Z"
   },
   {
    "duration": 4,
    "start_time": "2024-07-08T12:53:18.703Z"
   },
   {
    "duration": 5,
    "start_time": "2024-07-08T12:53:20.648Z"
   },
   {
    "duration": 2519,
    "start_time": "2024-07-08T12:53:24.454Z"
   },
   {
    "duration": 31,
    "start_time": "2024-07-08T12:53:27.920Z"
   },
   {
    "duration": 10,
    "start_time": "2024-07-08T12:53:30.035Z"
   },
   {
    "duration": 1591,
    "start_time": "2024-07-08T13:41:30.486Z"
   },
   {
    "duration": 725,
    "start_time": "2024-07-08T13:41:32.296Z"
   },
   {
    "duration": 142,
    "start_time": "2024-07-08T13:41:35.436Z"
   },
   {
    "duration": 136,
    "start_time": "2024-07-08T13:41:44.320Z"
   },
   {
    "duration": 79742,
    "start_time": "2024-07-08T13:41:53.395Z"
   },
   {
    "duration": 5,
    "start_time": "2024-07-08T13:43:18.233Z"
   },
   {
    "duration": 21,
    "start_time": "2024-07-08T13:43:21.575Z"
   },
   {
    "duration": 108,
    "start_time": "2024-07-08T13:43:24.942Z"
   },
   {
    "duration": 3,
    "start_time": "2024-07-08T13:43:27.855Z"
   },
   {
    "duration": 5,
    "start_time": "2024-07-08T13:43:30.962Z"
   },
   {
    "duration": 28,
    "start_time": "2024-07-08T13:43:32.613Z"
   },
   {
    "duration": 24,
    "start_time": "2024-07-08T13:43:37.862Z"
   },
   {
    "duration": 4,
    "start_time": "2024-07-08T13:43:38.527Z"
   },
   {
    "duration": 107,
    "start_time": "2024-07-08T13:43:42.902Z"
   },
   {
    "duration": 4,
    "start_time": "2024-07-08T13:43:43.602Z"
   },
   {
    "duration": 159,
    "start_time": "2024-07-08T13:43:47.373Z"
   },
   {
    "duration": 13,
    "start_time": "2024-07-08T13:43:49.953Z"
   },
   {
    "duration": 14,
    "start_time": "2024-07-08T13:43:52.921Z"
   },
   {
    "duration": 771,
    "start_time": "2024-07-08T13:43:56.724Z"
   },
   {
    "duration": 11,
    "start_time": "2024-07-08T13:43:59.653Z"
   },
   {
    "duration": 34,
    "start_time": "2024-07-08T13:44:09.401Z"
   },
   {
    "duration": 37,
    "start_time": "2024-07-08T13:44:10.652Z"
   },
   {
    "duration": 43,
    "start_time": "2024-07-08T13:44:14.334Z"
   },
   {
    "duration": 5,
    "start_time": "2024-07-08T13:44:18.975Z"
   },
   {
    "duration": 3,
    "start_time": "2024-07-08T13:44:30.071Z"
   },
   {
    "duration": 5,
    "start_time": "2024-07-08T13:44:31.266Z"
   },
   {
    "duration": 1563,
    "start_time": "2024-07-08T14:01:17.287Z"
   },
   {
    "duration": 776,
    "start_time": "2024-07-08T14:01:18.854Z"
   },
   {
    "duration": 148,
    "start_time": "2024-07-08T14:01:20.619Z"
   },
   {
    "duration": 137,
    "start_time": "2024-07-08T14:01:25.301Z"
   },
   {
    "duration": 81346,
    "start_time": "2024-07-08T14:01:28.771Z"
   },
   {
    "duration": 6,
    "start_time": "2024-07-08T14:05:45.038Z"
   },
   {
    "duration": 24,
    "start_time": "2024-07-08T14:05:46.402Z"
   },
   {
    "duration": 114,
    "start_time": "2024-07-08T14:05:50.072Z"
   },
   {
    "duration": 4,
    "start_time": "2024-07-08T14:05:53.807Z"
   },
   {
    "duration": 4,
    "start_time": "2024-07-08T14:05:55.627Z"
   },
   {
    "duration": 26,
    "start_time": "2024-07-08T14:05:57.457Z"
   },
   {
    "duration": 28,
    "start_time": "2024-07-08T14:06:01.007Z"
   },
   {
    "duration": 6,
    "start_time": "2024-07-08T14:06:08.996Z"
   },
   {
    "duration": 132,
    "start_time": "2024-07-08T14:06:13.077Z"
   },
   {
    "duration": 8,
    "start_time": "2024-07-08T14:06:13.846Z"
   },
   {
    "duration": 162,
    "start_time": "2024-07-08T14:06:14.897Z"
   },
   {
    "duration": 14,
    "start_time": "2024-07-08T14:06:16.957Z"
   },
   {
    "duration": 17,
    "start_time": "2024-07-08T14:06:18.076Z"
   },
   {
    "duration": 831,
    "start_time": "2024-07-08T14:06:21.878Z"
   },
   {
    "duration": 11,
    "start_time": "2024-07-08T14:06:22.801Z"
   },
   {
    "duration": 10,
    "start_time": "2024-07-08T14:06:27.897Z"
   },
   {
    "duration": 41,
    "start_time": "2024-07-08T14:06:30.981Z"
   },
   {
    "duration": 34,
    "start_time": "2024-07-08T14:06:33.192Z"
   },
   {
    "duration": 47,
    "start_time": "2024-07-08T14:06:35.808Z"
   },
   {
    "duration": 5,
    "start_time": "2024-07-08T14:06:38.827Z"
   },
   {
    "duration": 7,
    "start_time": "2024-07-08T14:06:44.106Z"
   },
   {
    "duration": 7,
    "start_time": "2024-07-08T14:06:44.696Z"
   },
   {
    "duration": 414246,
    "start_time": "2024-07-08T14:09:15.968Z"
   },
   {
    "duration": 22409,
    "start_time": "2024-07-08T14:27:47.605Z"
   },
   {
    "duration": 861,
    "start_time": "2024-07-08T14:28:55.304Z"
   },
   {
    "duration": 748104,
    "start_time": "2024-07-08T14:29:41.965Z"
   },
   {
    "duration": 1584,
    "start_time": "2024-07-08T15:16:40.057Z"
   },
   {
    "duration": 972,
    "start_time": "2024-07-08T15:16:41.644Z"
   },
   {
    "duration": 157,
    "start_time": "2024-07-08T15:16:42.620Z"
   },
   {
    "duration": 137,
    "start_time": "2024-07-08T15:16:46.084Z"
   },
   {
    "duration": 78977,
    "start_time": "2024-07-08T15:16:49.516Z"
   },
   {
    "duration": 5,
    "start_time": "2024-07-08T15:20:14.663Z"
   },
   {
    "duration": 23,
    "start_time": "2024-07-08T15:20:17.704Z"
   },
   {
    "duration": 108,
    "start_time": "2024-07-08T15:20:21.455Z"
   },
   {
    "duration": 4,
    "start_time": "2024-07-08T15:20:25.097Z"
   },
   {
    "duration": 4,
    "start_time": "2024-07-08T15:20:27.264Z"
   },
   {
    "duration": 27,
    "start_time": "2024-07-08T15:20:29.689Z"
   },
   {
    "duration": 25,
    "start_time": "2024-07-08T15:20:33.064Z"
   },
   {
    "duration": 5,
    "start_time": "2024-07-08T15:20:35.025Z"
   },
   {
    "duration": 114,
    "start_time": "2024-07-08T15:20:47.077Z"
   },
   {
    "duration": 6,
    "start_time": "2024-07-08T15:20:49.437Z"
   },
   {
    "duration": 151,
    "start_time": "2024-07-08T15:20:56.241Z"
   },
   {
    "duration": 14,
    "start_time": "2024-07-08T15:20:58.816Z"
   },
   {
    "duration": 13,
    "start_time": "2024-07-08T15:21:02.936Z"
   },
   {
    "duration": 783,
    "start_time": "2024-07-08T15:21:05.794Z"
   },
   {
    "duration": 10,
    "start_time": "2024-07-08T15:21:09.234Z"
   },
   {
    "duration": 34,
    "start_time": "2024-07-08T15:21:15.035Z"
   },
   {
    "duration": 35,
    "start_time": "2024-07-08T15:21:18.191Z"
   },
   {
    "duration": 43,
    "start_time": "2024-07-08T15:21:21.590Z"
   },
   {
    "duration": 5,
    "start_time": "2024-07-08T15:21:25.284Z"
   },
   {
    "duration": 4,
    "start_time": "2024-07-08T15:21:30.168Z"
   },
   {
    "duration": 4,
    "start_time": "2024-07-08T15:21:32.159Z"
   },
   {
    "duration": 4,
    "start_time": "2024-07-08T15:21:47.705Z"
   },
   {
    "duration": 489728,
    "start_time": "2024-07-08T15:21:51.640Z"
   },
   {
    "duration": 661,
    "start_time": "2024-07-08T15:32:12.655Z"
   },
   {
    "duration": 11,
    "start_time": "2024-07-08T15:41:30.950Z"
   },
   {
    "duration": 6,
    "start_time": "2024-07-08T15:42:11.808Z"
   },
   {
    "duration": 6,
    "start_time": "2024-07-08T15:42:22.768Z"
   },
   {
    "duration": 321,
    "start_time": "2024-07-08T15:43:40.041Z"
   },
   {
    "duration": 22952,
    "start_time": "2024-07-08T15:44:28.585Z"
   },
   {
    "duration": 5420,
    "start_time": "2024-07-08T16:28:50.732Z"
   },
   {
    "duration": 7,
    "start_time": "2024-07-08T16:29:36.447Z"
   },
   {
    "duration": 5229,
    "start_time": "2024-07-08T16:30:05.811Z"
   },
   {
    "duration": 306534,
    "start_time": "2024-07-08T16:34:01.927Z"
   },
   {
    "duration": 5,
    "start_time": "2024-07-08T16:52:44.036Z"
   },
   {
    "duration": 86,
    "start_time": "2024-07-08T16:53:01.859Z"
   },
   {
    "duration": 1501,
    "start_time": "2024-07-08T16:55:37.587Z"
   },
   {
    "duration": 225,
    "start_time": "2024-07-08T17:09:07.210Z"
   },
   {
    "duration": 165634,
    "start_time": "2024-07-08T17:11:59.872Z"
   },
   {
    "duration": 206,
    "start_time": "2024-07-08T17:22:38.394Z"
   },
   {
    "duration": 284,
    "start_time": "2024-07-08T17:26:33.369Z"
   },
   {
    "duration": 5196,
    "start_time": "2024-07-08T20:15:24.860Z"
   },
   {
    "duration": 804,
    "start_time": "2024-07-08T20:15:30.060Z"
   },
   {
    "duration": 148,
    "start_time": "2024-07-08T20:15:34.004Z"
   },
   {
    "duration": 135,
    "start_time": "2024-07-08T20:15:39.617Z"
   },
   {
    "duration": 6,
    "start_time": "2024-07-08T20:32:50.276Z"
   },
   {
    "duration": 8,
    "start_time": "2024-07-08T20:32:57.980Z"
   },
   {
    "duration": 135,
    "start_time": "2024-07-08T20:33:13.476Z"
   },
   {
    "duration": 155,
    "start_time": "2024-07-08T20:33:36.228Z"
   },
   {
    "duration": 3,
    "start_time": "2024-07-08T20:45:29.259Z"
   },
   {
    "duration": 4,
    "start_time": "2024-07-08T20:45:34.387Z"
   },
   {
    "duration": 38,
    "start_time": "2024-07-08T20:45:40.734Z"
   },
   {
    "duration": 28,
    "start_time": "2024-07-08T20:45:45.121Z"
   },
   {
    "duration": 3,
    "start_time": "2024-07-08T20:45:53.417Z"
   },
   {
    "duration": 142,
    "start_time": "2024-07-08T20:46:05.179Z"
   },
   {
    "duration": 5,
    "start_time": "2024-07-08T20:46:06.357Z"
   },
   {
    "duration": 127,
    "start_time": "2024-07-08T20:46:16.151Z"
   },
   {
    "duration": 13,
    "start_time": "2024-07-08T20:46:17.947Z"
   },
   {
    "duration": 12,
    "start_time": "2024-07-08T20:46:20.372Z"
   },
   {
    "duration": 814,
    "start_time": "2024-07-08T20:46:22.210Z"
   },
   {
    "duration": 9,
    "start_time": "2024-07-08T20:46:24.990Z"
   },
   {
    "duration": 36,
    "start_time": "2024-07-08T20:46:27.084Z"
   },
   {
    "duration": 35,
    "start_time": "2024-07-08T20:46:28.032Z"
   },
   {
    "duration": 44,
    "start_time": "2024-07-08T20:46:32.276Z"
   },
   {
    "duration": 5,
    "start_time": "2024-07-08T20:46:36.556Z"
   },
   {
    "duration": 4,
    "start_time": "2024-07-08T20:46:45.272Z"
   },
   {
    "duration": 5,
    "start_time": "2024-07-08T20:46:46.599Z"
   },
   {
    "duration": 2771,
    "start_time": "2024-07-08T20:46:56.478Z"
   },
   {
    "duration": 6,
    "start_time": "2024-07-08T20:47:01.239Z"
   },
   {
    "duration": 9,
    "start_time": "2024-07-08T20:54:42.231Z"
   },
   {
    "duration": 4,
    "start_time": "2024-07-08T20:54:54.726Z"
   },
   {
    "duration": 783,
    "start_time": "2024-07-08T21:47:12.160Z"
   },
   {
    "duration": 696,
    "start_time": "2024-07-08T21:49:08.172Z"
   },
   {
    "duration": 1094,
    "start_time": "2024-07-08T21:51:16.210Z"
   },
   {
    "duration": 4,
    "start_time": "2024-07-08T22:10:18.737Z"
   },
   {
    "duration": 6,
    "start_time": "2024-07-08T22:10:19.795Z"
   },
   {
    "duration": 2553,
    "start_time": "2024-07-08T22:10:25.985Z"
   },
   {
    "duration": 5219,
    "start_time": "2024-07-09T13:26:15.528Z"
   },
   {
    "duration": 804,
    "start_time": "2024-07-09T13:26:20.952Z"
   },
   {
    "duration": 148,
    "start_time": "2024-07-09T13:26:27.065Z"
   },
   {
    "duration": 150,
    "start_time": "2024-07-09T13:26:32.198Z"
   },
   {
    "duration": 81622,
    "start_time": "2024-07-09T13:26:49.038Z"
   },
   {
    "duration": 7,
    "start_time": "2024-07-09T13:28:45.215Z"
   },
   {
    "duration": 21,
    "start_time": "2024-07-09T13:28:50.232Z"
   },
   {
    "duration": 111,
    "start_time": "2024-07-09T13:28:54.722Z"
   },
   {
    "duration": 4,
    "start_time": "2024-07-09T13:30:10.476Z"
   },
   {
    "duration": 4,
    "start_time": "2024-07-09T13:30:14.809Z"
   },
   {
    "duration": 26,
    "start_time": "2024-07-09T13:30:16.518Z"
   },
   {
    "duration": 24,
    "start_time": "2024-07-09T13:30:21.875Z"
   },
   {
    "duration": 5,
    "start_time": "2024-07-09T13:30:23.934Z"
   },
   {
    "duration": 118,
    "start_time": "2024-07-09T13:30:45.143Z"
   },
   {
    "duration": 6,
    "start_time": "2024-07-09T13:30:47.512Z"
   },
   {
    "duration": 131,
    "start_time": "2024-07-09T13:30:58.953Z"
   },
   {
    "duration": 13,
    "start_time": "2024-07-09T13:31:08.861Z"
   },
   {
    "duration": 14,
    "start_time": "2024-07-09T13:31:09.916Z"
   },
   {
    "duration": 787,
    "start_time": "2024-07-09T13:31:15.744Z"
   },
   {
    "duration": 9,
    "start_time": "2024-07-09T13:31:18.812Z"
   },
   {
    "duration": 35,
    "start_time": "2024-07-09T13:31:26.220Z"
   },
   {
    "duration": 34,
    "start_time": "2024-07-09T13:31:28.481Z"
   },
   {
    "duration": 43,
    "start_time": "2024-07-09T13:31:32.230Z"
   },
   {
    "duration": 5,
    "start_time": "2024-07-09T13:31:46.142Z"
   },
   {
    "duration": 4,
    "start_time": "2024-07-09T13:31:56.644Z"
   },
   {
    "duration": 5,
    "start_time": "2024-07-09T13:31:57.822Z"
   },
   {
    "duration": 2900,
    "start_time": "2024-07-09T13:32:02.619Z"
   },
   {
    "duration": 757197,
    "start_time": "2024-07-09T13:38:32.006Z"
   },
   {
    "duration": 5,
    "start_time": "2024-07-09T14:09:35.026Z"
   },
   {
    "duration": 4,
    "start_time": "2024-07-09T14:09:36.307Z"
   },
   {
    "duration": 26,
    "start_time": "2024-07-09T14:09:37.797Z"
   },
   {
    "duration": 1655,
    "start_time": "2024-07-09T14:15:01.413Z"
   },
   {
    "duration": 721,
    "start_time": "2024-07-09T14:15:04.733Z"
   },
   {
    "duration": 144,
    "start_time": "2024-07-09T14:15:07.233Z"
   },
   {
    "duration": 139,
    "start_time": "2024-07-09T14:15:12.334Z"
   },
   {
    "duration": 79631,
    "start_time": "2024-07-09T14:15:21.049Z"
   },
   {
    "duration": 7,
    "start_time": "2024-07-09T14:16:40.683Z"
   },
   {
    "duration": 39,
    "start_time": "2024-07-09T14:16:40.693Z"
   },
   {
    "duration": 129,
    "start_time": "2024-07-09T14:16:40.736Z"
   },
   {
    "duration": 5,
    "start_time": "2024-07-09T14:16:40.868Z"
   },
   {
    "duration": 4,
    "start_time": "2024-07-09T14:16:40.876Z"
   },
   {
    "duration": 28,
    "start_time": "2024-07-09T14:16:40.939Z"
   },
   {
    "duration": 119,
    "start_time": "2024-07-09T14:19:10.270Z"
   },
   {
    "duration": 4,
    "start_time": "2024-07-09T14:19:19.984Z"
   },
   {
    "duration": 4,
    "start_time": "2024-07-09T14:19:23.157Z"
   },
   {
    "duration": 26,
    "start_time": "2024-07-09T14:19:24.487Z"
   },
   {
    "duration": 23,
    "start_time": "2024-07-09T14:19:28.587Z"
   },
   {
    "duration": 5,
    "start_time": "2024-07-09T14:19:29.230Z"
   },
   {
    "duration": 120,
    "start_time": "2024-07-09T14:19:46.077Z"
   },
   {
    "duration": 5,
    "start_time": "2024-07-09T14:19:49.608Z"
   },
   {
    "duration": 130,
    "start_time": "2024-07-09T14:19:53.531Z"
   },
   {
    "duration": 15,
    "start_time": "2024-07-09T14:19:56.131Z"
   },
   {
    "duration": 14,
    "start_time": "2024-07-09T14:19:56.921Z"
   },
   {
    "duration": 781,
    "start_time": "2024-07-09T14:20:01.525Z"
   },
   {
    "duration": 9,
    "start_time": "2024-07-09T14:20:04.294Z"
   },
   {
    "duration": 34,
    "start_time": "2024-07-09T14:20:07.327Z"
   },
   {
    "duration": 33,
    "start_time": "2024-07-09T14:20:10.042Z"
   },
   {
    "duration": 43,
    "start_time": "2024-07-09T14:20:12.960Z"
   },
   {
    "duration": 5,
    "start_time": "2024-07-09T14:20:16.853Z"
   },
   {
    "duration": 274,
    "start_time": "2024-07-09T14:25:09.979Z"
   },
   {
    "duration": 4,
    "start_time": "2024-07-09T14:25:29.180Z"
   },
   {
    "duration": 4,
    "start_time": "2024-07-09T14:25:31.728Z"
   },
   {
    "duration": 6135,
    "start_time": "2024-07-09T14:25:43.198Z"
   },
   {
    "duration": 5394,
    "start_time": "2024-07-09T14:29:04.333Z"
   },
   {
    "duration": 6,
    "start_time": "2024-07-09T14:30:05.578Z"
   },
   {
    "duration": 305464,
    "start_time": "2024-07-09T14:31:08.756Z"
   },
   {
    "duration": 389504,
    "start_time": "2024-07-09T15:23:59.613Z"
   },
   {
    "duration": 1402,
    "start_time": "2024-07-09T15:30:51.033Z"
   },
   {
    "duration": 4,
    "start_time": "2024-07-09T15:43:14.044Z"
   },
   {
    "duration": 1647,
    "start_time": "2024-07-09T15:51:40.969Z"
   },
   {
    "duration": 745,
    "start_time": "2024-07-09T15:51:45.198Z"
   },
   {
    "duration": 147,
    "start_time": "2024-07-09T15:51:49.013Z"
   },
   {
    "duration": 139,
    "start_time": "2024-07-09T15:54:15.435Z"
   },
   {
    "duration": 137,
    "start_time": "2024-07-09T15:54:19.349Z"
   },
   {
    "duration": 81795,
    "start_time": "2024-07-09T15:54:24.519Z"
   },
   {
    "duration": 8,
    "start_time": "2024-07-09T15:56:54.019Z"
   },
   {
    "duration": 25,
    "start_time": "2024-07-09T15:56:57.052Z"
   },
   {
    "duration": 146,
    "start_time": "2024-07-09T15:57:01.305Z"
   },
   {
    "duration": 4,
    "start_time": "2024-07-09T15:57:12.309Z"
   },
   {
    "duration": 3,
    "start_time": "2024-07-09T15:57:17.221Z"
   },
   {
    "duration": 25,
    "start_time": "2024-07-09T15:57:18.958Z"
   },
   {
    "duration": 25,
    "start_time": "2024-07-09T15:57:22.024Z"
   },
   {
    "duration": 6,
    "start_time": "2024-07-09T15:57:23.720Z"
   },
   {
    "duration": 175,
    "start_time": "2024-07-09T15:57:29.193Z"
   },
   {
    "duration": 6,
    "start_time": "2024-07-09T15:57:32.769Z"
   },
   {
    "duration": 136,
    "start_time": "2024-07-09T15:57:36.431Z"
   },
   {
    "duration": 15,
    "start_time": "2024-07-09T15:57:39.961Z"
   },
   {
    "duration": 13,
    "start_time": "2024-07-09T15:57:43.151Z"
   },
   {
    "duration": 810,
    "start_time": "2024-07-09T15:57:47.265Z"
   },
   {
    "duration": 9,
    "start_time": "2024-07-09T15:57:50.530Z"
   },
   {
    "duration": 43,
    "start_time": "2024-07-09T15:57:54.216Z"
   },
   {
    "duration": 35,
    "start_time": "2024-07-09T15:57:57.260Z"
   },
   {
    "duration": 42,
    "start_time": "2024-07-09T15:58:00.143Z"
   },
   {
    "duration": 5,
    "start_time": "2024-07-09T15:58:03.508Z"
   },
   {
    "duration": 5,
    "start_time": "2024-07-09T15:58:13.695Z"
   },
   {
    "duration": 496735,
    "start_time": "2024-07-09T15:58:17.350Z"
   },
   {
    "duration": 653,
    "start_time": "2024-07-09T16:06:48.979Z"
   },
   {
    "duration": 1654,
    "start_time": "2024-07-10T07:23:22.710Z"
   },
   {
    "duration": 434,
    "start_time": "2024-07-10T07:29:33.675Z"
   },
   {
    "duration": 6,
    "start_time": "2024-07-10T07:29:40.846Z"
   },
   {
    "duration": 1668,
    "start_time": "2024-07-10T07:29:46.599Z"
   },
   {
    "duration": 794,
    "start_time": "2024-07-10T07:29:49.157Z"
   },
   {
    "duration": 144,
    "start_time": "2024-07-10T07:29:51.795Z"
   },
   {
    "duration": 135,
    "start_time": "2024-07-10T07:29:54.583Z"
   },
   {
    "duration": 79975,
    "start_time": "2024-07-10T07:30:52.872Z"
   },
   {
    "duration": 6,
    "start_time": "2024-07-10T07:32:54.662Z"
   },
   {
    "duration": 23,
    "start_time": "2024-07-10T07:32:57.335Z"
   },
   {
    "duration": 110,
    "start_time": "2024-07-10T07:32:59.642Z"
   },
   {
    "duration": 437,
    "start_time": "2024-07-10T07:37:15.687Z"
   },
   {
    "duration": 7,
    "start_time": "2024-07-10T07:37:24.365Z"
   },
   {
    "duration": 5,
    "start_time": "2024-07-10T07:37:25.700Z"
   },
   {
    "duration": 30,
    "start_time": "2024-07-10T07:37:27.291Z"
   },
   {
    "duration": 24,
    "start_time": "2024-07-10T07:37:28.947Z"
   },
   {
    "duration": 4,
    "start_time": "2024-07-10T07:37:32.064Z"
   },
   {
    "duration": 26,
    "start_time": "2024-07-10T07:37:57.160Z"
   },
   {
    "duration": 118,
    "start_time": "2024-07-10T07:41:33.783Z"
   },
   {
    "duration": 6,
    "start_time": "2024-07-10T07:41:35.796Z"
   },
   {
    "duration": 122,
    "start_time": "2024-07-10T07:41:44.153Z"
   },
   {
    "duration": 14,
    "start_time": "2024-07-10T07:41:46.952Z"
   },
   {
    "duration": 13,
    "start_time": "2024-07-10T07:41:49.586Z"
   },
   {
    "duration": 783,
    "start_time": "2024-07-10T07:41:52.248Z"
   },
   {
    "duration": 9,
    "start_time": "2024-07-10T07:41:58.044Z"
   },
   {
    "duration": 34,
    "start_time": "2024-07-10T07:41:58.975Z"
   },
   {
    "duration": 34,
    "start_time": "2024-07-10T07:42:06.225Z"
   },
   {
    "duration": 43,
    "start_time": "2024-07-10T07:42:07.751Z"
   },
   {
    "duration": 5,
    "start_time": "2024-07-10T07:42:09.230Z"
   },
   {
    "duration": 5,
    "start_time": "2024-07-10T07:42:12.627Z"
   },
   {
    "duration": 5,
    "start_time": "2024-07-10T07:42:14.232Z"
   },
   {
    "duration": 2808,
    "start_time": "2024-07-10T07:42:16.598Z"
   },
   {
    "duration": 5323,
    "start_time": "2024-07-10T13:44:22.520Z"
   },
   {
    "duration": 760,
    "start_time": "2024-07-10T13:44:32.651Z"
   },
   {
    "duration": 157,
    "start_time": "2024-07-10T13:44:37.289Z"
   },
   {
    "duration": 139,
    "start_time": "2024-07-10T13:44:42.762Z"
   },
   {
    "duration": 81611,
    "start_time": "2024-07-10T13:44:48.169Z"
   },
   {
    "duration": 7,
    "start_time": "2024-07-10T13:48:10.157Z"
   },
   {
    "duration": 21,
    "start_time": "2024-07-10T13:48:19.170Z"
   },
   {
    "duration": 110,
    "start_time": "2024-07-10T13:48:23.268Z"
   },
   {
    "duration": 4,
    "start_time": "2024-07-10T13:48:43.225Z"
   },
   {
    "duration": 4,
    "start_time": "2024-07-10T13:48:47.961Z"
   },
   {
    "duration": 28,
    "start_time": "2024-07-10T13:48:52.762Z"
   },
   {
    "duration": 30,
    "start_time": "2024-07-10T13:49:07.250Z"
   },
   {
    "duration": 6,
    "start_time": "2024-07-10T13:49:12.434Z"
   },
   {
    "duration": 133,
    "start_time": "2024-07-10T13:49:29.299Z"
   },
   {
    "duration": 5,
    "start_time": "2024-07-10T13:49:35.064Z"
   },
   {
    "duration": 125,
    "start_time": "2024-07-10T13:50:36.331Z"
   },
   {
    "duration": 5,
    "start_time": "2024-07-10T13:50:44.278Z"
   },
   {
    "duration": 120,
    "start_time": "2024-07-10T13:50:50.406Z"
   },
   {
    "duration": 13,
    "start_time": "2024-07-10T13:50:52.115Z"
   },
   {
    "duration": 13,
    "start_time": "2024-07-10T13:50:54.182Z"
   },
   {
    "duration": 1271,
    "start_time": "2024-07-10T13:51:12.766Z"
   },
   {
    "duration": 9,
    "start_time": "2024-07-10T13:51:14.040Z"
   },
   {
    "duration": 487,
    "start_time": "2024-07-10T13:51:38.964Z"
   },
   {
    "duration": 1349,
    "start_time": "2024-07-10T13:52:02.815Z"
   },
   {
    "duration": 10,
    "start_time": "2024-07-10T13:52:04.168Z"
   },
   {
    "duration": 34,
    "start_time": "2024-07-10T13:52:14.149Z"
   },
   {
    "duration": 35,
    "start_time": "2024-07-10T13:52:22.365Z"
   },
   {
    "duration": 154,
    "start_time": "2024-07-10T13:52:26.594Z"
   },
   {
    "duration": 5,
    "start_time": "2024-07-10T13:52:32.646Z"
   },
   {
    "duration": 4,
    "start_time": "2024-07-10T13:56:28.844Z"
   },
   {
    "duration": 5,
    "start_time": "2024-07-10T13:56:31.962Z"
   },
   {
    "duration": 1592,
    "start_time": "2024-07-10T13:58:17.881Z"
   },
   {
    "duration": 796,
    "start_time": "2024-07-10T13:58:21.776Z"
   },
   {
    "duration": 146,
    "start_time": "2024-07-10T13:58:25.787Z"
   },
   {
    "duration": 139,
    "start_time": "2024-07-10T13:58:29.343Z"
   },
   {
    "duration": 78624,
    "start_time": "2024-07-10T13:58:34.632Z"
   },
   {
    "duration": 99,
    "start_time": "2024-07-10T14:03:12.020Z"
   },
   {
    "duration": 9,
    "start_time": "2024-07-10T14:03:26.312Z"
   },
   {
    "duration": 21,
    "start_time": "2024-07-10T14:03:30.885Z"
   },
   {
    "duration": 110,
    "start_time": "2024-07-10T14:03:37.089Z"
   },
   {
    "duration": 4,
    "start_time": "2024-07-10T14:03:42.203Z"
   },
   {
    "duration": 4,
    "start_time": "2024-07-10T14:03:46.674Z"
   },
   {
    "duration": 29,
    "start_time": "2024-07-10T14:03:52.175Z"
   },
   {
    "duration": 24,
    "start_time": "2024-07-10T14:03:58.070Z"
   },
   {
    "duration": 4,
    "start_time": "2024-07-10T14:04:01.737Z"
   },
   {
    "duration": 117,
    "start_time": "2024-07-10T14:04:07.451Z"
   },
   {
    "duration": 5,
    "start_time": "2024-07-10T14:04:12.185Z"
   },
   {
    "duration": 130,
    "start_time": "2024-07-10T14:04:18.001Z"
   },
   {
    "duration": 13,
    "start_time": "2024-07-10T14:04:22.310Z"
   },
   {
    "duration": 14,
    "start_time": "2024-07-10T14:04:26.932Z"
   },
   {
    "duration": 765,
    "start_time": "2024-07-10T14:04:32.609Z"
   },
   {
    "duration": 9,
    "start_time": "2024-07-10T14:04:36.685Z"
   },
   {
    "duration": 44,
    "start_time": "2024-07-10T14:04:41.505Z"
   },
   {
    "duration": 35,
    "start_time": "2024-07-10T14:04:46.055Z"
   },
   {
    "duration": 50,
    "start_time": "2024-07-10T14:04:50.613Z"
   },
   {
    "duration": 4,
    "start_time": "2024-07-10T14:04:56.183Z"
   },
   {
    "duration": 4,
    "start_time": "2024-07-10T14:05:01.217Z"
   },
   {
    "duration": 5,
    "start_time": "2024-07-10T14:05:05.637Z"
   },
   {
    "duration": 2816,
    "start_time": "2024-07-10T14:05:12.420Z"
   },
   {
    "duration": 1304,
    "start_time": "2024-07-10T14:07:16.571Z"
   },
   {
    "duration": 28,
    "start_time": "2024-07-10T14:16:32.264Z"
   },
   {
    "duration": 47,
    "start_time": "2024-07-10T14:17:19.519Z"
   },
   {
    "duration": 18,
    "start_time": "2024-07-10T14:17:33.633Z"
   },
   {
    "duration": 52,
    "start_time": "2024-07-10T14:20:29.398Z"
   },
   {
    "duration": 549,
    "start_time": "2024-07-10T15:09:03.704Z"
   },
   {
    "duration": 453,
    "start_time": "2024-07-10T15:09:39.164Z"
   },
   {
    "duration": 619,
    "start_time": "2024-07-10T15:09:50.737Z"
   },
   {
    "duration": 2359,
    "start_time": "2024-07-10T15:10:08.988Z"
   },
   {
    "duration": 27,
    "start_time": "2024-07-10T15:19:51.261Z"
   },
   {
    "duration": 26,
    "start_time": "2024-07-10T15:22:16.017Z"
   },
   {
    "duration": 25,
    "start_time": "2024-07-10T15:23:26.112Z"
   },
   {
    "duration": 1689,
    "start_time": "2024-07-10T15:27:32.671Z"
   },
   {
    "duration": 806,
    "start_time": "2024-07-10T15:27:35.282Z"
   },
   {
    "duration": 152,
    "start_time": "2024-07-10T15:27:36.092Z"
   },
   {
    "duration": 142,
    "start_time": "2024-07-10T15:28:06.989Z"
   },
   {
    "duration": 81263,
    "start_time": "2024-07-10T15:28:21.043Z"
   },
   {
    "duration": 7,
    "start_time": "2024-07-10T15:31:22.810Z"
   },
   {
    "duration": 24,
    "start_time": "2024-07-10T15:31:25.438Z"
   },
   {
    "duration": 112,
    "start_time": "2024-07-10T15:31:28.507Z"
   },
   {
    "duration": 4,
    "start_time": "2024-07-10T15:31:33.083Z"
   },
   {
    "duration": 4,
    "start_time": "2024-07-10T15:31:36.069Z"
   },
   {
    "duration": 26,
    "start_time": "2024-07-10T15:31:38.346Z"
   },
   {
    "duration": 34,
    "start_time": "2024-07-10T15:31:40.926Z"
   },
   {
    "duration": 53,
    "start_time": "2024-07-10T15:31:43.651Z"
   },
   {
    "duration": 24,
    "start_time": "2024-07-10T15:31:51.668Z"
   },
   {
    "duration": 5,
    "start_time": "2024-07-10T15:31:54.581Z"
   },
   {
    "duration": 24,
    "start_time": "2024-07-10T15:31:58.877Z"
   },
   {
    "duration": 25,
    "start_time": "2024-07-10T16:21:17.744Z"
   },
   {
    "duration": 54,
    "start_time": "2024-07-10T16:28:36.286Z"
   },
   {
    "duration": 22,
    "start_time": "2024-07-10T16:29:08.987Z"
   },
   {
    "duration": 23,
    "start_time": "2024-07-10T16:29:35.111Z"
   },
   {
    "duration": 26,
    "start_time": "2024-07-10T16:34:25.471Z"
   },
   {
    "duration": 13,
    "start_time": "2024-07-10T16:37:38.260Z"
   },
   {
    "duration": 23,
    "start_time": "2024-07-10T16:37:43.123Z"
   },
   {
    "duration": 115,
    "start_time": "2024-07-10T16:38:17.580Z"
   },
   {
    "duration": 5,
    "start_time": "2024-07-10T16:38:21.287Z"
   },
   {
    "duration": 139,
    "start_time": "2024-07-10T16:38:25.481Z"
   },
   {
    "duration": 14,
    "start_time": "2024-07-10T16:38:29.547Z"
   },
   {
    "duration": 15,
    "start_time": "2024-07-10T16:38:32.246Z"
   },
   {
    "duration": 795,
    "start_time": "2024-07-10T16:38:36.078Z"
   },
   {
    "duration": 10,
    "start_time": "2024-07-10T16:38:39.990Z"
   },
   {
    "duration": 34,
    "start_time": "2024-07-10T16:38:43.194Z"
   },
   {
    "duration": 39,
    "start_time": "2024-07-10T16:38:46.676Z"
   },
   {
    "duration": 45,
    "start_time": "2024-07-10T16:38:50.713Z"
   },
   {
    "duration": 5,
    "start_time": "2024-07-10T16:38:54.596Z"
   },
   {
    "duration": 4,
    "start_time": "2024-07-10T16:38:58.235Z"
   },
   {
    "duration": 5,
    "start_time": "2024-07-10T16:39:01.821Z"
   },
   {
    "duration": 2765,
    "start_time": "2024-07-10T16:39:06.365Z"
   },
   {
    "duration": 19,
    "start_time": "2024-07-10T16:42:19.577Z"
   },
   {
    "duration": 7,
    "start_time": "2024-07-10T16:42:26.069Z"
   },
   {
    "duration": 13,
    "start_time": "2024-07-10T16:44:02.433Z"
   },
   {
    "duration": 18,
    "start_time": "2024-07-10T16:49:54.653Z"
   },
   {
    "duration": 10,
    "start_time": "2024-07-10T16:51:06.950Z"
   },
   {
    "duration": 5445,
    "start_time": "2024-07-10T19:48:40.180Z"
   },
   {
    "duration": 863,
    "start_time": "2024-07-10T19:48:45.628Z"
   },
   {
    "duration": 143,
    "start_time": "2024-07-10T19:48:48.343Z"
   },
   {
    "duration": 143,
    "start_time": "2024-07-10T19:48:52.232Z"
   },
   {
    "duration": 81519,
    "start_time": "2024-07-10T19:49:00.346Z"
   },
   {
    "duration": 8,
    "start_time": "2024-07-10T19:50:34.859Z"
   },
   {
    "duration": 23,
    "start_time": "2024-07-10T19:50:38.495Z"
   },
   {
    "duration": 115,
    "start_time": "2024-07-10T19:50:41.839Z"
   },
   {
    "duration": 4,
    "start_time": "2024-07-10T19:50:48.051Z"
   },
   {
    "duration": 7,
    "start_time": "2024-07-10T19:50:51.007Z"
   },
   {
    "duration": 28,
    "start_time": "2024-07-10T19:50:52.307Z"
   },
   {
    "duration": 37,
    "start_time": "2024-07-10T19:50:58.017Z"
   },
   {
    "duration": 49,
    "start_time": "2024-07-10T19:51:02.908Z"
   },
   {
    "duration": 24,
    "start_time": "2024-07-10T19:51:07.138Z"
   },
   {
    "duration": 5,
    "start_time": "2024-07-10T19:51:09.848Z"
   },
   {
    "duration": 19,
    "start_time": "2024-07-10T19:51:17.500Z"
   },
   {
    "duration": 9,
    "start_time": "2024-07-10T19:51:22.582Z"
   },
   {
    "duration": 22,
    "start_time": "2024-07-10T19:51:52.312Z"
   },
   {
    "duration": 18,
    "start_time": "2024-07-10T19:53:04.624Z"
   },
   {
    "duration": 10,
    "start_time": "2024-07-10T19:53:06.229Z"
   },
   {
    "duration": 15,
    "start_time": "2024-07-10T19:59:11.137Z"
   },
   {
    "duration": 125,
    "start_time": "2024-07-10T19:59:21.185Z"
   },
   {
    "duration": 5,
    "start_time": "2024-07-10T19:59:24.890Z"
   },
   {
    "duration": 137,
    "start_time": "2024-07-10T19:59:29.706Z"
   },
   {
    "duration": 15,
    "start_time": "2024-07-10T19:59:32.622Z"
   },
   {
    "duration": 17,
    "start_time": "2024-07-10T19:59:36.993Z"
   },
   {
    "duration": 758,
    "start_time": "2024-07-10T19:59:41.212Z"
   },
   {
    "duration": 11,
    "start_time": "2024-07-10T19:59:42.665Z"
   },
   {
    "duration": 35,
    "start_time": "2024-07-10T19:59:47.168Z"
   },
   {
    "duration": 34,
    "start_time": "2024-07-10T19:59:50.473Z"
   },
   {
    "duration": 43,
    "start_time": "2024-07-10T19:59:53.915Z"
   },
   {
    "duration": 9,
    "start_time": "2024-07-10T19:59:57.832Z"
   },
   {
    "duration": 4,
    "start_time": "2024-07-10T20:00:01.932Z"
   },
   {
    "duration": 5,
    "start_time": "2024-07-10T20:00:05.033Z"
   },
   {
    "duration": 2869,
    "start_time": "2024-07-10T20:00:11.136Z"
   },
   {
    "duration": 765208,
    "start_time": "2024-07-10T20:00:53.864Z"
   },
   {
    "duration": 5250,
    "start_time": "2024-07-10T20:15:21.771Z"
   },
   {
    "duration": 5434,
    "start_time": "2024-07-10T20:17:01.593Z"
   },
   {
    "duration": 310091,
    "start_time": "2024-07-10T20:17:27.917Z"
   },
   {
    "duration": 1419,
    "start_time": "2024-07-10T20:23:01.813Z"
   },
   {
    "duration": 4,
    "start_time": "2024-07-10T20:25:05.158Z"
   },
   {
    "duration": 503222,
    "start_time": "2024-07-10T20:25:08.321Z"
   },
   {
    "duration": 638,
    "start_time": "2024-07-10T20:34:00.463Z"
   },
   {
    "duration": 1746,
    "start_time": "2024-07-12T01:00:34.746Z"
   },
   {
    "duration": 859,
    "start_time": "2024-07-12T01:00:36.496Z"
   },
   {
    "duration": 152,
    "start_time": "2024-07-12T01:00:37.357Z"
   },
   {
    "duration": 148,
    "start_time": "2024-07-12T01:00:37.511Z"
   },
   {
    "duration": 82161,
    "start_time": "2024-07-12T01:00:37.665Z"
   },
   {
    "duration": 7,
    "start_time": "2024-07-12T01:01:59.829Z"
   },
   {
    "duration": 22,
    "start_time": "2024-07-12T01:01:59.839Z"
   },
   {
    "duration": 145,
    "start_time": "2024-07-12T01:01:59.866Z"
   },
   {
    "duration": 4,
    "start_time": "2024-07-12T01:02:00.013Z"
   },
   {
    "duration": 4,
    "start_time": "2024-07-12T01:02:00.021Z"
   },
   {
    "duration": 28,
    "start_time": "2024-07-12T01:02:00.028Z"
   },
   {
    "duration": 61,
    "start_time": "2024-07-12T01:02:00.058Z"
   },
   {
    "duration": 49,
    "start_time": "2024-07-12T01:02:00.121Z"
   },
   {
    "duration": 44,
    "start_time": "2024-07-12T01:02:00.175Z"
   },
   {
    "duration": 5,
    "start_time": "2024-07-12T01:02:00.222Z"
   },
   {
    "duration": 21,
    "start_time": "2024-07-12T01:02:00.230Z"
   },
   {
    "duration": 8,
    "start_time": "2024-07-12T01:02:00.254Z"
   },
   {
    "duration": 104,
    "start_time": "2024-07-12T01:02:00.303Z"
   },
   {
    "duration": 19,
    "start_time": "2024-07-12T01:02:00.410Z"
   },
   {
    "duration": 10,
    "start_time": "2024-07-12T01:02:00.432Z"
   },
   {
    "duration": 15,
    "start_time": "2024-07-12T01:02:00.445Z"
   },
   {
    "duration": 15,
    "start_time": "2024-07-12T01:06:52.730Z"
   },
   {
    "duration": 5682,
    "start_time": "2024-07-12T13:06:02.481Z"
   },
   {
    "duration": 808,
    "start_time": "2024-07-12T13:06:08.166Z"
   },
   {
    "duration": 142,
    "start_time": "2024-07-12T13:06:10.295Z"
   },
   {
    "duration": 135,
    "start_time": "2024-07-12T13:06:15.457Z"
   },
   {
    "duration": 79818,
    "start_time": "2024-07-12T13:06:19.510Z"
   },
   {
    "duration": 7,
    "start_time": "2024-07-12T13:11:11.255Z"
   },
   {
    "duration": 26,
    "start_time": "2024-07-12T13:11:15.779Z"
   },
   {
    "duration": 110,
    "start_time": "2024-07-12T13:11:19.299Z"
   },
   {
    "duration": 20,
    "start_time": "2024-07-12T13:13:30.677Z"
   },
   {
    "duration": 8,
    "start_time": "2024-07-12T13:14:49.831Z"
   },
   {
    "duration": 19,
    "start_time": "2024-07-12T13:15:49.576Z"
   },
   {
    "duration": 18,
    "start_time": "2024-07-12T13:17:00.847Z"
   },
   {
    "duration": 10,
    "start_time": "2024-07-12T13:18:19.468Z"
   },
   {
    "duration": 14,
    "start_time": "2024-07-12T13:19:42.520Z"
   },
   {
    "duration": 64,
    "start_time": "2024-07-12T14:08:26.468Z"
   },
   {
    "duration": 110,
    "start_time": "2024-07-12T14:11:43.376Z"
   },
   {
    "duration": 621,
    "start_time": "2024-07-12T14:12:51.028Z"
   },
   {
    "duration": 5,
    "start_time": "2024-07-12T14:14:40.763Z"
   },
   {
    "duration": 446,
    "start_time": "2024-07-12T14:14:57.817Z"
   },
   {
    "duration": 832,
    "start_time": "2024-07-12T14:17:30.815Z"
   },
   {
    "duration": 20,
    "start_time": "2024-07-12T14:36:43.607Z"
   },
   {
    "duration": 14,
    "start_time": "2024-07-12T14:58:44.611Z"
   },
   {
    "duration": 27,
    "start_time": "2024-07-12T15:00:17.633Z"
   },
   {
    "duration": 120,
    "start_time": "2024-07-12T15:01:55.497Z"
   },
   {
    "duration": 5,
    "start_time": "2024-07-12T15:01:56.973Z"
   },
   {
    "duration": 19,
    "start_time": "2024-07-12T15:01:58.915Z"
   },
   {
    "duration": 3,
    "start_time": "2024-07-12T15:03:59.624Z"
   },
   {
    "duration": 4,
    "start_time": "2024-07-12T15:04:03.082Z"
   },
   {
    "duration": 34,
    "start_time": "2024-07-12T15:04:05.075Z"
   },
   {
    "duration": 26,
    "start_time": "2024-07-12T15:04:07.841Z"
   },
   {
    "duration": 49,
    "start_time": "2024-07-12T15:04:11.086Z"
   },
   {
    "duration": 25,
    "start_time": "2024-07-12T15:04:16.305Z"
   },
   {
    "duration": 5,
    "start_time": "2024-07-12T15:04:17.540Z"
   },
   {
    "duration": 133,
    "start_time": "2024-07-12T15:04:22.456Z"
   },
   {
    "duration": 5,
    "start_time": "2024-07-12T15:04:26.060Z"
   },
   {
    "duration": 5,
    "start_time": "2024-07-12T15:07:02.201Z"
   },
   {
    "duration": 4,
    "start_time": "2024-07-12T15:07:05.828Z"
   },
   {
    "duration": 31,
    "start_time": "2024-07-12T15:07:11.122Z"
   },
   {
    "duration": 24,
    "start_time": "2024-07-12T15:07:22.008Z"
   },
   {
    "duration": 5,
    "start_time": "2024-07-12T15:07:23.383Z"
   },
   {
    "duration": 123,
    "start_time": "2024-07-12T15:07:56.023Z"
   },
   {
    "duration": 4,
    "start_time": "2024-07-12T15:07:57.572Z"
   },
   {
    "duration": 48,
    "start_time": "2024-07-12T15:15:50.556Z"
   },
   {
    "duration": 65,
    "start_time": "2024-07-12T15:16:06.714Z"
   },
   {
    "duration": 29,
    "start_time": "2024-07-12T15:16:24.856Z"
   },
   {
    "duration": 102,
    "start_time": "2024-07-12T15:16:54.954Z"
   },
   {
    "duration": 26,
    "start_time": "2024-07-12T15:49:02.305Z"
   },
   {
    "duration": 95,
    "start_time": "2024-07-12T15:49:04.252Z"
   },
   {
    "duration": 5,
    "start_time": "2024-07-12T15:49:06.455Z"
   },
   {
    "duration": 14,
    "start_time": "2024-07-12T15:49:24.241Z"
   },
   {
    "duration": 118,
    "start_time": "2024-07-12T15:49:33.600Z"
   },
   {
    "duration": 12,
    "start_time": "2024-07-12T15:49:38.980Z"
   },
   {
    "duration": 15,
    "start_time": "2024-07-12T15:49:41.736Z"
   },
   {
    "duration": 6,
    "start_time": "2024-07-12T15:50:10.697Z"
   },
   {
    "duration": 686,
    "start_time": "2024-07-12T15:50:14.135Z"
   },
   {
    "duration": 142,
    "start_time": "2024-07-12T15:50:17.891Z"
   },
   {
    "duration": 133,
    "start_time": "2024-07-12T15:50:21.871Z"
   },
   {
    "duration": 8,
    "start_time": "2024-07-12T15:51:46.171Z"
   },
   {
    "duration": 50,
    "start_time": "2024-07-12T15:51:46.202Z"
   },
   {
    "duration": 7,
    "start_time": "2024-07-12T15:55:13.162Z"
   },
   {
    "duration": 22,
    "start_time": "2024-07-12T15:55:16.209Z"
   },
   {
    "duration": 108,
    "start_time": "2024-07-12T15:55:20.612Z"
   },
   {
    "duration": 104,
    "start_time": "2024-07-12T15:55:30.943Z"
   },
   {
    "duration": 20,
    "start_time": "2024-07-12T15:55:35.150Z"
   },
   {
    "duration": 10,
    "start_time": "2024-07-12T15:55:39.134Z"
   },
   {
    "duration": 14,
    "start_time": "2024-07-12T15:55:42.798Z"
   },
   {
    "duration": 17,
    "start_time": "2024-07-12T15:55:49.589Z"
   },
   {
    "duration": 12,
    "start_time": "2024-07-12T15:55:53.255Z"
   },
   {
    "duration": 18,
    "start_time": "2024-07-12T15:56:00.163Z"
   },
   {
    "duration": 4,
    "start_time": "2024-07-12T15:56:09.498Z"
   },
   {
    "duration": 4,
    "start_time": "2024-07-12T15:56:14.612Z"
   },
   {
    "duration": 26,
    "start_time": "2024-07-12T15:56:16.088Z"
   },
   {
    "duration": 26,
    "start_time": "2024-07-12T15:56:20.534Z"
   },
   {
    "duration": 54,
    "start_time": "2024-07-12T15:56:23.977Z"
   },
   {
    "duration": 25,
    "start_time": "2024-07-12T15:56:29.392Z"
   },
   {
    "duration": 4,
    "start_time": "2024-07-12T15:56:31.944Z"
   },
   {
    "duration": 35,
    "start_time": "2024-07-12T15:56:39.677Z"
   },
   {
    "duration": 79,
    "start_time": "2024-07-12T15:56:51.509Z"
   },
   {
    "duration": 11,
    "start_time": "2024-07-12T15:56:55.918Z"
   },
   {
    "duration": 14,
    "start_time": "2024-07-12T15:56:58.279Z"
   },
   {
    "duration": 127,
    "start_time": "2024-07-12T15:57:02.698Z"
   },
   {
    "duration": 15,
    "start_time": "2024-07-12T15:57:09.807Z"
   },
   {
    "duration": 13,
    "start_time": "2024-07-12T15:57:13.006Z"
   },
   {
    "duration": 773,
    "start_time": "2024-07-12T15:57:19.564Z"
   },
   {
    "duration": 10,
    "start_time": "2024-07-12T15:57:22.770Z"
   },
   {
    "duration": 34,
    "start_time": "2024-07-12T15:57:26.749Z"
   },
   {
    "duration": 34,
    "start_time": "2024-07-12T15:57:34.647Z"
   },
   {
    "duration": 43,
    "start_time": "2024-07-12T15:57:37.483Z"
   },
   {
    "duration": 15,
    "start_time": "2024-07-12T15:57:42.109Z"
   },
   {
    "duration": 4,
    "start_time": "2024-07-12T15:57:50.980Z"
   },
   {
    "duration": 5,
    "start_time": "2024-07-12T15:57:52.251Z"
   },
   {
    "duration": 57,
    "start_time": "2024-07-12T15:58:41.435Z"
   },
   {
    "duration": 33,
    "start_time": "2024-07-12T15:58:47.431Z"
   },
   {
    "duration": 104,
    "start_time": "2024-07-12T15:58:51.230Z"
   },
   {
    "duration": 14,
    "start_time": "2024-07-12T15:58:53.967Z"
   },
   {
    "duration": 837,
    "start_time": "2024-07-12T15:59:03.094Z"
   },
   {
    "duration": 17,
    "start_time": "2024-07-12T15:59:07.982Z"
   },
   {
    "duration": 4,
    "start_time": "2024-07-12T15:59:55.122Z"
   },
   {
    "duration": 6,
    "start_time": "2024-07-12T16:00:11.106Z"
   },
   {
    "duration": 4,
    "start_time": "2024-07-12T16:00:19.190Z"
   },
   {
    "duration": 2881,
    "start_time": "2024-07-12T16:01:26.627Z"
   },
   {
    "duration": 747772,
    "start_time": "2024-07-12T16:10:48.767Z"
   },
   {
    "duration": 357771,
    "start_time": "2024-07-12T16:27:13.223Z"
   },
   {
    "duration": 5439,
    "start_time": "2024-07-13T03:18:07.218Z"
   },
   {
    "duration": 839,
    "start_time": "2024-07-13T03:18:12.661Z"
   },
   {
    "duration": 152,
    "start_time": "2024-07-13T03:18:15.556Z"
   },
   {
    "duration": 138,
    "start_time": "2024-07-13T03:18:20.372Z"
   },
   {
    "duration": 79532,
    "start_time": "2024-07-13T03:18:27.355Z"
   },
   {
    "duration": 8,
    "start_time": "2024-07-13T03:19:54.458Z"
   },
   {
    "duration": 21,
    "start_time": "2024-07-13T03:19:59.138Z"
   },
   {
    "duration": 116,
    "start_time": "2024-07-13T03:20:04.949Z"
   },
   {
    "duration": 20,
    "start_time": "2024-07-13T03:20:13.014Z"
   },
   {
    "duration": 7,
    "start_time": "2024-07-13T03:20:17.002Z"
   },
   {
    "duration": 21,
    "start_time": "2024-07-13T03:20:20.484Z"
   },
   {
    "duration": 20,
    "start_time": "2024-07-13T03:20:25.005Z"
   },
   {
    "duration": 10,
    "start_time": "2024-07-13T03:20:30.852Z"
   },
   {
    "duration": 16,
    "start_time": "2024-07-13T03:20:36.535Z"
   },
   {
    "duration": 3,
    "start_time": "2024-07-13T03:20:45.783Z"
   },
   {
    "duration": 4,
    "start_time": "2024-07-13T03:20:53.157Z"
   },
   {
    "duration": 26,
    "start_time": "2024-07-13T03:20:55.923Z"
   },
   {
    "duration": 26,
    "start_time": "2024-07-13T03:20:59.168Z"
   },
   {
    "duration": 49,
    "start_time": "2024-07-13T03:21:00.377Z"
   },
   {
    "duration": 49,
    "start_time": "2024-07-13T03:21:06.441Z"
   },
   {
    "duration": 26,
    "start_time": "2024-07-13T03:21:35.914Z"
   },
   {
    "duration": 5,
    "start_time": "2024-07-13T03:21:37.052Z"
   },
   {
    "duration": 5,
    "start_time": "2024-07-13T03:23:03.704Z"
   },
   {
    "duration": 707,
    "start_time": "2024-07-13T03:23:07.650Z"
   },
   {
    "duration": 146,
    "start_time": "2024-07-13T03:23:10.940Z"
   },
   {
    "duration": 170,
    "start_time": "2024-07-13T03:23:15.291Z"
   },
   {
    "duration": 81178,
    "start_time": "2024-07-13T03:23:20.034Z"
   },
   {
    "duration": 5272,
    "start_time": "2024-07-13T13:15:49.698Z"
   },
   {
    "duration": 826,
    "start_time": "2024-07-13T13:15:54.975Z"
   },
   {
    "duration": 150,
    "start_time": "2024-07-13T13:15:57.959Z"
   },
   {
    "duration": 142,
    "start_time": "2024-07-13T13:16:02.033Z"
   },
   {
    "duration": 78958,
    "start_time": "2024-07-13T13:16:06.977Z"
   },
   {
    "duration": 12,
    "start_time": "2024-07-13T13:17:25.942Z"
   },
   {
    "duration": 9,
    "start_time": "2024-07-13T13:18:28.709Z"
   },
   {
    "duration": 21,
    "start_time": "2024-07-13T13:18:33.179Z"
   },
   {
    "duration": 113,
    "start_time": "2024-07-13T13:19:17.666Z"
   },
   {
    "duration": 19,
    "start_time": "2024-07-13T13:19:23.465Z"
   },
   {
    "duration": 8,
    "start_time": "2024-07-13T13:19:25.768Z"
   },
   {
    "duration": 24,
    "start_time": "2024-07-13T13:19:30.868Z"
   },
   {
    "duration": 19,
    "start_time": "2024-07-13T13:19:36.392Z"
   },
   {
    "duration": 11,
    "start_time": "2024-07-13T13:19:39.858Z"
   },
   {
    "duration": 15,
    "start_time": "2024-07-13T13:20:31.077Z"
   },
   {
    "duration": 3,
    "start_time": "2024-07-13T13:20:39.331Z"
   },
   {
    "duration": 4,
    "start_time": "2024-07-13T13:20:44.844Z"
   },
   {
    "duration": 26,
    "start_time": "2024-07-13T13:20:47.661Z"
   },
   {
    "duration": 25,
    "start_time": "2024-07-13T13:20:54.091Z"
   },
   {
    "duration": 49,
    "start_time": "2024-07-13T13:20:59.295Z"
   },
   {
    "duration": 28,
    "start_time": "2024-07-13T13:21:06.089Z"
   },
   {
    "duration": 7,
    "start_time": "2024-07-13T13:21:07.577Z"
   },
   {
    "duration": 22,
    "start_time": "2024-07-13T13:21:21.035Z"
   },
   {
    "duration": 122,
    "start_time": "2024-07-13T13:21:21.957Z"
   },
   {
    "duration": 31,
    "start_time": "2024-07-13T13:21:27.450Z"
   },
   {
    "duration": 137,
    "start_time": "2024-07-13T13:21:30.851Z"
   },
   {
    "duration": 6,
    "start_time": "2024-07-13T13:21:40.380Z"
   },
   {
    "duration": 14,
    "start_time": "2024-07-13T13:21:46.826Z"
   },
   {
    "duration": 129,
    "start_time": "2024-07-13T13:21:53.680Z"
   },
   {
    "duration": 16,
    "start_time": "2024-07-13T13:21:55.408Z"
   },
   {
    "duration": 14,
    "start_time": "2024-07-13T13:21:55.961Z"
   },
   {
    "duration": 763,
    "start_time": "2024-07-13T13:21:58.793Z"
   },
   {
    "duration": 10,
    "start_time": "2024-07-13T13:21:59.920Z"
   },
   {
    "duration": 34,
    "start_time": "2024-07-13T13:22:01.485Z"
   },
   {
    "duration": 35,
    "start_time": "2024-07-13T13:22:07.249Z"
   },
   {
    "duration": 41,
    "start_time": "2024-07-13T13:22:09.920Z"
   },
   {
    "duration": 5,
    "start_time": "2024-07-13T13:22:16.836Z"
   },
   {
    "duration": 4,
    "start_time": "2024-07-13T13:22:20.691Z"
   },
   {
    "duration": 5,
    "start_time": "2024-07-13T13:22:21.965Z"
   },
   {
    "duration": 61,
    "start_time": "2024-07-13T13:22:39.550Z"
   },
   {
    "duration": 28,
    "start_time": "2024-07-13T13:22:46.088Z"
   },
   {
    "duration": 119,
    "start_time": "2024-07-13T13:22:51.287Z"
   },
   {
    "duration": 15,
    "start_time": "2024-07-13T13:22:54.660Z"
   },
   {
    "duration": 839,
    "start_time": "2024-07-13T13:23:57.277Z"
   },
   {
    "duration": 24,
    "start_time": "2024-07-13T13:24:01.828Z"
   },
   {
    "duration": 19,
    "start_time": "2024-07-13T13:25:35.827Z"
   },
   {
    "duration": 18,
    "start_time": "2024-07-13T13:25:43.128Z"
   },
   {
    "duration": 61,
    "start_time": "2024-07-13T13:47:01.736Z"
   },
   {
    "duration": 29,
    "start_time": "2024-07-13T13:47:07.203Z"
   },
   {
    "duration": 102,
    "start_time": "2024-07-13T13:47:11.734Z"
   },
   {
    "duration": 15,
    "start_time": "2024-07-13T13:47:14.880Z"
   },
   {
    "duration": 937,
    "start_time": "2024-07-13T13:47:18.382Z"
   },
   {
    "duration": 23,
    "start_time": "2024-07-13T13:47:24.294Z"
   },
   {
    "duration": 43,
    "start_time": "2024-07-13T13:47:27.749Z"
   },
   {
    "duration": 399364,
    "start_time": "2024-07-13T13:47:50.376Z"
   },
   {
    "duration": 4586,
    "start_time": "2024-07-13T14:07:17.447Z"
   },
   {
    "duration": 4703,
    "start_time": "2024-07-13T14:07:47.240Z"
   },
   {
    "duration": 289772,
    "start_time": "2024-07-13T14:09:57.842Z"
   },
   {
    "duration": 1318,
    "start_time": "2024-07-13T14:15:16.500Z"
   },
   {
    "duration": 360,
    "start_time": "2024-07-13T14:32:56.638Z"
   },
   {
    "duration": 18,
    "start_time": "2024-07-13T14:35:19.227Z"
   },
   {
    "duration": 954,
    "start_time": "2024-07-13T14:35:35.816Z"
   },
   {
    "duration": 601087,
    "start_time": "2024-07-13T14:39:39.483Z"
   },
   {
    "duration": 958,
    "start_time": "2024-07-13T14:51:20.008Z"
   },
   {
    "duration": 1710,
    "start_time": "2024-07-13T14:53:36.613Z"
   },
   {
    "duration": 823,
    "start_time": "2024-07-13T14:53:38.327Z"
   },
   {
    "duration": 145,
    "start_time": "2024-07-13T14:53:43.632Z"
   },
   {
    "duration": 139,
    "start_time": "2024-07-13T14:53:48.242Z"
   },
   {
    "duration": 80281,
    "start_time": "2024-07-13T14:53:51.915Z"
   },
   {
    "duration": 8,
    "start_time": "2024-07-13T14:55:19.004Z"
   },
   {
    "duration": 21,
    "start_time": "2024-07-13T14:55:22.027Z"
   },
   {
    "duration": 117,
    "start_time": "2024-07-13T14:55:25.242Z"
   },
   {
    "duration": 23,
    "start_time": "2024-07-13T14:55:30.300Z"
   },
   {
    "duration": 9,
    "start_time": "2024-07-13T14:55:33.745Z"
   },
   {
    "duration": 24,
    "start_time": "2024-07-13T14:55:37.181Z"
   },
   {
    "duration": 19,
    "start_time": "2024-07-13T14:55:40.310Z"
   },
   {
    "duration": 10,
    "start_time": "2024-07-13T14:55:43.648Z"
   },
   {
    "duration": 16,
    "start_time": "2024-07-13T14:55:48.531Z"
   },
   {
    "duration": 3,
    "start_time": "2024-07-13T14:55:52.530Z"
   },
   {
    "duration": 4,
    "start_time": "2024-07-13T14:55:57.479Z"
   },
   {
    "duration": 25,
    "start_time": "2024-07-13T14:55:58.884Z"
   },
   {
    "duration": 25,
    "start_time": "2024-07-13T14:56:01.805Z"
   },
   {
    "duration": 57,
    "start_time": "2024-07-13T14:56:04.582Z"
   },
   {
    "duration": 24,
    "start_time": "2024-07-13T14:56:09.530Z"
   },
   {
    "duration": 5,
    "start_time": "2024-07-13T14:56:10.431Z"
   },
   {
    "duration": 22,
    "start_time": "2024-07-13T14:56:15.415Z"
   },
   {
    "duration": 96,
    "start_time": "2024-07-13T14:56:18.771Z"
   },
   {
    "duration": 5,
    "start_time": "2024-07-13T14:56:23.252Z"
   },
   {
    "duration": 19,
    "start_time": "2024-07-13T14:56:25.724Z"
   },
   {
    "duration": 141,
    "start_time": "2024-07-13T14:56:29.180Z"
   },
   {
    "duration": 14,
    "start_time": "2024-07-13T14:56:31.722Z"
   },
   {
    "duration": 16,
    "start_time": "2024-07-13T14:56:32.672Z"
   },
   {
    "duration": 779,
    "start_time": "2024-07-13T14:56:37.479Z"
   },
   {
    "duration": 9,
    "start_time": "2024-07-13T14:56:39.955Z"
   },
   {
    "duration": 34,
    "start_time": "2024-07-13T14:56:56.033Z"
   },
   {
    "duration": 33,
    "start_time": "2024-07-13T14:57:00.388Z"
   },
   {
    "duration": 43,
    "start_time": "2024-07-13T14:57:03.207Z"
   },
   {
    "duration": 5,
    "start_time": "2024-07-13T14:57:06.393Z"
   },
   {
    "duration": 4,
    "start_time": "2024-07-13T14:57:09.781Z"
   },
   {
    "duration": 5,
    "start_time": "2024-07-13T14:57:12.075Z"
   },
   {
    "duration": 59,
    "start_time": "2024-07-13T14:57:17.573Z"
   },
   {
    "duration": 29,
    "start_time": "2024-07-13T14:57:19.790Z"
   },
   {
    "duration": 26,
    "start_time": "2024-07-13T14:57:24.245Z"
   },
   {
    "duration": 15,
    "start_time": "2024-07-13T14:57:28.884Z"
   },
   {
    "duration": 443,
    "start_time": "2024-07-13T14:57:31.366Z"
   },
   {
    "duration": 56,
    "start_time": "2024-07-13T14:58:12.201Z"
   },
   {
    "duration": 44,
    "start_time": "2024-07-13T14:58:14.234Z"
   },
   {
    "duration": 107,
    "start_time": "2024-07-13T14:58:18.225Z"
   },
   {
    "duration": 16,
    "start_time": "2024-07-13T14:58:20.843Z"
   },
   {
    "duration": 950,
    "start_time": "2024-07-13T14:58:22.946Z"
   },
   {
    "duration": 19,
    "start_time": "2024-07-13T14:58:25.563Z"
   },
   {
    "duration": 52,
    "start_time": "2024-07-13T14:58:27.739Z"
   },
   {
    "duration": 3018,
    "start_time": "2024-07-13T14:58:34.506Z"
   },
   {
    "duration": 7,
    "start_time": "2024-07-13T14:59:30.647Z"
   },
   {
    "duration": 497155,
    "start_time": "2024-07-13T14:59:32.175Z"
   },
   {
    "duration": 684,
    "start_time": "2024-07-13T15:08:04.277Z"
   },
   {
    "duration": 787998,
    "start_time": "2024-07-13T15:10:49.362Z"
   },
   {
    "duration": 5239,
    "start_time": "2024-07-13T15:40:08.280Z"
   },
   {
    "duration": 7207,
    "start_time": "2024-07-13T21:34:22.463Z"
   },
   {
    "duration": 915,
    "start_time": "2024-07-13T21:34:29.674Z"
   },
   {
    "duration": 240,
    "start_time": "2024-07-13T21:34:30.594Z"
   },
   {
    "duration": 184,
    "start_time": "2024-07-13T21:34:35.573Z"
   },
   {
    "duration": 84731,
    "start_time": "2024-07-13T21:34:40.737Z"
   },
   {
    "duration": 10,
    "start_time": "2024-07-13T21:42:15.296Z"
   },
   {
    "duration": 23,
    "start_time": "2024-07-13T21:42:18.578Z"
   },
   {
    "duration": 113,
    "start_time": "2024-07-13T21:42:25.675Z"
   },
   {
    "duration": 7,
    "start_time": "2024-07-13T21:43:08.566Z"
   },
   {
    "duration": 20,
    "start_time": "2024-07-13T21:43:16.195Z"
   },
   {
    "duration": 20,
    "start_time": "2024-07-13T21:43:30.712Z"
   },
   {
    "duration": 10,
    "start_time": "2024-07-13T21:43:35.548Z"
   },
   {
    "duration": 16,
    "start_time": "2024-07-13T21:43:45.670Z"
   },
   {
    "duration": 35,
    "start_time": "2024-07-13T21:53:24.394Z"
   },
   {
    "duration": 4,
    "start_time": "2024-07-13T21:53:31.918Z"
   },
   {
    "duration": 5,
    "start_time": "2024-07-13T21:53:33.144Z"
   },
   {
    "duration": 30,
    "start_time": "2024-07-13T21:53:33.896Z"
   },
   {
    "duration": 30,
    "start_time": "2024-07-13T21:53:34.956Z"
   },
   {
    "duration": 50,
    "start_time": "2024-07-13T21:53:36.052Z"
   },
   {
    "duration": 58,
    "start_time": "2024-07-13T21:53:39.375Z"
   },
   {
    "duration": 25,
    "start_time": "2024-07-13T21:53:44.028Z"
   },
   {
    "duration": 4,
    "start_time": "2024-07-13T21:53:44.593Z"
   },
   {
    "duration": 27,
    "start_time": "2024-07-13T21:53:49.461Z"
   },
   {
    "duration": 99,
    "start_time": "2024-07-13T21:53:51.710Z"
   },
   {
    "duration": 5,
    "start_time": "2024-07-13T21:53:55.144Z"
   },
   {
    "duration": 14,
    "start_time": "2024-07-13T21:53:58.616Z"
   },
   {
    "duration": 150,
    "start_time": "2024-07-13T21:54:01.716Z"
   },
   {
    "duration": 14,
    "start_time": "2024-07-13T21:54:04.341Z"
   },
   {
    "duration": 20,
    "start_time": "2024-07-13T21:54:05.647Z"
   },
   {
    "duration": 1071,
    "start_time": "2024-07-13T21:54:09.942Z"
   },
   {
    "duration": 24,
    "start_time": "2024-07-13T21:54:11.748Z"
   },
   {
    "duration": 39,
    "start_time": "2024-07-13T21:54:15.778Z"
   },
   {
    "duration": 61,
    "start_time": "2024-07-13T21:54:18.528Z"
   },
   {
    "duration": 57,
    "start_time": "2024-07-13T21:54:21.828Z"
   },
   {
    "duration": 10,
    "start_time": "2024-07-13T21:54:25.315Z"
   },
   {
    "duration": 9,
    "start_time": "2024-07-13T21:54:28.554Z"
   },
   {
    "duration": 5,
    "start_time": "2024-07-13T21:54:29.535Z"
   },
   {
    "duration": 62,
    "start_time": "2024-07-13T21:55:07.481Z"
   },
   {
    "duration": 32,
    "start_time": "2024-07-13T21:55:15.483Z"
   },
   {
    "duration": 107,
    "start_time": "2024-07-13T21:55:18.349Z"
   },
   {
    "duration": 15,
    "start_time": "2024-07-13T21:55:21.844Z"
   },
   {
    "duration": 1189,
    "start_time": "2024-07-13T21:55:27.768Z"
   },
   {
    "duration": 24,
    "start_time": "2024-07-13T21:55:29.537Z"
   },
   {
    "duration": 61,
    "start_time": "2024-07-13T21:55:32.747Z"
   },
   {
    "duration": 2660,
    "start_time": "2024-07-13T21:56:30.297Z"
   },
   {
    "duration": 5288,
    "start_time": "2024-07-14T23:16:28.566Z"
   },
   {
    "duration": 794,
    "start_time": "2024-07-14T23:16:33.858Z"
   },
   {
    "duration": 162,
    "start_time": "2024-07-14T23:16:34.654Z"
   },
   {
    "duration": 155,
    "start_time": "2024-07-14T23:16:34.819Z"
   },
   {
    "duration": 79626,
    "start_time": "2024-07-14T23:16:34.979Z"
   },
   {
    "duration": 11,
    "start_time": "2024-07-14T23:17:54.608Z"
   },
   {
    "duration": 24,
    "start_time": "2024-07-14T23:17:54.622Z"
   },
   {
    "duration": 139,
    "start_time": "2024-07-14T23:17:54.649Z"
   },
   {
    "duration": 21,
    "start_time": "2024-07-14T23:17:54.790Z"
   },
   {
    "duration": 122,
    "start_time": "2024-07-14T23:17:54.815Z"
   },
   {
    "duration": 10,
    "start_time": "2024-07-14T23:17:54.940Z"
   },
   {
    "duration": 15,
    "start_time": "2024-07-14T23:17:54.953Z"
   },
   {
    "duration": 4,
    "start_time": "2024-07-14T23:17:54.971Z"
   },
   {
    "duration": 25,
    "start_time": "2024-07-14T23:17:54.984Z"
   },
   {
    "duration": 26,
    "start_time": "2024-07-14T23:17:55.012Z"
   },
   {
    "duration": 26,
    "start_time": "2024-07-14T23:17:55.041Z"
   },
   {
    "duration": 83,
    "start_time": "2024-07-14T23:17:55.070Z"
   },
   {
    "duration": 26,
    "start_time": "2024-07-14T23:17:55.156Z"
   },
   {
    "duration": 8,
    "start_time": "2024-07-14T23:17:55.209Z"
   },
   {
    "duration": 24,
    "start_time": "2024-07-14T23:17:55.220Z"
   },
   {
    "duration": 119,
    "start_time": "2024-07-14T23:17:55.248Z"
   },
   {
    "duration": 6,
    "start_time": "2024-07-14T23:17:55.369Z"
   },
   {
    "duration": 31,
    "start_time": "2024-07-14T23:17:55.378Z"
   },
   {
    "duration": 148,
    "start_time": "2024-07-14T23:17:55.412Z"
   },
   {
    "duration": 13,
    "start_time": "2024-07-14T23:17:55.562Z"
   },
   {
    "duration": 35,
    "start_time": "2024-07-14T23:17:55.578Z"
   },
   {
    "duration": 813,
    "start_time": "2024-07-14T23:17:55.616Z"
   },
   {
    "duration": 9,
    "start_time": "2024-07-14T23:17:56.432Z"
   },
   {
    "duration": 36,
    "start_time": "2024-07-14T23:17:56.444Z"
   },
   {
    "duration": 59,
    "start_time": "2024-07-14T23:17:56.482Z"
   },
   {
    "duration": 66,
    "start_time": "2024-07-14T23:17:56.544Z"
   },
   {
    "duration": 6,
    "start_time": "2024-07-14T23:17:56.612Z"
   },
   {
    "duration": 6,
    "start_time": "2024-07-14T23:17:56.621Z"
   },
   {
    "duration": 6,
    "start_time": "2024-07-14T23:17:56.629Z"
   },
   {
    "duration": 97,
    "start_time": "2024-07-14T23:17:56.638Z"
   },
   {
    "duration": 29,
    "start_time": "2024-07-14T23:17:56.738Z"
   },
   {
    "duration": 123,
    "start_time": "2024-07-14T23:17:56.770Z"
   },
   {
    "duration": 19,
    "start_time": "2024-07-14T23:17:56.896Z"
   },
   {
    "duration": 990,
    "start_time": "2024-07-14T23:17:56.918Z"
   },
   {
    "duration": 20,
    "start_time": "2024-07-14T23:17:57.912Z"
   },
   {
    "duration": 69,
    "start_time": "2024-07-14T23:17:57.939Z"
   },
   {
    "duration": 14,
    "start_time": "2024-07-14T23:18:05.207Z"
   },
   {
    "duration": 24,
    "start_time": "2024-07-14T23:18:11.835Z"
   },
   {
    "duration": 13,
    "start_time": "2024-07-15T03:31:18.349Z"
   },
   {
    "duration": 7,
    "start_time": "2024-07-15T03:31:23.777Z"
   },
   {
    "duration": 8,
    "start_time": "2024-07-15T03:32:54.716Z"
   },
   {
    "duration": 6,
    "start_time": "2024-07-15T03:33:16.939Z"
   }
  ],
  "kernelspec": {
   "display_name": "Python 3 (ipykernel)",
   "language": "python",
   "name": "python3"
  },
  "language_info": {
   "codemirror_mode": {
    "name": "ipython",
    "version": 3
   },
   "file_extension": ".py",
   "mimetype": "text/x-python",
   "name": "python",
   "nbconvert_exporter": "python",
   "pygments_lexer": "ipython3",
   "version": "3.9.19"
  },
  "toc": {
   "base_numbering": 1,
   "nav_menu": {},
   "number_sections": true,
   "sideBar": true,
   "skip_h1_title": true,
   "title_cell": "Table of Contents",
   "title_sidebar": "Contents",
   "toc_cell": false,
   "toc_position": {},
   "toc_section_display": true,
   "toc_window_display": false
  }
 },
 "nbformat": 4,
 "nbformat_minor": 2
}
